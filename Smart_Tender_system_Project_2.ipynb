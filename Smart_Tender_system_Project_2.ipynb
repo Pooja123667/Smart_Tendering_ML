{
  "nbformat": 4,
  "nbformat_minor": 0,
  "metadata": {
    "colab": {
      "name": "Smart Tender system - Project - 2.ipynb",
      "provenance": [],
      "collapsed_sections": [],
      "include_colab_link": true
    },
    "kernelspec": {
      "display_name": "Python 3",
      "name": "python3"
    }
  },
  "cells": [
    {
      "cell_type": "markdown",
      "metadata": {
        "id": "view-in-github",
        "colab_type": "text"
      },
      "source": [
        "<a href=\"https://colab.research.google.com/github/Pooja123667/Smart_Tendering_ML/blob/main/Smart_Tender_system_Project_2.ipynb\" target=\"_parent\"><img src=\"https://colab.research.google.com/assets/colab-badge.svg\" alt=\"Open In Colab\"/></a>"
      ]
    },
    {
      "cell_type": "markdown",
      "metadata": {
        "id": "HfbD1PCXWvVX"
      },
      "source": [
        "Importing necessary Libraries <br>\r\n",
        "**1. Understanding and Analyzing the Dataset**"
      ]
    },
    {
      "cell_type": "code",
      "metadata": {
        "colab": {
          "base_uri": "https://localhost:8080/"
        },
        "id": "fNxDLtgXgBTt",
        "outputId": "b7011a7c-ae28-49c7-b327-0ae83277480e"
      },
      "source": [
        "import pandas as pd\r\n",
        "import io \r\n",
        "print(\"Import success\")"
      ],
      "execution_count": 13,
      "outputs": [
        {
          "output_type": "stream",
          "text": [
            "Import success\n"
          ],
          "name": "stdout"
        }
      ]
    },
    {
      "cell_type": "code",
      "metadata": {
        "id": "66y5WJAQgbD6"
      },
      "source": [
        "df = pd.read_csv(\"https://raw.githubusercontent.com/Pooja123667/Smart_Tendering_ML/main/file_name%20(2).csv\", low_memory=False) \r\n",
        "#https://raw.githubusercontent.com/Pooja123667/Smart_Tendering_ML/main/FY19_BID_Trends_Report_Data%20(3).csv\r\n",
        "#https://raw.githubusercontent.com/Pooja123667/Smart_Tendering_ML/main/file_name%20(2).csv"
      ],
      "execution_count": 14,
      "outputs": []
    },
    {
      "cell_type": "code",
      "metadata": {
        "colab": {
          "base_uri": "https://localhost:8080/",
          "height": 282
        },
        "id": "a9OUg2JGhCKm",
        "outputId": "457946c9-af29-4feb-b6ed-e91fb2705d8f"
      },
      "source": [
        "df.head(1)"
      ],
      "execution_count": 15,
      "outputs": [
        {
          "output_type": "execute_result",
          "data": {
            "text/html": [
              "<div>\n",
              "<style scoped>\n",
              "    .dataframe tbody tr th:only-of-type {\n",
              "        vertical-align: middle;\n",
              "    }\n",
              "\n",
              "    .dataframe tbody tr th {\n",
              "        vertical-align: top;\n",
              "    }\n",
              "\n",
              "    .dataframe thead th {\n",
              "        text-align: right;\n",
              "    }\n",
              "</style>\n",
              "<table border=\"1\" class=\"dataframe\">\n",
              "  <thead>\n",
              "    <tr style=\"text-align: right;\">\n",
              "      <th></th>\n",
              "      <th>Unnamed: 0</th>\n",
              "      <th>index</th>\n",
              "      <th>company name</th>\n",
              "      <th>Floor Size</th>\n",
              "      <th>Full-time staff</th>\n",
              "      <th>Sanitation staff employed</th>\n",
              "      <th>Safety Inspector</th>\n",
              "      <th>Part-time staff</th>\n",
              "      <th>Current clients</th>\n",
              "      <th>Bid provides supplemental sanitation services</th>\n",
              "      <th>Types of duties assigned to sanitation workers</th>\n",
              "      <th>Days per week of sanitation services</th>\n",
              "      <th>Hours logged by sanitation workers</th>\n",
              "      <th>Incidents of graffiti removed</th>\n",
              "      <th>Trash bags collected</th>\n",
              "      <th>Trash and recycling receptacles serviced</th>\n",
              "      <th>Bid provides supplemental public safety services</th>\n",
              "      <th>Duties assigned to public safety personnel</th>\n",
              "      <th>Hours logged by public safety officers</th>\n",
              "      <th>Interactions with public safety officers</th>\n",
              "      <th>Bid provides supplemental streetscape and beautification services</th>\n",
              "      <th>Planters and hanging baskets maintained</th>\n",
              "      <th>Tree pits maintained</th>\n",
              "      <th>Banners maintained</th>\n",
              "      <th>Public art installations sponsored</th>\n",
              "      <th>Street furniture elements maintained</th>\n",
              "      <th>Wayfinding elements maintained</th>\n",
              "      <th>Lighting elements maintained</th>\n",
              "      <th>Other infrastructure elements maintained</th>\n",
              "      <th>Public spaces maintained</th>\n",
              "      <th>Bid has holiday lighting program</th>\n",
              "      <th>Communication channels used</th>\n",
              "      <th>Social media followers</th>\n",
              "      <th>Marketing materials distributed</th>\n",
              "      <th>Public events coordinated</th>\n",
              "      <th>Estimated attendees to public events coordinated</th>\n",
              "      <th>Special event charges</th>\n",
              "      <th>Miscellaneous charges</th>\n",
              "      <th>Sanitation expenses</th>\n",
              "      <th>Public safety expenses</th>\n",
              "      <th>Marketing, holiday lighting, and special event expenses</th>\n",
              "      <th>Streetscape &amp; beautification expenses</th>\n",
              "      <th>Salaries</th>\n",
              "      <th>Outside contractor expenses</th>\n",
              "      <th>Insurance costs</th>\n",
              "      <th>Rent and utilities</th>\n",
              "      <th>Supplies and equipment costs</th>\n",
              "      <th>Other G&amp;A expenses</th>\n",
              "    </tr>\n",
              "  </thead>\n",
              "  <tbody>\n",
              "    <tr>\n",
              "      <th>0</th>\n",
              "      <td>0</td>\n",
              "      <td>1</td>\n",
              "      <td>Moreno LLC</td>\n",
              "      <td>5220.0</td>\n",
              "      <td>1.0</td>\n",
              "      <td>31.0</td>\n",
              "      <td>9.0</td>\n",
              "      <td>9.0</td>\n",
              "      <td>145</td>\n",
              "      <td>Yes</td>\n",
              "      <td>Street Sweeping and Bagging; Snow and Ice Remo...</td>\n",
              "      <td>7.0</td>\n",
              "      <td>61051.0</td>\n",
              "      <td>19327</td>\n",
              "      <td>70352.0</td>\n",
              "      <td>282.0</td>\n",
              "      <td>No</td>\n",
              "      <td>NaN</td>\n",
              "      <td>24732.0</td>\n",
              "      <td>NaN</td>\n",
              "      <td>Yes</td>\n",
              "      <td>341.0</td>\n",
              "      <td>115.0</td>\n",
              "      <td>105.0</td>\n",
              "      <td>12.0</td>\n",
              "      <td>2304</td>\n",
              "      <td>828</td>\n",
              "      <td>2161</td>\n",
              "      <td>786</td>\n",
              "      <td>19.0</td>\n",
              "      <td>Yes</td>\n",
              "      <td>Direct mailings; Flyers; Email bulletins; Soci...</td>\n",
              "      <td>11716.0</td>\n",
              "      <td>40108.0</td>\n",
              "      <td>15.0</td>\n",
              "      <td>198647.0</td>\n",
              "      <td>360,146</td>\n",
              "      <td>16,591</td>\n",
              "      <td>76,277</td>\n",
              "      <td>40,756</td>\n",
              "      <td>$177,762</td>\n",
              "      <td>39,202</td>\n",
              "      <td>194,141</td>\n",
              "      <td>101,399</td>\n",
              "      <td>2,035</td>\n",
              "      <td>$12,296</td>\n",
              "      <td>3,749</td>\n",
              "      <td>$46,053</td>\n",
              "    </tr>\n",
              "  </tbody>\n",
              "</table>\n",
              "</div>"
            ],
            "text/plain": [
              "   Unnamed: 0  index  ... Supplies and equipment costs  Other G&A expenses\n",
              "0           0      1  ...                       3,749             $46,053 \n",
              "\n",
              "[1 rows x 48 columns]"
            ]
          },
          "metadata": {
            "tags": []
          },
          "execution_count": 15
        }
      ]
    },
    {
      "cell_type": "code",
      "metadata": {
        "colab": {
          "base_uri": "https://localhost:8080/"
        },
        "id": "azvixykQhJx7",
        "outputId": "3469262d-0f29-4059-ab32-642808e178e1"
      },
      "source": [
        "df.shape"
      ],
      "execution_count": 16,
      "outputs": [
        {
          "output_type": "execute_result",
          "data": {
            "text/plain": [
              "(99998, 48)"
            ]
          },
          "metadata": {
            "tags": []
          },
          "execution_count": 16
        }
      ]
    },
    {
      "cell_type": "code",
      "metadata": {
        "colab": {
          "base_uri": "https://localhost:8080/",
          "height": 371
        },
        "id": "YzHkUTPFhQVy",
        "outputId": "28433d1d-8b91-4465-8d9d-5917f4ad8756"
      },
      "source": [
        "df.describe()"
      ],
      "execution_count": 17,
      "outputs": [
        {
          "output_type": "execute_result",
          "data": {
            "text/html": [
              "<div>\n",
              "<style scoped>\n",
              "    .dataframe tbody tr th:only-of-type {\n",
              "        vertical-align: middle;\n",
              "    }\n",
              "\n",
              "    .dataframe tbody tr th {\n",
              "        vertical-align: top;\n",
              "    }\n",
              "\n",
              "    .dataframe thead th {\n",
              "        text-align: right;\n",
              "    }\n",
              "</style>\n",
              "<table border=\"1\" class=\"dataframe\">\n",
              "  <thead>\n",
              "    <tr style=\"text-align: right;\">\n",
              "      <th></th>\n",
              "      <th>Unnamed: 0</th>\n",
              "      <th>index</th>\n",
              "      <th>Floor Size</th>\n",
              "      <th>Full-time staff</th>\n",
              "      <th>Sanitation staff employed</th>\n",
              "      <th>Safety Inspector</th>\n",
              "      <th>Part-time staff</th>\n",
              "      <th>Days per week of sanitation services</th>\n",
              "      <th>Hours logged by sanitation workers</th>\n",
              "      <th>Trash bags collected</th>\n",
              "      <th>Trash and recycling receptacles serviced</th>\n",
              "      <th>Hours logged by public safety officers</th>\n",
              "      <th>Interactions with public safety officers</th>\n",
              "      <th>Planters and hanging baskets maintained</th>\n",
              "      <th>Tree pits maintained</th>\n",
              "      <th>Banners maintained</th>\n",
              "      <th>Public art installations sponsored</th>\n",
              "      <th>Public spaces maintained</th>\n",
              "      <th>Social media followers</th>\n",
              "      <th>Marketing materials distributed</th>\n",
              "      <th>Public events coordinated</th>\n",
              "      <th>Estimated attendees to public events coordinated</th>\n",
              "    </tr>\n",
              "  </thead>\n",
              "  <tbody>\n",
              "    <tr>\n",
              "      <th>count</th>\n",
              "      <td>99998.000000</td>\n",
              "      <td>99998.000000</td>\n",
              "      <td>97377.000000</td>\n",
              "      <td>97377.000000</td>\n",
              "      <td>97377.000000</td>\n",
              "      <td>97377.000000</td>\n",
              "      <td>97377.000000</td>\n",
              "      <td>93370.000000</td>\n",
              "      <td>97377.000000</td>\n",
              "      <td>97377.000000</td>\n",
              "      <td>97377.000000</td>\n",
              "      <td>69311.000000</td>\n",
              "      <td>66751.000000</td>\n",
              "      <td>97377.000000</td>\n",
              "      <td>97377.000000</td>\n",
              "      <td>97377.000000</td>\n",
              "      <td>97377.000000</td>\n",
              "      <td>82795.000000</td>\n",
              "      <td>97377.000000</td>\n",
              "      <td>97377.000000</td>\n",
              "      <td>97377.000000</td>\n",
              "      <td>97377.000000</td>\n",
              "    </tr>\n",
              "    <tr>\n",
              "      <th>mean</th>\n",
              "      <td>49998.500000</td>\n",
              "      <td>49999.500000</td>\n",
              "      <td>20542.258418</td>\n",
              "      <td>5.824260</td>\n",
              "      <td>41.174045</td>\n",
              "      <td>28.666318</td>\n",
              "      <td>11.818468</td>\n",
              "      <td>6.585927</td>\n",
              "      <td>82396.797509</td>\n",
              "      <td>141080.069996</td>\n",
              "      <td>218.030171</td>\n",
              "      <td>61237.879947</td>\n",
              "      <td>60503.866699</td>\n",
              "      <td>301.553437</td>\n",
              "      <td>212.474229</td>\n",
              "      <td>114.386128</td>\n",
              "      <td>15.346160</td>\n",
              "      <td>38.358307</td>\n",
              "      <td>30014.197264</td>\n",
              "      <td>60148.031660</td>\n",
              "      <td>206.254085</td>\n",
              "      <td>104914.274202</td>\n",
              "    </tr>\n",
              "    <tr>\n",
              "      <th>std</th>\n",
              "      <td>28867.080446</td>\n",
              "      <td>28867.080446</td>\n",
              "      <td>19461.774039</td>\n",
              "      <td>12.814629</td>\n",
              "      <td>24.179840</td>\n",
              "      <td>17.154586</td>\n",
              "      <td>6.468663</td>\n",
              "      <td>1.236232</td>\n",
              "      <td>44122.700220</td>\n",
              "      <td>66361.097687</td>\n",
              "      <td>119.087319</td>\n",
              "      <td>35649.908361</td>\n",
              "      <td>32662.499621</td>\n",
              "      <td>158.564854</td>\n",
              "      <td>147.943093</td>\n",
              "      <td>64.418373</td>\n",
              "      <td>5.340999</td>\n",
              "      <td>24.857368</td>\n",
              "      <td>92933.776156</td>\n",
              "      <td>34881.623679</td>\n",
              "      <td>105.411538</td>\n",
              "      <td>56397.947078</td>\n",
              "    </tr>\n",
              "    <tr>\n",
              "      <th>min</th>\n",
              "      <td>0.000000</td>\n",
              "      <td>1.000000</td>\n",
              "      <td>1740.000000</td>\n",
              "      <td>0.000000</td>\n",
              "      <td>2.000000</td>\n",
              "      <td>1.000000</td>\n",
              "      <td>1.000000</td>\n",
              "      <td>1.000000</td>\n",
              "      <td>9995.000000</td>\n",
              "      <td>29905.000000</td>\n",
              "      <td>17.000000</td>\n",
              "      <td>2339.000000</td>\n",
              "      <td>6168.000000</td>\n",
              "      <td>40.000000</td>\n",
              "      <td>15.000000</td>\n",
              "      <td>11.000000</td>\n",
              "      <td>6.000000</td>\n",
              "      <td>0.000000</td>\n",
              "      <td>190.000000</td>\n",
              "      <td>2684.000000</td>\n",
              "      <td>15.000000</td>\n",
              "      <td>4721.000000</td>\n",
              "    </tr>\n",
              "    <tr>\n",
              "      <th>25%</th>\n",
              "      <td>24999.250000</td>\n",
              "      <td>25000.250000</td>\n",
              "      <td>8010.000000</td>\n",
              "      <td>1.000000</td>\n",
              "      <td>23.000000</td>\n",
              "      <td>12.000000</td>\n",
              "      <td>7.000000</td>\n",
              "      <td>7.000000</td>\n",
              "      <td>49762.000000</td>\n",
              "      <td>81912.000000</td>\n",
              "      <td>106.000000</td>\n",
              "      <td>26720.000000</td>\n",
              "      <td>28259.000000</td>\n",
              "      <td>182.000000</td>\n",
              "      <td>77.000000</td>\n",
              "      <td>56.000000</td>\n",
              "      <td>11.000000</td>\n",
              "      <td>14.000000</td>\n",
              "      <td>6381.000000</td>\n",
              "      <td>27084.000000</td>\n",
              "      <td>118.000000</td>\n",
              "      <td>52300.000000</td>\n",
              "    </tr>\n",
              "    <tr>\n",
              "      <th>50%</th>\n",
              "      <td>49998.500000</td>\n",
              "      <td>49999.500000</td>\n",
              "      <td>13140.000000</td>\n",
              "      <td>2.000000</td>\n",
              "      <td>38.000000</td>\n",
              "      <td>29.000000</td>\n",
              "      <td>12.000000</td>\n",
              "      <td>7.000000</td>\n",
              "      <td>74009.000000</td>\n",
              "      <td>137515.000000</td>\n",
              "      <td>231.000000</td>\n",
              "      <td>62635.000000</td>\n",
              "      <td>59132.000000</td>\n",
              "      <td>313.000000</td>\n",
              "      <td>176.000000</td>\n",
              "      <td>124.000000</td>\n",
              "      <td>15.000000</td>\n",
              "      <td>41.000000</td>\n",
              "      <td>9760.000000</td>\n",
              "      <td>64104.000000</td>\n",
              "      <td>210.000000</td>\n",
              "      <td>112582.000000</td>\n",
              "    </tr>\n",
              "    <tr>\n",
              "      <th>75%</th>\n",
              "      <td>74997.750000</td>\n",
              "      <td>74998.750000</td>\n",
              "      <td>27170.000000</td>\n",
              "      <td>3.000000</td>\n",
              "      <td>61.000000</td>\n",
              "      <td>42.000000</td>\n",
              "      <td>16.000000</td>\n",
              "      <td>7.000000</td>\n",
              "      <td>119771.000000</td>\n",
              "      <td>192990.000000</td>\n",
              "      <td>318.000000</td>\n",
              "      <td>97698.000000</td>\n",
              "      <td>85887.000000</td>\n",
              "      <td>426.000000</td>\n",
              "      <td>356.000000</td>\n",
              "      <td>172.000000</td>\n",
              "      <td>20.000000</td>\n",
              "      <td>61.000000</td>\n",
              "      <td>18551.000000</td>\n",
              "      <td>82179.000000</td>\n",
              "      <td>291.000000</td>\n",
              "      <td>152033.000000</td>\n",
              "    </tr>\n",
              "    <tr>\n",
              "      <th>max</th>\n",
              "      <td>99997.000000</td>\n",
              "      <td>99998.000000</td>\n",
              "      <td>121820.000000</td>\n",
              "      <td>64.000000</td>\n",
              "      <td>84.000000</td>\n",
              "      <td>58.000000</td>\n",
              "      <td>24.000000</td>\n",
              "      <td>7.000000</td>\n",
              "      <td>164685.000000</td>\n",
              "      <td>256155.000000</td>\n",
              "      <td>408.000000</td>\n",
              "      <td>121471.000000</td>\n",
              "      <td>118658.000000</td>\n",
              "      <td>556.000000</td>\n",
              "      <td>471.000000</td>\n",
              "      <td>212.000000</td>\n",
              "      <td>23.000000</td>\n",
              "      <td>79.000000</td>\n",
              "      <td>787253.000000</td>\n",
              "      <td>121778.000000</td>\n",
              "      <td>381.000000</td>\n",
              "      <td>199018.000000</td>\n",
              "    </tr>\n",
              "  </tbody>\n",
              "</table>\n",
              "</div>"
            ],
            "text/plain": [
              "         Unnamed: 0  ...  Estimated attendees to public events coordinated\n",
              "count  99998.000000  ...                                      97377.000000\n",
              "mean   49998.500000  ...                                     104914.274202\n",
              "std    28867.080446  ...                                      56397.947078\n",
              "min        0.000000  ...                                       4721.000000\n",
              "25%    24999.250000  ...                                      52300.000000\n",
              "50%    49998.500000  ...                                     112582.000000\n",
              "75%    74997.750000  ...                                     152033.000000\n",
              "max    99997.000000  ...                                     199018.000000\n",
              "\n",
              "[8 rows x 22 columns]"
            ]
          },
          "metadata": {
            "tags": []
          },
          "execution_count": 17
        }
      ]
    },
    {
      "cell_type": "code",
      "metadata": {
        "id": "4-J3FuzDaxWj",
        "colab": {
          "base_uri": "https://localhost:8080/"
        },
        "outputId": "9552ddab-c696-4061-a216-7bce01870b4b"
      },
      "source": [
        "df.info()"
      ],
      "execution_count": 18,
      "outputs": [
        {
          "output_type": "stream",
          "text": [
            "<class 'pandas.core.frame.DataFrame'>\n",
            "RangeIndex: 99998 entries, 0 to 99997\n",
            "Data columns (total 48 columns):\n",
            " #   Column                                                             Non-Null Count  Dtype  \n",
            "---  ------                                                             --------------  -----  \n",
            " 0   Unnamed: 0                                                         99998 non-null  int64  \n",
            " 1   index                                                              99998 non-null  int64  \n",
            " 2   company name                                                       99998 non-null  object \n",
            " 3   Floor Size                                                         97377 non-null  float64\n",
            " 4   Full-time staff                                                    97377 non-null  float64\n",
            " 5   Sanitation staff employed                                          97377 non-null  float64\n",
            " 6   Safety Inspector                                                   97377 non-null  float64\n",
            " 7   Part-time staff                                                    97377 non-null  float64\n",
            " 8   Current clients                                                    96012 non-null  object \n",
            " 9   Bid provides supplemental sanitation services                      97377 non-null  object \n",
            " 10  Types of duties assigned to sanitation workers                     94680 non-null  object \n",
            " 11  Days per week of sanitation services                               93370 non-null  float64\n",
            " 12  Hours logged by sanitation workers                                 97377 non-null  float64\n",
            " 13  Incidents of graffiti removed                                      97377 non-null  object \n",
            " 14  Trash bags collected                                               97377 non-null  float64\n",
            " 15  Trash and recycling receptacles serviced                           97377 non-null  float64\n",
            " 16  Bid provides supplemental public safety services                   97377 non-null  object \n",
            " 17  Duties assigned to public safety personnel                         47919 non-null  object \n",
            " 18  Hours logged by public safety officers                             69311 non-null  float64\n",
            " 19  Interactions with public safety officers                           66751 non-null  float64\n",
            " 20  Bid provides supplemental streetscape and beautification services  97377 non-null  object \n",
            " 21  Planters and hanging baskets maintained                            97377 non-null  float64\n",
            " 22  Tree pits maintained                                               97377 non-null  float64\n",
            " 23  Banners maintained                                                 97377 non-null  float64\n",
            " 24  Public art installations sponsored                                 97377 non-null  float64\n",
            " 25  Street furniture elements maintained                               82795 non-null  object \n",
            " 26  Wayfinding elements maintained                                     82795 non-null  object \n",
            " 27  Lighting elements maintained                                       81448 non-null  object \n",
            " 28  Other infrastructure elements maintained                           84149 non-null  object \n",
            " 29  Public spaces maintained                                           82795 non-null  float64\n",
            " 30  Bid has holiday lighting program                                   97377 non-null  object \n",
            " 31  Communication channels used                                        72 non-null     object \n",
            " 32  Social media followers                                             97377 non-null  float64\n",
            " 33  Marketing materials distributed                                    97377 non-null  float64\n",
            " 34  Public events coordinated                                          97377 non-null  float64\n",
            " 35  Estimated attendees to public events coordinated                   97377 non-null  float64\n",
            " 36  Special event charges                                              97377 non-null  object \n",
            " 37  Miscellaneous charges                                              97377 non-null  object \n",
            " 38  Sanitation expenses                                                94680 non-null  object \n",
            " 39  Public safety expenses                                             82754 non-null  object \n",
            " 40  Marketing, holiday lighting, and special event expenses            97377 non-null  object \n",
            " 41  Streetscape & beautification expenses                              97377 non-null  object \n",
            " 42  Salaries                                                           92018 non-null  object \n",
            " 43  Outside contractor expenses                                        89355 non-null  object \n",
            " 44  Insurance costs                                                    97377 non-null  object \n",
            " 45  Rent and utilities                                                 86621 non-null  object \n",
            " 46  Supplies and equipment costs                                       97377 non-null  object \n",
            " 47  Other G&A expenses                                                 97377 non-null  object \n",
            "dtypes: float64(20), int64(2), object(26)\n",
            "memory usage: 36.6+ MB\n"
          ],
          "name": "stdout"
        }
      ]
    },
    {
      "cell_type": "markdown",
      "metadata": {
        "id": "ac2TJfnCWaun"
      },
      "source": [
        "Columns J, Q and AE did not contain any values after 75, using python to fill in values\r\n"
      ]
    },
    {
      "cell_type": "code",
      "metadata": {
        "colab": {
          "base_uri": "https://localhost:8080/"
        },
        "id": "DtonKbaBi1e4",
        "outputId": "9ddd5e1d-4438-4c86-e059-82e38c415b98"
      },
      "source": [
        "#working on columns Types of duties assigned to sanitation workers, Communication channels used, Duties assigned to public safety personnel\r\n",
        "#df['Types of duties assigned to sanitation workers']\r\n",
        "import random\r\n",
        "for i in range(75, 99998):\r\n",
        "  df['Types of duties assigned to sanitation workers'][i] = df['Types of duties assigned to sanitation workers'][random.randrange(0,74)]"
      ],
      "execution_count": 19,
      "outputs": [
        {
          "output_type": "stream",
          "text": [
            "/usr/local/lib/python3.7/dist-packages/ipykernel_launcher.py:5: SettingWithCopyWarning: \n",
            "A value is trying to be set on a copy of a slice from a DataFrame\n",
            "\n",
            "See the caveats in the documentation: https://pandas.pydata.org/pandas-docs/stable/user_guide/indexing.html#returning-a-view-versus-a-copy\n",
            "  \"\"\"\n"
          ],
          "name": "stderr"
        }
      ]
    },
    {
      "cell_type": "code",
      "metadata": {
        "colab": {
          "base_uri": "https://localhost:8080/",
          "height": 35
        },
        "id": "WWeqCYQXMveT",
        "outputId": "684f33ea-0f24-415c-b06e-73d0320455e0"
      },
      "source": [
        "df['Types of duties assigned to sanitation workers'][90000]"
      ],
      "execution_count": 20,
      "outputs": [
        {
          "output_type": "execute_result",
          "data": {
            "application/vnd.google.colaboratory.intrinsic+json": {
              "type": "string"
            },
            "text/plain": [
              "'Street Sweeping and Bagging; Power Washing; Snow and Ice Removal; Graffiti Removal; Street Furniture Maintenance'"
            ]
          },
          "metadata": {
            "tags": []
          },
          "execution_count": 20
        }
      ]
    },
    {
      "cell_type": "code",
      "metadata": {
        "colab": {
          "base_uri": "https://localhost:8080/"
        },
        "id": "jFgRtKEdR36o",
        "outputId": "8fb6c62a-95fd-4603-d71a-0ce68f40a373"
      },
      "source": [
        "for i in range(75, 99998):\r\n",
        "  df['Duties assigned to public safety personnel'][i] = df['Duties assigned to public safety personnel'][random.randrange(0,74)]"
      ],
      "execution_count": 21,
      "outputs": [
        {
          "output_type": "stream",
          "text": [
            "/usr/local/lib/python3.7/dist-packages/ipykernel_launcher.py:2: SettingWithCopyWarning: \n",
            "A value is trying to be set on a copy of a slice from a DataFrame\n",
            "\n",
            "See the caveats in the documentation: https://pandas.pydata.org/pandas-docs/stable/user_guide/indexing.html#returning-a-view-versus-a-copy\n",
            "  \n"
          ],
          "name": "stderr"
        }
      ]
    },
    {
      "cell_type": "code",
      "metadata": {
        "colab": {
          "base_uri": "https://localhost:8080/"
        },
        "id": "DXIZKjdaUDqO",
        "outputId": "791b3672-b0d2-454a-d86f-1ede6b9ec24b"
      },
      "source": [
        "df['Duties assigned to public safety personnel'][3000]"
      ],
      "execution_count": 22,
      "outputs": [
        {
          "output_type": "execute_result",
          "data": {
            "text/plain": [
              "nan"
            ]
          },
          "metadata": {
            "tags": []
          },
          "execution_count": 22
        }
      ]
    },
    {
      "cell_type": "code",
      "metadata": {
        "id": "WMdIfzQ1UNKb",
        "colab": {
          "base_uri": "https://localhost:8080/"
        },
        "outputId": "3de72b13-8160-472f-9028-113478ebb999"
      },
      "source": [
        "for i in range(75, 99998):\r\n",
        "  df['Communication channels used'][i] = df['Communication channels used'][random.randrange(0,74)]"
      ],
      "execution_count": 23,
      "outputs": [
        {
          "output_type": "stream",
          "text": [
            "/usr/local/lib/python3.7/dist-packages/ipykernel_launcher.py:2: SettingWithCopyWarning: \n",
            "A value is trying to be set on a copy of a slice from a DataFrame\n",
            "\n",
            "See the caveats in the documentation: https://pandas.pydata.org/pandas-docs/stable/user_guide/indexing.html#returning-a-view-versus-a-copy\n",
            "  \n"
          ],
          "name": "stderr"
        }
      ]
    },
    {
      "cell_type": "code",
      "metadata": {
        "id": "Z4m7AVJkUmHd",
        "colab": {
          "base_uri": "https://localhost:8080/",
          "height": 52
        },
        "outputId": "4ece0d0c-fa73-455c-9e4c-184c75527a57"
      },
      "source": [
        "df['Communication channels used'][90000]"
      ],
      "execution_count": 24,
      "outputs": [
        {
          "output_type": "execute_result",
          "data": {
            "application/vnd.google.colaboratory.intrinsic+json": {
              "type": "string"
            },
            "text/plain": [
              "'Print advertising (i.e. local newspaper); Digital advertising (i.e. Google, Facebook, Instagram ads); Direct mailings; Email bulletins; Social media; LinkNYC advertising (more info)'"
            ]
          },
          "metadata": {
            "tags": []
          },
          "execution_count": 24
        }
      ]
    },
    {
      "cell_type": "code",
      "metadata": {
        "id": "vAS9ygBtcBAO",
        "colab": {
          "base_uri": "https://localhost:8080/"
        },
        "outputId": "8591f0a7-afc8-4d7c-d955-4be61ba7583b"
      },
      "source": [
        "df.info()"
      ],
      "execution_count": 25,
      "outputs": [
        {
          "output_type": "stream",
          "text": [
            "<class 'pandas.core.frame.DataFrame'>\n",
            "RangeIndex: 99998 entries, 0 to 99997\n",
            "Data columns (total 48 columns):\n",
            " #   Column                                                             Non-Null Count  Dtype  \n",
            "---  ------                                                             --------------  -----  \n",
            " 0   Unnamed: 0                                                         99998 non-null  int64  \n",
            " 1   index                                                              99998 non-null  int64  \n",
            " 2   company name                                                       99998 non-null  object \n",
            " 3   Floor Size                                                         97377 non-null  float64\n",
            " 4   Full-time staff                                                    97377 non-null  float64\n",
            " 5   Sanitation staff employed                                          97377 non-null  float64\n",
            " 6   Safety Inspector                                                   97377 non-null  float64\n",
            " 7   Part-time staff                                                    97377 non-null  float64\n",
            " 8   Current clients                                                    96012 non-null  object \n",
            " 9   Bid provides supplemental sanitation services                      97377 non-null  object \n",
            " 10  Types of duties assigned to sanitation workers                     95917 non-null  object \n",
            " 11  Days per week of sanitation services                               93370 non-null  float64\n",
            " 12  Hours logged by sanitation workers                                 97377 non-null  float64\n",
            " 13  Incidents of graffiti removed                                      97377 non-null  object \n",
            " 14  Trash bags collected                                               97377 non-null  float64\n",
            " 15  Trash and recycling receptacles serviced                           97377 non-null  float64\n",
            " 16  Bid provides supplemental public safety services                   97377 non-null  object \n",
            " 17  Duties assigned to public safety personnel                         48850 non-null  object \n",
            " 18  Hours logged by public safety officers                             69311 non-null  float64\n",
            " 19  Interactions with public safety officers                           66751 non-null  float64\n",
            " 20  Bid provides supplemental streetscape and beautification services  97377 non-null  object \n",
            " 21  Planters and hanging baskets maintained                            97377 non-null  float64\n",
            " 22  Tree pits maintained                                               97377 non-null  float64\n",
            " 23  Banners maintained                                                 97377 non-null  float64\n",
            " 24  Public art installations sponsored                                 97377 non-null  float64\n",
            " 25  Street furniture elements maintained                               82795 non-null  object \n",
            " 26  Wayfinding elements maintained                                     82795 non-null  object \n",
            " 27  Lighting elements maintained                                       81448 non-null  object \n",
            " 28  Other infrastructure elements maintained                           84149 non-null  object \n",
            " 29  Public spaces maintained                                           82795 non-null  float64\n",
            " 30  Bid has holiday lighting program                                   97377 non-null  object \n",
            " 31  Communication channels used                                        97311 non-null  object \n",
            " 32  Social media followers                                             97377 non-null  float64\n",
            " 33  Marketing materials distributed                                    97377 non-null  float64\n",
            " 34  Public events coordinated                                          97377 non-null  float64\n",
            " 35  Estimated attendees to public events coordinated                   97377 non-null  float64\n",
            " 36  Special event charges                                              97377 non-null  object \n",
            " 37  Miscellaneous charges                                              97377 non-null  object \n",
            " 38  Sanitation expenses                                                94680 non-null  object \n",
            " 39  Public safety expenses                                             82754 non-null  object \n",
            " 40  Marketing, holiday lighting, and special event expenses            97377 non-null  object \n",
            " 41  Streetscape & beautification expenses                              97377 non-null  object \n",
            " 42  Salaries                                                           92018 non-null  object \n",
            " 43  Outside contractor expenses                                        89355 non-null  object \n",
            " 44  Insurance costs                                                    97377 non-null  object \n",
            " 45  Rent and utilities                                                 86621 non-null  object \n",
            " 46  Supplies and equipment costs                                       97377 non-null  object \n",
            " 47  Other G&A expenses                                                 97377 non-null  object \n",
            "dtypes: float64(20), int64(2), object(26)\n",
            "memory usage: 36.6+ MB\n"
          ],
          "name": "stdout"
        }
      ]
    },
    {
      "cell_type": "code",
      "metadata": {
        "id": "LNKdRGWxtcHb"
      },
      "source": [
        "#Dropping unnecessary columns\r\n",
        "df.drop(['Marketing, holiday lighting, and special event expenses','Rent and utilities','Other G&A expenses'], axis=1, inplace=True)"
      ],
      "execution_count": 26,
      "outputs": []
    },
    {
      "cell_type": "code",
      "metadata": {
        "colab": {
          "base_uri": "https://localhost:8080/"
        },
        "id": "QzbuLJ3EukSs",
        "outputId": "068e6a10-ac9a-4225-8aa3-34f8a5c3bd6c"
      },
      "source": [
        "df.shape"
      ],
      "execution_count": 27,
      "outputs": [
        {
          "output_type": "execute_result",
          "data": {
            "text/plain": [
              "(99998, 45)"
            ]
          },
          "metadata": {
            "tags": []
          },
          "execution_count": 27
        }
      ]
    },
    {
      "cell_type": "markdown",
      "metadata": {
        "id": "SWlKkQJMZh2P"
      },
      "source": [
        "Now we shall replace all \"$\" signs in the columns to a null value"
      ]
    },
    {
      "cell_type": "code",
      "metadata": {
        "id": "mEzW7QaLZNLE"
      },
      "source": [
        "#replace function for replacing all \"$\" sign to \" \" for the following - \r\n",
        "\r\n",
        "#Miscellaneous charges\r\n",
        "#Public safety expenses\r\n",
        "#Streetscape & beautification expenses\r\n",
        "#Salaries\r\n",
        "#Outside contractor expenses\r\n",
        "#Insurance costs\r\n",
        "#Supplies and equipment costs\r\n",
        "#Sanitation expenses\r\n",
        "\r\n",
        "\r\n",
        "df['Special event charges'] = df['Special event charges'].str.replace(\"$\",\"\")\r\n",
        "df['Miscellaneous charges'] = df['Miscellaneous charges'].str.replace(\"$\",\"\")\r\n",
        "df['Sanitation expenses'] = df['Sanitation expenses'].str.replace(\"$\",\"\")\r\n",
        "df['Public safety expenses'] = df['Public safety expenses'].str.replace(\"$\",\"\")\r\n",
        "df['Streetscape & beautification expenses'] = df['Streetscape & beautification expenses'].str.replace(\"$\",\"\")\r\n",
        "df['Salaries'] = df['Salaries'].str.replace(\"$\",\"\")\r\n",
        "df['Outside contractor expenses'] = df['Outside contractor expenses'].str.replace(\"$\",\"\")\r\n",
        "df['Insurance costs'] = df['Insurance costs'].str.replace(\"$\",\"\")\r\n",
        "df['Supplies and equipment costs'] = df['Supplies and equipment costs'].str.replace(\"$\",\"\")\r\n",
        "\r\n",
        "\r\n"
      ],
      "execution_count": 28,
      "outputs": []
    },
    {
      "cell_type": "code",
      "metadata": {
        "colab": {
          "base_uri": "https://localhost:8080/",
          "height": 265
        },
        "id": "BMyfR-Hlk_EC",
        "outputId": "345e6191-f1fd-4d5f-ce3e-20faca8e63f8"
      },
      "source": [
        "#Dropping unnecessary columns\r\n",
        "df.head(1)"
      ],
      "execution_count": 29,
      "outputs": [
        {
          "output_type": "execute_result",
          "data": {
            "text/html": [
              "<div>\n",
              "<style scoped>\n",
              "    .dataframe tbody tr th:only-of-type {\n",
              "        vertical-align: middle;\n",
              "    }\n",
              "\n",
              "    .dataframe tbody tr th {\n",
              "        vertical-align: top;\n",
              "    }\n",
              "\n",
              "    .dataframe thead th {\n",
              "        text-align: right;\n",
              "    }\n",
              "</style>\n",
              "<table border=\"1\" class=\"dataframe\">\n",
              "  <thead>\n",
              "    <tr style=\"text-align: right;\">\n",
              "      <th></th>\n",
              "      <th>Unnamed: 0</th>\n",
              "      <th>index</th>\n",
              "      <th>company name</th>\n",
              "      <th>Floor Size</th>\n",
              "      <th>Full-time staff</th>\n",
              "      <th>Sanitation staff employed</th>\n",
              "      <th>Safety Inspector</th>\n",
              "      <th>Part-time staff</th>\n",
              "      <th>Current clients</th>\n",
              "      <th>Bid provides supplemental sanitation services</th>\n",
              "      <th>Types of duties assigned to sanitation workers</th>\n",
              "      <th>Days per week of sanitation services</th>\n",
              "      <th>Hours logged by sanitation workers</th>\n",
              "      <th>Incidents of graffiti removed</th>\n",
              "      <th>Trash bags collected</th>\n",
              "      <th>Trash and recycling receptacles serviced</th>\n",
              "      <th>Bid provides supplemental public safety services</th>\n",
              "      <th>Duties assigned to public safety personnel</th>\n",
              "      <th>Hours logged by public safety officers</th>\n",
              "      <th>Interactions with public safety officers</th>\n",
              "      <th>Bid provides supplemental streetscape and beautification services</th>\n",
              "      <th>Planters and hanging baskets maintained</th>\n",
              "      <th>Tree pits maintained</th>\n",
              "      <th>Banners maintained</th>\n",
              "      <th>Public art installations sponsored</th>\n",
              "      <th>Street furniture elements maintained</th>\n",
              "      <th>Wayfinding elements maintained</th>\n",
              "      <th>Lighting elements maintained</th>\n",
              "      <th>Other infrastructure elements maintained</th>\n",
              "      <th>Public spaces maintained</th>\n",
              "      <th>Bid has holiday lighting program</th>\n",
              "      <th>Communication channels used</th>\n",
              "      <th>Social media followers</th>\n",
              "      <th>Marketing materials distributed</th>\n",
              "      <th>Public events coordinated</th>\n",
              "      <th>Estimated attendees to public events coordinated</th>\n",
              "      <th>Special event charges</th>\n",
              "      <th>Miscellaneous charges</th>\n",
              "      <th>Sanitation expenses</th>\n",
              "      <th>Public safety expenses</th>\n",
              "      <th>Streetscape &amp; beautification expenses</th>\n",
              "      <th>Salaries</th>\n",
              "      <th>Outside contractor expenses</th>\n",
              "      <th>Insurance costs</th>\n",
              "      <th>Supplies and equipment costs</th>\n",
              "    </tr>\n",
              "  </thead>\n",
              "  <tbody>\n",
              "    <tr>\n",
              "      <th>0</th>\n",
              "      <td>0</td>\n",
              "      <td>1</td>\n",
              "      <td>Moreno LLC</td>\n",
              "      <td>5220.0</td>\n",
              "      <td>1.0</td>\n",
              "      <td>31.0</td>\n",
              "      <td>9.0</td>\n",
              "      <td>9.0</td>\n",
              "      <td>145</td>\n",
              "      <td>Yes</td>\n",
              "      <td>Street Sweeping and Bagging; Snow and Ice Remo...</td>\n",
              "      <td>7.0</td>\n",
              "      <td>61051.0</td>\n",
              "      <td>19327</td>\n",
              "      <td>70352.0</td>\n",
              "      <td>282.0</td>\n",
              "      <td>No</td>\n",
              "      <td>NaN</td>\n",
              "      <td>24732.0</td>\n",
              "      <td>NaN</td>\n",
              "      <td>Yes</td>\n",
              "      <td>341.0</td>\n",
              "      <td>115.0</td>\n",
              "      <td>105.0</td>\n",
              "      <td>12.0</td>\n",
              "      <td>2304</td>\n",
              "      <td>828</td>\n",
              "      <td>2161</td>\n",
              "      <td>786</td>\n",
              "      <td>19.0</td>\n",
              "      <td>Yes</td>\n",
              "      <td>Direct mailings; Flyers; Email bulletins; Soci...</td>\n",
              "      <td>11716.0</td>\n",
              "      <td>40108.0</td>\n",
              "      <td>15.0</td>\n",
              "      <td>198647.0</td>\n",
              "      <td>360,146</td>\n",
              "      <td>16,591</td>\n",
              "      <td>76,277</td>\n",
              "      <td>40,756</td>\n",
              "      <td>39,202</td>\n",
              "      <td>194,141</td>\n",
              "      <td>101,399</td>\n",
              "      <td>2,035</td>\n",
              "      <td>3,749</td>\n",
              "    </tr>\n",
              "  </tbody>\n",
              "</table>\n",
              "</div>"
            ],
            "text/plain": [
              "   Unnamed: 0  index  ... Insurance costs  Supplies and equipment costs\n",
              "0           0      1  ...          2,035                         3,749 \n",
              "\n",
              "[1 rows x 45 columns]"
            ]
          },
          "metadata": {
            "tags": []
          },
          "execution_count": 29
        }
      ]
    },
    {
      "cell_type": "code",
      "metadata": {
        "colab": {
          "base_uri": "https://localhost:8080/"
        },
        "id": "K15fEcFJlq-w",
        "outputId": "c6a62101-23fc-4ede-d009-aa7f70c43f5f"
      },
      "source": [
        "df.shape"
      ],
      "execution_count": 30,
      "outputs": [
        {
          "output_type": "execute_result",
          "data": {
            "text/plain": [
              "(99998, 45)"
            ]
          },
          "metadata": {
            "tags": []
          },
          "execution_count": 30
        }
      ]
    },
    {
      "cell_type": "code",
      "metadata": {
        "id": "fNOAH3F8dD_x",
        "colab": {
          "base_uri": "https://localhost:8080/",
          "height": 265
        },
        "outputId": "1a115486-d92d-4446-9e82-b2acf21007f9"
      },
      "source": [
        "df.head(1)"
      ],
      "execution_count": 31,
      "outputs": [
        {
          "output_type": "execute_result",
          "data": {
            "text/html": [
              "<div>\n",
              "<style scoped>\n",
              "    .dataframe tbody tr th:only-of-type {\n",
              "        vertical-align: middle;\n",
              "    }\n",
              "\n",
              "    .dataframe tbody tr th {\n",
              "        vertical-align: top;\n",
              "    }\n",
              "\n",
              "    .dataframe thead th {\n",
              "        text-align: right;\n",
              "    }\n",
              "</style>\n",
              "<table border=\"1\" class=\"dataframe\">\n",
              "  <thead>\n",
              "    <tr style=\"text-align: right;\">\n",
              "      <th></th>\n",
              "      <th>Unnamed: 0</th>\n",
              "      <th>index</th>\n",
              "      <th>company name</th>\n",
              "      <th>Floor Size</th>\n",
              "      <th>Full-time staff</th>\n",
              "      <th>Sanitation staff employed</th>\n",
              "      <th>Safety Inspector</th>\n",
              "      <th>Part-time staff</th>\n",
              "      <th>Current clients</th>\n",
              "      <th>Bid provides supplemental sanitation services</th>\n",
              "      <th>Types of duties assigned to sanitation workers</th>\n",
              "      <th>Days per week of sanitation services</th>\n",
              "      <th>Hours logged by sanitation workers</th>\n",
              "      <th>Incidents of graffiti removed</th>\n",
              "      <th>Trash bags collected</th>\n",
              "      <th>Trash and recycling receptacles serviced</th>\n",
              "      <th>Bid provides supplemental public safety services</th>\n",
              "      <th>Duties assigned to public safety personnel</th>\n",
              "      <th>Hours logged by public safety officers</th>\n",
              "      <th>Interactions with public safety officers</th>\n",
              "      <th>Bid provides supplemental streetscape and beautification services</th>\n",
              "      <th>Planters and hanging baskets maintained</th>\n",
              "      <th>Tree pits maintained</th>\n",
              "      <th>Banners maintained</th>\n",
              "      <th>Public art installations sponsored</th>\n",
              "      <th>Street furniture elements maintained</th>\n",
              "      <th>Wayfinding elements maintained</th>\n",
              "      <th>Lighting elements maintained</th>\n",
              "      <th>Other infrastructure elements maintained</th>\n",
              "      <th>Public spaces maintained</th>\n",
              "      <th>Bid has holiday lighting program</th>\n",
              "      <th>Communication channels used</th>\n",
              "      <th>Social media followers</th>\n",
              "      <th>Marketing materials distributed</th>\n",
              "      <th>Public events coordinated</th>\n",
              "      <th>Estimated attendees to public events coordinated</th>\n",
              "      <th>Special event charges</th>\n",
              "      <th>Miscellaneous charges</th>\n",
              "      <th>Sanitation expenses</th>\n",
              "      <th>Public safety expenses</th>\n",
              "      <th>Streetscape &amp; beautification expenses</th>\n",
              "      <th>Salaries</th>\n",
              "      <th>Outside contractor expenses</th>\n",
              "      <th>Insurance costs</th>\n",
              "      <th>Supplies and equipment costs</th>\n",
              "    </tr>\n",
              "  </thead>\n",
              "  <tbody>\n",
              "    <tr>\n",
              "      <th>0</th>\n",
              "      <td>0</td>\n",
              "      <td>1</td>\n",
              "      <td>Moreno LLC</td>\n",
              "      <td>5220.0</td>\n",
              "      <td>1.0</td>\n",
              "      <td>31.0</td>\n",
              "      <td>9.0</td>\n",
              "      <td>9.0</td>\n",
              "      <td>145</td>\n",
              "      <td>Yes</td>\n",
              "      <td>Street Sweeping and Bagging; Snow and Ice Remo...</td>\n",
              "      <td>7.0</td>\n",
              "      <td>61051.0</td>\n",
              "      <td>19327</td>\n",
              "      <td>70352.0</td>\n",
              "      <td>282.0</td>\n",
              "      <td>No</td>\n",
              "      <td>NaN</td>\n",
              "      <td>24732.0</td>\n",
              "      <td>NaN</td>\n",
              "      <td>Yes</td>\n",
              "      <td>341.0</td>\n",
              "      <td>115.0</td>\n",
              "      <td>105.0</td>\n",
              "      <td>12.0</td>\n",
              "      <td>2304</td>\n",
              "      <td>828</td>\n",
              "      <td>2161</td>\n",
              "      <td>786</td>\n",
              "      <td>19.0</td>\n",
              "      <td>Yes</td>\n",
              "      <td>Direct mailings; Flyers; Email bulletins; Soci...</td>\n",
              "      <td>11716.0</td>\n",
              "      <td>40108.0</td>\n",
              "      <td>15.0</td>\n",
              "      <td>198647.0</td>\n",
              "      <td>360,146</td>\n",
              "      <td>16,591</td>\n",
              "      <td>76,277</td>\n",
              "      <td>40,756</td>\n",
              "      <td>39,202</td>\n",
              "      <td>194,141</td>\n",
              "      <td>101,399</td>\n",
              "      <td>2,035</td>\n",
              "      <td>3,749</td>\n",
              "    </tr>\n",
              "  </tbody>\n",
              "</table>\n",
              "</div>"
            ],
            "text/plain": [
              "   Unnamed: 0  index  ... Insurance costs  Supplies and equipment costs\n",
              "0           0      1  ...          2,035                         3,749 \n",
              "\n",
              "[1 rows x 45 columns]"
            ]
          },
          "metadata": {
            "tags": []
          },
          "execution_count": 31
        }
      ]
    },
    {
      "cell_type": "markdown",
      "metadata": {
        "id": "wkqEgcQuESYs"
      },
      "source": [
        "Replacing all \",\" by \"\" and all NaN values by 0<br>\r\n",
        "Would be required for adding the total sum later"
      ]
    },
    {
      "cell_type": "code",
      "metadata": {
        "id": "giBSi4corojR"
      },
      "source": [
        "\r\n",
        "df['Miscellaneous charges'] = df['Miscellaneous charges'].str.replace(\",\",\"\").fillna(\"0\")\r\n",
        "df['Sanitation expenses'] = df['Sanitation expenses'].str.replace(\",\",\"\").fillna(\"0\")\r\n",
        "df['Public safety expenses'] = df['Public safety expenses'].str.replace(\",\",\"\").fillna(\"0\")\r\n",
        "df['Streetscape & beautification expenses'] = df['Streetscape & beautification expenses'].str.replace(\",\",\"\").fillna(\"0\")\r\n",
        "df['Salaries'] = df['Salaries'].str.replace(\",\",\"\").fillna(\"0\")\r\n",
        "df['Outside contractor expenses'] = df['Outside contractor expenses'].str.replace(\",\",\"\").fillna(\"0\")\r\n",
        "df['Insurance costs'] = df['Insurance costs'].str.replace(\",\",\"\").fillna(\"0\")\r\n",
        "df['Supplies and equipment costs'] = df['Supplies and equipment costs'].str.replace(\",\",\"\").fillna(\"0\")"
      ],
      "execution_count": 32,
      "outputs": []
    },
    {
      "cell_type": "code",
      "metadata": {
        "id": "5tPtvYd9_wVH",
        "colab": {
          "base_uri": "https://localhost:8080/"
        },
        "outputId": "cdee7b63-f25b-4498-b603-24ae250fb221"
      },
      "source": [
        "df['Miscellaneous charges']"
      ],
      "execution_count": 33,
      "outputs": [
        {
          "output_type": "execute_result",
          "data": {
            "text/plain": [
              "0         16591 \n",
              "1         68277 \n",
              "2         71153 \n",
              "3         14927 \n",
              "4         61766 \n",
              "          ...   \n",
              "99993     47806 \n",
              "99994     30981 \n",
              "99995    114141 \n",
              "99996    104185 \n",
              "99997     84325 \n",
              "Name: Miscellaneous charges, Length: 99998, dtype: object"
            ]
          },
          "metadata": {
            "tags": []
          },
          "execution_count": 33
        }
      ]
    },
    {
      "cell_type": "code",
      "metadata": {
        "id": "JnccDymdBJmh",
        "colab": {
          "base_uri": "https://localhost:8080/"
        },
        "outputId": "a188a622-97cf-45e5-8b46-46cd3cbf00fa"
      },
      "source": [
        "df['Public safety expenses']"
      ],
      "execution_count": 34,
      "outputs": [
        {
          "output_type": "execute_result",
          "data": {
            "text/plain": [
              "0         40756 \n",
              "1        169071 \n",
              "2          9179 \n",
              "3        293670 \n",
              "4        320711 \n",
              "          ...   \n",
              "99993     86552 \n",
              "99994    116098 \n",
              "99995     87105 \n",
              "99996    324593 \n",
              "99997    261562 \n",
              "Name: Public safety expenses, Length: 99998, dtype: object"
            ]
          },
          "metadata": {
            "tags": []
          },
          "execution_count": 34
        }
      ]
    },
    {
      "cell_type": "code",
      "metadata": {
        "id": "66pb-CYGWINR",
        "colab": {
          "base_uri": "https://localhost:8080/"
        },
        "outputId": "a22574f9-a0a5-4d87-b70d-37dce36b7b70"
      },
      "source": [
        "df['Total Quotation'] = df['Miscellaneous charges'].astype(\"int\") + df['Public safety expenses'].astype(\"int\") +  df['Sanitation expenses'].astype(\"int\") + df['Streetscape & beautification expenses'].astype(\"int\") \r\n",
        "+ df['Salaries'].astype(\"int\") + df['Outside contractor expenses'].astype(\"int\") + df['Insurance costs'].astype(\"int\") +  df['Supplies and equipment costs'].astype(\"int\")\r\n",
        "df['Total Quotation']\r\n",
        "#Streetscape & beautification expenses   Outside contractor expenses     \r\n"
      ],
      "execution_count": 35,
      "outputs": [
        {
          "output_type": "execute_result",
          "data": {
            "text/plain": [
              "0         172826\n",
              "1         499849\n",
              "2         125306\n",
              "3        1070827\n",
              "4         779014\n",
              "          ...   \n",
              "99993     475908\n",
              "99994     360003\n",
              "99995     927318\n",
              "99996     871826\n",
              "99997     500780\n",
              "Name: Total Quotation, Length: 99998, dtype: int64"
            ]
          },
          "metadata": {
            "tags": []
          },
          "execution_count": 35
        }
      ]
    },
    {
      "cell_type": "code",
      "metadata": {
        "id": "vG7YPR6CEEAU",
        "colab": {
          "base_uri": "https://localhost:8080/"
        },
        "outputId": "0bf3fd9a-5b2f-46d9-a9dc-31dc254109de"
      },
      "source": [
        "df.info()"
      ],
      "execution_count": 36,
      "outputs": [
        {
          "output_type": "stream",
          "text": [
            "<class 'pandas.core.frame.DataFrame'>\n",
            "RangeIndex: 99998 entries, 0 to 99997\n",
            "Data columns (total 46 columns):\n",
            " #   Column                                                             Non-Null Count  Dtype  \n",
            "---  ------                                                             --------------  -----  \n",
            " 0   Unnamed: 0                                                         99998 non-null  int64  \n",
            " 1   index                                                              99998 non-null  int64  \n",
            " 2   company name                                                       99998 non-null  object \n",
            " 3   Floor Size                                                         97377 non-null  float64\n",
            " 4   Full-time staff                                                    97377 non-null  float64\n",
            " 5   Sanitation staff employed                                          97377 non-null  float64\n",
            " 6   Safety Inspector                                                   97377 non-null  float64\n",
            " 7   Part-time staff                                                    97377 non-null  float64\n",
            " 8   Current clients                                                    96012 non-null  object \n",
            " 9   Bid provides supplemental sanitation services                      97377 non-null  object \n",
            " 10  Types of duties assigned to sanitation workers                     95917 non-null  object \n",
            " 11  Days per week of sanitation services                               93370 non-null  float64\n",
            " 12  Hours logged by sanitation workers                                 97377 non-null  float64\n",
            " 13  Incidents of graffiti removed                                      97377 non-null  object \n",
            " 14  Trash bags collected                                               97377 non-null  float64\n",
            " 15  Trash and recycling receptacles serviced                           97377 non-null  float64\n",
            " 16  Bid provides supplemental public safety services                   97377 non-null  object \n",
            " 17  Duties assigned to public safety personnel                         48850 non-null  object \n",
            " 18  Hours logged by public safety officers                             69311 non-null  float64\n",
            " 19  Interactions with public safety officers                           66751 non-null  float64\n",
            " 20  Bid provides supplemental streetscape and beautification services  97377 non-null  object \n",
            " 21  Planters and hanging baskets maintained                            97377 non-null  float64\n",
            " 22  Tree pits maintained                                               97377 non-null  float64\n",
            " 23  Banners maintained                                                 97377 non-null  float64\n",
            " 24  Public art installations sponsored                                 97377 non-null  float64\n",
            " 25  Street furniture elements maintained                               82795 non-null  object \n",
            " 26  Wayfinding elements maintained                                     82795 non-null  object \n",
            " 27  Lighting elements maintained                                       81448 non-null  object \n",
            " 28  Other infrastructure elements maintained                           84149 non-null  object \n",
            " 29  Public spaces maintained                                           82795 non-null  float64\n",
            " 30  Bid has holiday lighting program                                   97377 non-null  object \n",
            " 31  Communication channels used                                        97311 non-null  object \n",
            " 32  Social media followers                                             97377 non-null  float64\n",
            " 33  Marketing materials distributed                                    97377 non-null  float64\n",
            " 34  Public events coordinated                                          97377 non-null  float64\n",
            " 35  Estimated attendees to public events coordinated                   97377 non-null  float64\n",
            " 36  Special event charges                                              97377 non-null  object \n",
            " 37  Miscellaneous charges                                              99998 non-null  object \n",
            " 38  Sanitation expenses                                                99998 non-null  object \n",
            " 39  Public safety expenses                                             99998 non-null  object \n",
            " 40  Streetscape & beautification expenses                              99998 non-null  object \n",
            " 41  Salaries                                                           99998 non-null  object \n",
            " 42  Outside contractor expenses                                        99998 non-null  object \n",
            " 43  Insurance costs                                                    99998 non-null  object \n",
            " 44  Supplies and equipment costs                                       99998 non-null  object \n",
            " 45  Total Quotation                                                    99998 non-null  int64  \n",
            "dtypes: float64(20), int64(3), object(23)\n",
            "memory usage: 35.1+ MB\n"
          ],
          "name": "stdout"
        }
      ]
    },
    {
      "cell_type": "markdown",
      "metadata": {
        "id": "mL1FT4PkFlm0"
      },
      "source": [
        "Removing unnecessary attributes and merging some attributes"
      ]
    },
    {
      "cell_type": "code",
      "metadata": {
        "id": "C6L9yXWWG4vx"
      },
      "source": [
        "df.drop(['Types of duties assigned to sanitation workers','Duties assigned to public safety personnel'],axis=1,inplace=True)"
      ],
      "execution_count": 37,
      "outputs": []
    },
    {
      "cell_type": "code",
      "metadata": {
        "id": "0Q8X-t8dHFgJ"
      },
      "source": [
        "df['Incidents of graffiti removed'] = df['Incidents of graffiti removed'].str.replace(\",\",\"\")\r\n",
        "df['Incidents of graffiti removed'] = df['Incidents of graffiti removed'].str.replace(\"-\",\"0\")\r\n",
        "df['Incidents of graffiti removed'] = df['Incidents of graffiti removed'].fillna(\"0\")"
      ],
      "execution_count": 38,
      "outputs": []
    },
    {
      "cell_type": "code",
      "metadata": {
        "id": "a07ygxd0HgKS"
      },
      "source": [
        "df['Number_Of_Sanitation_Activities'] = df['Incidents of graffiti removed'].astype(\"float\") + df['Trash bags collected'] + df['Trash and recycling receptacles serviced']"
      ],
      "execution_count": 39,
      "outputs": []
    },
    {
      "cell_type": "code",
      "metadata": {
        "id": "fLJPOnRhHu6i"
      },
      "source": [
        "df.drop(['Incidents of graffiti removed','Trash bags collected','Trash and recycling receptacles serviced'],axis=1,inplace=True)"
      ],
      "execution_count": 40,
      "outputs": []
    },
    {
      "cell_type": "code",
      "metadata": {
        "id": "ELyZZSFrI7pN"
      },
      "source": [
        "df['Street furniture elements maintained'] = df['Street furniture elements maintained'].fillna(\"0\")\r\n",
        "df['Wayfinding elements maintained'] = df['Wayfinding elements maintained'].fillna(\"0\")\r\n",
        "df['Lighting elements maintained'] = df['Lighting elements maintained'].fillna(\"0\")\r\n",
        "df['Other infrastructure elements maintained'] = df['Other infrastructure elements maintained'].fillna(\"0\")\r\n"
      ],
      "execution_count": 41,
      "outputs": []
    },
    {
      "cell_type": "code",
      "metadata": {
        "id": "0XBBQDc9K85c",
        "colab": {
          "base_uri": "https://localhost:8080/"
        },
        "outputId": "b8838897-73d6-4868-df06-750cd0710a0c"
      },
      "source": [
        "df.dtypes"
      ],
      "execution_count": 42,
      "outputs": [
        {
          "output_type": "execute_result",
          "data": {
            "text/plain": [
              "Unnamed: 0                                                             int64\n",
              "index                                                                  int64\n",
              "company name                                                          object\n",
              "Floor Size                                                           float64\n",
              "Full-time staff                                                      float64\n",
              "Sanitation staff employed                                            float64\n",
              "Safety Inspector                                                     float64\n",
              "Part-time staff                                                      float64\n",
              "Current clients                                                       object\n",
              "Bid provides supplemental sanitation services                         object\n",
              "Days per week of sanitation services                                 float64\n",
              "Hours logged by sanitation workers                                   float64\n",
              "Bid provides supplemental public safety services                      object\n",
              "Hours logged by public safety officers                               float64\n",
              "Interactions with public safety officers                             float64\n",
              "Bid provides supplemental streetscape and beautification services     object\n",
              "Planters and hanging baskets maintained                              float64\n",
              "Tree pits maintained                                                 float64\n",
              "Banners maintained                                                   float64\n",
              "Public art installations sponsored                                   float64\n",
              "Street furniture elements maintained                                  object\n",
              "Wayfinding elements maintained                                        object\n",
              "Lighting elements maintained                                          object\n",
              "Other infrastructure elements maintained                              object\n",
              "Public spaces maintained                                             float64\n",
              "Bid has holiday lighting program                                      object\n",
              "Communication channels used                                           object\n",
              "Social media followers                                               float64\n",
              "Marketing materials distributed                                      float64\n",
              "Public events coordinated                                            float64\n",
              "Estimated attendees to public events coordinated                     float64\n",
              "Special event charges                                                 object\n",
              "Miscellaneous charges                                                 object\n",
              "Sanitation expenses                                                   object\n",
              "Public safety expenses                                                object\n",
              "Streetscape & beautification expenses                                 object\n",
              "Salaries                                                              object\n",
              "Outside contractor expenses                                           object\n",
              "Insurance costs                                                       object\n",
              "Supplies and equipment costs                                          object\n",
              "Total Quotation                                                        int64\n",
              "Number_Of_Sanitation_Activities                                      float64\n",
              "dtype: object"
            ]
          },
          "metadata": {
            "tags": []
          },
          "execution_count": 42
        }
      ]
    },
    {
      "cell_type": "code",
      "metadata": {
        "id": "HTJuBK2bH5tr",
        "colab": {
          "base_uri": "https://localhost:8080/"
        },
        "outputId": "6b5e301f-cea8-4d69-e947-a0ae85ab20dc"
      },
      "source": [
        "df['Beautification_Activities'] = df['Planters and hanging baskets maintained'] + df['Tree pits maintained'] + df['Banners maintained'] + df['Public art installations sponsored'] \r\n",
        "+ df['Street furniture elements maintained']\r\n",
        "+ df['Wayfinding elements maintained']\r\n",
        "+ df['Lighting elements maintained']\r\n",
        "+ df['Public spaces maintained']\r\n",
        "\r\n",
        "df['Beautification_Activities']"
      ],
      "execution_count": 43,
      "outputs": [
        {
          "output_type": "execute_result",
          "data": {
            "text/plain": [
              "0         573.0\n",
              "1         558.0\n",
              "2         985.0\n",
              "3         617.0\n",
              "4         904.0\n",
              "          ...  \n",
              "99993     754.0\n",
              "99994     399.0\n",
              "99995    1010.0\n",
              "99996     676.0\n",
              "99997     766.0\n",
              "Name: Beautification_Activities, Length: 99998, dtype: float64"
            ]
          },
          "metadata": {
            "tags": []
          },
          "execution_count": 43
        }
      ]
    },
    {
      "cell_type": "code",
      "metadata": {
        "id": "rN4GRWFZLjbP"
      },
      "source": [
        "df.drop(['Planters and hanging baskets maintained','Tree pits maintained','Banners maintained','Public art installations sponsored','Street furniture elements maintained','Wayfinding elements maintained','Lighting elements maintained','Other infrastructure elements maintained','Public spaces maintained'],axis=1,inplace=True)"
      ],
      "execution_count": 44,
      "outputs": []
    },
    {
      "cell_type": "code",
      "metadata": {
        "colab": {
          "base_uri": "https://localhost:8080/"
        },
        "id": "tDTdY40NGQOr",
        "outputId": "f6715272-d6f7-4860-8ad5-e4eac23b55e5"
      },
      "source": [
        "df.shape"
      ],
      "execution_count": 45,
      "outputs": [
        {
          "output_type": "execute_result",
          "data": {
            "text/plain": [
              "(99998, 34)"
            ]
          },
          "metadata": {
            "tags": []
          },
          "execution_count": 45
        }
      ]
    },
    {
      "cell_type": "code",
      "metadata": {
        "id": "pJlAXh5GMD6U"
      },
      "source": [
        "df['Beautification_Activities'].isnull()"
      ],
      "execution_count": null,
      "outputs": []
    },
    {
      "cell_type": "code",
      "metadata": {
        "id": "7-x3vX7kMefO"
      },
      "source": [
        "df['Media_Reach'] = df['Social media followers'] + df['Marketing materials distributed'] + (df['Public events coordinated']*df['Estimated attendees to public events coordinated']) "
      ],
      "execution_count": 47,
      "outputs": []
    },
    {
      "cell_type": "code",
      "metadata": {
        "id": "WI6cdORYMq_e"
      },
      "source": [
        "df.drop(['Social media followers','Marketing materials distributed','Public events coordinated','Estimated attendees to public events coordinated'],axis=1,inplace=True)"
      ],
      "execution_count": 48,
      "outputs": []
    },
    {
      "cell_type": "code",
      "metadata": {
        "id": "dVAp_-Yi9GRs"
      },
      "source": [
        "df.drop(['index','Unnamed: 0'],inplace=True, axis=1)"
      ],
      "execution_count": 49,
      "outputs": []
    },
    {
      "cell_type": "code",
      "metadata": {
        "id": "bJ_kIqKv9sT3"
      },
      "source": [
        "df.drop(['Full-time staff'], inplace=True, axis=1)"
      ],
      "execution_count": 50,
      "outputs": []
    },
    {
      "cell_type": "code",
      "metadata": {
        "id": "1NUnzPvo9wQk"
      },
      "source": [
        "df['Total_Staff'] = df['Sanitation staff employed'] + df['Safety Inspector'] + df['Part-time staff']"
      ],
      "execution_count": 51,
      "outputs": []
    },
    {
      "cell_type": "code",
      "metadata": {
        "id": "Swc8VAj897QX"
      },
      "source": [
        "df.drop(['Sanitation staff employed','Safety Inspector','Part-time staff'], axis=1, inplace=True)"
      ],
      "execution_count": 52,
      "outputs": []
    },
    {
      "cell_type": "code",
      "metadata": {
        "id": "UzMgJcRgIsF1"
      },
      "source": [
        "df.drop(['Interactions with public safety officers'], axis=1, inplace=True)"
      ],
      "execution_count": 57,
      "outputs": []
    },
    {
      "cell_type": "code",
      "metadata": {
        "colab": {
          "base_uri": "https://localhost:8080/",
          "height": 466
        },
        "id": "oqt2KTtzNIXT",
        "outputId": "8d01e064-6edc-42d1-f0e2-3c18f974a493"
      },
      "source": [
        "import seaborn as sns\r\n",
        "a = df.corr()\r\n",
        "sns.heatmap(a)"
      ],
      "execution_count": 58,
      "outputs": [
        {
          "output_type": "execute_result",
          "data": {
            "text/plain": [
              "<matplotlib.axes._subplots.AxesSubplot at 0x7fc19bcdf9d0>"
            ]
          },
          "metadata": {
            "tags": []
          },
          "execution_count": 58
        },
        {
          "output_type": "display_data",
          "data": {
            "image/png": "[encoded data removed]",
            "text/plain": [
              "<Figure size 432x288 with 2 Axes>"
            ]
          },
          "metadata": {
            "tags": [],
            "needs_background": "light"
          }
        }
      ]
    },
    {
      "cell_type": "code",
      "metadata": {
        "id": "7X71a-NA9Zat"
      },
      "source": [
        "df.dtypes"
      ],
      "execution_count": null,
      "outputs": []
    },
    {
      "cell_type": "code",
      "metadata": {
        "colab": {
          "base_uri": "https://localhost:8080/"
        },
        "id": "4RwlVQ6U_OQz",
        "outputId": "54bc71d5-2094-4a51-a06a-437ad1b9bced"
      },
      "source": [
        "df.shape"
      ],
      "execution_count": 64,
      "outputs": [
        {
          "output_type": "execute_result",
          "data": {
            "text/plain": [
              "(99998, 25)"
            ]
          },
          "metadata": {
            "tags": []
          },
          "execution_count": 64
        }
      ]
    },
    {
      "cell_type": "code",
      "metadata": {
        "id": "6zfxoZoQOF3z"
      },
      "source": [
        "df['Bid provides supplemental sanitation services'] = df.rename(columns={'Bid provides supplemental sanitation services': 'Sanitation_services_provided'}, inplace=True) \r\n",
        "df['Bid provides supplemental streetscape and beautification services'] = df.rename(columns={'Bid provides supplemental streetscape and beautification services': 'Beautification_services_provided'}, inplace=True)\r\n",
        "df['Bid has holiday lighting program'] = df.rename(columns={'Bid has holiday lighting program':'Holiday_program'}, inplace=True)"
      ],
      "execution_count": 59,
      "outputs": []
    },
    {
      "cell_type": "code",
      "metadata": {
        "id": "Dj6wK3I1PBBj"
      },
      "source": [
        "df.info()"
      ],
      "execution_count": null,
      "outputs": []
    },
    {
      "cell_type": "code",
      "metadata": {
        "id": "7XmW1xeJPViG"
      },
      "source": [
        "df.drop(['Bid provides supplemental sanitation services','Bid provides supplemental streetscape and beautification services','Bid has holiday lighting program'], inplace=True, axis=1)"
      ],
      "execution_count": 62,
      "outputs": []
    },
    {
      "cell_type": "markdown",
      "metadata": {
        "id": "hP7Z8ZQLYFj7"
      },
      "source": [
        "**2. EDA - Explolatory Data Analysis**"
      ]
    },
    {
      "cell_type": "code",
      "metadata": {
        "id": "ZSdgq0a9nPGM"
      },
      "source": [
        "#Separating the Attribute and target attribute\r\n",
        "y = df.iloc[:,0] #Dependent\r\n",
        "x = df.iloc[:,20] #Independent attributes"
      ],
      "execution_count": 65,
      "outputs": []
    },
    {
      "cell_type": "code",
      "metadata": {
        "id": "Qa59P580nPsi"
      },
      "source": [
        "x = x.values.reshape(-1, 1)"
      ],
      "execution_count": 66,
      "outputs": []
    },
    {
      "cell_type": "code",
      "metadata": {
        "id": "JU3_Sm6inSkb"
      },
      "source": [
        "y = y.values.reshape(-1, 1)"
      ],
      "execution_count": 67,
      "outputs": []
    },
    {
      "cell_type": "code",
      "metadata": {
        "id": "hpSRx2bOnVEs"
      },
      "source": [
        "from sklearn.metrics import confusion_matrix \r\n",
        "from sklearn.model_selection import train_test_split \r\n",
        "from sklearn.tree import DecisionTreeClassifier \r\n",
        "from sklearn import metrics #Import scikit-learn metrics module for accuracy calculation"
      ],
      "execution_count": 68,
      "outputs": []
    },
    {
      "cell_type": "code",
      "metadata": {
        "id": "wUAd01VbnYcU"
      },
      "source": [
        "# Split dataset into training set and test set\r\n",
        "X_train, X_test, y_train, y_test = train_test_split(x, y, test_size=0.3, random_state=1) # 70% training and 30% test"
      ],
      "execution_count": 69,
      "outputs": []
    },
    {
      "cell_type": "code",
      "metadata": {
        "id": "BRFKC5JgncH3"
      },
      "source": [
        "# Create Decision Tree classifer object\r\n",
        "clf = DecisionTreeClassifier(max_depth=8)"
      ],
      "execution_count": 70,
      "outputs": []
    },
    {
      "cell_type": "code",
      "metadata": {
        "id": "dgVH2ItUnfbM"
      },
      "source": [
        "# Train Decision Tree Classifer\r\n",
        "clf = clf.fit(X_train,y_train)"
      ],
      "execution_count": 71,
      "outputs": []
    },
    {
      "cell_type": "code",
      "metadata": {
        "id": "BQCNbLShniAe"
      },
      "source": [
        "#Predict the response for test dataset\r\n",
        "y_pred = clf.predict(X_test)"
      ],
      "execution_count": 72,
      "outputs": []
    },
    {
      "cell_type": "code",
      "metadata": {
        "colab": {
          "base_uri": "https://localhost:8080/"
        },
        "id": "SFFpBuRUnlQY",
        "outputId": "6706a279-3261-4138-b8ae-c133d3bcad6d"
      },
      "source": [
        "# Model Accuracy, how often is the classifier correct?\r\n",
        "print(\"Accuracy:\",metrics.accuracy_score(y_test, y_pred))"
      ],
      "execution_count": 73,
      "outputs": [
        {
          "output_type": "stream",
          "text": [
            "Accuracy: 0.0010666666666666667\n"
          ],
          "name": "stdout"
        }
      ]
    },
    {
      "cell_type": "code",
      "metadata": {
        "id": "KKj-NvwznvJu"
      },
      "source": [
        ""
      ],
      "execution_count": null,
      "outputs": []
    }
  ]
}