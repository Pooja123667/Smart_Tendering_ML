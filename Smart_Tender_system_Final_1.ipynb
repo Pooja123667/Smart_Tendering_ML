{
  "cells": [
    {
      "cell_type": "code",
      "execution_count": 1,
      "metadata": {
        "id": "HfbD1PCXWvVX"
      },
      "outputs": [],
      "source": [
        "# Importing necessary Libraries <br>\n",
        "# **1. Understanding and Analyzing the Dataset**"
      ]
    },
    {
      "cell_type": "code",
      "execution_count": 2,
      "metadata": {
        "id": "fNxDLtgXgBTt"
      },
      "outputs": [
        {
          "name": "stdout",
          "output_type": "stream",
          "text": [
            "Import success\n"
          ]
        }
      ],
      "source": [
        "import pandas as pd\n",
        "import io \n",
        "print(\"Import success\")"
      ]
    },
    {
      "cell_type": "code",
      "execution_count": 3,
      "metadata": {
        "id": "66y5WJAQgbD6"
      },
      "outputs": [],
      "source": [
        "df = pd.read_csv(\"https://raw.githubusercontent.com/Pooja123667/Smart_Tendering_ML/main/file_finale%20(2).csv\", low_memory=False) \n",
        "# https://raw.githubusercontent.com/Pooja123667/Smart_Tendering_ML/main/FY19_BID_Trends_Report_Data%20(3).csv\n",
        "# https://raw.githubusercontent.com/Pooja123667/Smart_Tendering_ML/main/file_name%20(2).csv\n",
        "# https://raw.githubusercontent.com/Pooja123667/Smart_Tendering_ML/main/updates.csv\n",
        "testing = pd.read_csv(\"https://raw.githubusercontent.com/Pooja123667/Smart_Tendering_ML/main/finalTesting.csv\", low_memory=False) \n"
      ]
    },
    {
      "cell_type": "code",
      "execution_count": 4,
      "metadata": {
        "id": "a9OUg2JGhCKm"
      },
      "outputs": [
        {
          "data": {
            "text/html": "<div>\n<style scoped>\n    .dataframe tbody tr th:only-of-type {\n        vertical-align: middle;\n    }\n\n    .dataframe tbody tr th {\n        vertical-align: top;\n    }\n\n    .dataframe thead th {\n        text-align: right;\n    }\n</style>\n<table border=\"1\" class=\"dataframe\">\n  <thead>\n    <tr style=\"text-align: right;\">\n      <th></th>\n      <th>index</th>\n      <th>company name</th>\n      <th>Floor Size</th>\n      <th>Full-time staff</th>\n      <th>Sanitation staff employed</th>\n      <th>Safety Inspector</th>\n      <th>Part-time staff</th>\n      <th>Current clients</th>\n      <th>Bid provides supplemental sanitation services</th>\n      <th>Types of duties assigned to sanitation workers</th>\n      <th>...</th>\n      <th>Sanitation expenses</th>\n      <th>Public safety expenses</th>\n      <th>Marketing, holiday lighting, and special event expenses</th>\n      <th>Streetscape &amp; beautification expenses</th>\n      <th>Salaries</th>\n      <th>Outside contractor expenses</th>\n      <th>Insurance costs</th>\n      <th>Rent and utilities</th>\n      <th>Supplies and equipment costs</th>\n      <th>Other G&amp;A expenses</th>\n    </tr>\n  </thead>\n  <tbody>\n    <tr>\n      <th>0</th>\n      <td>1</td>\n      <td>General Consulting Research</td>\n      <td>5220.0</td>\n      <td>1.0</td>\n      <td>31.0</td>\n      <td>9.0</td>\n      <td>9.0</td>\n      <td>145.0</td>\n      <td>Yes</td>\n      <td>Street Sweeping and Bagging; Snow and Ice Remo...</td>\n      <td>...</td>\n      <td>76277.0</td>\n      <td>40756.0</td>\n      <td>NaN</td>\n      <td>39202.0</td>\n      <td>194141.0</td>\n      <td>101399.0</td>\n      <td>2035.0</td>\n      <td>NaN</td>\n      <td>3749.0</td>\n      <td>NaN</td>\n    </tr>\n    <tr>\n      <th>1</th>\n      <td>2</td>\n      <td>Analysis Analysis</td>\n      <td>1740.0</td>\n      <td>1.0</td>\n      <td>77.0</td>\n      <td>36.0</td>\n      <td>14.0</td>\n      <td>168.0</td>\n      <td>Yes</td>\n      <td>Street Sweeping and Bagging; Power Washing; Sn...</td>\n      <td>...</td>\n      <td>82436.0</td>\n      <td>169071.0</td>\n      <td>NaN</td>\n      <td>180065.0</td>\n      <td>425466.0</td>\n      <td>72166.0</td>\n      <td>70631.0</td>\n      <td>NaN</td>\n      <td>14730.0</td>\n      <td>NaN</td>\n    </tr>\n    <tr>\n      <th>2</th>\n      <td>3</td>\n      <td>Federated Consulting Analysis</td>\n      <td>8150.0</td>\n      <td>1.0</td>\n      <td>10.0</td>\n      <td>6.0</td>\n      <td>6.0</td>\n      <td>42.0</td>\n      <td>No</td>\n      <td>NaN</td>\n      <td>...</td>\n      <td>82436.0</td>\n      <td>9179.0</td>\n      <td>NaN</td>\n      <td>44974.0</td>\n      <td>745962.0</td>\n      <td>141833.0</td>\n      <td>68790.0</td>\n      <td>NaN</td>\n      <td>19293.0</td>\n      <td>NaN</td>\n    </tr>\n    <tr>\n      <th>3</th>\n      <td>4</td>\n      <td>Atlantic Max North</td>\n      <td>41110.0</td>\n      <td>62.0</td>\n      <td>18.0</td>\n      <td>8.0</td>\n      <td>10.0</td>\n      <td>NaN</td>\n      <td>Yes</td>\n      <td>Street Sweeping and Bagging; Power Washing; Sn...</td>\n      <td>...</td>\n      <td>574602.0</td>\n      <td>293670.0</td>\n      <td>NaN</td>\n      <td>187628.0</td>\n      <td>1189014.0</td>\n      <td>72668.0</td>\n      <td>75686.0</td>\n      <td>NaN</td>\n      <td>13038.0</td>\n      <td>NaN</td>\n    </tr>\n    <tr>\n      <th>4</th>\n      <td>5</td>\n      <td>Star Consulting</td>\n      <td>3460.0</td>\n      <td>1.0</td>\n      <td>23.0</td>\n      <td>2.0</td>\n      <td>19.0</td>\n      <td>181.0</td>\n      <td>Yes</td>\n      <td>Street Sweeping and Bagging; Power Washing; Sn...</td>\n      <td>...</td>\n      <td>340025.0</td>\n      <td>320711.0</td>\n      <td>NaN</td>\n      <td>56512.0</td>\n      <td>984545.0</td>\n      <td>98032.0</td>\n      <td>63834.0</td>\n      <td>NaN</td>\n      <td>4368.0</td>\n      <td>NaN</td>\n    </tr>\n  </tbody>\n</table>\n<p>5 rows × 47 columns</p>\n</div>",
            "text/plain": "   index                   company name  Floor Size  Full-time staff  \\\n0      1    General Consulting Research      5220.0              1.0   \n1      2              Analysis Analysis      1740.0              1.0   \n2      3  Federated Consulting Analysis      8150.0              1.0   \n3      4             Atlantic Max North     41110.0             62.0   \n4      5                Star Consulting      3460.0              1.0   \n\n   Sanitation staff employed  Safety Inspector  Part-time staff  \\\n0                       31.0               9.0              9.0   \n1                       77.0              36.0             14.0   \n2                       10.0               6.0              6.0   \n3                       18.0               8.0             10.0   \n4                       23.0               2.0             19.0   \n\n   Current clients Bid provides supplemental sanitation services  \\\n0            145.0                                           Yes   \n1            168.0                                           Yes   \n2             42.0                                            No   \n3              NaN                                           Yes   \n4            181.0                                           Yes   \n\n      Types of duties assigned to sanitation workers  ...  \\\n0  Street Sweeping and Bagging; Snow and Ice Remo...  ...   \n1  Street Sweeping and Bagging; Power Washing; Sn...  ...   \n2                                                NaN  ...   \n3  Street Sweeping and Bagging; Power Washing; Sn...  ...   \n4  Street Sweeping and Bagging; Power Washing; Sn...  ...   \n\n   Sanitation expenses  Public safety expenses  \\\n0              76277.0                 40756.0   \n1              82436.0                169071.0   \n2              82436.0                  9179.0   \n3             574602.0                293670.0   \n4             340025.0                320711.0   \n\n   Marketing, holiday lighting, and special event expenses  \\\n0                                                NaN         \n1                                                NaN         \n2                                                NaN         \n3                                                NaN         \n4                                                NaN         \n\n   Streetscape & beautification expenses   Salaries  \\\n0                                39202.0   194141.0   \n1                               180065.0   425466.0   \n2                                44974.0   745962.0   \n3                               187628.0  1189014.0   \n4                                56512.0   984545.0   \n\n  Outside contractor expenses Insurance costs  Rent and utilities  \\\n0                    101399.0          2035.0                 NaN   \n1                     72166.0         70631.0                 NaN   \n2                    141833.0         68790.0                 NaN   \n3                     72668.0         75686.0                 NaN   \n4                     98032.0         63834.0                 NaN   \n\n   Supplies and equipment costs Other G&A expenses  \n0                        3749.0                NaN  \n1                       14730.0                NaN  \n2                       19293.0                NaN  \n3                       13038.0                NaN  \n4                        4368.0                NaN  \n\n[5 rows x 47 columns]"
          },
          "execution_count": 4,
          "metadata": {},
          "output_type": "execute_result"
        }
      ],
      "source": [
        "df.head(5)"
      ]
    },
    {
      "cell_type": "code",
      "execution_count": 5,
      "metadata": {
        "id": "2CheKhGVioBA"
      },
      "outputs": [
        {
          "data": {
            "text/plain": "0        11716.0\n1          875.0\n2        11231.0\n3        75052.0\n4         9005.0\n          ...   \n99995    81904.0\n99996     7632.0\n99997     7215.0\n99998    11747.0\n99999     7628.0\nName: Social media followers, Length: 100000, dtype: float64"
          },
          "execution_count": 5,
          "metadata": {},
          "output_type": "execute_result"
        }
      ],
      "source": [
        "df['Social media followers']\r\n"
      ]
    },
    {
      "cell_type": "code",
      "execution_count": 6,
      "metadata": {
        "id": "azvixykQhJx7"
      },
      "outputs": [
        {
          "data": {
            "text/plain": "(100000, 47)"
          },
          "execution_count": 6,
          "metadata": {},
          "output_type": "execute_result"
        }
      ],
      "source": [
        "df.shape"
      ]
    },
    {
      "cell_type": "code",
      "execution_count": 7,
      "metadata": {
        "id": "YzHkUTPFhQVy"
      },
      "outputs": [
        {
          "data": {
            "text/html": "<div>\n<style scoped>\n    .dataframe tbody tr th:only-of-type {\n        vertical-align: middle;\n    }\n\n    .dataframe tbody tr th {\n        vertical-align: top;\n    }\n\n    .dataframe thead th {\n        text-align: right;\n    }\n</style>\n<table border=\"1\" class=\"dataframe\">\n  <thead>\n    <tr style=\"text-align: right;\">\n      <th></th>\n      <th>index</th>\n      <th>Floor Size</th>\n      <th>Full-time staff</th>\n      <th>Sanitation staff employed</th>\n      <th>Safety Inspector</th>\n      <th>Part-time staff</th>\n      <th>Current clients</th>\n      <th>Days per week of sanitation services</th>\n      <th>Hours logged by sanitation workers</th>\n      <th>Incidents of graffiti removed</th>\n      <th>...</th>\n      <th>Sanitation expenses</th>\n      <th>Public safety expenses</th>\n      <th>Marketing, holiday lighting, and special event expenses</th>\n      <th>Streetscape &amp; beautification expenses</th>\n      <th>Salaries</th>\n      <th>Outside contractor expenses</th>\n      <th>Insurance costs</th>\n      <th>Rent and utilities</th>\n      <th>Supplies and equipment costs</th>\n      <th>Other G&amp;A expenses</th>\n    </tr>\n  </thead>\n  <tbody>\n    <tr>\n      <th>count</th>\n      <td>100000.000000</td>\n      <td>97329.000000</td>\n      <td>97329.000000</td>\n      <td>97329.000000</td>\n      <td>97329.000000</td>\n      <td>97329.000000</td>\n      <td>83270.000000</td>\n      <td>100000.000000</td>\n      <td>97329.000000</td>\n      <td>100000.000000</td>\n      <td>...</td>\n      <td>99990.000000</td>\n      <td>99990.000000</td>\n      <td>0.0</td>\n      <td>99990.000000</td>\n      <td>9.999000e+04</td>\n      <td>9.999000e+04</td>\n      <td>99990.000000</td>\n      <td>0.0</td>\n      <td>99990.000000</td>\n      <td>0.0</td>\n    </tr>\n    <tr>\n      <th>mean</th>\n      <td>50000.500000</td>\n      <td>19928.001932</td>\n      <td>5.546291</td>\n      <td>48.539870</td>\n      <td>27.753352</td>\n      <td>12.480586</td>\n      <td>904.891233</td>\n      <td>6.565800</td>\n      <td>95805.000267</td>\n      <td>11911.450350</td>\n      <td>...</td>\n      <td>316959.650865</td>\n      <td>156146.216102</td>\n      <td>NaN</td>\n      <td>119384.840394</td>\n      <td>6.930571e+05</td>\n      <td>8.937713e+04</td>\n      <td>54405.175368</td>\n      <td>NaN</td>\n      <td>11198.628143</td>\n      <td>NaN</td>\n    </tr>\n    <tr>\n      <th>std</th>\n      <td>28867.657797</td>\n      <td>19202.251227</td>\n      <td>11.769358</td>\n      <td>27.478816</td>\n      <td>21.614128</td>\n      <td>8.990987</td>\n      <td>832.069334</td>\n      <td>1.245426</td>\n      <td>44373.769872</td>\n      <td>5642.206011</td>\n      <td>...</td>\n      <td>162132.829276</td>\n      <td>105971.902918</td>\n      <td>NaN</td>\n      <td>69323.736028</td>\n      <td>3.421104e+05</td>\n      <td>1.359181e+05</td>\n      <td>32785.154001</td>\n      <td>NaN</td>\n      <td>5989.081425</td>\n      <td>NaN</td>\n    </tr>\n    <tr>\n      <th>min</th>\n      <td>1.000000</td>\n      <td>1740.000000</td>\n      <td>0.000000</td>\n      <td>-14.000000</td>\n      <td>-18.000000</td>\n      <td>-9.000000</td>\n      <td>9.000000</td>\n      <td>1.000000</td>\n      <td>6558.000000</td>\n      <td>2211.000000</td>\n      <td>...</td>\n      <td>30059.000000</td>\n      <td>9141.000000</td>\n      <td>NaN</td>\n      <td>10209.000000</td>\n      <td>3.742200e+04</td>\n      <td>3.735000e+03</td>\n      <td>1703.000000</td>\n      <td>NaN</td>\n      <td>964.000000</td>\n      <td>NaN</td>\n    </tr>\n    <tr>\n      <th>25%</th>\n      <td>25000.750000</td>\n      <td>8070.000000</td>\n      <td>1.000000</td>\n      <td>28.000000</td>\n      <td>11.000000</td>\n      <td>6.000000</td>\n      <td>464.000000</td>\n      <td>7.000000</td>\n      <td>61228.000000</td>\n      <td>6474.000000</td>\n      <td>...</td>\n      <td>165565.000000</td>\n      <td>54013.000000</td>\n      <td>NaN</td>\n      <td>56538.000000</td>\n      <td>3.859790e+05</td>\n      <td>2.927400e+04</td>\n      <td>21373.000000</td>\n      <td>NaN</td>\n      <td>5329.000000</td>\n      <td>NaN</td>\n    </tr>\n    <tr>\n      <th>50%</th>\n      <td>50000.500000</td>\n      <td>13140.000000</td>\n      <td>2.000000</td>\n      <td>47.000000</td>\n      <td>26.000000</td>\n      <td>12.000000</td>\n      <td>722.000000</td>\n      <td>7.000000</td>\n      <td>89743.000000</td>\n      <td>12640.000000</td>\n      <td>...</td>\n      <td>328337.000000</td>\n      <td>122266.500000</td>\n      <td>NaN</td>\n      <td>119315.000000</td>\n      <td>6.611040e+05</td>\n      <td>7.216700e+04</td>\n      <td>63148.500000</td>\n      <td>NaN</td>\n      <td>11533.000000</td>\n      <td>NaN</td>\n    </tr>\n    <tr>\n      <th>75%</th>\n      <td>75000.250000</td>\n      <td>25460.000000</td>\n      <td>3.000000</td>\n      <td>68.000000</td>\n      <td>43.000000</td>\n      <td>19.000000</td>\n      <td>980.000000</td>\n      <td>7.000000</td>\n      <td>134399.000000</td>\n      <td>16849.000000</td>\n      <td>...</td>\n      <td>457854.750000</td>\n      <td>261832.000000</td>\n      <td>NaN</td>\n      <td>181656.000000</td>\n      <td>1.029543e+06</td>\n      <td>1.303920e+05</td>\n      <td>78104.000000</td>\n      <td>NaN</td>\n      <td>16819.000000</td>\n      <td>NaN</td>\n    </tr>\n    <tr>\n      <th>max</th>\n      <td>100000.000000</td>\n      <td>121820.000000</td>\n      <td>62.000000</td>\n      <td>115.000000</td>\n      <td>80.000000</td>\n      <td>35.000000</td>\n      <td>5889.000000</td>\n      <td>7.000000</td>\n      <td>191164.000000</td>\n      <td>20965.000000</td>\n      <td>...</td>\n      <td>574640.000000</td>\n      <td>340800.000000</td>\n      <td>NaN</td>\n      <td>244809.000000</td>\n      <td>1.189613e+06</td>\n      <td>1.159571e+06</td>\n      <td>112743.000000</td>\n      <td>NaN</td>\n      <td>20837.000000</td>\n      <td>NaN</td>\n    </tr>\n  </tbody>\n</table>\n<p>8 rows × 36 columns</p>\n</div>",
            "text/plain": "               index     Floor Size  Full-time staff  \\\ncount  100000.000000   97329.000000     97329.000000   \nmean    50000.500000   19928.001932         5.546291   \nstd     28867.657797   19202.251227        11.769358   \nmin         1.000000    1740.000000         0.000000   \n25%     25000.750000    8070.000000         1.000000   \n50%     50000.500000   13140.000000         2.000000   \n75%     75000.250000   25460.000000         3.000000   \nmax    100000.000000  121820.000000        62.000000   \n\n       Sanitation staff employed  Safety Inspector  Part-time staff  \\\ncount               97329.000000      97329.000000     97329.000000   \nmean                   48.539870         27.753352        12.480586   \nstd                    27.478816         21.614128         8.990987   \nmin                   -14.000000        -18.000000        -9.000000   \n25%                    28.000000         11.000000         6.000000   \n50%                    47.000000         26.000000        12.000000   \n75%                    68.000000         43.000000        19.000000   \nmax                   115.000000         80.000000        35.000000   \n\n       Current clients  Days per week of sanitation services  \\\ncount     83270.000000                         100000.000000   \nmean        904.891233                              6.565800   \nstd         832.069334                              1.245426   \nmin           9.000000                              1.000000   \n25%         464.000000                              7.000000   \n50%         722.000000                              7.000000   \n75%         980.000000                              7.000000   \nmax        5889.000000                              7.000000   \n\n       Hours logged by sanitation workers  Incidents of graffiti removed  ...  \\\ncount                        97329.000000                  100000.000000  ...   \nmean                         95805.000267                   11911.450350  ...   \nstd                          44373.769872                    5642.206011  ...   \nmin                           6558.000000                    2211.000000  ...   \n25%                          61228.000000                    6474.000000  ...   \n50%                          89743.000000                   12640.000000  ...   \n75%                         134399.000000                   16849.000000  ...   \nmax                         191164.000000                   20965.000000  ...   \n\n       Sanitation expenses  Public safety expenses  \\\ncount         99990.000000            99990.000000   \nmean         316959.650865           156146.216102   \nstd          162132.829276           105971.902918   \nmin           30059.000000             9141.000000   \n25%          165565.000000            54013.000000   \n50%          328337.000000           122266.500000   \n75%          457854.750000           261832.000000   \nmax          574640.000000           340800.000000   \n\n       Marketing, holiday lighting, and special event expenses  \\\ncount                                                0.0         \nmean                                                 NaN         \nstd                                                  NaN         \nmin                                                  NaN         \n25%                                                  NaN         \n50%                                                  NaN         \n75%                                                  NaN         \nmax                                                  NaN         \n\n       Streetscape & beautification expenses      Salaries  \\\ncount                           99990.000000  9.999000e+04   \nmean                           119384.840394  6.930571e+05   \nstd                             69323.736028  3.421104e+05   \nmin                             10209.000000  3.742200e+04   \n25%                             56538.000000  3.859790e+05   \n50%                            119315.000000  6.611040e+05   \n75%                            181656.000000  1.029543e+06   \nmax                            244809.000000  1.189613e+06   \n\n       Outside contractor expenses  Insurance costs  Rent and utilities  \\\ncount                 9.999000e+04     99990.000000                 0.0   \nmean                  8.937713e+04     54405.175368                 NaN   \nstd                   1.359181e+05     32785.154001                 NaN   \nmin                   3.735000e+03      1703.000000                 NaN   \n25%                   2.927400e+04     21373.000000                 NaN   \n50%                   7.216700e+04     63148.500000                 NaN   \n75%                   1.303920e+05     78104.000000                 NaN   \nmax                   1.159571e+06    112743.000000                 NaN   \n\n       Supplies and equipment costs  Other G&A expenses  \ncount                  99990.000000                 0.0  \nmean                   11198.628143                 NaN  \nstd                     5989.081425                 NaN  \nmin                      964.000000                 NaN  \n25%                     5329.000000                 NaN  \n50%                    11533.000000                 NaN  \n75%                    16819.000000                 NaN  \nmax                    20837.000000                 NaN  \n\n[8 rows x 36 columns]"
          },
          "execution_count": 7,
          "metadata": {},
          "output_type": "execute_result"
        }
      ],
      "source": [
        "df.describe()"
      ]
    },
    {
      "cell_type": "code",
      "execution_count": 8,
      "metadata": {
        "id": "4-J3FuzDaxWj"
      },
      "outputs": [
        {
          "name": "stdout",
          "output_type": "stream",
          "text": [
            "<class 'pandas.core.frame.DataFrame'>\n",
            "RangeIndex: 100000 entries, 0 to 99999\n",
            "Data columns (total 47 columns):\n",
            " #   Column                                                             Non-Null Count   Dtype  \n",
            "---  ------                                                             --------------   -----  \n",
            " 0   index                                                              100000 non-null  int64  \n",
            " 1   company name                                                       100000 non-null  object \n",
            " 2   Floor Size                                                         97329 non-null   float64\n",
            " 3   Full-time staff                                                    97329 non-null   float64\n",
            " 4   Sanitation staff employed                                          97329 non-null   float64\n",
            " 5   Safety Inspector                                                   97329 non-null   float64\n",
            " 6   Part-time staff                                                    97329 non-null   float64\n",
            " 7   Current clients                                                    83270 non-null   float64\n",
            " 8   Bid provides supplemental sanitation services                      97329 non-null   object \n",
            " 9   Types of duties assigned to sanitation workers                     94585 non-null   object \n",
            " 10  Days per week of sanitation services                               100000 non-null  int64  \n",
            " 11  Hours logged by sanitation workers                                 97329 non-null   float64\n",
            " 12  Incidents of graffiti removed                                      100000 non-null  int64  \n",
            " 13  Trash bags collected                                               97329 non-null   float64\n",
            " 14  Trash and recycling receptacles serviced                           97329 non-null   float64\n",
            " 15  Bid provides supplemental public safety services                   97329 non-null   object \n",
            " 16  Duties assigned to public safety personnel                         44990 non-null   object \n",
            " 17  Hours logged by public safety officers                             67622 non-null   float64\n",
            " 18  Interactions with public safety officers                           66200 non-null   float64\n",
            " 19  Bid provides supplemental streetscape and beautification services  97329 non-null   object \n",
            " 20  Planters and hanging baskets maintained                            97329 non-null   float64\n",
            " 21  Tree pits maintained                                               97329 non-null   float64\n",
            " 22  Banners maintained                                                 97329 non-null   float64\n",
            " 23  Public art installations sponsored                                 97329 non-null   float64\n",
            " 24  Street furniture elements maintained                               100000 non-null  int64  \n",
            " 25  Wayfinding elements maintained                                     84631 non-null   object \n",
            " 26  Lighting elements maintained                                       83226 non-null   object \n",
            " 27  Other infrastructure elements maintained                           86113 non-null   object \n",
            " 28  Public spaces maintained                                           84631 non-null   float64\n",
            " 29  Bid has holiday lighting program                                   97329 non-null   object \n",
            " 30  Communication channels used                                        85965 non-null   object \n",
            " 31  Social media followers                                             97329 non-null   float64\n",
            " 32  Marketing materials distributed                                    97329 non-null   float64\n",
            " 33  Public events coordinated                                          97329 non-null   float64\n",
            " 34  Estimated attendees to public events coordinated                   97329 non-null   float64\n",
            " 35  Special event charges                                              99990 non-null   float64\n",
            " 36  Miscellaneous charges                                              99990 non-null   float64\n",
            " 37  Sanitation expenses                                                99990 non-null   float64\n",
            " 38  Public safety expenses                                             99990 non-null   float64\n",
            " 39  Marketing, holiday lighting, and special event expenses            0 non-null       float64\n",
            " 40  Streetscape & beautification expenses                              99990 non-null   float64\n",
            " 41  Salaries                                                           99990 non-null   float64\n",
            " 42  Outside contractor expenses                                        99990 non-null   float64\n",
            " 43  Insurance costs                                                    99990 non-null   float64\n",
            " 44  Rent and utilities                                                 0 non-null       float64\n",
            " 45  Supplies and equipment costs                                       99990 non-null   float64\n",
            " 46  Other G&A expenses                                                 0 non-null       float64\n",
            "dtypes: float64(32), int64(4), object(11)\n",
            "memory usage: 35.9+ MB\n"
          ]
        }
      ],
      "source": [
        "df.info()"
      ]
    },
    {
      "cell_type": "code",
      "execution_count": 9,
      "metadata": {
        "id": "DXIZKjdaUDqO"
      },
      "outputs": [
        {
          "data": {
            "text/plain": "'Crime prevention workshops; Coordination with NYPD'"
          },
          "execution_count": 9,
          "metadata": {},
          "output_type": "execute_result"
        }
      ],
      "source": [
        "df['Duties assigned to public safety personnel'][3000]"
      ]
    },
    {
      "cell_type": "code",
      "execution_count": 10,
      "metadata": {
        "id": "vAS9ygBtcBAO"
      },
      "outputs": [
        {
          "name": "stdout",
          "output_type": "stream",
          "text": [
            "<class 'pandas.core.frame.DataFrame'>\n",
            "RangeIndex: 100000 entries, 0 to 99999\n",
            "Data columns (total 47 columns):\n",
            " #   Column                                                             Non-Null Count   Dtype  \n",
            "---  ------                                                             --------------   -----  \n",
            " 0   index                                                              100000 non-null  int64  \n",
            " 1   company name                                                       100000 non-null  object \n",
            " 2   Floor Size                                                         97329 non-null   float64\n",
            " 3   Full-time staff                                                    97329 non-null   float64\n",
            " 4   Sanitation staff employed                                          97329 non-null   float64\n",
            " 5   Safety Inspector                                                   97329 non-null   float64\n",
            " 6   Part-time staff                                                    97329 non-null   float64\n",
            " 7   Current clients                                                    83270 non-null   float64\n",
            " 8   Bid provides supplemental sanitation services                      97329 non-null   object \n",
            " 9   Types of duties assigned to sanitation workers                     94585 non-null   object \n",
            " 10  Days per week of sanitation services                               100000 non-null  int64  \n",
            " 11  Hours logged by sanitation workers                                 97329 non-null   float64\n",
            " 12  Incidents of graffiti removed                                      100000 non-null  int64  \n",
            " 13  Trash bags collected                                               97329 non-null   float64\n",
            " 14  Trash and recycling receptacles serviced                           97329 non-null   float64\n",
            " 15  Bid provides supplemental public safety services                   97329 non-null   object \n",
            " 16  Duties assigned to public safety personnel                         44990 non-null   object \n",
            " 17  Hours logged by public safety officers                             67622 non-null   float64\n",
            " 18  Interactions with public safety officers                           66200 non-null   float64\n",
            " 19  Bid provides supplemental streetscape and beautification services  97329 non-null   object \n",
            " 20  Planters and hanging baskets maintained                            97329 non-null   float64\n",
            " 21  Tree pits maintained                                               97329 non-null   float64\n",
            " 22  Banners maintained                                                 97329 non-null   float64\n",
            " 23  Public art installations sponsored                                 97329 non-null   float64\n",
            " 24  Street furniture elements maintained                               100000 non-null  int64  \n",
            " 25  Wayfinding elements maintained                                     84631 non-null   object \n",
            " 26  Lighting elements maintained                                       83226 non-null   object \n",
            " 27  Other infrastructure elements maintained                           86113 non-null   object \n",
            " 28  Public spaces maintained                                           84631 non-null   float64\n",
            " 29  Bid has holiday lighting program                                   97329 non-null   object \n",
            " 30  Communication channels used                                        85965 non-null   object \n",
            " 31  Social media followers                                             97329 non-null   float64\n",
            " 32  Marketing materials distributed                                    97329 non-null   float64\n",
            " 33  Public events coordinated                                          97329 non-null   float64\n",
            " 34  Estimated attendees to public events coordinated                   97329 non-null   float64\n",
            " 35  Special event charges                                              99990 non-null   float64\n",
            " 36  Miscellaneous charges                                              99990 non-null   float64\n",
            " 37  Sanitation expenses                                                99990 non-null   float64\n",
            " 38  Public safety expenses                                             99990 non-null   float64\n",
            " 39  Marketing, holiday lighting, and special event expenses            0 non-null       float64\n",
            " 40  Streetscape & beautification expenses                              99990 non-null   float64\n",
            " 41  Salaries                                                           99990 non-null   float64\n",
            " 42  Outside contractor expenses                                        99990 non-null   float64\n",
            " 43  Insurance costs                                                    99990 non-null   float64\n",
            " 44  Rent and utilities                                                 0 non-null       float64\n",
            " 45  Supplies and equipment costs                                       99990 non-null   float64\n",
            " 46  Other G&A expenses                                                 0 non-null       float64\n",
            "dtypes: float64(32), int64(4), object(11)\n",
            "memory usage: 35.9+ MB\n"
          ]
        }
      ],
      "source": [
        "df.info()"
      ]
    },
    {
      "cell_type": "code",
      "execution_count": 11,
      "metadata": {
        "id": "LNKdRGWxtcHb"
      },
      "outputs": [],
      "source": [
        "#Dropping unnecessary columns\n",
        "df.drop(['Marketing, holiday lighting, and special event expenses','Rent and utilities','Other G&A expenses'], axis=1, inplace=True)"
      ]
    },
    {
      "cell_type": "code",
      "execution_count": 12,
      "metadata": {
        "id": "QzbuLJ3EukSs"
      },
      "outputs": [
        {
          "data": {
            "text/plain": "(100000, 44)"
          },
          "execution_count": 12,
          "metadata": {},
          "output_type": "execute_result"
        }
      ],
      "source": [
        "df.shape"
      ]
    },
    {
      "cell_type": "markdown",
      "metadata": {
        "id": "SWlKkQJMZh2P"
      },
      "source": [
        "Now we shall replace all \"$\" signs in the columns to a null value"
      ]
    },
    {
      "cell_type": "code",
      "execution_count": 13,
      "metadata": {
        "id": "BMyfR-Hlk_EC"
      },
      "outputs": [
        {
          "data": {
            "text/html": "<div>\n<style scoped>\n    .dataframe tbody tr th:only-of-type {\n        vertical-align: middle;\n    }\n\n    .dataframe tbody tr th {\n        vertical-align: top;\n    }\n\n    .dataframe thead th {\n        text-align: right;\n    }\n</style>\n<table border=\"1\" class=\"dataframe\">\n  <thead>\n    <tr style=\"text-align: right;\">\n      <th></th>\n      <th>index</th>\n      <th>company name</th>\n      <th>Floor Size</th>\n      <th>Full-time staff</th>\n      <th>Sanitation staff employed</th>\n      <th>Safety Inspector</th>\n      <th>Part-time staff</th>\n      <th>Current clients</th>\n      <th>Bid provides supplemental sanitation services</th>\n      <th>Types of duties assigned to sanitation workers</th>\n      <th>...</th>\n      <th>Estimated attendees to public events coordinated</th>\n      <th>Special event charges</th>\n      <th>Miscellaneous charges</th>\n      <th>Sanitation expenses</th>\n      <th>Public safety expenses</th>\n      <th>Streetscape &amp; beautification expenses</th>\n      <th>Salaries</th>\n      <th>Outside contractor expenses</th>\n      <th>Insurance costs</th>\n      <th>Supplies and equipment costs</th>\n    </tr>\n  </thead>\n  <tbody>\n    <tr>\n      <th>0</th>\n      <td>1</td>\n      <td>General Consulting Research</td>\n      <td>5220.0</td>\n      <td>1.0</td>\n      <td>31.0</td>\n      <td>9.0</td>\n      <td>9.0</td>\n      <td>145.0</td>\n      <td>Yes</td>\n      <td>Street Sweeping and Bagging; Snow and Ice Remo...</td>\n      <td>...</td>\n      <td>198647.0</td>\n      <td>360146.0</td>\n      <td>16591.0</td>\n      <td>76277.0</td>\n      <td>40756.0</td>\n      <td>39202.0</td>\n      <td>194141.0</td>\n      <td>101399.0</td>\n      <td>2035.0</td>\n      <td>3749.0</td>\n    </tr>\n  </tbody>\n</table>\n<p>1 rows × 44 columns</p>\n</div>",
            "text/plain": "   index                 company name  Floor Size  Full-time staff  \\\n0      1  General Consulting Research      5220.0              1.0   \n\n   Sanitation staff employed  Safety Inspector  Part-time staff  \\\n0                       31.0               9.0              9.0   \n\n   Current clients Bid provides supplemental sanitation services  \\\n0            145.0                                           Yes   \n\n      Types of duties assigned to sanitation workers  ...  \\\n0  Street Sweeping and Bagging; Snow and Ice Remo...  ...   \n\n   Estimated attendees to public events coordinated  Special event charges  \\\n0                                          198647.0               360146.0   \n\n   Miscellaneous charges  Sanitation expenses  Public safety expenses  \\\n0                16591.0              76277.0                 40756.0   \n\n  Streetscape & beautification expenses  Salaries  \\\n0                               39202.0  194141.0   \n\n   Outside contractor expenses  Insurance costs Supplies and equipment costs  \n0                     101399.0           2035.0                       3749.0  \n\n[1 rows x 44 columns]"
          },
          "execution_count": 13,
          "metadata": {},
          "output_type": "execute_result"
        }
      ],
      "source": [
        "#Dropping unnecessary columns\n",
        "df.head(1)"
      ]
    },
    {
      "cell_type": "code",
      "execution_count": 14,
      "metadata": {
        "id": "K15fEcFJlq-w"
      },
      "outputs": [
        {
          "data": {
            "text/plain": "(100000, 44)"
          },
          "execution_count": 14,
          "metadata": {},
          "output_type": "execute_result"
        }
      ],
      "source": [
        "df.shape"
      ]
    },
    {
      "cell_type": "code",
      "execution_count": 15,
      "metadata": {
        "id": "fNOAH3F8dD_x"
      },
      "outputs": [
        {
          "data": {
            "text/html": "<div>\n<style scoped>\n    .dataframe tbody tr th:only-of-type {\n        vertical-align: middle;\n    }\n\n    .dataframe tbody tr th {\n        vertical-align: top;\n    }\n\n    .dataframe thead th {\n        text-align: right;\n    }\n</style>\n<table border=\"1\" class=\"dataframe\">\n  <thead>\n    <tr style=\"text-align: right;\">\n      <th></th>\n      <th>index</th>\n      <th>company name</th>\n      <th>Floor Size</th>\n      <th>Full-time staff</th>\n      <th>Sanitation staff employed</th>\n      <th>Safety Inspector</th>\n      <th>Part-time staff</th>\n      <th>Current clients</th>\n      <th>Bid provides supplemental sanitation services</th>\n      <th>Types of duties assigned to sanitation workers</th>\n      <th>...</th>\n      <th>Estimated attendees to public events coordinated</th>\n      <th>Special event charges</th>\n      <th>Miscellaneous charges</th>\n      <th>Sanitation expenses</th>\n      <th>Public safety expenses</th>\n      <th>Streetscape &amp; beautification expenses</th>\n      <th>Salaries</th>\n      <th>Outside contractor expenses</th>\n      <th>Insurance costs</th>\n      <th>Supplies and equipment costs</th>\n    </tr>\n  </thead>\n  <tbody>\n    <tr>\n      <th>0</th>\n      <td>1</td>\n      <td>General Consulting Research</td>\n      <td>5220.0</td>\n      <td>1.0</td>\n      <td>31.0</td>\n      <td>9.0</td>\n      <td>9.0</td>\n      <td>145.0</td>\n      <td>Yes</td>\n      <td>Street Sweeping and Bagging; Snow and Ice Remo...</td>\n      <td>...</td>\n      <td>198647.0</td>\n      <td>360146.0</td>\n      <td>16591.0</td>\n      <td>76277.0</td>\n      <td>40756.0</td>\n      <td>39202.0</td>\n      <td>194141.0</td>\n      <td>101399.0</td>\n      <td>2035.0</td>\n      <td>3749.0</td>\n    </tr>\n  </tbody>\n</table>\n<p>1 rows × 44 columns</p>\n</div>",
            "text/plain": "   index                 company name  Floor Size  Full-time staff  \\\n0      1  General Consulting Research      5220.0              1.0   \n\n   Sanitation staff employed  Safety Inspector  Part-time staff  \\\n0                       31.0               9.0              9.0   \n\n   Current clients Bid provides supplemental sanitation services  \\\n0            145.0                                           Yes   \n\n      Types of duties assigned to sanitation workers  ...  \\\n0  Street Sweeping and Bagging; Snow and Ice Remo...  ...   \n\n   Estimated attendees to public events coordinated  Special event charges  \\\n0                                          198647.0               360146.0   \n\n   Miscellaneous charges  Sanitation expenses  Public safety expenses  \\\n0                16591.0              76277.0                 40756.0   \n\n  Streetscape & beautification expenses  Salaries  \\\n0                               39202.0  194141.0   \n\n   Outside contractor expenses  Insurance costs Supplies and equipment costs  \n0                     101399.0           2035.0                       3749.0  \n\n[1 rows x 44 columns]"
          },
          "execution_count": 15,
          "metadata": {},
          "output_type": "execute_result"
        }
      ],
      "source": [
        "df.head(1)"
      ]
    },
    {
      "cell_type": "markdown",
      "metadata": {
        "id": "wkqEgcQuESYs"
      },
      "source": [
        "Replacing all \",\" by \"\" and all NaN values by 0<br>\r\n",
        "Would be required for adding the total sum later"
      ]
    },
    {
      "cell_type": "code",
      "execution_count": 16,
      "metadata": {
        "id": "giBSi4corojR"
      },
      "outputs": [],
      "source": [
        "\r\n",
        "df['Miscellaneous charges'] = df['Miscellaneous charges'].fillna(\"0\")\r\n",
        "df['Sanitation expenses'] = df['Sanitation expenses'].fillna(\"0\")\r\n",
        "df['Public safety expenses'] = df['Public safety expenses'].fillna(\"0\")\r\n",
        "df['Streetscape & beautification expenses'] = df['Streetscape & beautification expenses'].fillna(\"0\")\r\n",
        "df['Salaries'] = df['Salaries'].fillna(\"0\")\r\n",
        "df['Outside contractor expenses'] = df['Outside contractor expenses'].fillna(\"0\")\r\n",
        "df['Insurance costs'] = df['Insurance costs'].fillna(\"0\")\r\n",
        "df['Supplies and equipment costs'] = df['Supplies and equipment costs'].fillna(\"0\")"
      ]
    },
    {
      "cell_type": "code",
      "execution_count": 17,
      "metadata": {
        "id": "5tPtvYd9_wVH"
      },
      "outputs": [
        {
          "data": {
            "text/plain": "0         16591\n1         68277\n2         71153\n3         14927\n4         61766\n          ...  \n99995     36677\n99996    114142\n99997      7268\n99998     16627\n99999    114120\nName: Miscellaneous charges, Length: 100000, dtype: object"
          },
          "execution_count": 17,
          "metadata": {},
          "output_type": "execute_result"
        }
      ],
      "source": [
        "df['Miscellaneous charges']"
      ]
    },
    {
      "cell_type": "code",
      "execution_count": 18,
      "metadata": {
        "id": "JnccDymdBJmh"
      },
      "outputs": [
        {
          "data": {
            "text/plain": "0         40756\n1        169071\n2          9179\n3        293670\n4        320711\n          ...  \n99995    337186\n99996     87074\n99997     13808\n99998     40779\n99999     87125\nName: Public safety expenses, Length: 100000, dtype: object"
          },
          "execution_count": 18,
          "metadata": {},
          "output_type": "execute_result"
        }
      ],
      "source": [
        "df['Public safety expenses']"
      ]
    },
    {
      "cell_type": "code",
      "execution_count": 19,
      "metadata": {
        "id": "66pb-CYGWINR"
      },
      "outputs": [
        {
          "data": {
            "text/plain": "0         172826\n1         499849\n2         207742\n3        1070827\n4         779014\n          ...   \n99995     626047\n99996     927299\n99997     700027\n99998     172909\n99999     927340\nName: Total Quotation, Length: 100000, dtype: int32"
          },
          "execution_count": 19,
          "metadata": {},
          "output_type": "execute_result"
        }
      ],
      "source": [
        "df['Total Quotation'] = df['Miscellaneous charges'].astype(\"int\") + df['Public safety expenses'].astype(\"int\") +  df['Sanitation expenses'].astype(\"int\") + df['Streetscape & beautification expenses'].astype(\"int\") \n",
        "+ df['Salaries'].astype(\"int\") + df['Outside contractor expenses'].astype(\"int\") + df['Insurance costs'].astype(\"int\") +  df['Supplies and equipment costs'].astype(\"int\")\n",
        "df['Total Quotation']\n",
        "#Streetscape & beautification expenses   Outside contractor expenses     \n"
      ]
    },
    {
      "cell_type": "code",
      "execution_count": 20,
      "metadata": {
        "id": "vG7YPR6CEEAU"
      },
      "outputs": [
        {
          "name": "stdout",
          "output_type": "stream",
          "text": [
            "<class 'pandas.core.frame.DataFrame'>\n",
            "RangeIndex: 100000 entries, 0 to 99999\n",
            "Data columns (total 45 columns):\n",
            " #   Column                                                             Non-Null Count   Dtype  \n",
            "---  ------                                                             --------------   -----  \n",
            " 0   index                                                              100000 non-null  int64  \n",
            " 1   company name                                                       100000 non-null  object \n",
            " 2   Floor Size                                                         97329 non-null   float64\n",
            " 3   Full-time staff                                                    97329 non-null   float64\n",
            " 4   Sanitation staff employed                                          97329 non-null   float64\n",
            " 5   Safety Inspector                                                   97329 non-null   float64\n",
            " 6   Part-time staff                                                    97329 non-null   float64\n",
            " 7   Current clients                                                    83270 non-null   float64\n",
            " 8   Bid provides supplemental sanitation services                      97329 non-null   object \n",
            " 9   Types of duties assigned to sanitation workers                     94585 non-null   object \n",
            " 10  Days per week of sanitation services                               100000 non-null  int64  \n",
            " 11  Hours logged by sanitation workers                                 97329 non-null   float64\n",
            " 12  Incidents of graffiti removed                                      100000 non-null  int64  \n",
            " 13  Trash bags collected                                               97329 non-null   float64\n",
            " 14  Trash and recycling receptacles serviced                           97329 non-null   float64\n",
            " 15  Bid provides supplemental public safety services                   97329 non-null   object \n",
            " 16  Duties assigned to public safety personnel                         44990 non-null   object \n",
            " 17  Hours logged by public safety officers                             67622 non-null   float64\n",
            " 18  Interactions with public safety officers                           66200 non-null   float64\n",
            " 19  Bid provides supplemental streetscape and beautification services  97329 non-null   object \n",
            " 20  Planters and hanging baskets maintained                            97329 non-null   float64\n",
            " 21  Tree pits maintained                                               97329 non-null   float64\n",
            " 22  Banners maintained                                                 97329 non-null   float64\n",
            " 23  Public art installations sponsored                                 97329 non-null   float64\n",
            " 24  Street furniture elements maintained                               100000 non-null  int64  \n",
            " 25  Wayfinding elements maintained                                     84631 non-null   object \n",
            " 26  Lighting elements maintained                                       83226 non-null   object \n",
            " 27  Other infrastructure elements maintained                           86113 non-null   object \n",
            " 28  Public spaces maintained                                           84631 non-null   float64\n",
            " 29  Bid has holiday lighting program                                   97329 non-null   object \n",
            " 30  Communication channels used                                        85965 non-null   object \n",
            " 31  Social media followers                                             97329 non-null   float64\n",
            " 32  Marketing materials distributed                                    97329 non-null   float64\n",
            " 33  Public events coordinated                                          97329 non-null   float64\n",
            " 34  Estimated attendees to public events coordinated                   97329 non-null   float64\n",
            " 35  Special event charges                                              99990 non-null   float64\n",
            " 36  Miscellaneous charges                                              100000 non-null  object \n",
            " 37  Sanitation expenses                                                100000 non-null  object \n",
            " 38  Public safety expenses                                             100000 non-null  object \n",
            " 39  Streetscape & beautification expenses                              100000 non-null  object \n",
            " 40  Salaries                                                           100000 non-null  object \n",
            " 41  Outside contractor expenses                                        100000 non-null  object \n",
            " 42  Insurance costs                                                    100000 non-null  object \n",
            " 43  Supplies and equipment costs                                       100000 non-null  object \n",
            " 44  Total Quotation                                                    100000 non-null  int32  \n",
            "dtypes: float64(21), int32(1), int64(4), object(19)\n",
            "memory usage: 34.0+ MB\n"
          ]
        }
      ],
      "source": [
        "df.info()"
      ]
    },
    {
      "cell_type": "markdown",
      "metadata": {
        "id": "mL1FT4PkFlm0"
      },
      "source": [
        "Removing unnecessary attributes and merging some attributes"
      ]
    },
    {
      "cell_type": "code",
      "execution_count": 21,
      "metadata": {
        "id": "C6L9yXWWG4vx"
      },
      "outputs": [],
      "source": [
        "df.drop(['Types of duties assigned to sanitation workers','Duties assigned to public safety personnel'],axis=1,inplace=True)"
      ]
    },
    {
      "cell_type": "code",
      "execution_count": 22,
      "metadata": {
        "id": "0Q8X-t8dHFgJ"
      },
      "outputs": [],
      "source": [
        "\r\n",
        "df['Incidents of graffiti removed'] = df['Incidents of graffiti removed'].fillna(\"0\")"
      ]
    },
    {
      "cell_type": "code",
      "execution_count": 23,
      "metadata": {
        "id": "a07ygxd0HgKS"
      },
      "outputs": [],
      "source": [
        "df['Number_Of_Sanitation_Activities'] = df['Incidents of graffiti removed'].astype(\"float\") + df['Trash bags collected'] + df['Trash and recycling receptacles serviced']"
      ]
    },
    {
      "cell_type": "code",
      "execution_count": 24,
      "metadata": {
        "id": "fLJPOnRhHu6i"
      },
      "outputs": [],
      "source": [
        "df.drop(['Incidents of graffiti removed','Trash bags collected','Trash and recycling receptacles serviced'],axis=1,inplace=True)"
      ]
    },
    {
      "cell_type": "code",
      "execution_count": 25,
      "metadata": {
        "id": "ELyZZSFrI7pN"
      },
      "outputs": [],
      "source": [
        "df['Street furniture elements maintained'] = df['Street furniture elements maintained'].fillna(\"0\")\n",
        "df['Wayfinding elements maintained'] = df['Wayfinding elements maintained'].fillna(\"0\")\n",
        "df['Lighting elements maintained'] = df['Lighting elements maintained'].fillna(\"0\")\n",
        "df['Other infrastructure elements maintained'] = df['Other infrastructure elements maintained'].fillna(\"0\")\n"
      ]
    },
    {
      "cell_type": "code",
      "execution_count": 26,
      "metadata": {
        "id": "0XBBQDc9K85c"
      },
      "outputs": [
        {
          "data": {
            "text/plain": "index                                                                  int64\ncompany name                                                          object\nFloor Size                                                           float64\nFull-time staff                                                      float64\nSanitation staff employed                                            float64\nSafety Inspector                                                     float64\nPart-time staff                                                      float64\nCurrent clients                                                      float64\nBid provides supplemental sanitation services                         object\nDays per week of sanitation services                                   int64\nHours logged by sanitation workers                                   float64\nBid provides supplemental public safety services                      object\nHours logged by public safety officers                               float64\nInteractions with public safety officers                             float64\nBid provides supplemental streetscape and beautification services     object\nPlanters and hanging baskets maintained                              float64\nTree pits maintained                                                 float64\nBanners maintained                                                   float64\nPublic art installations sponsored                                   float64\nStreet furniture elements maintained                                   int64\nWayfinding elements maintained                                        object\nLighting elements maintained                                          object\nOther infrastructure elements maintained                              object\nPublic spaces maintained                                             float64\nBid has holiday lighting program                                      object\nCommunication channels used                                           object\nSocial media followers                                               float64\nMarketing materials distributed                                      float64\nPublic events coordinated                                            float64\nEstimated attendees to public events coordinated                     float64\nSpecial event charges                                                float64\nMiscellaneous charges                                                 object\nSanitation expenses                                                   object\nPublic safety expenses                                                object\nStreetscape & beautification expenses                                 object\nSalaries                                                              object\nOutside contractor expenses                                           object\nInsurance costs                                                       object\nSupplies and equipment costs                                          object\nTotal Quotation                                                        int32\nNumber_Of_Sanitation_Activities                                      float64\ndtype: object"
          },
          "execution_count": 26,
          "metadata": {},
          "output_type": "execute_result"
        }
      ],
      "source": [
        "df.dtypes"
      ]
    },
    {
      "cell_type": "code",
      "execution_count": 27,
      "metadata": {
        "id": "HTJuBK2bH5tr"
      },
      "outputs": [
        {
          "data": {
            "text/plain": "0         573.0\n1         558.0\n2         985.0\n3         617.0\n4         904.0\n          ...  \n99995     368.0\n99996     953.0\n99997     635.0\n99998     516.0\n99999    1071.0\nName: Beautification_Activities, Length: 100000, dtype: float64"
          },
          "execution_count": 27,
          "metadata": {},
          "output_type": "execute_result"
        }
      ],
      "source": [
        "df['Beautification_Activities'] = df['Planters and hanging baskets maintained'] + df['Tree pits maintained'] + df['Banners maintained'] + df['Public art installations sponsored'] \n",
        "+ df['Street furniture elements maintained']\n",
        "+ df['Wayfinding elements maintained']\n",
        "+ df['Lighting elements maintained']\n",
        "+ df['Public spaces maintained']\n",
        "\n",
        "df['Beautification_Activities']"
      ]
    },
    {
      "cell_type": "code",
      "execution_count": 28,
      "metadata": {
        "id": "rN4GRWFZLjbP"
      },
      "outputs": [],
      "source": [
        "df.drop(['Planters and hanging baskets maintained','Tree pits maintained','Banners maintained','Public art installations sponsored','Street furniture elements maintained','Wayfinding elements maintained','Lighting elements maintained','Other infrastructure elements maintained','Public spaces maintained'],axis=1,inplace=True)"
      ]
    },
    {
      "cell_type": "code",
      "execution_count": 29,
      "metadata": {
        "id": "tDTdY40NGQOr"
      },
      "outputs": [
        {
          "data": {
            "text/plain": "(100000, 33)"
          },
          "execution_count": 29,
          "metadata": {},
          "output_type": "execute_result"
        }
      ],
      "source": [
        "df.shape"
      ]
    },
    {
      "cell_type": "code",
      "execution_count": 30,
      "metadata": {
        "id": "pJlAXh5GMD6U"
      },
      "outputs": [
        {
          "data": {
            "text/plain": "0        False\n1        False\n2        False\n3        False\n4        False\n         ...  \n99995    False\n99996    False\n99997    False\n99998    False\n99999    False\nName: Beautification_Activities, Length: 100000, dtype: bool"
          },
          "execution_count": 30,
          "metadata": {},
          "output_type": "execute_result"
        }
      ],
      "source": [
        "df['Beautification_Activities'].isnull()"
      ]
    },
    {
      "cell_type": "code",
      "execution_count": 31,
      "metadata": {
        "id": "7-x3vX7kMefO"
      },
      "outputs": [],
      "source": [
        "df['Media_Reach'] = df['Social media followers'] + df['Marketing materials distributed'] + (df['Public events coordinated']*df['Estimated attendees to public events coordinated']) "
      ]
    },
    {
      "cell_type": "code",
      "execution_count": 32,
      "metadata": {
        "id": "WI6cdORYMq_e"
      },
      "outputs": [],
      "source": [
        "df.drop(['Social media followers','Marketing materials distributed','Public events coordinated','Estimated attendees to public events coordinated'],axis=1,inplace=True)"
      ]
    },
    {
      "cell_type": "code",
      "execution_count": 33,
      "metadata": {
        "id": "8BDqq0jh2uUP"
      },
      "outputs": [],
      "source": [
        "df.drop(['index'],inplace=True, axis=1)"
      ]
    },
    {
      "cell_type": "code",
      "execution_count": 34,
      "metadata": {
        "id": "equi3REA4KLo"
      },
      "outputs": [
        {
          "data": {
            "text/plain": "company name                                                          object\nFloor Size                                                           float64\nFull-time staff                                                      float64\nSanitation staff employed                                            float64\nSafety Inspector                                                     float64\nPart-time staff                                                      float64\nCurrent clients                                                      float64\nBid provides supplemental sanitation services                         object\nDays per week of sanitation services                                   int64\nHours logged by sanitation workers                                   float64\nBid provides supplemental public safety services                      object\nHours logged by public safety officers                               float64\nInteractions with public safety officers                             float64\nBid provides supplemental streetscape and beautification services     object\nBid has holiday lighting program                                      object\nCommunication channels used                                           object\nSpecial event charges                                                float64\nMiscellaneous charges                                                 object\nSanitation expenses                                                   object\nPublic safety expenses                                                object\nStreetscape & beautification expenses                                 object\nSalaries                                                              object\nOutside contractor expenses                                           object\nInsurance costs                                                       object\nSupplies and equipment costs                                          object\nTotal Quotation                                                        int32\nNumber_Of_Sanitation_Activities                                      float64\nBeautification_Activities                                            float64\nMedia_Reach                                                          float64\ndtype: object"
          },
          "execution_count": 34,
          "metadata": {},
          "output_type": "execute_result"
        }
      ],
      "source": [
        "df.dtypes"
      ]
    },
    {
      "cell_type": "code",
      "execution_count": 35,
      "metadata": {
        "id": "ICyVKwmQ6G6X"
      },
      "outputs": [],
      "source": [
        "df.drop(['Full-time staff'], inplace=True, axis=1)"
      ]
    },
    {
      "cell_type": "code",
      "execution_count": 36,
      "metadata": {
        "id": "Zx2FsFbs3Hj-"
      },
      "outputs": [],
      "source": [
        "df['Total_Staff'] = df['Sanitation staff employed'] + df['Safety Inspector'] + df['Part-time staff']"
      ]
    },
    {
      "cell_type": "code",
      "execution_count": 37,
      "metadata": {
        "id": "h8Z9L-wN8SXf"
      },
      "outputs": [],
      "source": [
        "df.drop(['Sanitation staff employed','Safety Inspector','Part-time staff'], axis=1, inplace=True)"
      ]
    },
    {
      "cell_type": "code",
      "execution_count": 38,
      "metadata": {
        "id": "7J-hBc0X8gu6"
      },
      "outputs": [
        {
          "data": {
            "text/plain": "(100000, 26)"
          },
          "execution_count": 38,
          "metadata": {},
          "output_type": "execute_result"
        }
      ],
      "source": [
        "df.shape"
      ]
    },
    {
      "cell_type": "code",
      "execution_count": 39,
      "metadata": {
        "id": "oqt2KTtzNIXT"
      },
      "outputs": [
        {
          "data": {
            "text/plain": "<matplotlib.axes._subplots.AxesSubplot at 0x21549d946a0>"
          },
          "execution_count": 39,
          "metadata": {},
          "output_type": "execute_result"
        },
        {
          "data": {
            "image/png": "[encoded data removed]",
            "text/plain": "<Figure size 432x288 with 2 Axes>"
          },
          "metadata": {
            "needs_background": "light",
            "transient": {}
          },
          "output_type": "display_data"
        }
      ],
      "source": [
        "import seaborn as sns\n",
        "a = df.corr()\n",
        "sns.heatmap(a)"
      ]
    },
    {
      "cell_type": "markdown",
      "metadata": {
        "id": "hP7Z8ZQLYFj7"
      },
      "source": [
        "**2. Modelling**"
      ]
    },
    {
      "cell_type": "code",
      "execution_count": 40,
      "metadata": {
        "id": "qgHOnB5t_FUo"
      },
      "outputs": [
        {
          "data": {
            "text/plain": "(100000, 26)"
          },
          "execution_count": 40,
          "metadata": {},
          "output_type": "execute_result"
        }
      ],
      "source": [
        "df.shape"
      ]
    },
    {
      "cell_type": "code",
      "execution_count": 41,
      "metadata": {
        "id": "da_JhN24BH6z"
      },
      "outputs": [
        {
          "data": {
            "text/plain": "company name                                                          object\nFloor Size                                                           float64\nCurrent clients                                                      float64\nBid provides supplemental sanitation services                         object\nDays per week of sanitation services                                   int64\nHours logged by sanitation workers                                   float64\nBid provides supplemental public safety services                      object\nHours logged by public safety officers                               float64\nInteractions with public safety officers                             float64\nBid provides supplemental streetscape and beautification services     object\nBid has holiday lighting program                                      object\nCommunication channels used                                           object\nSpecial event charges                                                float64\nMiscellaneous charges                                                 object\nSanitation expenses                                                   object\nPublic safety expenses                                                object\nStreetscape & beautification expenses                                 object\nSalaries                                                              object\nOutside contractor expenses                                           object\nInsurance costs                                                       object\nSupplies and equipment costs                                          object\nTotal Quotation                                                        int32\nNumber_Of_Sanitation_Activities                                      float64\nBeautification_Activities                                            float64\nMedia_Reach                                                          float64\nTotal_Staff                                                          float64\ndtype: object"
          },
          "execution_count": 41,
          "metadata": {},
          "output_type": "execute_result"
        }
      ],
      "source": [
        "df.dtypes"
      ]
    },
    {
      "cell_type": "code",
      "execution_count": 42,
      "metadata": {
        "id": "WZsOpfpQBV_1"
      },
      "outputs": [
        {
          "data": {
            "text/html": "<div>\n<style scoped>\n    .dataframe tbody tr th:only-of-type {\n        vertical-align: middle;\n    }\n\n    .dataframe tbody tr th {\n        vertical-align: top;\n    }\n\n    .dataframe thead th {\n        text-align: right;\n    }\n</style>\n<table border=\"1\" class=\"dataframe\">\n  <thead>\n    <tr style=\"text-align: right;\">\n      <th></th>\n      <th>company name</th>\n      <th>Floor Size</th>\n      <th>Current clients</th>\n      <th>Bid provides supplemental sanitation services</th>\n      <th>Days per week of sanitation services</th>\n      <th>Hours logged by sanitation workers</th>\n      <th>Bid provides supplemental public safety services</th>\n      <th>Hours logged by public safety officers</th>\n      <th>Interactions with public safety officers</th>\n      <th>Bid provides supplemental streetscape and beautification services</th>\n      <th>...</th>\n      <th>Streetscape &amp; beautification expenses</th>\n      <th>Salaries</th>\n      <th>Outside contractor expenses</th>\n      <th>Insurance costs</th>\n      <th>Supplies and equipment costs</th>\n      <th>Total Quotation</th>\n      <th>Number_Of_Sanitation_Activities</th>\n      <th>Beautification_Activities</th>\n      <th>Media_Reach</th>\n      <th>Total_Staff</th>\n    </tr>\n  </thead>\n  <tbody>\n    <tr>\n      <th>0</th>\n      <td>General Consulting Research</td>\n      <td>5220.0</td>\n      <td>145.0</td>\n      <td>Yes</td>\n      <td>7</td>\n      <td>61051.0</td>\n      <td>No</td>\n      <td>24732.0</td>\n      <td>NaN</td>\n      <td>Yes</td>\n      <td>...</td>\n      <td>39202</td>\n      <td>194141</td>\n      <td>101399</td>\n      <td>2035</td>\n      <td>3749</td>\n      <td>172826</td>\n      <td>89961.0</td>\n      <td>573.0</td>\n      <td>3031529.0</td>\n      <td>49.0</td>\n    </tr>\n    <tr>\n      <th>1</th>\n      <td>Analysis Analysis</td>\n      <td>1740.0</td>\n      <td>168.0</td>\n      <td>Yes</td>\n      <td>7</td>\n      <td>22166.0</td>\n      <td>Yes</td>\n      <td>68063.0</td>\n      <td>99101.0</td>\n      <td>Yes</td>\n      <td>...</td>\n      <td>180065</td>\n      <td>425466</td>\n      <td>72166</td>\n      <td>70631</td>\n      <td>14730</td>\n      <td>499849</td>\n      <td>194267.0</td>\n      <td>558.0</td>\n      <td>20052785.0</td>\n      <td>127.0</td>\n    </tr>\n    <tr>\n      <th>2</th>\n      <td>Federated Consulting Analysis</td>\n      <td>8150.0</td>\n      <td>42.0</td>\n      <td>No</td>\n      <td>7</td>\n      <td>139371.0</td>\n      <td>Yes</td>\n      <td>86605.0</td>\n      <td>37825.0</td>\n      <td>No</td>\n      <td>...</td>\n      <td>44974</td>\n      <td>745962</td>\n      <td>141833</td>\n      <td>68790</td>\n      <td>19293</td>\n      <td>207742</td>\n      <td>61961.0</td>\n      <td>985.0</td>\n      <td>35932251.0</td>\n      <td>22.0</td>\n    </tr>\n    <tr>\n      <th>3</th>\n      <td>Atlantic Max North</td>\n      <td>41110.0</td>\n      <td>NaN</td>\n      <td>Yes</td>\n      <td>7</td>\n      <td>24475.0</td>\n      <td>Yes</td>\n      <td>31890.0</td>\n      <td>118658.0</td>\n      <td>Yes</td>\n      <td>...</td>\n      <td>187628</td>\n      <td>1.18901e+06</td>\n      <td>72668</td>\n      <td>75686</td>\n      <td>13038</td>\n      <td>1070827</td>\n      <td>146747.0</td>\n      <td>617.0</td>\n      <td>48275471.0</td>\n      <td>36.0</td>\n    </tr>\n  </tbody>\n</table>\n<p>4 rows × 26 columns</p>\n</div>",
            "text/plain": "                    company name  Floor Size  Current clients  \\\n0    General Consulting Research      5220.0            145.0   \n1              Analysis Analysis      1740.0            168.0   \n2  Federated Consulting Analysis      8150.0             42.0   \n3             Atlantic Max North     41110.0              NaN   \n\n  Bid provides supplemental sanitation services  \\\n0                                           Yes   \n1                                           Yes   \n2                                            No   \n3                                           Yes   \n\n   Days per week of sanitation services  Hours logged by sanitation workers  \\\n0                                     7                             61051.0   \n1                                     7                             22166.0   \n2                                     7                            139371.0   \n3                                     7                             24475.0   \n\n  Bid provides supplemental public safety services  \\\n0                                               No   \n1                                              Yes   \n2                                              Yes   \n3                                              Yes   \n\n   Hours logged by public safety officers  \\\n0                                 24732.0   \n1                                 68063.0   \n2                                 86605.0   \n3                                 31890.0   \n\n   Interactions with public safety officers  \\\n0                                       NaN   \n1                                   99101.0   \n2                                   37825.0   \n3                                  118658.0   \n\n  Bid provides supplemental streetscape and beautification services  ...  \\\n0                                                Yes                 ...   \n1                                                Yes                 ...   \n2                                                 No                 ...   \n3                                                Yes                 ...   \n\n  Streetscape & beautification expenses     Salaries  \\\n0                                 39202       194141   \n1                                180065       425466   \n2                                 44974       745962   \n3                                187628  1.18901e+06   \n\n   Outside contractor expenses Insurance costs Supplies and equipment costs  \\\n0                       101399            2035                         3749   \n1                        72166           70631                        14730   \n2                       141833           68790                        19293   \n3                        72668           75686                        13038   \n\n  Total Quotation Number_Of_Sanitation_Activities Beautification_Activities  \\\n0          172826                         89961.0                     573.0   \n1          499849                        194267.0                     558.0   \n2          207742                         61961.0                     985.0   \n3         1070827                        146747.0                     617.0   \n\n  Media_Reach Total_Staff  \n0   3031529.0        49.0  \n1  20052785.0       127.0  \n2  35932251.0        22.0  \n3  48275471.0        36.0  \n\n[4 rows x 26 columns]"
          },
          "execution_count": 42,
          "metadata": {},
          "output_type": "execute_result"
        }
      ],
      "source": [
        "df.head(4)"
      ]
    },
    {
      "cell_type": "code",
      "execution_count": 43,
      "metadata": {
        "id": "djkm82pEfuc-"
      },
      "outputs": [
        {
          "data": {
            "text/plain": "0        24732.0\n1        68063.0\n2        86605.0\n3        31890.0\n4        73549.0\n          ...   \n99995        NaN\n99996        NaN\n99997        NaN\n99998    37113.0\n99999        NaN\nName: Hours logged by public safety officers, Length: 100000, dtype: float64"
          },
          "execution_count": 43,
          "metadata": {},
          "output_type": "execute_result"
        }
      ],
      "source": [
        "pd.to_numeric(df['Hours logged by public safety officers'])"
      ]
    },
    {
      "cell_type": "markdown",
      "metadata": {
        "id": "1_zijgyNCvFc"
      },
      "source": []
    },
    {
      "cell_type": "code",
      "execution_count": 44,
      "metadata": {
        "id": "KOxggxs6FZSI"
      },
      "outputs": [],
      "source": [
        "# Bid provides supplemental sanitation services --> Sanitation_services_provided\n",
        "#Bid provides supplemental streetscape and beautification services   --->  beautification_services_provided\n",
        "#Bid has holiday lighting program   ---> Holiday_program\n",
        "\n",
        "df['Bid provides supplemental sanitation services'] = df.rename(columns={'Bid provides supplemental sanitation services': 'Sanitation_services_provided'}, inplace=True) \n",
        "df['Bid provides supplemental streetscape and beautification services'] = df.rename(columns={'Bid provides supplemental streetscape and beautification services': 'Beautification_services_provided'}, inplace=True)\n",
        "df['Bid has holiday lighting program'] = df.rename(columns={'Bid has holiday lighting program':'Holiday_program'}, inplace=True)"
      ]
    },
    {
      "cell_type": "code",
      "execution_count": 45,
      "metadata": {
        "id": "ljjHeGPqSish"
      },
      "outputs": [],
      "source": [
        "df.drop(['Bid provides supplemental sanitation services','Bid provides supplemental streetscape and beautification services','Bid has holiday lighting program'], inplace=True, axis=1)"
      ]
    },
    {
      "cell_type": "code",
      "execution_count": 46,
      "metadata": {
        "id": "KUEgVw76JkYo"
      },
      "outputs": [
        {
          "data": {
            "text/html": "<div>\n<style scoped>\n    .dataframe tbody tr th:only-of-type {\n        vertical-align: middle;\n    }\n\n    .dataframe tbody tr th {\n        vertical-align: top;\n    }\n\n    .dataframe thead th {\n        text-align: right;\n    }\n</style>\n<table border=\"1\" class=\"dataframe\">\n  <thead>\n    <tr style=\"text-align: right;\">\n      <th></th>\n      <th>company name</th>\n      <th>Floor Size</th>\n      <th>Current clients</th>\n      <th>Sanitation_services_provided</th>\n      <th>Days per week of sanitation services</th>\n      <th>Hours logged by sanitation workers</th>\n      <th>Bid provides supplemental public safety services</th>\n      <th>Hours logged by public safety officers</th>\n      <th>Interactions with public safety officers</th>\n      <th>Beautification_services_provided</th>\n      <th>...</th>\n      <th>Streetscape &amp; beautification expenses</th>\n      <th>Salaries</th>\n      <th>Outside contractor expenses</th>\n      <th>Insurance costs</th>\n      <th>Supplies and equipment costs</th>\n      <th>Total Quotation</th>\n      <th>Number_Of_Sanitation_Activities</th>\n      <th>Beautification_Activities</th>\n      <th>Media_Reach</th>\n      <th>Total_Staff</th>\n    </tr>\n  </thead>\n  <tbody>\n    <tr>\n      <th>0</th>\n      <td>General Consulting Research</td>\n      <td>5220.0</td>\n      <td>145.0</td>\n      <td>Yes</td>\n      <td>7</td>\n      <td>61051.0</td>\n      <td>No</td>\n      <td>24732.0</td>\n      <td>NaN</td>\n      <td>Yes</td>\n      <td>...</td>\n      <td>39202</td>\n      <td>194141</td>\n      <td>101399</td>\n      <td>2035</td>\n      <td>3749</td>\n      <td>172826</td>\n      <td>89961.0</td>\n      <td>573.0</td>\n      <td>3031529.0</td>\n      <td>49.0</td>\n    </tr>\n  </tbody>\n</table>\n<p>1 rows × 26 columns</p>\n</div>",
            "text/plain": "                  company name  Floor Size  Current clients  \\\n0  General Consulting Research      5220.0            145.0   \n\n  Sanitation_services_provided  Days per week of sanitation services  \\\n0                          Yes                                     7   \n\n   Hours logged by sanitation workers  \\\n0                             61051.0   \n\n  Bid provides supplemental public safety services  \\\n0                                               No   \n\n   Hours logged by public safety officers  \\\n0                                 24732.0   \n\n   Interactions with public safety officers Beautification_services_provided  \\\n0                                       NaN                              Yes   \n\n   ... Streetscape & beautification expenses Salaries  \\\n0  ...                                 39202   194141   \n\n   Outside contractor expenses Insurance costs Supplies and equipment costs  \\\n0                       101399            2035                         3749   \n\n  Total Quotation Number_Of_Sanitation_Activities Beautification_Activities  \\\n0          172826                         89961.0                     573.0   \n\n  Media_Reach Total_Staff  \n0   3031529.0        49.0  \n\n[1 rows x 26 columns]"
          },
          "execution_count": 46,
          "metadata": {},
          "output_type": "execute_result"
        }
      ],
      "source": [
        "df.head(1)"
      ]
    },
    {
      "cell_type": "code",
      "execution_count": 47,
      "metadata": {
        "id": "vDI8cWCtSugx"
      },
      "outputs": [
        {
          "data": {
            "text/plain": "(100000, 26)"
          },
          "execution_count": 47,
          "metadata": {},
          "output_type": "execute_result"
        }
      ],
      "source": [
        "df.shape"
      ]
    },
    {
      "cell_type": "markdown",
      "metadata": {
        "id": "BY9l_qIfR9WX"
      },
      "source": [
        "Converting object to numeric datatype"
      ]
    },
    {
      "cell_type": "code",
      "execution_count": 48,
      "metadata": {
        "id": "sc24QRI1SVX3"
      },
      "outputs": [
        {
          "name": "stdout",
          "output_type": "stream",
          "text": [
            "<class 'pandas.core.frame.DataFrame'>\n",
            "RangeIndex: 100000 entries, 0 to 99999\n",
            "Data columns (total 26 columns):\n",
            " #   Column                                            Non-Null Count   Dtype  \n",
            "---  ------                                            --------------   -----  \n",
            " 0   company name                                      100000 non-null  object \n",
            " 1   Floor Size                                        97329 non-null   float64\n",
            " 2   Current clients                                   83270 non-null   float64\n",
            " 3   Sanitation_services_provided                      97329 non-null   object \n",
            " 4   Days per week of sanitation services              100000 non-null  int64  \n",
            " 5   Hours logged by sanitation workers                97329 non-null   float64\n",
            " 6   Bid provides supplemental public safety services  97329 non-null   object \n",
            " 7   Hours logged by public safety officers            67622 non-null   float64\n",
            " 8   Interactions with public safety officers          66200 non-null   float64\n",
            " 9   Beautification_services_provided                  97329 non-null   object \n",
            " 10  Holiday_program                                   97329 non-null   object \n",
            " 11  Communication channels used                       85965 non-null   object \n",
            " 12  Special event charges                             99990 non-null   float64\n",
            " 13  Miscellaneous charges                             100000 non-null  object \n",
            " 14  Sanitation expenses                               100000 non-null  object \n",
            " 15  Public safety expenses                            100000 non-null  object \n",
            " 16  Streetscape & beautification expenses             100000 non-null  object \n",
            " 17  Salaries                                          100000 non-null  object \n",
            " 18  Outside contractor expenses                       100000 non-null  object \n",
            " 19  Insurance costs                                   100000 non-null  object \n",
            " 20  Supplies and equipment costs                      100000 non-null  object \n",
            " 21  Total Quotation                                   100000 non-null  int32  \n",
            " 22  Number_Of_Sanitation_Activities                   97329 non-null   float64\n",
            " 23  Beautification_Activities                         97329 non-null   float64\n",
            " 24  Media_Reach                                       97329 non-null   float64\n",
            " 25  Total_Staff                                       97329 non-null   float64\n",
            "dtypes: float64(10), int32(1), int64(1), object(14)\n",
            "memory usage: 19.5+ MB\n"
          ]
        }
      ],
      "source": [
        "df.info()"
      ]
    },
    {
      "cell_type": "code",
      "execution_count": 49,
      "metadata": {
        "id": "c_NtV2ba1inF"
      },
      "outputs": [],
      "source": [
        "#Holiday_program, Interactions with public safety officers, Bid provides supplemental public safety services\n",
        "df.drop(['Holiday_program', 'Interactions with public safety officers','Bid provides supplemental public safety services'], axis=1, inplace=True)"
      ]
    },
    {
      "cell_type": "code",
      "execution_count": 50,
      "metadata": {
        "id": "dx2kEfUk-t9S"
      },
      "outputs": [],
      "source": [
        "df.drop(['Floor Size'], inplace=True, axis = 1) "
      ]
    },
    {
      "cell_type": "code",
      "execution_count": 51,
      "metadata": {
        "id": "QXGLuUvQCu6e"
      },
      "outputs": [],
      "source": [
        "df['Special event charges'] = df['Special event charges'].replace(\"-\",\"0\")"
      ]
    },
    {
      "cell_type": "code",
      "execution_count": 52,
      "metadata": {
        "id": "M-n8I65EA8AI"
      },
      "outputs": [],
      "source": [
        "df['Special event charges'] = df['Special event charges'].fillna(\"0\").astype(int)"
      ]
    },
    {
      "cell_type": "code",
      "execution_count": 53,
      "metadata": {
        "id": "wfyRa4_WCgqP"
      },
      "outputs": [
        {
          "data": {
            "text/plain": "16730"
          },
          "execution_count": 53,
          "metadata": {},
          "output_type": "execute_result"
        }
      ],
      "source": [
        "df['Current clients'].isnull().sum()"
      ]
    },
    {
      "cell_type": "code",
      "execution_count": 54,
      "metadata": {
        "id": "qlVXj9VQ3K81"
      },
      "outputs": [
        {
          "data": {
            "text/html": "<div>\n<style scoped>\n    .dataframe tbody tr th:only-of-type {\n        vertical-align: middle;\n    }\n\n    .dataframe tbody tr th {\n        vertical-align: top;\n    }\n\n    .dataframe thead th {\n        text-align: right;\n    }\n</style>\n<table border=\"1\" class=\"dataframe\">\n  <thead>\n    <tr style=\"text-align: right;\">\n      <th></th>\n      <th>company name</th>\n      <th>Current clients</th>\n      <th>Sanitation_services_provided</th>\n      <th>Days per week of sanitation services</th>\n      <th>Hours logged by sanitation workers</th>\n      <th>Hours logged by public safety officers</th>\n      <th>Beautification_services_provided</th>\n      <th>Communication channels used</th>\n      <th>Special event charges</th>\n      <th>Miscellaneous charges</th>\n      <th>...</th>\n      <th>Streetscape &amp; beautification expenses</th>\n      <th>Salaries</th>\n      <th>Outside contractor expenses</th>\n      <th>Insurance costs</th>\n      <th>Supplies and equipment costs</th>\n      <th>Total Quotation</th>\n      <th>Number_Of_Sanitation_Activities</th>\n      <th>Beautification_Activities</th>\n      <th>Media_Reach</th>\n      <th>Total_Staff</th>\n    </tr>\n  </thead>\n  <tbody>\n    <tr>\n      <th>0</th>\n      <td>General Consulting Research</td>\n      <td>145.0</td>\n      <td>Yes</td>\n      <td>7</td>\n      <td>61051.0</td>\n      <td>24732.0</td>\n      <td>Yes</td>\n      <td>Direct mailings; Flyers; Email bulletins; Soci...</td>\n      <td>360146</td>\n      <td>16591</td>\n      <td>...</td>\n      <td>39202</td>\n      <td>194141</td>\n      <td>101399</td>\n      <td>2035</td>\n      <td>3749</td>\n      <td>172826</td>\n      <td>89961.0</td>\n      <td>573.0</td>\n      <td>3031529.0</td>\n      <td>49.0</td>\n    </tr>\n    <tr>\n      <th>1</th>\n      <td>Analysis Analysis</td>\n      <td>168.0</td>\n      <td>Yes</td>\n      <td>7</td>\n      <td>22166.0</td>\n      <td>68063.0</td>\n      <td>Yes</td>\n      <td>Print advertising (i.e. local newspaper); Dire...</td>\n      <td>360146</td>\n      <td>68277</td>\n      <td>...</td>\n      <td>180065</td>\n      <td>425466</td>\n      <td>72166</td>\n      <td>70631</td>\n      <td>14730</td>\n      <td>499849</td>\n      <td>194267.0</td>\n      <td>558.0</td>\n      <td>20052785.0</td>\n      <td>127.0</td>\n    </tr>\n    <tr>\n      <th>2</th>\n      <td>Federated Consulting Analysis</td>\n      <td>42.0</td>\n      <td>No</td>\n      <td>7</td>\n      <td>139371.0</td>\n      <td>86605.0</td>\n      <td>No</td>\n      <td>Direct mailings; Door-to-door visits; Flyers; ...</td>\n      <td>360146</td>\n      <td>71153</td>\n      <td>...</td>\n      <td>44974</td>\n      <td>745962</td>\n      <td>141833</td>\n      <td>68790</td>\n      <td>19293</td>\n      <td>207742</td>\n      <td>61961.0</td>\n      <td>985.0</td>\n      <td>35932251.0</td>\n      <td>22.0</td>\n    </tr>\n    <tr>\n      <th>3</th>\n      <td>Atlantic Max North</td>\n      <td>NaN</td>\n      <td>Yes</td>\n      <td>7</td>\n      <td>24475.0</td>\n      <td>31890.0</td>\n      <td>Yes</td>\n      <td>Digital advertising (i.e. Google, Facebook, In...</td>\n      <td>360146</td>\n      <td>14927</td>\n      <td>...</td>\n      <td>187628</td>\n      <td>1.18901e+06</td>\n      <td>72668</td>\n      <td>75686</td>\n      <td>13038</td>\n      <td>1070827</td>\n      <td>146747.0</td>\n      <td>617.0</td>\n      <td>48275471.0</td>\n      <td>36.0</td>\n    </tr>\n    <tr>\n      <th>4</th>\n      <td>Star Consulting</td>\n      <td>181.0</td>\n      <td>Yes</td>\n      <td>7</td>\n      <td>84739.0</td>\n      <td>73549.0</td>\n      <td>Yes</td>\n      <td>Print advertising (i.e. local newspaper); Digi...</td>\n      <td>206317</td>\n      <td>61766</td>\n      <td>...</td>\n      <td>56512</td>\n      <td>984545</td>\n      <td>98032</td>\n      <td>63834</td>\n      <td>4368</td>\n      <td>779014</td>\n      <td>153014.0</td>\n      <td>904.0</td>\n      <td>13698862.0</td>\n      <td>44.0</td>\n    </tr>\n  </tbody>\n</table>\n<p>5 rows × 22 columns</p>\n</div>",
            "text/plain": "                    company name  Current clients  \\\n0    General Consulting Research            145.0   \n1              Analysis Analysis            168.0   \n2  Federated Consulting Analysis             42.0   \n3             Atlantic Max North              NaN   \n4                Star Consulting            181.0   \n\n  Sanitation_services_provided  Days per week of sanitation services  \\\n0                          Yes                                     7   \n1                          Yes                                     7   \n2                           No                                     7   \n3                          Yes                                     7   \n4                          Yes                                     7   \n\n   Hours logged by sanitation workers  Hours logged by public safety officers  \\\n0                             61051.0                                 24732.0   \n1                             22166.0                                 68063.0   \n2                            139371.0                                 86605.0   \n3                             24475.0                                 31890.0   \n4                             84739.0                                 73549.0   \n\n  Beautification_services_provided  \\\n0                              Yes   \n1                              Yes   \n2                               No   \n3                              Yes   \n4                              Yes   \n\n                         Communication channels used  Special event charges  \\\n0  Direct mailings; Flyers; Email bulletins; Soci...                 360146   \n1  Print advertising (i.e. local newspaper); Dire...                 360146   \n2  Direct mailings; Door-to-door visits; Flyers; ...                 360146   \n3  Digital advertising (i.e. Google, Facebook, In...                 360146   \n4  Print advertising (i.e. local newspaper); Digi...                 206317   \n\n  Miscellaneous charges  ... Streetscape & beautification expenses  \\\n0                 16591  ...                                 39202   \n1                 68277  ...                                180065   \n2                 71153  ...                                 44974   \n3                 14927  ...                                187628   \n4                 61766  ...                                 56512   \n\n      Salaries Outside contractor expenses Insurance costs  \\\n0       194141                      101399            2035   \n1       425466                       72166           70631   \n2       745962                      141833           68790   \n3  1.18901e+06                       72668           75686   \n4       984545                       98032           63834   \n\n  Supplies and equipment costs Total Quotation  \\\n0                         3749          172826   \n1                        14730          499849   \n2                        19293          207742   \n3                        13038         1070827   \n4                         4368          779014   \n\n  Number_Of_Sanitation_Activities  Beautification_Activities  Media_Reach  \\\n0                         89961.0                      573.0    3031529.0   \n1                        194267.0                      558.0   20052785.0   \n2                         61961.0                      985.0   35932251.0   \n3                        146747.0                      617.0   48275471.0   \n4                        153014.0                      904.0   13698862.0   \n\n   Total_Staff  \n0         49.0  \n1        127.0  \n2         22.0  \n3         36.0  \n4         44.0  \n\n[5 rows x 22 columns]"
          },
          "execution_count": 54,
          "metadata": {},
          "output_type": "execute_result"
        }
      ],
      "source": [
        "df.head(5)"
      ]
    },
    {
      "cell_type": "code",
      "execution_count": 55,
      "metadata": {
        "id": "ZGZ9Kb_UFNEI"
      },
      "outputs": [],
      "source": [
        "df['Miscellaneous charges'] = df['Miscellaneous charges'].astype(int)"
      ]
    },
    {
      "cell_type": "code",
      "execution_count": 56,
      "metadata": {
        "id": "bPKsn74CGUcY"
      },
      "outputs": [],
      "source": [
        "df['Sanitation expenses'] = df['Sanitation expenses'].astype(int)"
      ]
    },
    {
      "cell_type": "code",
      "execution_count": 57,
      "metadata": {
        "id": "RVUmUrNuHRH4"
      },
      "outputs": [],
      "source": [
        "df['Public safety expenses'] = df['Public safety expenses'].astype(int)"
      ]
    },
    {
      "cell_type": "code",
      "execution_count": 58,
      "metadata": {
        "id": "1VDWhH_YHihl"
      },
      "outputs": [],
      "source": [
        "df['Streetscape & beautification expenses'] = df['Streetscape & beautification expenses'].astype(int)"
      ]
    },
    {
      "cell_type": "code",
      "execution_count": 59,
      "metadata": {
        "id": "z-9i1ZZVH9VU"
      },
      "outputs": [],
      "source": [
        "df['Salaries'] = df['Salaries'].astype(int)"
      ]
    },
    {
      "cell_type": "code",
      "execution_count": 60,
      "metadata": {
        "id": "ab3vxzfYIKGI"
      },
      "outputs": [],
      "source": [
        "df['Outside contractor expenses'] = df['Outside contractor expenses'].astype(int)"
      ]
    },
    {
      "cell_type": "code",
      "execution_count": 61,
      "metadata": {
        "id": "Ewc1_uFIJM9b"
      },
      "outputs": [],
      "source": [
        "df['Insurance costs'] = df['Insurance costs'].astype(int)"
      ]
    },
    {
      "cell_type": "code",
      "execution_count": 62,
      "metadata": {
        "id": "ykMCsPNHJdLH"
      },
      "outputs": [],
      "source": [
        "df['Supplies and equipment costs'] = df['Supplies and equipment costs'].astype(int)"
      ]
    },
    {
      "cell_type": "code",
      "execution_count": 63,
      "metadata": {
        "id": "OlU1y0-CJ5AP"
      },
      "outputs": [
        {
          "data": {
            "text/plain": "0         145.0\n1         168.0\n2          42.0\n3           NaN\n4         181.0\n          ...  \n99995     567.0\n99996     518.0\n99997    1423.0\n99998     231.0\n99999     981.0\nName: Current clients, Length: 100000, dtype: float64"
          },
          "execution_count": 63,
          "metadata": {},
          "output_type": "execute_result"
        }
      ],
      "source": [
        "import numpy as np\r\n",
        "df['Current clients'] = pd.to_numeric(df['Current clients'], errors='coerce')\r\n",
        "df['Current clients']"
      ]
    },
    {
      "cell_type": "code",
      "execution_count": 64,
      "metadata": {
        "id": "VBt8KykxR1RT"
      },
      "outputs": [
        {
          "data": {
            "text/html": "<div>\n<style scoped>\n    .dataframe tbody tr th:only-of-type {\n        vertical-align: middle;\n    }\n\n    .dataframe tbody tr th {\n        vertical-align: top;\n    }\n\n    .dataframe thead th {\n        text-align: right;\n    }\n</style>\n<table border=\"1\" class=\"dataframe\">\n  <thead>\n    <tr style=\"text-align: right;\">\n      <th></th>\n      <th>company name</th>\n      <th>Current clients</th>\n      <th>Sanitation_services_provided</th>\n      <th>Days per week of sanitation services</th>\n      <th>Hours logged by sanitation workers</th>\n      <th>Hours logged by public safety officers</th>\n      <th>Beautification_services_provided</th>\n      <th>Communication channels used</th>\n      <th>Special event charges</th>\n      <th>Miscellaneous charges</th>\n      <th>...</th>\n      <th>Streetscape &amp; beautification expenses</th>\n      <th>Salaries</th>\n      <th>Outside contractor expenses</th>\n      <th>Insurance costs</th>\n      <th>Supplies and equipment costs</th>\n      <th>Total Quotation</th>\n      <th>Number_Of_Sanitation_Activities</th>\n      <th>Beautification_Activities</th>\n      <th>Media_Reach</th>\n      <th>Total_Staff</th>\n    </tr>\n  </thead>\n  <tbody>\n    <tr>\n      <th>0</th>\n      <td>General Consulting Research</td>\n      <td>145.0</td>\n      <td>Yes</td>\n      <td>7</td>\n      <td>61051.0</td>\n      <td>24732.0</td>\n      <td>Yes</td>\n      <td>Direct mailings; Flyers; Email bulletins; Soci...</td>\n      <td>360146</td>\n      <td>16591</td>\n      <td>...</td>\n      <td>39202</td>\n      <td>194141</td>\n      <td>101399</td>\n      <td>2035</td>\n      <td>3749</td>\n      <td>172826</td>\n      <td>89961.0</td>\n      <td>573.0</td>\n      <td>3031529.0</td>\n      <td>49.0</td>\n    </tr>\n    <tr>\n      <th>1</th>\n      <td>Analysis Analysis</td>\n      <td>168.0</td>\n      <td>Yes</td>\n      <td>7</td>\n      <td>22166.0</td>\n      <td>68063.0</td>\n      <td>Yes</td>\n      <td>Print advertising (i.e. local newspaper); Dire...</td>\n      <td>360146</td>\n      <td>68277</td>\n      <td>...</td>\n      <td>180065</td>\n      <td>425466</td>\n      <td>72166</td>\n      <td>70631</td>\n      <td>14730</td>\n      <td>499849</td>\n      <td>194267.0</td>\n      <td>558.0</td>\n      <td>20052785.0</td>\n      <td>127.0</td>\n    </tr>\n    <tr>\n      <th>2</th>\n      <td>Federated Consulting Analysis</td>\n      <td>42.0</td>\n      <td>No</td>\n      <td>7</td>\n      <td>139371.0</td>\n      <td>86605.0</td>\n      <td>No</td>\n      <td>Direct mailings; Door-to-door visits; Flyers; ...</td>\n      <td>360146</td>\n      <td>71153</td>\n      <td>...</td>\n      <td>44974</td>\n      <td>745962</td>\n      <td>141833</td>\n      <td>68790</td>\n      <td>19293</td>\n      <td>207742</td>\n      <td>61961.0</td>\n      <td>985.0</td>\n      <td>35932251.0</td>\n      <td>22.0</td>\n    </tr>\n    <tr>\n      <th>3</th>\n      <td>Atlantic Max North</td>\n      <td>42.0</td>\n      <td>Yes</td>\n      <td>7</td>\n      <td>24475.0</td>\n      <td>31890.0</td>\n      <td>Yes</td>\n      <td>Digital advertising (i.e. Google, Facebook, In...</td>\n      <td>360146</td>\n      <td>14927</td>\n      <td>...</td>\n      <td>187628</td>\n      <td>1189014</td>\n      <td>72668</td>\n      <td>75686</td>\n      <td>13038</td>\n      <td>1070827</td>\n      <td>146747.0</td>\n      <td>617.0</td>\n      <td>48275471.0</td>\n      <td>36.0</td>\n    </tr>\n    <tr>\n      <th>4</th>\n      <td>Star Consulting</td>\n      <td>181.0</td>\n      <td>Yes</td>\n      <td>7</td>\n      <td>84739.0</td>\n      <td>73549.0</td>\n      <td>Yes</td>\n      <td>Print advertising (i.e. local newspaper); Digi...</td>\n      <td>206317</td>\n      <td>61766</td>\n      <td>...</td>\n      <td>56512</td>\n      <td>984545</td>\n      <td>98032</td>\n      <td>63834</td>\n      <td>4368</td>\n      <td>779014</td>\n      <td>153014.0</td>\n      <td>904.0</td>\n      <td>13698862.0</td>\n      <td>44.0</td>\n    </tr>\n    <tr>\n      <th>...</th>\n      <td>...</td>\n      <td>...</td>\n      <td>...</td>\n      <td>...</td>\n      <td>...</td>\n      <td>...</td>\n      <td>...</td>\n      <td>...</td>\n      <td>...</td>\n      <td>...</td>\n      <td>...</td>\n      <td>...</td>\n      <td>...</td>\n      <td>...</td>\n      <td>...</td>\n      <td>...</td>\n      <td>...</td>\n      <td>...</td>\n      <td>...</td>\n      <td>...</td>\n      <td>...</td>\n    </tr>\n    <tr>\n      <th>99995</th>\n      <td>Vision Innovation Analysis</td>\n      <td>567.0</td>\n      <td>Yes</td>\n      <td>7</td>\n      <td>119454.0</td>\n      <td>101584.0</td>\n      <td>Yes</td>\n      <td>Print advertising (i.e. local newspaper); Digi...</td>\n      <td>403576</td>\n      <td>36677</td>\n      <td>...</td>\n      <td>190520</td>\n      <td>989899</td>\n      <td>67615</td>\n      <td>39958</td>\n      <td>20093</td>\n      <td>626047</td>\n      <td>125327.0</td>\n      <td>368.0</td>\n      <td>2405273.0</td>\n      <td>65.0</td>\n    </tr>\n    <tr>\n      <th>99996</th>\n      <td>Architecture Provider Industries</td>\n      <td>518.0</td>\n      <td>Yes</td>\n      <td>7</td>\n      <td>174290.0</td>\n      <td>101584.0</td>\n      <td>Yes</td>\n      <td>Print advertising (i.e. local newspaper); Digi...</td>\n      <td>225721</td>\n      <td>114142</td>\n      <td>...</td>\n      <td>157975</td>\n      <td>660274</td>\n      <td>141730</td>\n      <td>52450</td>\n      <td>9708</td>\n      <td>927299</td>\n      <td>240894.0</td>\n      <td>953.0</td>\n      <td>28696451.0</td>\n      <td>91.0</td>\n    </tr>\n    <tr>\n      <th>99997</th>\n      <td>Construction Omega Vision</td>\n      <td>1423.0</td>\n      <td>No</td>\n      <td>7</td>\n      <td>92340.0</td>\n      <td>101584.0</td>\n      <td>Yes</td>\n      <td>Digital advertising (i.e. Google, Facebook, In...</td>\n      <td>403576</td>\n      <td>7268</td>\n      <td>...</td>\n      <td>184140</td>\n      <td>222826</td>\n      <td>57116</td>\n      <td>103205</td>\n      <td>14349</td>\n      <td>700027</td>\n      <td>130277.0</td>\n      <td>635.0</td>\n      <td>7619127.0</td>\n      <td>122.0</td>\n    </tr>\n    <tr>\n      <th>99998</th>\n      <td>General Virtual Innovation</td>\n      <td>231.0</td>\n      <td>Yes</td>\n      <td>7</td>\n      <td>63951.0</td>\n      <td>37113.0</td>\n      <td>Yes</td>\n      <td>Direct mailings; Flyers; Email bulletins; Soci...</td>\n      <td>360146</td>\n      <td>16627</td>\n      <td>...</td>\n      <td>39217</td>\n      <td>194126</td>\n      <td>101436</td>\n      <td>2031</td>\n      <td>3730</td>\n      <td>172909</td>\n      <td>89986.0</td>\n      <td>516.0</td>\n      <td>4025530.0</td>\n      <td>95.0</td>\n    </tr>\n    <tr>\n      <th>99999</th>\n      <td>Federated Systems People</td>\n      <td>981.0</td>\n      <td>Yes</td>\n      <td>7</td>\n      <td>171611.0</td>\n      <td>37113.0</td>\n      <td>Yes</td>\n      <td>Direct mailings; Flyers; Email bulletins; Soci...</td>\n      <td>225721</td>\n      <td>114120</td>\n      <td>...</td>\n      <td>158032</td>\n      <td>660216</td>\n      <td>141755</td>\n      <td>52437</td>\n      <td>9673</td>\n      <td>927340</td>\n      <td>240941.0</td>\n      <td>1071.0</td>\n      <td>34370361.0</td>\n      <td>89.0</td>\n    </tr>\n  </tbody>\n</table>\n<p>100000 rows × 22 columns</p>\n</div>",
            "text/plain": "                           company name  Current clients  \\\n0           General Consulting Research            145.0   \n1                     Analysis Analysis            168.0   \n2         Federated Consulting Analysis             42.0   \n3                    Atlantic Max North             42.0   \n4                       Star Consulting            181.0   \n...                                 ...              ...   \n99995        Vision Innovation Analysis            567.0   \n99996  Architecture Provider Industries            518.0   \n99997         Construction Omega Vision           1423.0   \n99998        General Virtual Innovation            231.0   \n99999          Federated Systems People            981.0   \n\n      Sanitation_services_provided  Days per week of sanitation services  \\\n0                              Yes                                     7   \n1                              Yes                                     7   \n2                               No                                     7   \n3                              Yes                                     7   \n4                              Yes                                     7   \n...                            ...                                   ...   \n99995                          Yes                                     7   \n99996                          Yes                                     7   \n99997                           No                                     7   \n99998                          Yes                                     7   \n99999                          Yes                                     7   \n\n       Hours logged by sanitation workers  \\\n0                                 61051.0   \n1                                 22166.0   \n2                                139371.0   \n3                                 24475.0   \n4                                 84739.0   \n...                                   ...   \n99995                            119454.0   \n99996                            174290.0   \n99997                             92340.0   \n99998                             63951.0   \n99999                            171611.0   \n\n       Hours logged by public safety officers  \\\n0                                     24732.0   \n1                                     68063.0   \n2                                     86605.0   \n3                                     31890.0   \n4                                     73549.0   \n...                                       ...   \n99995                                101584.0   \n99996                                101584.0   \n99997                                101584.0   \n99998                                 37113.0   \n99999                                 37113.0   \n\n      Beautification_services_provided  \\\n0                                  Yes   \n1                                  Yes   \n2                                   No   \n3                                  Yes   \n4                                  Yes   \n...                                ...   \n99995                              Yes   \n99996                              Yes   \n99997                              Yes   \n99998                              Yes   \n99999                              Yes   \n\n                             Communication channels used  \\\n0      Direct mailings; Flyers; Email bulletins; Soci...   \n1      Print advertising (i.e. local newspaper); Dire...   \n2      Direct mailings; Door-to-door visits; Flyers; ...   \n3      Digital advertising (i.e. Google, Facebook, In...   \n4      Print advertising (i.e. local newspaper); Digi...   \n...                                                  ...   \n99995  Print advertising (i.e. local newspaper); Digi...   \n99996  Print advertising (i.e. local newspaper); Digi...   \n99997  Digital advertising (i.e. Google, Facebook, In...   \n99998  Direct mailings; Flyers; Email bulletins; Soci...   \n99999  Direct mailings; Flyers; Email bulletins; Soci...   \n\n       Special event charges  Miscellaneous charges  ...  \\\n0                     360146                  16591  ...   \n1                     360146                  68277  ...   \n2                     360146                  71153  ...   \n3                     360146                  14927  ...   \n4                     206317                  61766  ...   \n...                      ...                    ...  ...   \n99995                 403576                  36677  ...   \n99996                 225721                 114142  ...   \n99997                 403576                   7268  ...   \n99998                 360146                  16627  ...   \n99999                 225721                 114120  ...   \n\n       Streetscape & beautification expenses  Salaries  \\\n0                                      39202    194141   \n1                                     180065    425466   \n2                                      44974    745962   \n3                                     187628   1189014   \n4                                      56512    984545   \n...                                      ...       ...   \n99995                                 190520    989899   \n99996                                 157975    660274   \n99997                                 184140    222826   \n99998                                  39217    194126   \n99999                                 158032    660216   \n\n       Outside contractor expenses  Insurance costs  \\\n0                           101399             2035   \n1                            72166            70631   \n2                           141833            68790   \n3                            72668            75686   \n4                            98032            63834   \n...                            ...              ...   \n99995                        67615            39958   \n99996                       141730            52450   \n99997                        57116           103205   \n99998                       101436             2031   \n99999                       141755            52437   \n\n       Supplies and equipment costs  Total Quotation  \\\n0                              3749           172826   \n1                             14730           499849   \n2                             19293           207742   \n3                             13038          1070827   \n4                              4368           779014   \n...                             ...              ...   \n99995                         20093           626047   \n99996                          9708           927299   \n99997                         14349           700027   \n99998                          3730           172909   \n99999                          9673           927340   \n\n       Number_Of_Sanitation_Activities  Beautification_Activities  \\\n0                              89961.0                      573.0   \n1                             194267.0                      558.0   \n2                              61961.0                      985.0   \n3                             146747.0                      617.0   \n4                             153014.0                      904.0   \n...                                ...                        ...   \n99995                         125327.0                      368.0   \n99996                         240894.0                      953.0   \n99997                         130277.0                      635.0   \n99998                          89986.0                      516.0   \n99999                         240941.0                     1071.0   \n\n       Media_Reach  Total_Staff  \n0        3031529.0         49.0  \n1       20052785.0        127.0  \n2       35932251.0         22.0  \n3       48275471.0         36.0  \n4       13698862.0         44.0  \n...            ...          ...  \n99995    2405273.0         65.0  \n99996   28696451.0         91.0  \n99997    7619127.0        122.0  \n99998    4025530.0         95.0  \n99999   34370361.0         89.0  \n\n[100000 rows x 22 columns]"
          },
          "execution_count": 64,
          "metadata": {},
          "output_type": "execute_result"
        }
      ],
      "source": [
        "\n",
        "df['Current clients'] = df['Current clients'].replace(r'^\\s*$', np.nan, regex=True).fillna(method ='pad') \n",
        "df['Days per week of sanitation services'] = df['Days per week of sanitation services'].replace(r'^\\s*$', np.nan, regex=True).fillna(method ='pad') \n",
        "df = df.replace(r'^\\s*$', np.nan, regex=True).fillna(method ='pad') \n",
        "df[pd.to_numeric(df['Current clients'], errors='coerce').notnull()]"
      ]
    },
    {
      "cell_type": "code",
      "execution_count": 65,
      "metadata": {
        "id": "IYNTZ0UlW1rJ"
      },
      "outputs": [
        {
          "data": {
            "text/plain": "0        7\n1        7\n2        7\n3        7\n4        7\n        ..\n99995    7\n99996    7\n99997    7\n99998    7\n99999    7\nName: Days per week of sanitation services, Length: 100000, dtype: int64"
          },
          "execution_count": 65,
          "metadata": {},
          "output_type": "execute_result"
        }
      ],
      "source": [
        "df[\"Current clients\"]\n",
        "df['Days per week of sanitation services']"
      ]
    },
    {
      "cell_type": "code",
      "execution_count": 66,
      "metadata": {
        "id": "6oNP1bTiEc-Y"
      },
      "outputs": [
        {
          "name": "stdout",
          "output_type": "stream",
          "text": [
            "<class 'pandas.core.frame.DataFrame'>\n",
            "RangeIndex: 100000 entries, 0 to 99999\n",
            "Data columns (total 22 columns):\n",
            " #   Column                                  Non-Null Count   Dtype  \n",
            "---  ------                                  --------------   -----  \n",
            " 0   company name                            100000 non-null  object \n",
            " 1   Current clients                         100000 non-null  float64\n",
            " 2   Sanitation_services_provided            100000 non-null  object \n",
            " 3   Days per week of sanitation services    100000 non-null  int64  \n",
            " 4   Hours logged by sanitation workers      100000 non-null  float64\n",
            " 5   Hours logged by public safety officers  100000 non-null  float64\n",
            " 6   Beautification_services_provided        100000 non-null  object \n",
            " 7   Communication channels used             100000 non-null  object \n",
            " 8   Special event charges                   100000 non-null  int32  \n",
            " 9   Miscellaneous charges                   100000 non-null  int32  \n",
            " 10  Sanitation expenses                     100000 non-null  int32  \n",
            " 11  Public safety expenses                  100000 non-null  int32  \n",
            " 12  Streetscape & beautification expenses   100000 non-null  int32  \n",
            " 13  Salaries                                100000 non-null  int32  \n",
            " 14  Outside contractor expenses             100000 non-null  int32  \n",
            " 15  Insurance costs                         100000 non-null  int32  \n",
            " 16  Supplies and equipment costs            100000 non-null  int32  \n",
            " 17  Total Quotation                         100000 non-null  int32  \n",
            " 18  Number_Of_Sanitation_Activities         100000 non-null  float64\n",
            " 19  Beautification_Activities               100000 non-null  float64\n",
            " 20  Media_Reach                             100000 non-null  float64\n",
            " 21  Total_Staff                             100000 non-null  float64\n",
            "dtypes: float64(7), int32(10), int64(1), object(4)\n",
            "memory usage: 13.0+ MB\n"
          ]
        }
      ],
      "source": [
        "df.info()"
      ]
    },
    {
      "cell_type": "code",
      "execution_count": 67,
      "metadata": {
        "id": "zzKtgFAkk9ea"
      },
      "outputs": [
        {
          "data": {
            "text/html": "<div>\n<style scoped>\n    .dataframe tbody tr th:only-of-type {\n        vertical-align: middle;\n    }\n\n    .dataframe tbody tr th {\n        vertical-align: top;\n    }\n\n    .dataframe thead th {\n        text-align: right;\n    }\n</style>\n<table border=\"1\" class=\"dataframe\">\n  <thead>\n    <tr style=\"text-align: right;\">\n      <th></th>\n      <th>company name</th>\n      <th>Current clients</th>\n      <th>Sanitation_services_provided</th>\n      <th>Days per week of sanitation services</th>\n      <th>Hours logged by sanitation workers</th>\n      <th>Hours logged by public safety officers</th>\n      <th>Beautification_services_provided</th>\n      <th>Communication channels used</th>\n      <th>Special event charges</th>\n      <th>Miscellaneous charges</th>\n      <th>...</th>\n      <th>Streetscape &amp; beautification expenses</th>\n      <th>Salaries</th>\n      <th>Outside contractor expenses</th>\n      <th>Insurance costs</th>\n      <th>Supplies and equipment costs</th>\n      <th>Total Quotation</th>\n      <th>Number_Of_Sanitation_Activities</th>\n      <th>Beautification_Activities</th>\n      <th>Media_Reach</th>\n      <th>Total_Staff</th>\n    </tr>\n  </thead>\n  <tbody>\n    <tr>\n      <th>0</th>\n      <td>General Consulting Research</td>\n      <td>145.0</td>\n      <td>Yes</td>\n      <td>7</td>\n      <td>61051.0</td>\n      <td>24732.0</td>\n      <td>Yes</td>\n      <td>Direct mailings; Flyers; Email bulletins; Soci...</td>\n      <td>360146</td>\n      <td>16591</td>\n      <td>...</td>\n      <td>39202</td>\n      <td>194141</td>\n      <td>101399</td>\n      <td>2035</td>\n      <td>3749</td>\n      <td>172826</td>\n      <td>89961.0</td>\n      <td>573.0</td>\n      <td>3031529.0</td>\n      <td>49.0</td>\n    </tr>\n    <tr>\n      <th>1</th>\n      <td>Analysis Analysis</td>\n      <td>168.0</td>\n      <td>Yes</td>\n      <td>7</td>\n      <td>22166.0</td>\n      <td>68063.0</td>\n      <td>Yes</td>\n      <td>Print advertising (i.e. local newspaper); Dire...</td>\n      <td>360146</td>\n      <td>68277</td>\n      <td>...</td>\n      <td>180065</td>\n      <td>425466</td>\n      <td>72166</td>\n      <td>70631</td>\n      <td>14730</td>\n      <td>499849</td>\n      <td>194267.0</td>\n      <td>558.0</td>\n      <td>20052785.0</td>\n      <td>127.0</td>\n    </tr>\n    <tr>\n      <th>2</th>\n      <td>Federated Consulting Analysis</td>\n      <td>42.0</td>\n      <td>No</td>\n      <td>7</td>\n      <td>139371.0</td>\n      <td>86605.0</td>\n      <td>No</td>\n      <td>Direct mailings; Door-to-door visits; Flyers; ...</td>\n      <td>360146</td>\n      <td>71153</td>\n      <td>...</td>\n      <td>44974</td>\n      <td>745962</td>\n      <td>141833</td>\n      <td>68790</td>\n      <td>19293</td>\n      <td>207742</td>\n      <td>61961.0</td>\n      <td>985.0</td>\n      <td>35932251.0</td>\n      <td>22.0</td>\n    </tr>\n    <tr>\n      <th>3</th>\n      <td>Atlantic Max North</td>\n      <td>42.0</td>\n      <td>Yes</td>\n      <td>7</td>\n      <td>24475.0</td>\n      <td>31890.0</td>\n      <td>Yes</td>\n      <td>Digital advertising (i.e. Google, Facebook, In...</td>\n      <td>360146</td>\n      <td>14927</td>\n      <td>...</td>\n      <td>187628</td>\n      <td>1189014</td>\n      <td>72668</td>\n      <td>75686</td>\n      <td>13038</td>\n      <td>1070827</td>\n      <td>146747.0</td>\n      <td>617.0</td>\n      <td>48275471.0</td>\n      <td>36.0</td>\n    </tr>\n    <tr>\n      <th>4</th>\n      <td>Star Consulting</td>\n      <td>181.0</td>\n      <td>Yes</td>\n      <td>7</td>\n      <td>84739.0</td>\n      <td>73549.0</td>\n      <td>Yes</td>\n      <td>Print advertising (i.e. local newspaper); Digi...</td>\n      <td>206317</td>\n      <td>61766</td>\n      <td>...</td>\n      <td>56512</td>\n      <td>984545</td>\n      <td>98032</td>\n      <td>63834</td>\n      <td>4368</td>\n      <td>779014</td>\n      <td>153014.0</td>\n      <td>904.0</td>\n      <td>13698862.0</td>\n      <td>44.0</td>\n    </tr>\n  </tbody>\n</table>\n<p>5 rows × 22 columns</p>\n</div>",
            "text/plain": "                    company name  Current clients  \\\n0    General Consulting Research            145.0   \n1              Analysis Analysis            168.0   \n2  Federated Consulting Analysis             42.0   \n3             Atlantic Max North             42.0   \n4                Star Consulting            181.0   \n\n  Sanitation_services_provided  Days per week of sanitation services  \\\n0                          Yes                                     7   \n1                          Yes                                     7   \n2                           No                                     7   \n3                          Yes                                     7   \n4                          Yes                                     7   \n\n   Hours logged by sanitation workers  Hours logged by public safety officers  \\\n0                             61051.0                                 24732.0   \n1                             22166.0                                 68063.0   \n2                            139371.0                                 86605.0   \n3                             24475.0                                 31890.0   \n4                             84739.0                                 73549.0   \n\n  Beautification_services_provided  \\\n0                              Yes   \n1                              Yes   \n2                               No   \n3                              Yes   \n4                              Yes   \n\n                         Communication channels used  Special event charges  \\\n0  Direct mailings; Flyers; Email bulletins; Soci...                 360146   \n1  Print advertising (i.e. local newspaper); Dire...                 360146   \n2  Direct mailings; Door-to-door visits; Flyers; ...                 360146   \n3  Digital advertising (i.e. Google, Facebook, In...                 360146   \n4  Print advertising (i.e. local newspaper); Digi...                 206317   \n\n   Miscellaneous charges  ...  Streetscape & beautification expenses  \\\n0                  16591  ...                                  39202   \n1                  68277  ...                                 180065   \n2                  71153  ...                                  44974   \n3                  14927  ...                                 187628   \n4                  61766  ...                                  56512   \n\n   Salaries  Outside contractor expenses  Insurance costs  \\\n0    194141                       101399             2035   \n1    425466                        72166            70631   \n2    745962                       141833            68790   \n3   1189014                        72668            75686   \n4    984545                        98032            63834   \n\n   Supplies and equipment costs  Total Quotation  \\\n0                          3749           172826   \n1                         14730           499849   \n2                         19293           207742   \n3                         13038          1070827   \n4                          4368           779014   \n\n   Number_Of_Sanitation_Activities  Beautification_Activities  Media_Reach  \\\n0                          89961.0                      573.0    3031529.0   \n1                         194267.0                      558.0   20052785.0   \n2                          61961.0                      985.0   35932251.0   \n3                         146747.0                      617.0   48275471.0   \n4                         153014.0                      904.0   13698862.0   \n\n   Total_Staff  \n0         49.0  \n1        127.0  \n2         22.0  \n3         36.0  \n4         44.0  \n\n[5 rows x 22 columns]"
          },
          "execution_count": 67,
          "metadata": {},
          "output_type": "execute_result"
        }
      ],
      "source": [
        "df.head()\n"
      ]
    },
    {
      "cell_type": "code",
      "execution_count": 68,
      "metadata": {
        "id": "gUoAVIhFqBFY"
      },
      "outputs": [],
      "source": [
        "cat_feats = ['Sanitation_services_provided','Beautification_services_provided']"
      ]
    },
    {
      "cell_type": "code",
      "execution_count": 69,
      "metadata": {
        "id": "FdUPhxHzq5rl"
      },
      "outputs": [],
      "source": [
        "final_df = pd.get_dummies(df, columns=cat_feats,drop_first=True)"
      ]
    },
    {
      "cell_type": "code",
      "execution_count": 70,
      "metadata": {
        "id": "P4vtwCpQrSvI"
      },
      "outputs": [
        {
          "data": {
            "text/html": "<div>\n<style scoped>\n    .dataframe tbody tr th:only-of-type {\n        vertical-align: middle;\n    }\n\n    .dataframe tbody tr th {\n        vertical-align: top;\n    }\n\n    .dataframe thead th {\n        text-align: right;\n    }\n</style>\n<table border=\"1\" class=\"dataframe\">\n  <thead>\n    <tr style=\"text-align: right;\">\n      <th></th>\n      <th>Current clients</th>\n      <th>Days per week of sanitation services</th>\n      <th>Hours logged by sanitation workers</th>\n      <th>Hours logged by public safety officers</th>\n      <th>Special event charges</th>\n      <th>Miscellaneous charges</th>\n      <th>Sanitation expenses</th>\n      <th>Public safety expenses</th>\n      <th>Streetscape &amp; beautification expenses</th>\n      <th>Salaries</th>\n      <th>Outside contractor expenses</th>\n      <th>Insurance costs</th>\n      <th>Supplies and equipment costs</th>\n      <th>Total Quotation</th>\n      <th>Number_Of_Sanitation_Activities</th>\n      <th>Beautification_Activities</th>\n      <th>Media_Reach</th>\n      <th>Total_Staff</th>\n      <th>Sanitation_services_provided_Yes</th>\n      <th>Beautification_services_provided_Yes</th>\n    </tr>\n  </thead>\n  <tbody>\n    <tr>\n      <th>count</th>\n      <td>100000.000000</td>\n      <td>100000.000000</td>\n      <td>100000.000000</td>\n      <td>100000.000000</td>\n      <td>100000.000000</td>\n      <td>100000.000000</td>\n      <td>100000.000000</td>\n      <td>100000.000000</td>\n      <td>100000.000000</td>\n      <td>1.000000e+05</td>\n      <td>1.000000e+05</td>\n      <td>100000.000000</td>\n      <td>100000.00000</td>\n      <td>1.000000e+05</td>\n      <td>100000.000000</td>\n      <td>100000.000000</td>\n      <td>1.000000e+05</td>\n      <td>100000.000000</td>\n      <td>100000.000000</td>\n      <td>100000.00000</td>\n    </tr>\n    <tr>\n      <th>mean</th>\n      <td>903.964740</td>\n      <td>6.565800</td>\n      <td>95767.975590</td>\n      <td>65579.373620</td>\n      <td>252070.033880</td>\n      <td>61996.049200</td>\n      <td>316927.954900</td>\n      <td>156130.601480</td>\n      <td>119372.901910</td>\n      <td>6.929878e+05</td>\n      <td>8.936820e+04</td>\n      <td>54399.734850</td>\n      <td>11197.50828</td>\n      <td>6.544275e+05</td>\n      <td>153684.672810</td>\n      <td>658.104230</td>\n      <td>2.188431e+07</td>\n      <td>88.799390</td>\n      <td>0.971950</td>\n      <td>0.86923</td>\n    </tr>\n    <tr>\n      <th>std</th>\n      <td>829.924865</td>\n      <td>1.245426</td>\n      <td>44363.815934</td>\n      <td>36575.526928</td>\n      <td>142211.597494</td>\n      <td>36506.476157</td>\n      <td>162155.699977</td>\n      <td>105978.106876</td>\n      <td>69330.548388</td>\n      <td>3.421635e+05</td>\n      <td>1.359142e+05</td>\n      <td>32788.028316</td>\n      <td>5989.82881</td>\n      <td>2.119817e+05</td>\n      <td>67903.287772</td>\n      <td>249.036122</td>\n      <td>1.823736e+07</td>\n      <td>36.817805</td>\n      <td>0.165117</td>\n      <td>0.33715</td>\n    </tr>\n    <tr>\n      <th>min</th>\n      <td>9.000000</td>\n      <td>1.000000</td>\n      <td>6558.000000</td>\n      <td>1065.000000</td>\n      <td>0.000000</td>\n      <td>0.000000</td>\n      <td>0.000000</td>\n      <td>0.000000</td>\n      <td>0.000000</td>\n      <td>0.000000e+00</td>\n      <td>0.000000e+00</td>\n      <td>0.000000</td>\n      <td>0.00000</td>\n      <td>0.000000e+00</td>\n      <td>36377.000000</td>\n      <td>-20.000000</td>\n      <td>-4.517922e+06</td>\n      <td>-19.000000</td>\n      <td>0.000000</td>\n      <td>0.00000</td>\n    </tr>\n    <tr>\n      <th>25%</th>\n      <td>463.000000</td>\n      <td>7.000000</td>\n      <td>61208.500000</td>\n      <td>32661.500000</td>\n      <td>167592.000000</td>\n      <td>27387.000000</td>\n      <td>165565.000000</td>\n      <td>54013.000000</td>\n      <td>56538.000000</td>\n      <td>3.859780e+05</td>\n      <td>2.927400e+04</td>\n      <td>21373.000000</td>\n      <td>5328.00000</td>\n      <td>5.007970e+05</td>\n      <td>92360.000000</td>\n      <td>471.000000</td>\n      <td>7.727253e+06</td>\n      <td>61.000000</td>\n      <td>1.000000</td>\n      <td>1.00000</td>\n    </tr>\n    <tr>\n      <th>50%</th>\n      <td>721.000000</td>\n      <td>7.000000</td>\n      <td>89714.500000</td>\n      <td>65600.500000</td>\n      <td>281710.000000</td>\n      <td>61759.000000</td>\n      <td>328337.000000</td>\n      <td>122266.000000</td>\n      <td>119315.000000</td>\n      <td>6.611040e+05</td>\n      <td>7.216600e+04</td>\n      <td>63148.000000</td>\n      <td>11533.00000</td>\n      <td>6.430880e+05</td>\n      <td>143419.000000</td>\n      <td>665.000000</td>\n      <td>1.554718e+07</td>\n      <td>88.000000</td>\n      <td>1.000000</td>\n      <td>1.00000</td>\n    </tr>\n    <tr>\n      <th>75%</th>\n      <td>981.000000</td>\n      <td>7.000000</td>\n      <td>134327.000000</td>\n      <td>98972.000000</td>\n      <td>402157.000000</td>\n      <td>99140.000000</td>\n      <td>457854.000000</td>\n      <td>261831.250000</td>\n      <td>181656.000000</td>\n      <td>1.029543e+06</td>\n      <td>1.303910e+05</td>\n      <td>78104.000000</td>\n      <td>16819.00000</td>\n      <td>8.669920e+05</td>\n      <td>214513.000000</td>\n      <td>819.000000</td>\n      <td>3.342479e+07</td>\n      <td>116.000000</td>\n      <td>1.000000</td>\n      <td>1.00000</td>\n    </tr>\n    <tr>\n      <th>max</th>\n      <td>5889.000000</td>\n      <td>7.000000</td>\n      <td>191164.000000</td>\n      <td>134353.000000</td>\n      <td>454427.000000</td>\n      <td>122191.000000</td>\n      <td>574640.000000</td>\n      <td>340800.000000</td>\n      <td>244809.000000</td>\n      <td>1.189613e+06</td>\n      <td>1.159571e+06</td>\n      <td>112743.000000</td>\n      <td>20837.00000</td>\n      <td>1.070946e+06</td>\n      <td>274354.000000</td>\n      <td>1280.000000</td>\n      <td>7.934494e+07</td>\n      <td>204.000000</td>\n      <td>1.000000</td>\n      <td>1.00000</td>\n    </tr>\n  </tbody>\n</table>\n</div>",
            "text/plain": "       Current clients  Days per week of sanitation services  \\\ncount    100000.000000                         100000.000000   \nmean        903.964740                              6.565800   \nstd         829.924865                              1.245426   \nmin           9.000000                              1.000000   \n25%         463.000000                              7.000000   \n50%         721.000000                              7.000000   \n75%         981.000000                              7.000000   \nmax        5889.000000                              7.000000   \n\n       Hours logged by sanitation workers  \\\ncount                       100000.000000   \nmean                         95767.975590   \nstd                          44363.815934   \nmin                           6558.000000   \n25%                          61208.500000   \n50%                          89714.500000   \n75%                         134327.000000   \nmax                         191164.000000   \n\n       Hours logged by public safety officers  Special event charges  \\\ncount                           100000.000000          100000.000000   \nmean                             65579.373620          252070.033880   \nstd                              36575.526928          142211.597494   \nmin                               1065.000000               0.000000   \n25%                              32661.500000          167592.000000   \n50%                              65600.500000          281710.000000   \n75%                              98972.000000          402157.000000   \nmax                             134353.000000          454427.000000   \n\n       Miscellaneous charges  Sanitation expenses  Public safety expenses  \\\ncount          100000.000000        100000.000000           100000.000000   \nmean            61996.049200        316927.954900           156130.601480   \nstd             36506.476157        162155.699977           105978.106876   \nmin                 0.000000             0.000000                0.000000   \n25%             27387.000000        165565.000000            54013.000000   \n50%             61759.000000        328337.000000           122266.000000   \n75%             99140.000000        457854.000000           261831.250000   \nmax            122191.000000        574640.000000           340800.000000   \n\n       Streetscape & beautification expenses      Salaries  \\\ncount                          100000.000000  1.000000e+05   \nmean                           119372.901910  6.929878e+05   \nstd                             69330.548388  3.421635e+05   \nmin                                 0.000000  0.000000e+00   \n25%                             56538.000000  3.859780e+05   \n50%                            119315.000000  6.611040e+05   \n75%                            181656.000000  1.029543e+06   \nmax                            244809.000000  1.189613e+06   \n\n       Outside contractor expenses  Insurance costs  \\\ncount                 1.000000e+05    100000.000000   \nmean                  8.936820e+04     54399.734850   \nstd                   1.359142e+05     32788.028316   \nmin                   0.000000e+00         0.000000   \n25%                   2.927400e+04     21373.000000   \n50%                   7.216600e+04     63148.000000   \n75%                   1.303910e+05     78104.000000   \nmax                   1.159571e+06    112743.000000   \n\n       Supplies and equipment costs  Total Quotation  \\\ncount                  100000.00000     1.000000e+05   \nmean                    11197.50828     6.544275e+05   \nstd                      5989.82881     2.119817e+05   \nmin                         0.00000     0.000000e+00   \n25%                      5328.00000     5.007970e+05   \n50%                     11533.00000     6.430880e+05   \n75%                     16819.00000     8.669920e+05   \nmax                     20837.00000     1.070946e+06   \n\n       Number_Of_Sanitation_Activities  Beautification_Activities  \\\ncount                    100000.000000              100000.000000   \nmean                     153684.672810                 658.104230   \nstd                       67903.287772                 249.036122   \nmin                       36377.000000                 -20.000000   \n25%                       92360.000000                 471.000000   \n50%                      143419.000000                 665.000000   \n75%                      214513.000000                 819.000000   \nmax                      274354.000000                1280.000000   \n\n        Media_Reach    Total_Staff  Sanitation_services_provided_Yes  \\\ncount  1.000000e+05  100000.000000                     100000.000000   \nmean   2.188431e+07      88.799390                          0.971950   \nstd    1.823736e+07      36.817805                          0.165117   \nmin   -4.517922e+06     -19.000000                          0.000000   \n25%    7.727253e+06      61.000000                          1.000000   \n50%    1.554718e+07      88.000000                          1.000000   \n75%    3.342479e+07     116.000000                          1.000000   \nmax    7.934494e+07     204.000000                          1.000000   \n\n       Beautification_services_provided_Yes  \ncount                          100000.00000  \nmean                                0.86923  \nstd                                 0.33715  \nmin                                 0.00000  \n25%                                 1.00000  \n50%                                 1.00000  \n75%                                 1.00000  \nmax                                 1.00000  "
          },
          "execution_count": 70,
          "metadata": {},
          "output_type": "execute_result"
        }
      ],
      "source": [
        "final_df.describe()"
      ]
    },
    {
      "cell_type": "code",
      "execution_count": 71,
      "metadata": {
        "id": "k8cNEzjCxu2T"
      },
      "outputs": [],
      "source": [
        "final_df.drop(['Communication channels used'], inplace = True, axis = 1)"
      ]
    },
    {
      "cell_type": "code",
      "execution_count": 72,
      "metadata": {
        "id": "lvIskETLEBnY"
      },
      "outputs": [
        {
          "data": {
            "text/html": "<div>\n<style scoped>\n    .dataframe tbody tr th:only-of-type {\n        vertical-align: middle;\n    }\n\n    .dataframe tbody tr th {\n        vertical-align: top;\n    }\n\n    .dataframe thead th {\n        text-align: right;\n    }\n</style>\n<table border=\"1\" class=\"dataframe\">\n  <thead>\n    <tr style=\"text-align: right;\">\n      <th></th>\n      <th>Current clients</th>\n      <th>Days per week of sanitation services</th>\n      <th>Hours logged by sanitation workers</th>\n      <th>Hours logged by public safety officers</th>\n      <th>Special event charges</th>\n      <th>Miscellaneous charges</th>\n      <th>Sanitation expenses</th>\n      <th>Public safety expenses</th>\n      <th>Streetscape &amp; beautification expenses</th>\n      <th>Salaries</th>\n      <th>Outside contractor expenses</th>\n      <th>Insurance costs</th>\n      <th>Supplies and equipment costs</th>\n      <th>Total Quotation</th>\n      <th>Number_Of_Sanitation_Activities</th>\n      <th>Beautification_Activities</th>\n      <th>Media_Reach</th>\n      <th>Total_Staff</th>\n      <th>Sanitation_services_provided_Yes</th>\n      <th>Beautification_services_provided_Yes</th>\n    </tr>\n  </thead>\n  <tbody>\n    <tr>\n      <th>count</th>\n      <td>100000.000000</td>\n      <td>100000.000000</td>\n      <td>100000.000000</td>\n      <td>100000.000000</td>\n      <td>100000.000000</td>\n      <td>100000.000000</td>\n      <td>100000.000000</td>\n      <td>100000.000000</td>\n      <td>100000.000000</td>\n      <td>1.000000e+05</td>\n      <td>1.000000e+05</td>\n      <td>100000.000000</td>\n      <td>100000.00000</td>\n      <td>1.000000e+05</td>\n      <td>100000.000000</td>\n      <td>100000.000000</td>\n      <td>1.000000e+05</td>\n      <td>100000.000000</td>\n      <td>100000.000000</td>\n      <td>100000.00000</td>\n    </tr>\n    <tr>\n      <th>mean</th>\n      <td>903.964740</td>\n      <td>6.565800</td>\n      <td>95767.975590</td>\n      <td>65579.373620</td>\n      <td>252070.033880</td>\n      <td>61996.049200</td>\n      <td>316927.954900</td>\n      <td>156130.601480</td>\n      <td>119372.901910</td>\n      <td>6.929878e+05</td>\n      <td>8.936820e+04</td>\n      <td>54399.734850</td>\n      <td>11197.50828</td>\n      <td>6.544275e+05</td>\n      <td>153684.672810</td>\n      <td>658.104230</td>\n      <td>2.188431e+07</td>\n      <td>88.799390</td>\n      <td>0.971950</td>\n      <td>0.86923</td>\n    </tr>\n    <tr>\n      <th>std</th>\n      <td>829.924865</td>\n      <td>1.245426</td>\n      <td>44363.815934</td>\n      <td>36575.526928</td>\n      <td>142211.597494</td>\n      <td>36506.476157</td>\n      <td>162155.699977</td>\n      <td>105978.106876</td>\n      <td>69330.548388</td>\n      <td>3.421635e+05</td>\n      <td>1.359142e+05</td>\n      <td>32788.028316</td>\n      <td>5989.82881</td>\n      <td>2.119817e+05</td>\n      <td>67903.287772</td>\n      <td>249.036122</td>\n      <td>1.823736e+07</td>\n      <td>36.817805</td>\n      <td>0.165117</td>\n      <td>0.33715</td>\n    </tr>\n    <tr>\n      <th>min</th>\n      <td>9.000000</td>\n      <td>1.000000</td>\n      <td>6558.000000</td>\n      <td>1065.000000</td>\n      <td>0.000000</td>\n      <td>0.000000</td>\n      <td>0.000000</td>\n      <td>0.000000</td>\n      <td>0.000000</td>\n      <td>0.000000e+00</td>\n      <td>0.000000e+00</td>\n      <td>0.000000</td>\n      <td>0.00000</td>\n      <td>0.000000e+00</td>\n      <td>36377.000000</td>\n      <td>-20.000000</td>\n      <td>-4.517922e+06</td>\n      <td>-19.000000</td>\n      <td>0.000000</td>\n      <td>0.00000</td>\n    </tr>\n    <tr>\n      <th>25%</th>\n      <td>463.000000</td>\n      <td>7.000000</td>\n      <td>61208.500000</td>\n      <td>32661.500000</td>\n      <td>167592.000000</td>\n      <td>27387.000000</td>\n      <td>165565.000000</td>\n      <td>54013.000000</td>\n      <td>56538.000000</td>\n      <td>3.859780e+05</td>\n      <td>2.927400e+04</td>\n      <td>21373.000000</td>\n      <td>5328.00000</td>\n      <td>5.007970e+05</td>\n      <td>92360.000000</td>\n      <td>471.000000</td>\n      <td>7.727253e+06</td>\n      <td>61.000000</td>\n      <td>1.000000</td>\n      <td>1.00000</td>\n    </tr>\n    <tr>\n      <th>50%</th>\n      <td>721.000000</td>\n      <td>7.000000</td>\n      <td>89714.500000</td>\n      <td>65600.500000</td>\n      <td>281710.000000</td>\n      <td>61759.000000</td>\n      <td>328337.000000</td>\n      <td>122266.000000</td>\n      <td>119315.000000</td>\n      <td>6.611040e+05</td>\n      <td>7.216600e+04</td>\n      <td>63148.000000</td>\n      <td>11533.00000</td>\n      <td>6.430880e+05</td>\n      <td>143419.000000</td>\n      <td>665.000000</td>\n      <td>1.554718e+07</td>\n      <td>88.000000</td>\n      <td>1.000000</td>\n      <td>1.00000</td>\n    </tr>\n    <tr>\n      <th>75%</th>\n      <td>981.000000</td>\n      <td>7.000000</td>\n      <td>134327.000000</td>\n      <td>98972.000000</td>\n      <td>402157.000000</td>\n      <td>99140.000000</td>\n      <td>457854.000000</td>\n      <td>261831.250000</td>\n      <td>181656.000000</td>\n      <td>1.029543e+06</td>\n      <td>1.303910e+05</td>\n      <td>78104.000000</td>\n      <td>16819.00000</td>\n      <td>8.669920e+05</td>\n      <td>214513.000000</td>\n      <td>819.000000</td>\n      <td>3.342479e+07</td>\n      <td>116.000000</td>\n      <td>1.000000</td>\n      <td>1.00000</td>\n    </tr>\n    <tr>\n      <th>max</th>\n      <td>5889.000000</td>\n      <td>7.000000</td>\n      <td>191164.000000</td>\n      <td>134353.000000</td>\n      <td>454427.000000</td>\n      <td>122191.000000</td>\n      <td>574640.000000</td>\n      <td>340800.000000</td>\n      <td>244809.000000</td>\n      <td>1.189613e+06</td>\n      <td>1.159571e+06</td>\n      <td>112743.000000</td>\n      <td>20837.00000</td>\n      <td>1.070946e+06</td>\n      <td>274354.000000</td>\n      <td>1280.000000</td>\n      <td>7.934494e+07</td>\n      <td>204.000000</td>\n      <td>1.000000</td>\n      <td>1.00000</td>\n    </tr>\n  </tbody>\n</table>\n</div>",
            "text/plain": "       Current clients  Days per week of sanitation services  \\\ncount    100000.000000                         100000.000000   \nmean        903.964740                              6.565800   \nstd         829.924865                              1.245426   \nmin           9.000000                              1.000000   \n25%         463.000000                              7.000000   \n50%         721.000000                              7.000000   \n75%         981.000000                              7.000000   \nmax        5889.000000                              7.000000   \n\n       Hours logged by sanitation workers  \\\ncount                       100000.000000   \nmean                         95767.975590   \nstd                          44363.815934   \nmin                           6558.000000   \n25%                          61208.500000   \n50%                          89714.500000   \n75%                         134327.000000   \nmax                         191164.000000   \n\n       Hours logged by public safety officers  Special event charges  \\\ncount                           100000.000000          100000.000000   \nmean                             65579.373620          252070.033880   \nstd                              36575.526928          142211.597494   \nmin                               1065.000000               0.000000   \n25%                              32661.500000          167592.000000   \n50%                              65600.500000          281710.000000   \n75%                              98972.000000          402157.000000   \nmax                             134353.000000          454427.000000   \n\n       Miscellaneous charges  Sanitation expenses  Public safety expenses  \\\ncount          100000.000000        100000.000000           100000.000000   \nmean            61996.049200        316927.954900           156130.601480   \nstd             36506.476157        162155.699977           105978.106876   \nmin                 0.000000             0.000000                0.000000   \n25%             27387.000000        165565.000000            54013.000000   \n50%             61759.000000        328337.000000           122266.000000   \n75%             99140.000000        457854.000000           261831.250000   \nmax            122191.000000        574640.000000           340800.000000   \n\n       Streetscape & beautification expenses      Salaries  \\\ncount                          100000.000000  1.000000e+05   \nmean                           119372.901910  6.929878e+05   \nstd                             69330.548388  3.421635e+05   \nmin                                 0.000000  0.000000e+00   \n25%                             56538.000000  3.859780e+05   \n50%                            119315.000000  6.611040e+05   \n75%                            181656.000000  1.029543e+06   \nmax                            244809.000000  1.189613e+06   \n\n       Outside contractor expenses  Insurance costs  \\\ncount                 1.000000e+05    100000.000000   \nmean                  8.936820e+04     54399.734850   \nstd                   1.359142e+05     32788.028316   \nmin                   0.000000e+00         0.000000   \n25%                   2.927400e+04     21373.000000   \n50%                   7.216600e+04     63148.000000   \n75%                   1.303910e+05     78104.000000   \nmax                   1.159571e+06    112743.000000   \n\n       Supplies and equipment costs  Total Quotation  \\\ncount                  100000.00000     1.000000e+05   \nmean                    11197.50828     6.544275e+05   \nstd                      5989.82881     2.119817e+05   \nmin                         0.00000     0.000000e+00   \n25%                      5328.00000     5.007970e+05   \n50%                     11533.00000     6.430880e+05   \n75%                     16819.00000     8.669920e+05   \nmax                     20837.00000     1.070946e+06   \n\n       Number_Of_Sanitation_Activities  Beautification_Activities  \\\ncount                    100000.000000              100000.000000   \nmean                     153684.672810                 658.104230   \nstd                       67903.287772                 249.036122   \nmin                       36377.000000                 -20.000000   \n25%                       92360.000000                 471.000000   \n50%                      143419.000000                 665.000000   \n75%                      214513.000000                 819.000000   \nmax                      274354.000000                1280.000000   \n\n        Media_Reach    Total_Staff  Sanitation_services_provided_Yes  \\\ncount  1.000000e+05  100000.000000                     100000.000000   \nmean   2.188431e+07      88.799390                          0.971950   \nstd    1.823736e+07      36.817805                          0.165117   \nmin   -4.517922e+06     -19.000000                          0.000000   \n25%    7.727253e+06      61.000000                          1.000000   \n50%    1.554718e+07      88.000000                          1.000000   \n75%    3.342479e+07     116.000000                          1.000000   \nmax    7.934494e+07     204.000000                          1.000000   \n\n       Beautification_services_provided_Yes  \ncount                          100000.00000  \nmean                                0.86923  \nstd                                 0.33715  \nmin                                 0.00000  \n25%                                 1.00000  \n50%                                 1.00000  \n75%                                 1.00000  \nmax                                 1.00000  "
          },
          "execution_count": 72,
          "metadata": {},
          "output_type": "execute_result"
        }
      ],
      "source": [
        "final_df.describe()"
      ]
    },
    {
      "cell_type": "code",
      "execution_count": 73,
      "metadata": {
        "id": "ZrhqRbnOrvti"
      },
      "outputs": [
        {
          "data": {
            "text/html": "<div>\n<style scoped>\n    .dataframe tbody tr th:only-of-type {\n        vertical-align: middle;\n    }\n\n    .dataframe tbody tr th {\n        vertical-align: top;\n    }\n\n    .dataframe thead th {\n        text-align: right;\n    }\n</style>\n<table border=\"1\" class=\"dataframe\">\n  <thead>\n    <tr style=\"text-align: right;\">\n      <th></th>\n      <th>company name</th>\n      <th>Current clients</th>\n      <th>Days per week of sanitation services</th>\n      <th>Hours logged by sanitation workers</th>\n      <th>Hours logged by public safety officers</th>\n      <th>Special event charges</th>\n      <th>Miscellaneous charges</th>\n      <th>Sanitation expenses</th>\n      <th>Public safety expenses</th>\n      <th>Streetscape &amp; beautification expenses</th>\n      <th>...</th>\n      <th>Outside contractor expenses</th>\n      <th>Insurance costs</th>\n      <th>Supplies and equipment costs</th>\n      <th>Total Quotation</th>\n      <th>Number_Of_Sanitation_Activities</th>\n      <th>Beautification_Activities</th>\n      <th>Media_Reach</th>\n      <th>Total_Staff</th>\n      <th>Sanitation_services_provided_Yes</th>\n      <th>Beautification_services_provided_Yes</th>\n    </tr>\n  </thead>\n  <tbody>\n    <tr>\n      <th>0</th>\n      <td>General Consulting Research</td>\n      <td>145.0</td>\n      <td>7</td>\n      <td>61051.0</td>\n      <td>24732.0</td>\n      <td>360146</td>\n      <td>16591</td>\n      <td>76277</td>\n      <td>40756</td>\n      <td>39202</td>\n      <td>...</td>\n      <td>101399</td>\n      <td>2035</td>\n      <td>3749</td>\n      <td>172826</td>\n      <td>89961.0</td>\n      <td>573.0</td>\n      <td>3031529.0</td>\n      <td>49.0</td>\n      <td>1</td>\n      <td>1</td>\n    </tr>\n    <tr>\n      <th>1</th>\n      <td>Analysis Analysis</td>\n      <td>168.0</td>\n      <td>7</td>\n      <td>22166.0</td>\n      <td>68063.0</td>\n      <td>360146</td>\n      <td>68277</td>\n      <td>82436</td>\n      <td>169071</td>\n      <td>180065</td>\n      <td>...</td>\n      <td>72166</td>\n      <td>70631</td>\n      <td>14730</td>\n      <td>499849</td>\n      <td>194267.0</td>\n      <td>558.0</td>\n      <td>20052785.0</td>\n      <td>127.0</td>\n      <td>1</td>\n      <td>1</td>\n    </tr>\n    <tr>\n      <th>2</th>\n      <td>Federated Consulting Analysis</td>\n      <td>42.0</td>\n      <td>7</td>\n      <td>139371.0</td>\n      <td>86605.0</td>\n      <td>360146</td>\n      <td>71153</td>\n      <td>82436</td>\n      <td>9179</td>\n      <td>44974</td>\n      <td>...</td>\n      <td>141833</td>\n      <td>68790</td>\n      <td>19293</td>\n      <td>207742</td>\n      <td>61961.0</td>\n      <td>985.0</td>\n      <td>35932251.0</td>\n      <td>22.0</td>\n      <td>0</td>\n      <td>0</td>\n    </tr>\n    <tr>\n      <th>3</th>\n      <td>Atlantic Max North</td>\n      <td>42.0</td>\n      <td>7</td>\n      <td>24475.0</td>\n      <td>31890.0</td>\n      <td>360146</td>\n      <td>14927</td>\n      <td>574602</td>\n      <td>293670</td>\n      <td>187628</td>\n      <td>...</td>\n      <td>72668</td>\n      <td>75686</td>\n      <td>13038</td>\n      <td>1070827</td>\n      <td>146747.0</td>\n      <td>617.0</td>\n      <td>48275471.0</td>\n      <td>36.0</td>\n      <td>1</td>\n      <td>1</td>\n    </tr>\n    <tr>\n      <th>4</th>\n      <td>Star Consulting</td>\n      <td>181.0</td>\n      <td>7</td>\n      <td>84739.0</td>\n      <td>73549.0</td>\n      <td>206317</td>\n      <td>61766</td>\n      <td>340025</td>\n      <td>320711</td>\n      <td>56512</td>\n      <td>...</td>\n      <td>98032</td>\n      <td>63834</td>\n      <td>4368</td>\n      <td>779014</td>\n      <td>153014.0</td>\n      <td>904.0</td>\n      <td>13698862.0</td>\n      <td>44.0</td>\n      <td>1</td>\n      <td>1</td>\n    </tr>\n  </tbody>\n</table>\n<p>5 rows × 21 columns</p>\n</div>",
            "text/plain": "                    company name  Current clients  \\\n0    General Consulting Research            145.0   \n1              Analysis Analysis            168.0   \n2  Federated Consulting Analysis             42.0   \n3             Atlantic Max North             42.0   \n4                Star Consulting            181.0   \n\n   Days per week of sanitation services  Hours logged by sanitation workers  \\\n0                                     7                             61051.0   \n1                                     7                             22166.0   \n2                                     7                            139371.0   \n3                                     7                             24475.0   \n4                                     7                             84739.0   \n\n   Hours logged by public safety officers  Special event charges  \\\n0                                 24732.0                 360146   \n1                                 68063.0                 360146   \n2                                 86605.0                 360146   \n3                                 31890.0                 360146   \n4                                 73549.0                 206317   \n\n   Miscellaneous charges  Sanitation expenses  Public safety expenses  \\\n0                  16591                76277                   40756   \n1                  68277                82436                  169071   \n2                  71153                82436                    9179   \n3                  14927               574602                  293670   \n4                  61766               340025                  320711   \n\n   Streetscape & beautification expenses  ...  Outside contractor expenses  \\\n0                                  39202  ...                       101399   \n1                                 180065  ...                        72166   \n2                                  44974  ...                       141833   \n3                                 187628  ...                        72668   \n4                                  56512  ...                        98032   \n\n   Insurance costs  Supplies and equipment costs  Total Quotation  \\\n0             2035                          3749           172826   \n1            70631                         14730           499849   \n2            68790                         19293           207742   \n3            75686                         13038          1070827   \n4            63834                          4368           779014   \n\n   Number_Of_Sanitation_Activities  Beautification_Activities  Media_Reach  \\\n0                          89961.0                      573.0    3031529.0   \n1                         194267.0                      558.0   20052785.0   \n2                          61961.0                      985.0   35932251.0   \n3                         146747.0                      617.0   48275471.0   \n4                         153014.0                      904.0   13698862.0   \n\n   Total_Staff  Sanitation_services_provided_Yes  \\\n0         49.0                                 1   \n1        127.0                                 1   \n2         22.0                                 0   \n3         36.0                                 1   \n4         44.0                                 1   \n\n   Beautification_services_provided_Yes  \n0                                     1  \n1                                     1  \n2                                     0  \n3                                     1  \n4                                     1  \n\n[5 rows x 21 columns]"
          },
          "execution_count": 73,
          "metadata": {},
          "output_type": "execute_result"
        }
      ],
      "source": [
        "final_df.head()"
      ]
    },
    {
      "cell_type": "code",
      "execution_count": 74,
      "metadata": {
        "id": "O9SyNkxu_Ho9"
      },
      "outputs": [],
      "source": [
        "#Separating the Attribute and target attribute\r\n",
        "y = final_df.iloc[0:1000,0] #Dependent\r\n",
        "x = final_df.iloc[0:1000,1:21] #Independent attributes"
      ]
    },
    {
      "cell_type": "code",
      "execution_count": 75,
      "metadata": {
        "id": "KwhW96Ndqie0"
      },
      "outputs": [
        {
          "data": {
            "text/html": "<div>\n<style scoped>\n    .dataframe tbody tr th:only-of-type {\n        vertical-align: middle;\n    }\n\n    .dataframe tbody tr th {\n        vertical-align: top;\n    }\n\n    .dataframe thead th {\n        text-align: right;\n    }\n</style>\n<table border=\"1\" class=\"dataframe\">\n  <thead>\n    <tr style=\"text-align: right;\">\n      <th></th>\n      <th>Current clients</th>\n      <th>Days per week of sanitation services</th>\n      <th>Hours logged by sanitation workers</th>\n      <th>Hours logged by public safety officers</th>\n      <th>Special event charges</th>\n      <th>Miscellaneous charges</th>\n      <th>Sanitation expenses</th>\n      <th>Public safety expenses</th>\n      <th>Streetscape &amp; beautification expenses</th>\n      <th>Salaries</th>\n      <th>Outside contractor expenses</th>\n      <th>Insurance costs</th>\n      <th>Supplies and equipment costs</th>\n      <th>Total Quotation</th>\n      <th>Number_Of_Sanitation_Activities</th>\n      <th>Beautification_Activities</th>\n      <th>Media_Reach</th>\n      <th>Total_Staff</th>\n      <th>Sanitation_services_provided_Yes</th>\n      <th>Beautification_services_provided_Yes</th>\n    </tr>\n  </thead>\n  <tbody>\n    <tr>\n      <th>0</th>\n      <td>145.0</td>\n      <td>7</td>\n      <td>61051.0</td>\n      <td>24732.0</td>\n      <td>360146</td>\n      <td>16591</td>\n      <td>76277</td>\n      <td>40756</td>\n      <td>39202</td>\n      <td>194141</td>\n      <td>101399</td>\n      <td>2035</td>\n      <td>3749</td>\n      <td>172826</td>\n      <td>89961.0</td>\n      <td>573.0</td>\n      <td>3031529.0</td>\n      <td>49.0</td>\n      <td>1</td>\n      <td>1</td>\n    </tr>\n    <tr>\n      <th>1</th>\n      <td>168.0</td>\n      <td>7</td>\n      <td>22166.0</td>\n      <td>68063.0</td>\n      <td>360146</td>\n      <td>68277</td>\n      <td>82436</td>\n      <td>169071</td>\n      <td>180065</td>\n      <td>425466</td>\n      <td>72166</td>\n      <td>70631</td>\n      <td>14730</td>\n      <td>499849</td>\n      <td>194267.0</td>\n      <td>558.0</td>\n      <td>20052785.0</td>\n      <td>127.0</td>\n      <td>1</td>\n      <td>1</td>\n    </tr>\n    <tr>\n      <th>2</th>\n      <td>42.0</td>\n      <td>7</td>\n      <td>139371.0</td>\n      <td>86605.0</td>\n      <td>360146</td>\n      <td>71153</td>\n      <td>82436</td>\n      <td>9179</td>\n      <td>44974</td>\n      <td>745962</td>\n      <td>141833</td>\n      <td>68790</td>\n      <td>19293</td>\n      <td>207742</td>\n      <td>61961.0</td>\n      <td>985.0</td>\n      <td>35932251.0</td>\n      <td>22.0</td>\n      <td>0</td>\n      <td>0</td>\n    </tr>\n    <tr>\n      <th>3</th>\n      <td>42.0</td>\n      <td>7</td>\n      <td>24475.0</td>\n      <td>31890.0</td>\n      <td>360146</td>\n      <td>14927</td>\n      <td>574602</td>\n      <td>293670</td>\n      <td>187628</td>\n      <td>1189014</td>\n      <td>72668</td>\n      <td>75686</td>\n      <td>13038</td>\n      <td>1070827</td>\n      <td>146747.0</td>\n      <td>617.0</td>\n      <td>48275471.0</td>\n      <td>36.0</td>\n      <td>1</td>\n      <td>1</td>\n    </tr>\n    <tr>\n      <th>4</th>\n      <td>181.0</td>\n      <td>7</td>\n      <td>84739.0</td>\n      <td>73549.0</td>\n      <td>206317</td>\n      <td>61766</td>\n      <td>340025</td>\n      <td>320711</td>\n      <td>56512</td>\n      <td>984545</td>\n      <td>98032</td>\n      <td>63834</td>\n      <td>4368</td>\n      <td>779014</td>\n      <td>153014.0</td>\n      <td>904.0</td>\n      <td>13698862.0</td>\n      <td>44.0</td>\n      <td>1</td>\n      <td>1</td>\n    </tr>\n    <tr>\n      <th>...</th>\n      <td>...</td>\n      <td>...</td>\n      <td>...</td>\n      <td>...</td>\n      <td>...</td>\n      <td>...</td>\n      <td>...</td>\n      <td>...</td>\n      <td>...</td>\n      <td>...</td>\n      <td>...</td>\n      <td>...</td>\n      <td>...</td>\n      <td>...</td>\n      <td>...</td>\n      <td>...</td>\n      <td>...</td>\n      <td>...</td>\n      <td>...</td>\n      <td>...</td>\n    </tr>\n    <tr>\n      <th>995</th>\n      <td>394.0</td>\n      <td>7</td>\n      <td>118128.0</td>\n      <td>104236.0</td>\n      <td>19576</td>\n      <td>59436</td>\n      <td>177311</td>\n      <td>236721</td>\n      <td>168174</td>\n      <td>661089</td>\n      <td>54675</td>\n      <td>89495</td>\n      <td>17110</td>\n      <td>641642</td>\n      <td>99768.0</td>\n      <td>460.0</td>\n      <td>67564895.0</td>\n      <td>74.0</td>\n      <td>1</td>\n      <td>1</td>\n    </tr>\n    <tr>\n      <th>996</th>\n      <td>315.0</td>\n      <td>3</td>\n      <td>79633.0</td>\n      <td>104236.0</td>\n      <td>196511</td>\n      <td>49243</td>\n      <td>322515</td>\n      <td>204908</td>\n      <td>236523</td>\n      <td>1189605</td>\n      <td>111389</td>\n      <td>89849</td>\n      <td>2614</td>\n      <td>813189</td>\n      <td>123950.0</td>\n      <td>662.0</td>\n      <td>12503432.0</td>\n      <td>75.0</td>\n      <td>1</td>\n      <td>0</td>\n    </tr>\n    <tr>\n      <th>997</th>\n      <td>627.0</td>\n      <td>7</td>\n      <td>85799.0</td>\n      <td>26315.0</td>\n      <td>281710</td>\n      <td>64092</td>\n      <td>316413</td>\n      <td>133253</td>\n      <td>27324</td>\n      <td>1189451</td>\n      <td>73714</td>\n      <td>78154</td>\n      <td>17975</td>\n      <td>541082</td>\n      <td>164572.0</td>\n      <td>693.0</td>\n      <td>7967180.0</td>\n      <td>101.0</td>\n      <td>1</td>\n      <td>1</td>\n    </tr>\n    <tr>\n      <th>998</th>\n      <td>3145.0</td>\n      <td>7</td>\n      <td>66240.0</td>\n      <td>121560.0</td>\n      <td>281710</td>\n      <td>27345</td>\n      <td>169937</td>\n      <td>86676</td>\n      <td>10254</td>\n      <td>325518</td>\n      <td>87068</td>\n      <td>68453</td>\n      <td>18156</td>\n      <td>294212</td>\n      <td>256191.0</td>\n      <td>950.0</td>\n      <td>1102855.0</td>\n      <td>49.0</td>\n      <td>1</td>\n      <td>1</td>\n    </tr>\n    <tr>\n      <th>999</th>\n      <td>3379.0</td>\n      <td>7</td>\n      <td>65821.0</td>\n      <td>124580.0</td>\n      <td>281710</td>\n      <td>27398</td>\n      <td>169967</td>\n      <td>86681</td>\n      <td>10251</td>\n      <td>325490</td>\n      <td>87017</td>\n      <td>68461</td>\n      <td>18141</td>\n      <td>294297</td>\n      <td>256187.0</td>\n      <td>943.0</td>\n      <td>1011372.0</td>\n      <td>51.0</td>\n      <td>1</td>\n      <td>1</td>\n    </tr>\n  </tbody>\n</table>\n<p>1000 rows × 20 columns</p>\n</div>",
            "text/plain": "     Current clients  Days per week of sanitation services  \\\n0              145.0                                     7   \n1              168.0                                     7   \n2               42.0                                     7   \n3               42.0                                     7   \n4              181.0                                     7   \n..               ...                                   ...   \n995            394.0                                     7   \n996            315.0                                     3   \n997            627.0                                     7   \n998           3145.0                                     7   \n999           3379.0                                     7   \n\n     Hours logged by sanitation workers  \\\n0                               61051.0   \n1                               22166.0   \n2                              139371.0   \n3                               24475.0   \n4                               84739.0   \n..                                  ...   \n995                            118128.0   \n996                             79633.0   \n997                             85799.0   \n998                             66240.0   \n999                             65821.0   \n\n     Hours logged by public safety officers  Special event charges  \\\n0                                   24732.0                 360146   \n1                                   68063.0                 360146   \n2                                   86605.0                 360146   \n3                                   31890.0                 360146   \n4                                   73549.0                 206317   \n..                                      ...                    ...   \n995                                104236.0                  19576   \n996                                104236.0                 196511   \n997                                 26315.0                 281710   \n998                                121560.0                 281710   \n999                                124580.0                 281710   \n\n     Miscellaneous charges  Sanitation expenses  Public safety expenses  \\\n0                    16591                76277                   40756   \n1                    68277                82436                  169071   \n2                    71153                82436                    9179   \n3                    14927               574602                  293670   \n4                    61766               340025                  320711   \n..                     ...                  ...                     ...   \n995                  59436               177311                  236721   \n996                  49243               322515                  204908   \n997                  64092               316413                  133253   \n998                  27345               169937                   86676   \n999                  27398               169967                   86681   \n\n     Streetscape & beautification expenses  Salaries  \\\n0                                    39202    194141   \n1                                   180065    425466   \n2                                    44974    745962   \n3                                   187628   1189014   \n4                                    56512    984545   \n..                                     ...       ...   \n995                                 168174    661089   \n996                                 236523   1189605   \n997                                  27324   1189451   \n998                                  10254    325518   \n999                                  10251    325490   \n\n     Outside contractor expenses  Insurance costs  \\\n0                         101399             2035   \n1                          72166            70631   \n2                         141833            68790   \n3                          72668            75686   \n4                          98032            63834   \n..                           ...              ...   \n995                        54675            89495   \n996                       111389            89849   \n997                        73714            78154   \n998                        87068            68453   \n999                        87017            68461   \n\n     Supplies and equipment costs  Total Quotation  \\\n0                            3749           172826   \n1                           14730           499849   \n2                           19293           207742   \n3                           13038          1070827   \n4                            4368           779014   \n..                            ...              ...   \n995                         17110           641642   \n996                          2614           813189   \n997                         17975           541082   \n998                         18156           294212   \n999                         18141           294297   \n\n     Number_Of_Sanitation_Activities  Beautification_Activities  Media_Reach  \\\n0                            89961.0                      573.0    3031529.0   \n1                           194267.0                      558.0   20052785.0   \n2                            61961.0                      985.0   35932251.0   \n3                           146747.0                      617.0   48275471.0   \n4                           153014.0                      904.0   13698862.0   \n..                               ...                        ...          ...   \n995                          99768.0                      460.0   67564895.0   \n996                         123950.0                      662.0   12503432.0   \n997                         164572.0                      693.0    7967180.0   \n998                         256191.0                      950.0    1102855.0   \n999                         256187.0                      943.0    1011372.0   \n\n     Total_Staff  Sanitation_services_provided_Yes  \\\n0           49.0                                 1   \n1          127.0                                 1   \n2           22.0                                 0   \n3           36.0                                 1   \n4           44.0                                 1   \n..           ...                               ...   \n995         74.0                                 1   \n996         75.0                                 1   \n997        101.0                                 1   \n998         49.0                                 1   \n999         51.0                                 1   \n\n     Beautification_services_provided_Yes  \n0                                       1  \n1                                       1  \n2                                       0  \n3                                       1  \n4                                       1  \n..                                    ...  \n995                                     1  \n996                                     0  \n997                                     1  \n998                                     1  \n999                                     1  \n\n[1000 rows x 20 columns]"
          },
          "execution_count": 75,
          "metadata": {},
          "output_type": "execute_result"
        }
      ],
      "source": [
        "x"
      ]
    },
    {
      "cell_type": "code",
      "execution_count": 76,
      "metadata": {
        "id": "WJy5PH6ZFVN3"
      },
      "outputs": [
        {
          "data": {
            "text/plain": "(1000, 20)"
          },
          "execution_count": 76,
          "metadata": {},
          "output_type": "execute_result"
        }
      ],
      "source": [
        "x.shape"
      ]
    },
    {
      "cell_type": "code",
      "execution_count": 77,
      "metadata": {
        "id": "PFNeWxZZG4la"
      },
      "outputs": [
        {
          "data": {
            "text/plain": "0        General Consulting Research\n1                  Analysis Analysis\n2      Federated Consulting Analysis\n3                 Atlantic Max North\n4                    Star Consulting\n                   ...              \n995           Source Atlantic Signal\n996                  Provider Direct\n997      Power Internet Construction\n998           Vision Analysis Galaxy\n999                   Power Net East\nName: company name, Length: 1000, dtype: object"
          },
          "execution_count": 77,
          "metadata": {},
          "output_type": "execute_result"
        }
      ],
      "source": [
        "y"
      ]
    },
    {
      "cell_type": "code",
      "execution_count": 78,
      "metadata": {},
      "outputs": [
        {
          "data": {
            "text/plain": "(1000, 20)"
          },
          "execution_count": 78,
          "metadata": {},
          "output_type": "execute_result"
        }
      ],
      "source": [
        "x.shape"
      ]
    },
    {
      "cell_type": "code",
      "execution_count": 79,
      "metadata": {
        "id": "jIJRgM1CZJa7"
      },
      "outputs": [
        {
          "data": {
            "text/plain": "(1000,)"
          },
          "execution_count": 79,
          "metadata": {},
          "output_type": "execute_result"
        }
      ],
      "source": [
        "y.shape"
      ]
    },
    {
      "cell_type": "code",
      "execution_count": 90,
      "metadata": {},
      "outputs": [
        {
          "data": {
            "text/html": "<div>\n<style scoped>\n    .dataframe tbody tr th:only-of-type {\n        vertical-align: middle;\n    }\n\n    .dataframe tbody tr th {\n        vertical-align: top;\n    }\n\n    .dataframe thead th {\n        text-align: right;\n    }\n</style>\n<table border=\"1\" class=\"dataframe\">\n  <thead>\n    <tr style=\"text-align: right;\">\n      <th></th>\n      <th>company name</th>\n      <th>Current clients</th>\n      <th>Days per week of sanitation services</th>\n      <th>Hours logged by sanitation workers</th>\n      <th>Hours logged by public safety officers</th>\n      <th>Special event charges</th>\n      <th>Miscellaneous charges</th>\n      <th>Sanitation expenses</th>\n      <th>Public safety expenses</th>\n      <th>Streetscape &amp; beautification expenses</th>\n      <th>...</th>\n      <th>Outside contractor expenses</th>\n      <th>Insurance costs</th>\n      <th>Supplies and equipment costs</th>\n      <th>Total Quotation</th>\n      <th>Number_Of_Sanitation_Activities</th>\n      <th>Beautification_Activities</th>\n      <th>Media_Reach</th>\n      <th>Total_Staff</th>\n      <th>Sanitation_services_provided_Yes</th>\n      <th>Beautification_services_provided_Yes</th>\n    </tr>\n  </thead>\n  <tbody>\n    <tr>\n      <th>0</th>\n      <td>Venture Universal Solutions</td>\n      <td>902</td>\n      <td>7</td>\n      <td>78588</td>\n      <td>30644</td>\n      <td>360146</td>\n      <td>16620</td>\n      <td>76314</td>\n      <td>40763</td>\n      <td>39172</td>\n      <td>...</td>\n      <td>101408</td>\n      <td>2021</td>\n      <td>3736</td>\n      <td>172869</td>\n      <td>89978</td>\n      <td>481</td>\n      <td>-941407</td>\n      <td>50</td>\n      <td>1</td>\n      <td>1</td>\n    </tr>\n    <tr>\n      <th>1</th>\n      <td>Software Galaxy People</td>\n      <td>214</td>\n      <td>7</td>\n      <td>94859</td>\n      <td>84370</td>\n      <td>206317</td>\n      <td>61751</td>\n      <td>340053</td>\n      <td>320686</td>\n      <td>56506</td>\n      <td>...</td>\n      <td>98006</td>\n      <td>63854</td>\n      <td>4367</td>\n      <td>778996</td>\n      <td>153023</td>\n      <td>902</td>\n      <td>15051860</td>\n      <td>64</td>\n      <td>1</td>\n      <td>1</td>\n    </tr>\n    <tr>\n      <th>2</th>\n      <td>Direct Resource Venture</td>\n      <td>214</td>\n      <td>7</td>\n      <td>94859</td>\n      <td>84370</td>\n      <td>0</td>\n      <td>0</td>\n      <td>0</td>\n      <td>0</td>\n      <td>0</td>\n      <td>...</td>\n      <td>0</td>\n      <td>0</td>\n      <td>0</td>\n      <td>0</td>\n      <td>153023</td>\n      <td>902</td>\n      <td>15051860</td>\n      <td>64</td>\n      <td>1</td>\n      <td>1</td>\n    </tr>\n    <tr>\n      <th>3</th>\n      <td>Provider Omega Electronics</td>\n      <td>214</td>\n      <td>7</td>\n      <td>177449</td>\n      <td>84370</td>\n      <td>423722</td>\n      <td>82043</td>\n      <td>327027</td>\n      <td>261844</td>\n      <td>201073</td>\n      <td>...</td>\n      <td>141086</td>\n      <td>90587</td>\n      <td>19627</td>\n      <td>871987</td>\n      <td>246060</td>\n      <td>610</td>\n      <td>11880600</td>\n      <td>125</td>\n      <td>1</td>\n      <td>1</td>\n    </tr>\n    <tr>\n      <th>4</th>\n      <td>Hill North Future</td>\n      <td>406</td>\n      <td>6</td>\n      <td>154966</td>\n      <td>48742</td>\n      <td>402157</td>\n      <td>22276</td>\n      <td>502772</td>\n      <td>20443</td>\n      <td>175840</td>\n      <td>...</td>\n      <td>6810</td>\n      <td>89858</td>\n      <td>17336</td>\n      <td>721331</td>\n      <td>131343</td>\n      <td>458</td>\n      <td>1545892</td>\n      <td>4</td>\n      <td>1</td>\n      <td>1</td>\n    </tr>\n    <tr>\n      <th>...</th>\n      <td>...</td>\n      <td>...</td>\n      <td>...</td>\n      <td>...</td>\n      <td>...</td>\n      <td>...</td>\n      <td>...</td>\n      <td>...</td>\n      <td>...</td>\n      <td>...</td>\n      <td>...</td>\n      <td>...</td>\n      <td>...</td>\n      <td>...</td>\n      <td>...</td>\n      <td>...</td>\n      <td>...</td>\n      <td>...</td>\n      <td>...</td>\n      <td>...</td>\n      <td>...</td>\n    </tr>\n    <tr>\n      <th>19995</th>\n      <td>Contract Software Telecom</td>\n      <td>407</td>\n      <td>7</td>\n      <td>126790</td>\n      <td>87631</td>\n      <td>403576</td>\n      <td>54452</td>\n      <td>231242</td>\n      <td>196555</td>\n      <td>25128</td>\n      <td>...</td>\n      <td>63368</td>\n      <td>69897</td>\n      <td>13632</td>\n      <td>507377</td>\n      <td>54711</td>\n      <td>403</td>\n      <td>38925973</td>\n      <td>79</td>\n      <td>1</td>\n      <td>1</td>\n    </tr>\n    <tr>\n      <th>19996</th>\n      <td>Systems Network Technology</td>\n      <td>684</td>\n      <td>7</td>\n      <td>114248</td>\n      <td>101584</td>\n      <td>281710</td>\n      <td>47112</td>\n      <td>449038</td>\n      <td>256947</td>\n      <td>181692</td>\n      <td>...</td>\n      <td>3773</td>\n      <td>69512</td>\n      <td>5829</td>\n      <td>934789</td>\n      <td>196703</td>\n      <td>727</td>\n      <td>33454012</td>\n      <td>119</td>\n      <td>1</td>\n      <td>0</td>\n    </tr>\n    <tr>\n      <th>19997</th>\n      <td>Vision Innovation Analysis</td>\n      <td>567</td>\n      <td>7</td>\n      <td>119454</td>\n      <td>101584</td>\n      <td>403576</td>\n      <td>36677</td>\n      <td>61664</td>\n      <td>337186</td>\n      <td>190520</td>\n      <td>...</td>\n      <td>67615</td>\n      <td>39958</td>\n      <td>20093</td>\n      <td>626047</td>\n      <td>125327</td>\n      <td>368</td>\n      <td>2405273</td>\n      <td>65</td>\n      <td>1</td>\n      <td>1</td>\n    </tr>\n    <tr>\n      <th>19998</th>\n      <td>Architecture Provider Industries</td>\n      <td>518</td>\n      <td>7</td>\n      <td>174290</td>\n      <td>101584</td>\n      <td>225721</td>\n      <td>114142</td>\n      <td>568108</td>\n      <td>87074</td>\n      <td>157975</td>\n      <td>...</td>\n      <td>141730</td>\n      <td>52450</td>\n      <td>9708</td>\n      <td>927299</td>\n      <td>240894</td>\n      <td>953</td>\n      <td>28696451</td>\n      <td>91</td>\n      <td>1</td>\n      <td>1</td>\n    </tr>\n    <tr>\n      <th>19999</th>\n      <td>Construction Omega Vision</td>\n      <td>1423</td>\n      <td>7</td>\n      <td>92340</td>\n      <td>101584</td>\n      <td>403576</td>\n      <td>7268</td>\n      <td>494811</td>\n      <td>13808</td>\n      <td>184140</td>\n      <td>...</td>\n      <td>57116</td>\n      <td>103205</td>\n      <td>14349</td>\n      <td>700027</td>\n      <td>130277</td>\n      <td>635</td>\n      <td>7619127</td>\n      <td>122</td>\n      <td>0</td>\n      <td>1</td>\n    </tr>\n  </tbody>\n</table>\n<p>20000 rows × 21 columns</p>\n</div>",
            "text/plain": "                           company name  Current clients  \\\n0           Venture Universal Solutions              902   \n1                Software Galaxy People              214   \n2               Direct Resource Venture              214   \n3            Provider Omega Electronics              214   \n4                     Hill North Future              406   \n...                                 ...              ...   \n19995         Contract Software Telecom              407   \n19996        Systems Network Technology              684   \n19997        Vision Innovation Analysis              567   \n19998  Architecture Provider Industries              518   \n19999         Construction Omega Vision             1423   \n\n       Days per week of sanitation services  \\\n0                                         7   \n1                                         7   \n2                                         7   \n3                                         7   \n4                                         6   \n...                                     ...   \n19995                                     7   \n19996                                     7   \n19997                                     7   \n19998                                     7   \n19999                                     7   \n\n       Hours logged by sanitation workers  \\\n0                                   78588   \n1                                   94859   \n2                                   94859   \n3                                  177449   \n4                                  154966   \n...                                   ...   \n19995                              126790   \n19996                              114248   \n19997                              119454   \n19998                              174290   \n19999                               92340   \n\n       Hours logged by public safety officers  Special event charges  \\\n0                                       30644                 360146   \n1                                       84370                 206317   \n2                                       84370                      0   \n3                                       84370                 423722   \n4                                       48742                 402157   \n...                                       ...                    ...   \n19995                                   87631                 403576   \n19996                                  101584                 281710   \n19997                                  101584                 403576   \n19998                                  101584                 225721   \n19999                                  101584                 403576   \n\n       Miscellaneous charges  Sanitation expenses  Public safety expenses  \\\n0                      16620                76314                   40763   \n1                      61751               340053                  320686   \n2                          0                    0                       0   \n3                      82043               327027                  261844   \n4                      22276               502772                   20443   \n...                      ...                  ...                     ...   \n19995                  54452               231242                  196555   \n19996                  47112               449038                  256947   \n19997                  36677                61664                  337186   \n19998                 114142               568108                   87074   \n19999                   7268               494811                   13808   \n\n       Streetscape & beautification expenses  ...  \\\n0                                      39172  ...   \n1                                      56506  ...   \n2                                          0  ...   \n3                                     201073  ...   \n4                                     175840  ...   \n...                                      ...  ...   \n19995                                  25128  ...   \n19996                                 181692  ...   \n19997                                 190520  ...   \n19998                                 157975  ...   \n19999                                 184140  ...   \n\n       Outside contractor expenses  Insurance costs  \\\n0                           101408             2021   \n1                            98006            63854   \n2                                0                0   \n3                           141086            90587   \n4                             6810            89858   \n...                            ...              ...   \n19995                        63368            69897   \n19996                         3773            69512   \n19997                        67615            39958   \n19998                       141730            52450   \n19999                        57116           103205   \n\n       Supplies and equipment costs  Total Quotation  \\\n0                              3736           172869   \n1                              4367           778996   \n2                                 0                0   \n3                             19627           871987   \n4                             17336           721331   \n...                             ...              ...   \n19995                         13632           507377   \n19996                          5829           934789   \n19997                         20093           626047   \n19998                          9708           927299   \n19999                         14349           700027   \n\n       Number_Of_Sanitation_Activities  Beautification_Activities  \\\n0                                89978                        481   \n1                               153023                        902   \n2                               153023                        902   \n3                               246060                        610   \n4                               131343                        458   \n...                                ...                        ...   \n19995                            54711                        403   \n19996                           196703                        727   \n19997                           125327                        368   \n19998                           240894                        953   \n19999                           130277                        635   \n\n       Media_Reach  Total_Staff  Sanitation_services_provided_Yes  \\\n0          -941407           50                                 1   \n1         15051860           64                                 1   \n2         15051860           64                                 1   \n3         11880600          125                                 1   \n4          1545892            4                                 1   \n...            ...          ...                               ...   \n19995     38925973           79                                 1   \n19996     33454012          119                                 1   \n19997      2405273           65                                 1   \n19998     28696451           91                                 1   \n19999      7619127          122                                 0   \n\n       Beautification_services_provided_Yes  \n0                                         1  \n1                                         1  \n2                                         1  \n3                                         1  \n4                                         1  \n...                                     ...  \n19995                                     1  \n19996                                     0  \n19997                                     1  \n19998                                     1  \n19999                                     1  \n\n[20000 rows x 21 columns]"
          },
          "execution_count": 90,
          "metadata": {},
          "output_type": "execute_result"
        }
      ],
      "source": [
        "TestValGiven = testing.iloc[0:20000]\r\n",
        "TestValGiven"
      ]
    },
    {
      "cell_type": "code",
      "execution_count": 81,
      "metadata": {
        "id": "diC0ii1MGr6_"
      },
      "outputs": [
        {
          "data": {
            "text/plain": "<matplotlib.axes._subplots.AxesSubplot at 0x2154a598910>"
          },
          "execution_count": 81,
          "metadata": {},
          "output_type": "execute_result"
        },
        {
          "data": {
            "image/png": "[encoded data removed]",
            "text/plain": "<Figure size 432x288 with 2 Axes>"
          },
          "metadata": {
            "needs_background": "light",
            "transient": {}
          },
          "output_type": "display_data"
        }
      ],
      "source": [
        "import seaborn as sns\r\n",
        "a = final_df.corr()\r\n",
        "sns.heatmap(a)"
      ]
    },
    {
      "cell_type": "code",
      "execution_count": 82,
      "metadata": {
        "id": "mgxR9qV1UWaR"
      },
      "outputs": [],
      "source": [
        "from sklearn.metrics import confusion_matrix \n",
        "from sklearn.model_selection import train_test_split \n",
        "from sklearn.tree import DecisionTreeClassifier \n",
        "from sklearn import metrics #Import scikit-learn metrics module for accuracy calculation"
      ]
    },
    {
      "cell_type": "code",
      "execution_count": 83,
      "metadata": {
        "id": "BUCaOl9IVQNS"
      },
      "outputs": [],
      "source": [
        "# Split dataset into training set and test set\r\n",
        "X_train, X_test, y_train, y_test = train_test_split(x, y, test_size=0.5, random_state=1) # 70% training and 30% test"
      ]
    },
    {
      "cell_type": "code",
      "execution_count": 84,
      "metadata": {
        "id": "LVNbKSF-YbXT"
      },
      "outputs": [],
      "source": [
        "4# Create Decision Tree classifer object\r\n",
        "clf = DecisionTreeClassifier()"
      ]
    },
    {
      "cell_type": "code",
      "execution_count": 85,
      "metadata": {
        "id": "shRC4tv1blr9"
      },
      "outputs": [],
      "source": [
        "# Train Decision Tree Classifer\n",
        "clf = clf.fit(X_train,y_train)"
      ]
    },
    {
      "cell_type": "code",
      "execution_count": 113,
      "metadata": {
        "id": "2FXFzxrFW1Ay"
      },
      "outputs": [],
      "source": [
        "def Accurator():\r\n",
        "    result = []\r\n",
        "    Accuracies = []\r\n",
        "    for i in range(len(TestValGiven)):\r\n",
        "        helloArr = []\r\n",
        "        y_pred = clf.predict([TestValGiven.iloc[i,1:21]]) #Predicting on sent company information requirements by test clients\r\n",
        "        valuesTest = TestValGiven.iloc[i,1:21].values #Extracting company information on sent requirements\r\n",
        "        abc = final_df[final_df[\"company name\"]==y_pred[0]].index.values #Extracting company information based on index of predicted company\r\n",
        "        helloArr = final_df.iloc[abc[0],1:21].values #Extracting company information based on index of predicted company\r\n",
        "        Accuracy = 0 #Blank variable for accuracy of individual request, based on fulfilled parameters\r\n",
        "        for j in range(0,20): #Awarding accuracy of individual request, based on fulfilled parameters with 20% margin allowed.\r\n",
        "            if(helloArr[j]>=valuesTest[j]):\r\n",
        "                if(helloArr[j] - valuesTest[j] <= valuesTest[j]*0.2):  #Value is within 20% higher than or equal to  required range\r\n",
        "                    Accuracy += 5 #20 features are considered, each awards 5% points.\r\n",
        "            elif(helloArr[j]<valuesTest[j]):            \r\n",
        "                if(valuesTest[j] - helloArr[j] <= valuesTest[j]*0.2): #Value is within 20% lower than required range\r\n",
        "                    Accuracy += 5 #20 features are considered, each awards 5% points.\r\n",
        "        Accuracies.append([i,Accuracy])\r\n",
        "        result.append([i,y_pred[0],helloArr])\r\n",
        "    sum1=0\r\n",
        "    for i in range(0,len(TestValGiven)):\r\n",
        "        sum1 += (Accuracies[i][1])\r\n",
        "    print(\"Accuracy:\",(sum1/len(TestValGiven))) #averaging fulfillment accuracy\r\n",
        "    for i in range(5):  #company info \r\n",
        "        print(i)\r\n",
        "        print(\"Predicted Company: \",y_pred[0])\r\n",
        "        print(\"Predicted Company Fulfillment %: \",Accuracies[i][1])\r\n",
        "        print(\"\\n\")"
      ]
    },
    {
      "cell_type": "code",
      "execution_count": 114,
      "metadata": {},
      "outputs": [
        {
          "name": "stdout",
          "output_type": "stream",
          "text": [
            "Accuracy: 83.65375\n",
            "0\n",
            "Predicted Company:  Resource Universal Technology\n",
            "Predicted Company Fulfillment %:  80\n",
            "\n",
            "\n",
            "1\n",
            "Predicted Company:  Resource Universal Technology\n",
            "Predicted Company Fulfillment %:  95\n",
            "\n",
            "\n",
            "2\n",
            "Predicted Company:  Resource Universal Technology\n",
            "Predicted Company Fulfillment %:  15\n",
            "\n",
            "\n",
            "3\n",
            "Predicted Company:  Resource Universal Technology\n",
            "Predicted Company Fulfillment %:  95\n",
            "\n",
            "\n",
            "4\n",
            "Predicted Company:  Resource Universal Technology\n",
            "Predicted Company Fulfillment %:  85\n",
            "\n",
            "\n"
          ]
        }
      ],
      "source": [
        "Accurator()"
      ]
    },
    {
      "cell_type": "code",
      "execution_count": null,
      "metadata": {},
      "outputs": [],
      "source": []
    },
    {
      "cell_type": "code",
      "execution_count": null,
      "metadata": {},
      "outputs": [],
      "source": [
        "\r\n"
      ]
    }
  ],
  "metadata": {
    "colab": {
      "collapsed_sections": [],
      "name": "Smart_Tender_system_Final_1.ipynb",
      "private_outputs": true,
      "provenance": []
    },
    "kernelspec": {
      "display_name": "Python 3",
      "language": "python",
      "name": "python3"
    },
    "language_info": {
      "codemirror_mode": {
        "name": "ipython",
        "version": 3
      },
      "file_extension": ".py",
      "mimetype": "text/x-python",
      "name": "python",
      "nbconvert_exporter": "python",
      "pygments_lexer": "ipython3",
      "version": "3.8.3"
    }
  },
  "nbformat": 4,
  "nbformat_minor": 0
}