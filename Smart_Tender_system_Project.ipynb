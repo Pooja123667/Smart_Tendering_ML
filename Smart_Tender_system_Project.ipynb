{
  "nbformat": 4,
  "nbformat_minor": 0,
  "metadata": {
    "colab": {
      "name": "Smart Tender system - Project.ipynb",
      "provenance": [],
      "collapsed_sections": [],
      "include_colab_link": true
    },
    "kernelspec": {
      "display_name": "Python 3",
      "name": "python3"
    }
  },
  "cells": [
    {
      "cell_type": "markdown",
      "metadata": {
        "id": "view-in-github",
        "colab_type": "text"
      },
      "source": [
        "<a href=\"https://colab.research.google.com/github/Pooja123667/Smart_Tendering_ML/blob/main/Smart_Tender_system_Project.ipynb\" target=\"_parent\"><img src=\"https://colab.research.google.com/assets/colab-badge.svg\" alt=\"Open In Colab\"/></a>"
      ]
    },
    {
      "cell_type": "markdown",
      "metadata": {
        "id": "HfbD1PCXWvVX"
      },
      "source": [
        "Importing necessary Libraries <br>\r\n",
        "**1. Understanding and Analyzing the Dataset**"
      ]
    },
    {
      "cell_type": "code",
      "metadata": {
        "colab": {
          "base_uri": "https://localhost:8080/"
        },
        "id": "fNxDLtgXgBTt",
        "outputId": "85d9b20f-e267-4394-fa67-294793114f83"
      },
      "source": [
        "import pandas as pd\r\n",
        "import io \r\n",
        "print(\"Import success\")"
      ],
      "execution_count": 138,
      "outputs": [
        {
          "output_type": "stream",
          "text": [
            "Import success\n"
          ],
          "name": "stdout"
        }
      ]
    },
    {
      "cell_type": "code",
      "metadata": {
        "id": "66y5WJAQgbD6"
      },
      "source": [
        "df = pd.read_csv(\"https://raw.githubusercontent.com/Pooja123667/Smart_Tendering_ML/main/FY19_BID_Trends_Report_Data%20(3).csv\", low_memory=False) "
      ],
      "execution_count": 139,
      "outputs": []
    },
    {
      "cell_type": "code",
      "metadata": {
        "colab": {
          "base_uri": "https://localhost:8080/",
          "height": 282
        },
        "id": "a9OUg2JGhCKm",
        "outputId": "929190c0-0d79-4b2c-f477-8e1b0ba5d117"
      },
      "source": [
        "df.head(1)"
      ],
      "execution_count": 140,
      "outputs": [
        {
          "output_type": "execute_result",
          "data": {
            "text/html": [
              "<div>\n",
              "<style scoped>\n",
              "    .dataframe tbody tr th:only-of-type {\n",
              "        vertical-align: middle;\n",
              "    }\n",
              "\n",
              "    .dataframe tbody tr th {\n",
              "        vertical-align: top;\n",
              "    }\n",
              "\n",
              "    .dataframe thead th {\n",
              "        text-align: right;\n",
              "    }\n",
              "</style>\n",
              "<table border=\"1\" class=\"dataframe\">\n",
              "  <thead>\n",
              "    <tr style=\"text-align: right;\">\n",
              "      <th></th>\n",
              "      <th>index</th>\n",
              "      <th>company name</th>\n",
              "      <th>Floor Size</th>\n",
              "      <th>Full-time staff</th>\n",
              "      <th>Sanitation staff employed</th>\n",
              "      <th>Safety Inspector</th>\n",
              "      <th>Part-time staff</th>\n",
              "      <th>Current clients</th>\n",
              "      <th>Bid provides supplemental sanitation services</th>\n",
              "      <th>Types of duties assigned to sanitation workers</th>\n",
              "      <th>Days per week of sanitation services</th>\n",
              "      <th>Hours logged by sanitation workers</th>\n",
              "      <th>Incidents of graffiti removed</th>\n",
              "      <th>Trash bags collected</th>\n",
              "      <th>Trash and recycling receptacles serviced</th>\n",
              "      <th>Bid provides supplemental public safety services</th>\n",
              "      <th>Duties assigned to public safety personnel</th>\n",
              "      <th>Hours logged by public safety officers</th>\n",
              "      <th>Interactions with public safety officers</th>\n",
              "      <th>Bid provides supplemental streetscape and beautification services</th>\n",
              "      <th>Planters and hanging baskets maintained</th>\n",
              "      <th>Tree pits maintained</th>\n",
              "      <th>Banners maintained</th>\n",
              "      <th>Public art installations sponsored</th>\n",
              "      <th>Street furniture elements maintained</th>\n",
              "      <th>Wayfinding elements maintained</th>\n",
              "      <th>Lighting elements maintained</th>\n",
              "      <th>Other infrastructure elements maintained</th>\n",
              "      <th>Public spaces maintained</th>\n",
              "      <th>Bid has holiday lighting program</th>\n",
              "      <th>Communication channels used</th>\n",
              "      <th>Social media followers</th>\n",
              "      <th>Marketing materials distributed</th>\n",
              "      <th>Public events coordinated</th>\n",
              "      <th>Estimated attendees to public events coordinated</th>\n",
              "      <th>Special event charges</th>\n",
              "      <th>Miscellaneous charges</th>\n",
              "      <th>Sanitation expenses</th>\n",
              "      <th>Public safety expenses</th>\n",
              "      <th>Marketing, holiday lighting, and special event expenses</th>\n",
              "      <th>Streetscape &amp; beautification expenses</th>\n",
              "      <th>Salaries</th>\n",
              "      <th>Outside contractor expenses</th>\n",
              "      <th>Insurance costs</th>\n",
              "      <th>Rent and utilities</th>\n",
              "      <th>Supplies and equipment costs</th>\n",
              "      <th>Other G&amp;A expenses</th>\n",
              "    </tr>\n",
              "  </thead>\n",
              "  <tbody>\n",
              "    <tr>\n",
              "      <th>0</th>\n",
              "      <td>1</td>\n",
              "      <td>Moreno LLC</td>\n",
              "      <td>5220</td>\n",
              "      <td>1</td>\n",
              "      <td>31</td>\n",
              "      <td>9</td>\n",
              "      <td>9</td>\n",
              "      <td>145</td>\n",
              "      <td>Yes</td>\n",
              "      <td>Street Sweeping and Bagging; Snow and Ice Remo...</td>\n",
              "      <td>7.0</td>\n",
              "      <td>61051</td>\n",
              "      <td>19327</td>\n",
              "      <td>70352</td>\n",
              "      <td>282</td>\n",
              "      <td>No</td>\n",
              "      <td>NaN</td>\n",
              "      <td>24732.0</td>\n",
              "      <td>NaN</td>\n",
              "      <td>Yes</td>\n",
              "      <td>341</td>\n",
              "      <td>115</td>\n",
              "      <td>105</td>\n",
              "      <td>12</td>\n",
              "      <td>2304</td>\n",
              "      <td>828</td>\n",
              "      <td>2161</td>\n",
              "      <td>786</td>\n",
              "      <td>19.0</td>\n",
              "      <td>Yes</td>\n",
              "      <td>Direct mailings; Flyers; Email bulletins; Soci...</td>\n",
              "      <td>11716</td>\n",
              "      <td>40108</td>\n",
              "      <td>15</td>\n",
              "      <td>198647</td>\n",
              "      <td>$360,146</td>\n",
              "      <td>$16,591</td>\n",
              "      <td>$76,277</td>\n",
              "      <td>$40,756</td>\n",
              "      <td>$177,762</td>\n",
              "      <td>$39,202</td>\n",
              "      <td>$194,141</td>\n",
              "      <td>$101,399</td>\n",
              "      <td>$2,035</td>\n",
              "      <td>$12,296</td>\n",
              "      <td>$3,749</td>\n",
              "      <td>$46,053</td>\n",
              "    </tr>\n",
              "  </tbody>\n",
              "</table>\n",
              "</div>"
            ],
            "text/plain": [
              "   index company name  ...  Supplies and equipment costs Other G&A expenses\n",
              "0      1   Moreno LLC  ...                       $3,749            $46,053 \n",
              "\n",
              "[1 rows x 47 columns]"
            ]
          },
          "metadata": {
            "tags": []
          },
          "execution_count": 140
        }
      ]
    },
    {
      "cell_type": "code",
      "metadata": {
        "colab": {
          "base_uri": "https://localhost:8080/"
        },
        "id": "azvixykQhJx7",
        "outputId": "637fb273-1c73-4c70-f78f-d7e84ef79555"
      },
      "source": [
        "df.shape"
      ],
      "execution_count": 141,
      "outputs": [
        {
          "output_type": "execute_result",
          "data": {
            "text/plain": [
              "(99998, 47)"
            ]
          },
          "metadata": {
            "tags": []
          },
          "execution_count": 141
        }
      ]
    },
    {
      "cell_type": "code",
      "metadata": {
        "colab": {
          "base_uri": "https://localhost:8080/",
          "height": 371
        },
        "id": "YzHkUTPFhQVy",
        "outputId": "a3ea62f9-854e-4c19-96d9-5818be3c0df4"
      },
      "source": [
        "df.describe()"
      ],
      "execution_count": 142,
      "outputs": [
        {
          "output_type": "execute_result",
          "data": {
            "text/html": [
              "<div>\n",
              "<style scoped>\n",
              "    .dataframe tbody tr th:only-of-type {\n",
              "        vertical-align: middle;\n",
              "    }\n",
              "\n",
              "    .dataframe tbody tr th {\n",
              "        vertical-align: top;\n",
              "    }\n",
              "\n",
              "    .dataframe thead th {\n",
              "        text-align: right;\n",
              "    }\n",
              "</style>\n",
              "<table border=\"1\" class=\"dataframe\">\n",
              "  <thead>\n",
              "    <tr style=\"text-align: right;\">\n",
              "      <th></th>\n",
              "      <th>index</th>\n",
              "      <th>Floor Size</th>\n",
              "      <th>Sanitation staff employed</th>\n",
              "      <th>Safety Inspector</th>\n",
              "      <th>Part-time staff</th>\n",
              "      <th>Days per week of sanitation services</th>\n",
              "      <th>Hours logged by sanitation workers</th>\n",
              "      <th>Trash bags collected</th>\n",
              "      <th>Trash and recycling receptacles serviced</th>\n",
              "      <th>Hours logged by public safety officers</th>\n",
              "      <th>Interactions with public safety officers</th>\n",
              "      <th>Planters and hanging baskets maintained</th>\n",
              "      <th>Tree pits maintained</th>\n",
              "      <th>Banners maintained</th>\n",
              "      <th>Public art installations sponsored</th>\n",
              "      <th>Public spaces maintained</th>\n",
              "      <th>Social media followers</th>\n",
              "      <th>Marketing materials distributed</th>\n",
              "      <th>Public events coordinated</th>\n",
              "      <th>Estimated attendees to public events coordinated</th>\n",
              "    </tr>\n",
              "  </thead>\n",
              "  <tbody>\n",
              "    <tr>\n",
              "      <th>count</th>\n",
              "      <td>99998.000000</td>\n",
              "      <td>99998.000000</td>\n",
              "      <td>99998.000000</td>\n",
              "      <td>99998.000000</td>\n",
              "      <td>99998.000000</td>\n",
              "      <td>99995.000000</td>\n",
              "      <td>99998.000000</td>\n",
              "      <td>99998.000000</td>\n",
              "      <td>99998.000000</td>\n",
              "      <td>99977.000000</td>\n",
              "      <td>99975.000000</td>\n",
              "      <td>99998.000000</td>\n",
              "      <td>99998.000000</td>\n",
              "      <td>99998.000000</td>\n",
              "      <td>99998.000000</td>\n",
              "      <td>99979.000000</td>\n",
              "      <td>99998.000000</td>\n",
              "      <td>99998.000000</td>\n",
              "      <td>99998.000000</td>\n",
              "      <td>99998.000000</td>\n",
              "    </tr>\n",
              "    <tr>\n",
              "      <th>mean</th>\n",
              "      <td>49999.500000</td>\n",
              "      <td>61755.605142</td>\n",
              "      <td>42.907308</td>\n",
              "      <td>29.535351</td>\n",
              "      <td>12.499660</td>\n",
              "      <td>6.003140</td>\n",
              "      <td>85669.002950</td>\n",
              "      <td>142766.823606</td>\n",
              "      <td>211.609982</td>\n",
              "      <td>62760.451244</td>\n",
              "      <td>61370.549277</td>\n",
              "      <td>302.081422</td>\n",
              "      <td>241.783326</td>\n",
              "      <td>111.564451</td>\n",
              "      <td>14.471079</td>\n",
              "      <td>40.542234</td>\n",
              "      <td>44420.992340</td>\n",
              "      <td>62573.656453</td>\n",
              "      <td>199.659643</td>\n",
              "      <td>101390.907458</td>\n",
              "    </tr>\n",
              "    <tr>\n",
              "      <th>std</th>\n",
              "      <td>28867.080446</td>\n",
              "      <td>34590.375339</td>\n",
              "      <td>23.981272</td>\n",
              "      <td>16.719123</td>\n",
              "      <td>6.908006</td>\n",
              "      <td>0.816817</td>\n",
              "      <td>45983.026817</td>\n",
              "      <td>67505.798946</td>\n",
              "      <td>115.988623</td>\n",
              "      <td>34819.947090</td>\n",
              "      <td>33829.700017</td>\n",
              "      <td>152.755137</td>\n",
              "      <td>133.739679</td>\n",
              "      <td>58.339718</td>\n",
              "      <td>5.195601</td>\n",
              "      <td>23.053779</td>\n",
              "      <td>25828.933257</td>\n",
              "      <td>36123.206297</td>\n",
              "      <td>107.492979</td>\n",
              "      <td>57102.558881</td>\n",
              "    </tr>\n",
              "    <tr>\n",
              "      <th>min</th>\n",
              "      <td>1.000000</td>\n",
              "      <td>1740.000000</td>\n",
              "      <td>2.000000</td>\n",
              "      <td>1.000000</td>\n",
              "      <td>1.000000</td>\n",
              "      <td>1.000000</td>\n",
              "      <td>6103.000000</td>\n",
              "      <td>26001.000000</td>\n",
              "      <td>11.000000</td>\n",
              "      <td>2202.000000</td>\n",
              "      <td>2762.000000</td>\n",
              "      <td>40.000000</td>\n",
              "      <td>11.000000</td>\n",
              "      <td>11.000000</td>\n",
              "      <td>6.000000</td>\n",
              "      <td>0.000000</td>\n",
              "      <td>11.000000</td>\n",
              "      <td>112.000000</td>\n",
              "      <td>14.000000</td>\n",
              "      <td>2501.000000</td>\n",
              "    </tr>\n",
              "    <tr>\n",
              "      <th>25%</th>\n",
              "      <td>25000.250000</td>\n",
              "      <td>31832.750000</td>\n",
              "      <td>22.000000</td>\n",
              "      <td>15.000000</td>\n",
              "      <td>7.000000</td>\n",
              "      <td>5.000000</td>\n",
              "      <td>45686.000000</td>\n",
              "      <td>84596.250000</td>\n",
              "      <td>111.000000</td>\n",
              "      <td>32703.000000</td>\n",
              "      <td>32137.000000</td>\n",
              "      <td>169.000000</td>\n",
              "      <td>126.000000</td>\n",
              "      <td>61.000000</td>\n",
              "      <td>10.000000</td>\n",
              "      <td>21.000000</td>\n",
              "      <td>22090.000000</td>\n",
              "      <td>31224.250000</td>\n",
              "      <td>107.000000</td>\n",
              "      <td>51787.000000</td>\n",
              "    </tr>\n",
              "    <tr>\n",
              "      <th>50%</th>\n",
              "      <td>49999.500000</td>\n",
              "      <td>61744.500000</td>\n",
              "      <td>43.000000</td>\n",
              "      <td>30.000000</td>\n",
              "      <td>13.000000</td>\n",
              "      <td>6.000000</td>\n",
              "      <td>85695.000000</td>\n",
              "      <td>142526.000000</td>\n",
              "      <td>212.000000</td>\n",
              "      <td>62722.000000</td>\n",
              "      <td>61365.000000</td>\n",
              "      <td>302.000000</td>\n",
              "      <td>242.000000</td>\n",
              "      <td>111.000000</td>\n",
              "      <td>14.000000</td>\n",
              "      <td>41.000000</td>\n",
              "      <td>44284.000000</td>\n",
              "      <td>62480.000000</td>\n",
              "      <td>199.000000</td>\n",
              "      <td>101619.500000</td>\n",
              "    </tr>\n",
              "    <tr>\n",
              "      <th>75%</th>\n",
              "      <td>74998.750000</td>\n",
              "      <td>91648.500000</td>\n",
              "      <td>64.000000</td>\n",
              "      <td>44.000000</td>\n",
              "      <td>18.000000</td>\n",
              "      <td>7.000000</td>\n",
              "      <td>125625.000000</td>\n",
              "      <td>201038.250000</td>\n",
              "      <td>313.000000</td>\n",
              "      <td>92996.000000</td>\n",
              "      <td>90682.500000</td>\n",
              "      <td>435.000000</td>\n",
              "      <td>358.000000</td>\n",
              "      <td>162.000000</td>\n",
              "      <td>19.000000</td>\n",
              "      <td>60.000000</td>\n",
              "      <td>66683.000000</td>\n",
              "      <td>93681.000000</td>\n",
              "      <td>292.000000</td>\n",
              "      <td>150867.500000</td>\n",
              "    </tr>\n",
              "    <tr>\n",
              "      <th>max</th>\n",
              "      <td>99998.000000</td>\n",
              "      <td>121820.000000</td>\n",
              "      <td>84.000000</td>\n",
              "      <td>58.000000</td>\n",
              "      <td>24.000000</td>\n",
              "      <td>7.000000</td>\n",
              "      <td>165099.000000</td>\n",
              "      <td>259996.000000</td>\n",
              "      <td>411.000000</td>\n",
              "      <td>122998.000000</td>\n",
              "      <td>119999.000000</td>\n",
              "      <td>566.000000</td>\n",
              "      <td>472.000000</td>\n",
              "      <td>212.000000</td>\n",
              "      <td>23.000000</td>\n",
              "      <td>80.000000</td>\n",
              "      <td>787253.000000</td>\n",
              "      <td>125436.000000</td>\n",
              "      <td>386.000000</td>\n",
              "      <td>200000.000000</td>\n",
              "    </tr>\n",
              "  </tbody>\n",
              "</table>\n",
              "</div>"
            ],
            "text/plain": [
              "              index  ...  Estimated attendees to public events coordinated\n",
              "count  99998.000000  ...                                      99998.000000\n",
              "mean   49999.500000  ...                                     101390.907458\n",
              "std    28867.080446  ...                                      57102.558881\n",
              "min        1.000000  ...                                       2501.000000\n",
              "25%    25000.250000  ...                                      51787.000000\n",
              "50%    49999.500000  ...                                     101619.500000\n",
              "75%    74998.750000  ...                                     150867.500000\n",
              "max    99998.000000  ...                                     200000.000000\n",
              "\n",
              "[8 rows x 20 columns]"
            ]
          },
          "metadata": {
            "tags": []
          },
          "execution_count": 142
        }
      ]
    },
    {
      "cell_type": "code",
      "metadata": {
        "id": "4-J3FuzDaxWj"
      },
      "source": [
        "df.info()"
      ],
      "execution_count": null,
      "outputs": []
    },
    {
      "cell_type": "markdown",
      "metadata": {
        "id": "ac2TJfnCWaun"
      },
      "source": [
        "Columns J, Q and AE did not contain any values after 75, using python to fill in values\r\n"
      ]
    },
    {
      "cell_type": "code",
      "metadata": {
        "colab": {
          "base_uri": "https://localhost:8080/"
        },
        "id": "DtonKbaBi1e4",
        "outputId": "fcc121d1-d770-4f13-a9ad-fd370b08ca6f"
      },
      "source": [
        "#working on columns Types of duties assigned to sanitation workers, Communication channels used, Duties assigned to public safety personnel\r\n",
        "#df['Types of duties assigned to sanitation workers']\r\n",
        "import random\r\n",
        "for i in range(75, 99998):\r\n",
        "  df['Types of duties assigned to sanitation workers'][i] = df['Types of duties assigned to sanitation workers'][random.randrange(0,74)]"
      ],
      "execution_count": 144,
      "outputs": [
        {
          "output_type": "stream",
          "text": [
            "/usr/local/lib/python3.7/dist-packages/ipykernel_launcher.py:5: SettingWithCopyWarning: \n",
            "A value is trying to be set on a copy of a slice from a DataFrame\n",
            "\n",
            "See the caveats in the documentation: https://pandas.pydata.org/pandas-docs/stable/user_guide/indexing.html#returning-a-view-versus-a-copy\n",
            "  \"\"\"\n"
          ],
          "name": "stderr"
        }
      ]
    },
    {
      "cell_type": "code",
      "metadata": {
        "colab": {
          "base_uri": "https://localhost:8080/",
          "height": 35
        },
        "id": "WWeqCYQXMveT",
        "outputId": "880c7ff2-3ec5-48ae-ff50-68bd001a8c56"
      },
      "source": [
        "df['Types of duties assigned to sanitation workers'][90000]"
      ],
      "execution_count": 145,
      "outputs": [
        {
          "output_type": "execute_result",
          "data": {
            "application/vnd.google.colaboratory.intrinsic+json": {
              "type": "string"
            },
            "text/plain": [
              "'Street Sweeping and Bagging; Snow and Ice Removal; Graffiti Removal'"
            ]
          },
          "metadata": {
            "tags": []
          },
          "execution_count": 145
        }
      ]
    },
    {
      "cell_type": "code",
      "metadata": {
        "colab": {
          "base_uri": "https://localhost:8080/"
        },
        "id": "jFgRtKEdR36o",
        "outputId": "955f8de6-05d5-4296-fbd6-0f9369ca2c66"
      },
      "source": [
        "for i in range(75, 99998):\r\n",
        "  df['Duties assigned to public safety personnel'][i] = df['Duties assigned to public safety personnel'][random.randrange(0,74)]"
      ],
      "execution_count": 146,
      "outputs": [
        {
          "output_type": "stream",
          "text": [
            "/usr/local/lib/python3.7/dist-packages/ipykernel_launcher.py:2: SettingWithCopyWarning: \n",
            "A value is trying to be set on a copy of a slice from a DataFrame\n",
            "\n",
            "See the caveats in the documentation: https://pandas.pydata.org/pandas-docs/stable/user_guide/indexing.html#returning-a-view-versus-a-copy\n",
            "  \n"
          ],
          "name": "stderr"
        }
      ]
    },
    {
      "cell_type": "code",
      "metadata": {
        "colab": {
          "base_uri": "https://localhost:8080/",
          "height": 35
        },
        "id": "DXIZKjdaUDqO",
        "outputId": "a4d43eef-9452-41f2-fa6c-69a729e41af1"
      },
      "source": [
        "df['Duties assigned to public safety personnel'][3000]"
      ],
      "execution_count": 147,
      "outputs": [
        {
          "output_type": "execute_result",
          "data": {
            "application/vnd.google.colaboratory.intrinsic+json": {
              "type": "string"
            },
            "text/plain": [
              "'Street patrol; Coordination with NYPD'"
            ]
          },
          "metadata": {
            "tags": []
          },
          "execution_count": 147
        }
      ]
    },
    {
      "cell_type": "code",
      "metadata": {
        "id": "WMdIfzQ1UNKb",
        "colab": {
          "base_uri": "https://localhost:8080/"
        },
        "outputId": "8edb3326-8219-4f2f-d12f-765f63973e9f"
      },
      "source": [
        "for i in range(75, 99998):\r\n",
        "  df['Communication channels used'][i] = df['Communication channels used'][random.randrange(0,74)]"
      ],
      "execution_count": 148,
      "outputs": [
        {
          "output_type": "stream",
          "text": [
            "/usr/local/lib/python3.7/dist-packages/ipykernel_launcher.py:2: SettingWithCopyWarning: \n",
            "A value is trying to be set on a copy of a slice from a DataFrame\n",
            "\n",
            "See the caveats in the documentation: https://pandas.pydata.org/pandas-docs/stable/user_guide/indexing.html#returning-a-view-versus-a-copy\n",
            "  \n"
          ],
          "name": "stderr"
        }
      ]
    },
    {
      "cell_type": "code",
      "metadata": {
        "id": "Z4m7AVJkUmHd",
        "colab": {
          "base_uri": "https://localhost:8080/",
          "height": 35
        },
        "outputId": "d7975a27-4e4d-419d-c851-10bd412f6d21"
      },
      "source": [
        "df['Communication channels used'][90000]"
      ],
      "execution_count": 149,
      "outputs": [
        {
          "output_type": "execute_result",
          "data": {
            "application/vnd.google.colaboratory.intrinsic+json": {
              "type": "string"
            },
            "text/plain": [
              "'Digital advertising (i.e. Google, Facebook, Instagram ads); Direct mailings; Flyers; Email bulletins; Social media'"
            ]
          },
          "metadata": {
            "tags": []
          },
          "execution_count": 149
        }
      ]
    },
    {
      "cell_type": "code",
      "metadata": {
        "id": "vAS9ygBtcBAO",
        "colab": {
          "base_uri": "https://localhost:8080/"
        },
        "outputId": "73cdf9ba-e364-4086-d518-c14c45b1a5bf"
      },
      "source": [
        "df.info()"
      ],
      "execution_count": 163,
      "outputs": [
        {
          "output_type": "stream",
          "text": [
            "<class 'pandas.core.frame.DataFrame'>\n",
            "RangeIndex: 99998 entries, 0 to 99997\n",
            "Data columns (total 44 columns):\n",
            " #   Column                                                             Non-Null Count  Dtype  \n",
            "---  ------                                                             --------------  -----  \n",
            " 0   index                                                              99998 non-null  int64  \n",
            " 1   company name                                                       99998 non-null  object \n",
            " 2   Floor Size                                                         99998 non-null  int64  \n",
            " 3   Full-time staff                                                    99998 non-null  object \n",
            " 4   Sanitation staff employed                                          99998 non-null  int64  \n",
            " 5   Safety Inspector                                                   99998 non-null  int64  \n",
            " 6   Part-time staff                                                    99998 non-null  int64  \n",
            " 7   Current clients                                                    99997 non-null  object \n",
            " 8   Bid provides supplemental sanitation services                      99998 non-null  object \n",
            " 9   Types of duties assigned to sanitation workers                     97428 non-null  object \n",
            " 10  Days per week of sanitation services                               99995 non-null  float64\n",
            " 11  Hours logged by sanitation workers                                 99998 non-null  int64  \n",
            " 12  Incidents of graffiti removed                                      99998 non-null  object \n",
            " 13  Trash bags collected                                               99998 non-null  int64  \n",
            " 14  Trash and recycling receptacles serviced                           99998 non-null  int64  \n",
            " 15  Bid provides supplemental public safety services                   99998 non-null  object \n",
            " 16  Duties assigned to public safety personnel                         48774 non-null  object \n",
            " 17  Hours logged by public safety officers                             99977 non-null  float64\n",
            " 18  Interactions with public safety officers                           99975 non-null  float64\n",
            " 19  Bid provides supplemental streetscape and beautification services  99998 non-null  object \n",
            " 20  Planters and hanging baskets maintained                            99998 non-null  int64  \n",
            " 21  Tree pits maintained                                               99998 non-null  int64  \n",
            " 22  Banners maintained                                                 99998 non-null  int64  \n",
            " 23  Public art installations sponsored                                 99998 non-null  int64  \n",
            " 24  Street furniture elements maintained                               99978 non-null  object \n",
            " 25  Wayfinding elements maintained                                     99980 non-null  object \n",
            " 26  Lighting elements maintained                                       99986 non-null  object \n",
            " 27  Other infrastructure elements maintained                           99988 non-null  object \n",
            " 28  Public spaces maintained                                           99979 non-null  float64\n",
            " 29  Bid has holiday lighting program                                   99998 non-null  object \n",
            " 30  Communication channels used                                        98632 non-null  object \n",
            " 31  Social media followers                                             99998 non-null  int64  \n",
            " 32  Marketing materials distributed                                    99998 non-null  int64  \n",
            " 33  Public events coordinated                                          99998 non-null  int64  \n",
            " 34  Estimated attendees to public events coordinated                   99998 non-null  int64  \n",
            " 35  Special event charges                                              99992 non-null  object \n",
            " 36  Miscellaneous charges                                              99978 non-null  object \n",
            " 37  Sanitation expenses                                                99979 non-null  object \n",
            " 38  Public safety expenses                                             99987 non-null  object \n",
            " 39  Streetscape & beautification expenses                              99989 non-null  object \n",
            " 40  Salaries                                                           99978 non-null  object \n",
            " 41  Outside contractor expenses                                        99992 non-null  object \n",
            " 42  Insurance costs                                                    99998 non-null  object \n",
            " 43  Supplies and equipment costs                                       99948 non-null  object \n",
            "dtypes: float64(4), int64(16), object(24)\n",
            "memory usage: 33.6+ MB\n"
          ],
          "name": "stdout"
        }
      ]
    },
    {
      "cell_type": "code",
      "metadata": {
        "id": "LNKdRGWxtcHb"
      },
      "source": [
        "#Dropping unnecessary columns\r\n",
        "df.drop(['Marketing, holiday lighting, and special event expenses','Rent and utilities','Other G&A expenses'], axis=1, inplace=True)"
      ],
      "execution_count": 160,
      "outputs": []
    },
    {
      "cell_type": "code",
      "metadata": {
        "colab": {
          "base_uri": "https://localhost:8080/"
        },
        "id": "QzbuLJ3EukSs",
        "outputId": "b067d212-c3e6-4704-b7f0-d12415ed7560"
      },
      "source": [
        "df.shape"
      ],
      "execution_count": 162,
      "outputs": [
        {
          "output_type": "execute_result",
          "data": {
            "text/plain": [
              "(99998, 44)"
            ]
          },
          "metadata": {
            "tags": []
          },
          "execution_count": 162
        }
      ]
    },
    {
      "cell_type": "markdown",
      "metadata": {
        "id": "SWlKkQJMZh2P"
      },
      "source": [
        "Now we shall replace all \"$\" signs in the columns to a null value"
      ]
    },
    {
      "cell_type": "code",
      "metadata": {
        "id": "mEzW7QaLZNLE"
      },
      "source": [
        "#replace function for replacing all \"$\" sign to \" \" for the following - \r\n",
        "\r\n",
        "#Miscellaneous charges\r\n",
        "#Public safety expenses\r\n",
        "#Streetscape & beautification expenses\r\n",
        "#Salaries\r\n",
        "#Outside contractor expenses\r\n",
        "#Insurance costs\r\n",
        "#Supplies and equipment costs\r\n",
        "#Sanitation expenses\r\n",
        "\r\n",
        "\r\n",
        "df['Special event charges'] = df['Special event charges'].str.replace(\"$\",\"\")\r\n",
        "df['Miscellaneous charges'] = df['Miscellaneous charges'].str.replace(\"$\",\"\")\r\n",
        "df['Sanitation expenses'] = df['Sanitation expenses'].str.replace(\"$\",\"\")\r\n",
        "df['Public safety expenses'] = df['Public safety expenses'].str.replace(\"$\",\"\")\r\n",
        "df['Streetscape & beautification expenses'] = df['Streetscape & beautification expenses'].str.replace(\"$\",\"\")\r\n",
        "df['Salaries'] = df['Salaries'].str.replace(\"$\",\"\")\r\n",
        "df['Outside contractor expenses'] = df['Outside contractor expenses'].str.replace(\"$\",\"\")\r\n",
        "df['Insurance costs'] = df['Insurance costs'].str.replace(\"$\",\"\")\r\n",
        "df['Supplies and equipment costs'] = df['Supplies and equipment costs'].str.replace(\"$\",\"\")\r\n",
        "\r\n",
        "\r\n"
      ],
      "execution_count": 174,
      "outputs": []
    },
    {
      "cell_type": "code",
      "metadata": {
        "colab": {
          "base_uri": "https://localhost:8080/",
          "height": 265
        },
        "id": "BMyfR-Hlk_EC",
        "outputId": "4f61dd74-2068-4493-d689-be598b978453"
      },
      "source": [
        "#Dropping unnecessary columns\r\n",
        "df.head(1)"
      ],
      "execution_count": 175,
      "outputs": [
        {
          "output_type": "execute_result",
          "data": {
            "text/html": [
              "<div>\n",
              "<style scoped>\n",
              "    .dataframe tbody tr th:only-of-type {\n",
              "        vertical-align: middle;\n",
              "    }\n",
              "\n",
              "    .dataframe tbody tr th {\n",
              "        vertical-align: top;\n",
              "    }\n",
              "\n",
              "    .dataframe thead th {\n",
              "        text-align: right;\n",
              "    }\n",
              "</style>\n",
              "<table border=\"1\" class=\"dataframe\">\n",
              "  <thead>\n",
              "    <tr style=\"text-align: right;\">\n",
              "      <th></th>\n",
              "      <th>index</th>\n",
              "      <th>company name</th>\n",
              "      <th>Floor Size</th>\n",
              "      <th>Full-time staff</th>\n",
              "      <th>Sanitation staff employed</th>\n",
              "      <th>Safety Inspector</th>\n",
              "      <th>Part-time staff</th>\n",
              "      <th>Current clients</th>\n",
              "      <th>Bid provides supplemental sanitation services</th>\n",
              "      <th>Types of duties assigned to sanitation workers</th>\n",
              "      <th>Days per week of sanitation services</th>\n",
              "      <th>Hours logged by sanitation workers</th>\n",
              "      <th>Incidents of graffiti removed</th>\n",
              "      <th>Trash bags collected</th>\n",
              "      <th>Trash and recycling receptacles serviced</th>\n",
              "      <th>Bid provides supplemental public safety services</th>\n",
              "      <th>Duties assigned to public safety personnel</th>\n",
              "      <th>Hours logged by public safety officers</th>\n",
              "      <th>Interactions with public safety officers</th>\n",
              "      <th>Bid provides supplemental streetscape and beautification services</th>\n",
              "      <th>Planters and hanging baskets maintained</th>\n",
              "      <th>Tree pits maintained</th>\n",
              "      <th>Banners maintained</th>\n",
              "      <th>Public art installations sponsored</th>\n",
              "      <th>Street furniture elements maintained</th>\n",
              "      <th>Wayfinding elements maintained</th>\n",
              "      <th>Lighting elements maintained</th>\n",
              "      <th>Other infrastructure elements maintained</th>\n",
              "      <th>Public spaces maintained</th>\n",
              "      <th>Bid has holiday lighting program</th>\n",
              "      <th>Communication channels used</th>\n",
              "      <th>Social media followers</th>\n",
              "      <th>Marketing materials distributed</th>\n",
              "      <th>Public events coordinated</th>\n",
              "      <th>Estimated attendees to public events coordinated</th>\n",
              "      <th>Special event charges</th>\n",
              "      <th>Miscellaneous charges</th>\n",
              "      <th>Sanitation expenses</th>\n",
              "      <th>Public safety expenses</th>\n",
              "      <th>Streetscape &amp; beautification expenses</th>\n",
              "      <th>Salaries</th>\n",
              "      <th>Outside contractor expenses</th>\n",
              "      <th>Insurance costs</th>\n",
              "      <th>Supplies and equipment costs</th>\n",
              "    </tr>\n",
              "  </thead>\n",
              "  <tbody>\n",
              "    <tr>\n",
              "      <th>0</th>\n",
              "      <td>1</td>\n",
              "      <td>Moreno LLC</td>\n",
              "      <td>5220</td>\n",
              "      <td>1</td>\n",
              "      <td>31</td>\n",
              "      <td>9</td>\n",
              "      <td>9</td>\n",
              "      <td>145</td>\n",
              "      <td>Yes</td>\n",
              "      <td>Street Sweeping and Bagging; Snow and Ice Remo...</td>\n",
              "      <td>7.0</td>\n",
              "      <td>61051</td>\n",
              "      <td>19327</td>\n",
              "      <td>70352</td>\n",
              "      <td>282</td>\n",
              "      <td>No</td>\n",
              "      <td>NaN</td>\n",
              "      <td>24732.0</td>\n",
              "      <td>NaN</td>\n",
              "      <td>Yes</td>\n",
              "      <td>341</td>\n",
              "      <td>115</td>\n",
              "      <td>105</td>\n",
              "      <td>12</td>\n",
              "      <td>2304</td>\n",
              "      <td>828</td>\n",
              "      <td>2161</td>\n",
              "      <td>786</td>\n",
              "      <td>19.0</td>\n",
              "      <td>Yes</td>\n",
              "      <td>Direct mailings; Flyers; Email bulletins; Soci...</td>\n",
              "      <td>11716</td>\n",
              "      <td>40108</td>\n",
              "      <td>15</td>\n",
              "      <td>198647</td>\n",
              "      <td>360,146</td>\n",
              "      <td>16,591</td>\n",
              "      <td>76,277</td>\n",
              "      <td>40,756</td>\n",
              "      <td>39,202</td>\n",
              "      <td>194,141</td>\n",
              "      <td>101,399</td>\n",
              "      <td>2,035</td>\n",
              "      <td>3,749</td>\n",
              "    </tr>\n",
              "  </tbody>\n",
              "</table>\n",
              "</div>"
            ],
            "text/plain": [
              "   index company name  ...  Insurance costs Supplies and equipment costs\n",
              "0      1   Moreno LLC  ...           2,035                        3,749 \n",
              "\n",
              "[1 rows x 44 columns]"
            ]
          },
          "metadata": {
            "tags": []
          },
          "execution_count": 175
        }
      ]
    },
    {
      "cell_type": "code",
      "metadata": {
        "colab": {
          "base_uri": "https://localhost:8080/"
        },
        "id": "K15fEcFJlq-w",
        "outputId": "3e321fc5-a196-46bb-d936-bbae9d372397"
      },
      "source": [
        "df.shape"
      ],
      "execution_count": 176,
      "outputs": [
        {
          "output_type": "execute_result",
          "data": {
            "text/plain": [
              "(99998, 44)"
            ]
          },
          "metadata": {
            "tags": []
          },
          "execution_count": 176
        }
      ]
    },
    {
      "cell_type": "code",
      "metadata": {
        "id": "fNOAH3F8dD_x"
      },
      "source": [
        "df.head(1)"
      ],
      "execution_count": null,
      "outputs": []
    },
    {
      "cell_type": "markdown",
      "metadata": {
        "id": "wkqEgcQuESYs"
      },
      "source": [
        "Replacing all \",\" by \"\" and all NaN values by 0<br>\r\n",
        "Would be required for adding the total sum later"
      ]
    },
    {
      "cell_type": "code",
      "metadata": {
        "id": "giBSi4corojR"
      },
      "source": [
        "\r\n",
        "df['Miscellaneous charges'] = df['Miscellaneous charges'].str.replace(\",\",\"\").fillna(\"0\")\r\n",
        "df['Sanitation expenses'] = df['Sanitation expenses'].str.replace(\",\",\"\").fillna(\"0\")\r\n",
        "df['Public safety expenses'] = df['Public safety expenses'].str.replace(\",\",\"\").fillna(\"0\")\r\n",
        "df['Streetscape & beautification expenses'] = df['Streetscape & beautification expenses'].str.replace(\",\",\"\").fillna(\"0\")\r\n",
        "df['Salaries'] = df['Salaries'].str.replace(\",\",\"\").fillna(\"0\")\r\n",
        "df['Outside contractor expenses'] = df['Outside contractor expenses'].str.replace(\",\",\"\").fillna(\"0\")\r\n",
        "df['Insurance costs'] = df['Insurance costs'].str.replace(\",\",\"\").fillna(\"0\")\r\n",
        "df['Supplies and equipment costs'] = df['Supplies and equipment costs'].str.replace(\",\",\"\").fillna(\"0\")"
      ],
      "execution_count": 190,
      "outputs": []
    },
    {
      "cell_type": "code",
      "metadata": {
        "id": "5tPtvYd9_wVH"
      },
      "source": [
        "df['Miscellaneous charges']"
      ],
      "execution_count": null,
      "outputs": []
    },
    {
      "cell_type": "code",
      "metadata": {
        "id": "JnccDymdBJmh"
      },
      "source": [
        "df['Public safety expenses']"
      ],
      "execution_count": null,
      "outputs": []
    },
    {
      "cell_type": "code",
      "metadata": {
        "id": "66pb-CYGWINR"
      },
      "source": [
        "df['Total Quotation'] = df['Miscellaneous charges'].astype(\"int\") + df['Public safety expenses'].astype(\"int\") +  df['Sanitation expenses'].astype(\"int\") + df['Streetscape & beautification expenses'].astype(\"int\") \r\n",
        "+ df['Salaries'].astype(\"int\") + df['Outside contractor expenses'].astype(\"int\") + df['Insurance costs'].astype(\"int\") +  df['Supplies and equipment costs'].astype(\"int\")\r\n",
        "df['Total Quotation']\r\n",
        "#Streetscape & beautification expenses   Outside contractor expenses     \r\n"
      ],
      "execution_count": null,
      "outputs": []
    },
    {
      "cell_type": "code",
      "metadata": {
        "colab": {
          "base_uri": "https://localhost:8080/"
        },
        "id": "vG7YPR6CEEAU",
        "outputId": "5a87cd2e-840d-48bd-beb0-f934cc492b2c"
      },
      "source": [
        "df.info()"
      ],
      "execution_count": 199,
      "outputs": [
        {
          "output_type": "stream",
          "text": [
            "<class 'pandas.core.frame.DataFrame'>\n",
            "RangeIndex: 99998 entries, 0 to 99997\n",
            "Data columns (total 46 columns):\n",
            " #   Column                                                             Non-Null Count  Dtype  \n",
            "---  ------                                                             --------------  -----  \n",
            " 0   index                                                              99998 non-null  int64  \n",
            " 1   company name                                                       99998 non-null  object \n",
            " 2   Floor Size                                                         99998 non-null  int64  \n",
            " 3   Full-time staff                                                    99998 non-null  object \n",
            " 4   Sanitation staff employed                                          99998 non-null  int64  \n",
            " 5   Safety Inspector                                                   99998 non-null  int64  \n",
            " 6   Part-time staff                                                    99998 non-null  int64  \n",
            " 7   Current clients                                                    99997 non-null  object \n",
            " 8   Bid provides supplemental sanitation services                      99998 non-null  object \n",
            " 9   Types of duties assigned to sanitation workers                     97428 non-null  object \n",
            " 10  Days per week of sanitation services                               99995 non-null  float64\n",
            " 11  Hours logged by sanitation workers                                 99998 non-null  int64  \n",
            " 12  Incidents of graffiti removed                                      99998 non-null  object \n",
            " 13  Trash bags collected                                               99998 non-null  int64  \n",
            " 14  Trash and recycling receptacles serviced                           99998 non-null  int64  \n",
            " 15  Bid provides supplemental public safety services                   99998 non-null  object \n",
            " 16  Duties assigned to public safety personnel                         48774 non-null  object \n",
            " 17  Hours logged by public safety officers                             99977 non-null  float64\n",
            " 18  Interactions with public safety officers                           99975 non-null  float64\n",
            " 19  Bid provides supplemental streetscape and beautification services  99998 non-null  object \n",
            " 20  Planters and hanging baskets maintained                            99998 non-null  int64  \n",
            " 21  Tree pits maintained                                               99998 non-null  int64  \n",
            " 22  Banners maintained                                                 99998 non-null  int64  \n",
            " 23  Public art installations sponsored                                 99998 non-null  int64  \n",
            " 24  Street furniture elements maintained                               99978 non-null  object \n",
            " 25  Wayfinding elements maintained                                     99980 non-null  object \n",
            " 26  Lighting elements maintained                                       99986 non-null  object \n",
            " 27  Other infrastructure elements maintained                           99988 non-null  object \n",
            " 28  Public spaces maintained                                           99979 non-null  float64\n",
            " 29  Bid has holiday lighting program                                   99998 non-null  object \n",
            " 30  Communication channels used                                        98632 non-null  object \n",
            " 31  Social media followers                                             99998 non-null  int64  \n",
            " 32  Marketing materials distributed                                    99998 non-null  int64  \n",
            " 33  Public events coordinated                                          99998 non-null  int64  \n",
            " 34  Estimated attendees to public events coordinated                   99998 non-null  int64  \n",
            " 35  Special event charges                                              99992 non-null  object \n",
            " 36  Miscellaneous charges                                              99998 non-null  object \n",
            " 37  Sanitation expenses                                                99998 non-null  object \n",
            " 38  Public safety expenses                                             99998 non-null  object \n",
            " 39  Streetscape & beautification expenses                              99998 non-null  object \n",
            " 40  Salaries                                                           99998 non-null  object \n",
            " 41  Outside contractor expenses                                        99998 non-null  object \n",
            " 42  Insurance costs                                                    99998 non-null  object \n",
            " 43  Supplies and equipment costs                                       99998 non-null  object \n",
            " 44  Quotation                                                          99998 non-null  int64  \n",
            " 45  Total Quotation                                                    99998 non-null  int64  \n",
            "dtypes: float64(4), int64(18), object(24)\n",
            "memory usage: 35.1+ MB\n"
          ],
          "name": "stdout"
        }
      ]
    },
    {
      "cell_type": "markdown",
      "metadata": {
        "id": "mL1FT4PkFlm0"
      },
      "source": [
        "Removing unnecessary attributes and merging some attributes"
      ]
    },
    {
      "cell_type": "code",
      "metadata": {
        "id": "C6L9yXWWG4vx"
      },
      "source": [
        "df.drop(['Types of duties assigned to sanitation workers','Duties assigned to public safety personnel'],axis=1,inplace=True)"
      ],
      "execution_count": 204,
      "outputs": []
    },
    {
      "cell_type": "code",
      "metadata": {
        "id": "0Q8X-t8dHFgJ"
      },
      "source": [
        "df['Incidents of graffiti removed'] = df['Incidents of graffiti removed'].str.replace(\",\",\"\")\r\n",
        "df['Incidents of graffiti removed'] = df['Incidents of graffiti removed'].str.replace(\"-\",\"0\")\r\n",
        "df['Incidents of graffiti removed'] = df['Incidents of graffiti removed'].fillna(\"0\")"
      ],
      "execution_count": 206,
      "outputs": []
    },
    {
      "cell_type": "code",
      "metadata": {
        "id": "a07ygxd0HgKS"
      },
      "source": [
        "df['Number_Of_Sanitation_Activities'] = df['Incidents of graffiti removed'].astype(\"float\") + df['Trash bags collected'] + df['Trash and recycling receptacles serviced']"
      ],
      "execution_count": 209,
      "outputs": []
    },
    {
      "cell_type": "code",
      "metadata": {
        "id": "fLJPOnRhHu6i"
      },
      "source": [
        "df.drop(['Incidents of graffiti removed','Trash bags collected','Trash and recycling receptacles serviced'],axis=1,inplace=True)"
      ],
      "execution_count": 210,
      "outputs": []
    },
    {
      "cell_type": "code",
      "metadata": {
        "id": "ELyZZSFrI7pN"
      },
      "source": [
        "df['Street furniture elements maintained'] = df['Street furniture elements maintained'].fillna(\"0\")\r\n",
        "df['Wayfinding elements maintained'] = df['Wayfinding elements maintained'].fillna(\"0\")\r\n",
        "df['Lighting elements maintained'] = df['Lighting elements maintained'].fillna(\"0\")\r\n",
        "df['Other infrastructure elements maintained'] = df['Other infrastructure elements maintained'].fillna(\"0\")\r\n"
      ],
      "execution_count": 225,
      "outputs": []
    },
    {
      "cell_type": "code",
      "metadata": {
        "id": "0XBBQDc9K85c"
      },
      "source": [
        "df.dtypes"
      ],
      "execution_count": null,
      "outputs": []
    },
    {
      "cell_type": "code",
      "metadata": {
        "id": "HTJuBK2bH5tr"
      },
      "source": [
        "df['Beautification_Activities'] = df['Planters and hanging baskets maintained'] + df['Tree pits maintained'] + df['Banners maintained'] + df['Public art installations sponsored'] \r\n",
        "+ df['Street furniture elements maintained']\r\n",
        "+ df['Wayfinding elements maintained']\r\n",
        "+ df['Lighting elements maintained']\r\n",
        "+ df['Public spaces maintained']\r\n",
        "\r\n",
        "df['Beautification_Activities']"
      ],
      "execution_count": null,
      "outputs": []
    },
    {
      "cell_type": "code",
      "metadata": {
        "id": "rN4GRWFZLjbP"
      },
      "source": [
        "df.drop(['Planters and hanging baskets maintained','Tree pits maintained','Banners maintained','Public art installations sponsored','Street furniture elements maintained','Wayfinding elements maintained','Lighting elements maintained','Other infrastructure elements maintained','Public spaces maintained'],axis=1,inplace=True)"
      ],
      "execution_count": 230,
      "outputs": []
    },
    {
      "cell_type": "code",
      "metadata": {
        "colab": {
          "base_uri": "https://localhost:8080/"
        },
        "id": "tDTdY40NGQOr",
        "outputId": "248d70af-7240-4a7e-f84f-c5e530a2eee0"
      },
      "source": [
        "df.shape"
      ],
      "execution_count": 235,
      "outputs": [
        {
          "output_type": "execute_result",
          "data": {
            "text/plain": [
              "(99998, 30)"
            ]
          },
          "metadata": {
            "tags": []
          },
          "execution_count": 235
        }
      ]
    },
    {
      "cell_type": "code",
      "metadata": {
        "colab": {
          "base_uri": "https://localhost:8080/"
        },
        "id": "pJlAXh5GMD6U",
        "outputId": "5e95b220-e219-412a-a7bf-b7d17c4f4376"
      },
      "source": [
        "df['Beautification_Activities'].isnull()"
      ],
      "execution_count": 232,
      "outputs": [
        {
          "output_type": "execute_result",
          "data": {
            "text/plain": [
              "0        False\n",
              "1        False\n",
              "2        False\n",
              "3        False\n",
              "4        False\n",
              "         ...  \n",
              "99993    False\n",
              "99994    False\n",
              "99995    False\n",
              "99996    False\n",
              "99997    False\n",
              "Name: Beautification_Activities, Length: 99998, dtype: bool"
            ]
          },
          "metadata": {
            "tags": []
          },
          "execution_count": 232
        }
      ]
    },
    {
      "cell_type": "code",
      "metadata": {
        "id": "7-x3vX7kMefO"
      },
      "source": [
        "df['Media_Reach'] = df['Social media followers'] + df['Marketing materials distributed'] + (df['Public events coordinated']*df['Estimated attendees to public events coordinated']) "
      ],
      "execution_count": 233,
      "outputs": []
    },
    {
      "cell_type": "code",
      "metadata": {
        "id": "WI6cdORYMq_e"
      },
      "source": [
        "df.drop(['Social media followers','Marketing materials distributed','Public events coordinated','Estimated attendees to public events coordinated'],axis=1,inplace=True)"
      ],
      "execution_count": 234,
      "outputs": []
    },
    {
      "cell_type": "code",
      "metadata": {
        "colab": {
          "base_uri": "https://localhost:8080/",
          "height": 468
        },
        "id": "oqt2KTtzNIXT",
        "outputId": "90e94532-7d5e-4970-f1e1-74c883a53dd1"
      },
      "source": [
        "import seaborn as sns\r\n",
        "a = df.corr()\r\n",
        "sns.heatmap(a)"
      ],
      "execution_count": 237,
      "outputs": [
        {
          "output_type": "execute_result",
          "data": {
            "text/plain": [
              "<matplotlib.axes._subplots.AxesSubplot at 0x7f97605846d0>"
            ]
          },
          "metadata": {
            "tags": []
          },
          "execution_count": 237
        },
        {
          "output_type": "display_data",
          "data": {
            "image/png": "[encoded data removed]",
            "text/plain": [
              "<Figure size 432x288 with 2 Axes>"
            ]
          },
          "metadata": {
            "tags": [],
            "needs_background": "light"
          }
        }
      ]
    },
    {
      "cell_type": "markdown",
      "metadata": {
        "id": "hP7Z8ZQLYFj7"
      },
      "source": [
        "**2. EDA - Explolatory Data Analysis**"
      ]
    }
  ]
}