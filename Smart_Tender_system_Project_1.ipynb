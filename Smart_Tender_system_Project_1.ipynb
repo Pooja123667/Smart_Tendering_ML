{
  "nbformat": 4,
  "nbformat_minor": 0,
  "metadata": {
    "colab": {
      "name": "Smart Tender system - Project - 1.ipynb",
      "provenance": [],
      "collapsed_sections": [],
      "include_colab_link": true
    },
    "kernelspec": {
      "display_name": "Python 3",
      "name": "python3"
    }
  },
  "cells": [
    {
      "cell_type": "markdown",
      "metadata": {
        "id": "view-in-github",
        "colab_type": "text"
      },
      "source": [
        "<a href=\"https://colab.research.google.com/github/Pooja123667/Smart_Tendering_ML/blob/main/Smart_Tender_system_Project_1.ipynb\" target=\"_parent\"><img src=\"https://colab.research.google.com/assets/colab-badge.svg\" alt=\"Open In Colab\"/></a>"
      ]
    },
    {
      "cell_type": "markdown",
      "metadata": {
        "id": "HfbD1PCXWvVX"
      },
      "source": [
        "Importing necessary Libraries <br>\r\n",
        "**1. Understanding and Analyzing the Dataset**"
      ]
    },
    {
      "cell_type": "code",
      "metadata": {
        "colab": {
          "base_uri": "https://localhost:8080/"
        },
        "id": "fNxDLtgXgBTt",
        "outputId": "77c5bb30-46a4-45fe-f0ec-89122c4c90f5"
      },
      "source": [
        "import pandas as pd\r\n",
        "import io \r\n",
        "print(\"Import success\")"
      ],
      "execution_count": 1,
      "outputs": [
        {
          "output_type": "stream",
          "text": [
            "Import success\n"
          ],
          "name": "stdout"
        }
      ]
    },
    {
      "cell_type": "code",
      "metadata": {
        "id": "66y5WJAQgbD6"
      },
      "source": [
        "df = pd.read_csv(\"https://raw.githubusercontent.com/Pooja123667/Smart_Tendering_ML/main/FY19_BID_Trends_Report_Data%20(3).csv\", low_memory=False) \r\n",
        "#https://raw.githubusercontent.com/Pooja123667/Smart_Tendering_ML/main/FY19_BID_Trends_Report_Data%20(3).csv\r\n",
        "#https://raw.githubusercontent.com/Pooja123667/Smart_Tendering_ML/main/file_name%20(2).csv"
      ],
      "execution_count": 2,
      "outputs": []
    },
    {
      "cell_type": "code",
      "metadata": {
        "colab": {
          "base_uri": "https://localhost:8080/",
          "height": 282
        },
        "id": "a9OUg2JGhCKm",
        "outputId": "0fd3e711-f12e-4afb-c267-09b02dfd8312"
      },
      "source": [
        "df.head(1)"
      ],
      "execution_count": 3,
      "outputs": [
        {
          "output_type": "execute_result",
          "data": {
            "text/html": [
              "<div>\n",
              "<style scoped>\n",
              "    .dataframe tbody tr th:only-of-type {\n",
              "        vertical-align: middle;\n",
              "    }\n",
              "\n",
              "    .dataframe tbody tr th {\n",
              "        vertical-align: top;\n",
              "    }\n",
              "\n",
              "    .dataframe thead th {\n",
              "        text-align: right;\n",
              "    }\n",
              "</style>\n",
              "<table border=\"1\" class=\"dataframe\">\n",
              "  <thead>\n",
              "    <tr style=\"text-align: right;\">\n",
              "      <th></th>\n",
              "      <th>Unnamed: 0</th>\n",
              "      <th>index</th>\n",
              "      <th>company name</th>\n",
              "      <th>Floor Size</th>\n",
              "      <th>Full-time staff</th>\n",
              "      <th>Sanitation staff employed</th>\n",
              "      <th>Safety Inspector</th>\n",
              "      <th>Part-time staff</th>\n",
              "      <th>Current clients</th>\n",
              "      <th>Bid provides supplemental sanitation services</th>\n",
              "      <th>Types of duties assigned to sanitation workers</th>\n",
              "      <th>Days per week of sanitation services</th>\n",
              "      <th>Hours logged by sanitation workers</th>\n",
              "      <th>Incidents of graffiti removed</th>\n",
              "      <th>Trash bags collected</th>\n",
              "      <th>Trash and recycling receptacles serviced</th>\n",
              "      <th>Bid provides supplemental public safety services</th>\n",
              "      <th>Duties assigned to public safety personnel</th>\n",
              "      <th>Hours logged by public safety officers</th>\n",
              "      <th>Interactions with public safety officers</th>\n",
              "      <th>Bid provides supplemental streetscape and beautification services</th>\n",
              "      <th>Planters and hanging baskets maintained</th>\n",
              "      <th>Tree pits maintained</th>\n",
              "      <th>Banners maintained</th>\n",
              "      <th>Public art installations sponsored</th>\n",
              "      <th>Street furniture elements maintained</th>\n",
              "      <th>Wayfinding elements maintained</th>\n",
              "      <th>Lighting elements maintained</th>\n",
              "      <th>Other infrastructure elements maintained</th>\n",
              "      <th>Public spaces maintained</th>\n",
              "      <th>Bid has holiday lighting program</th>\n",
              "      <th>Communication channels used</th>\n",
              "      <th>Social media followers</th>\n",
              "      <th>Marketing materials distributed</th>\n",
              "      <th>Public events coordinated</th>\n",
              "      <th>Estimated attendees to public events coordinated</th>\n",
              "      <th>Special event charges</th>\n",
              "      <th>Miscellaneous charges</th>\n",
              "      <th>Sanitation expenses</th>\n",
              "      <th>Public safety expenses</th>\n",
              "      <th>Marketing, holiday lighting, and special event expenses</th>\n",
              "      <th>Streetscape &amp; beautification expenses</th>\n",
              "      <th>Salaries</th>\n",
              "      <th>Outside contractor expenses</th>\n",
              "      <th>Insurance costs</th>\n",
              "      <th>Rent and utilities</th>\n",
              "      <th>Supplies and equipment costs</th>\n",
              "      <th>Other G&amp;A expenses</th>\n",
              "    </tr>\n",
              "  </thead>\n",
              "  <tbody>\n",
              "    <tr>\n",
              "      <th>0</th>\n",
              "      <td>0</td>\n",
              "      <td>1</td>\n",
              "      <td>Moreno LLC</td>\n",
              "      <td>5220.0</td>\n",
              "      <td>1.0</td>\n",
              "      <td>31.0</td>\n",
              "      <td>9.0</td>\n",
              "      <td>9.0</td>\n",
              "      <td>145</td>\n",
              "      <td>Yes</td>\n",
              "      <td>Street Sweeping and Bagging; Snow and Ice Remo...</td>\n",
              "      <td>7.0</td>\n",
              "      <td>61051.0</td>\n",
              "      <td>19327</td>\n",
              "      <td>70352.0</td>\n",
              "      <td>282.0</td>\n",
              "      <td>No</td>\n",
              "      <td>NaN</td>\n",
              "      <td>24732.0</td>\n",
              "      <td>NaN</td>\n",
              "      <td>Yes</td>\n",
              "      <td>341.0</td>\n",
              "      <td>115.0</td>\n",
              "      <td>105.0</td>\n",
              "      <td>12.0</td>\n",
              "      <td>2304</td>\n",
              "      <td>828</td>\n",
              "      <td>2161</td>\n",
              "      <td>786</td>\n",
              "      <td>19.0</td>\n",
              "      <td>Yes</td>\n",
              "      <td>Direct mailings; Flyers; Email bulletins; Soci...</td>\n",
              "      <td>11716.0</td>\n",
              "      <td>40108.0</td>\n",
              "      <td>15.0</td>\n",
              "      <td>198647.0</td>\n",
              "      <td>360,146</td>\n",
              "      <td>16,591</td>\n",
              "      <td>76,277</td>\n",
              "      <td>40,756</td>\n",
              "      <td>$177,762</td>\n",
              "      <td>39,202</td>\n",
              "      <td>194,141</td>\n",
              "      <td>101,399</td>\n",
              "      <td>2,035</td>\n",
              "      <td>$12,296</td>\n",
              "      <td>3,749</td>\n",
              "      <td>$46,053</td>\n",
              "    </tr>\n",
              "  </tbody>\n",
              "</table>\n",
              "</div>"
            ],
            "text/plain": [
              "   Unnamed: 0  index  ... Supplies and equipment costs  Other G&A expenses\n",
              "0           0      1  ...                       3,749             $46,053 \n",
              "\n",
              "[1 rows x 48 columns]"
            ]
          },
          "metadata": {
            "tags": []
          },
          "execution_count": 3
        }
      ]
    },
    {
      "cell_type": "code",
      "metadata": {
        "colab": {
          "base_uri": "https://localhost:8080/"
        },
        "id": "azvixykQhJx7",
        "outputId": "63bcad11-2399-4eac-d68b-325415e00713"
      },
      "source": [
        "df.shape"
      ],
      "execution_count": 4,
      "outputs": [
        {
          "output_type": "execute_result",
          "data": {
            "text/plain": [
              "(99998, 48)"
            ]
          },
          "metadata": {
            "tags": []
          },
          "execution_count": 4
        }
      ]
    },
    {
      "cell_type": "code",
      "metadata": {
        "colab": {
          "base_uri": "https://localhost:8080/",
          "height": 371
        },
        "id": "YzHkUTPFhQVy",
        "outputId": "f8c63fdf-65cd-4e0c-968a-6a9a41a61d9a"
      },
      "source": [
        "df.describe()"
      ],
      "execution_count": 5,
      "outputs": [
        {
          "output_type": "execute_result",
          "data": {
            "text/html": [
              "<div>\n",
              "<style scoped>\n",
              "    .dataframe tbody tr th:only-of-type {\n",
              "        vertical-align: middle;\n",
              "    }\n",
              "\n",
              "    .dataframe tbody tr th {\n",
              "        vertical-align: top;\n",
              "    }\n",
              "\n",
              "    .dataframe thead th {\n",
              "        text-align: right;\n",
              "    }\n",
              "</style>\n",
              "<table border=\"1\" class=\"dataframe\">\n",
              "  <thead>\n",
              "    <tr style=\"text-align: right;\">\n",
              "      <th></th>\n",
              "      <th>Unnamed: 0</th>\n",
              "      <th>index</th>\n",
              "      <th>Floor Size</th>\n",
              "      <th>Full-time staff</th>\n",
              "      <th>Sanitation staff employed</th>\n",
              "      <th>Safety Inspector</th>\n",
              "      <th>Part-time staff</th>\n",
              "      <th>Days per week of sanitation services</th>\n",
              "      <th>Hours logged by sanitation workers</th>\n",
              "      <th>Trash bags collected</th>\n",
              "      <th>Trash and recycling receptacles serviced</th>\n",
              "      <th>Hours logged by public safety officers</th>\n",
              "      <th>Interactions with public safety officers</th>\n",
              "      <th>Planters and hanging baskets maintained</th>\n",
              "      <th>Tree pits maintained</th>\n",
              "      <th>Banners maintained</th>\n",
              "      <th>Public art installations sponsored</th>\n",
              "      <th>Public spaces maintained</th>\n",
              "      <th>Social media followers</th>\n",
              "      <th>Marketing materials distributed</th>\n",
              "      <th>Public events coordinated</th>\n",
              "      <th>Estimated attendees to public events coordinated</th>\n",
              "    </tr>\n",
              "  </thead>\n",
              "  <tbody>\n",
              "    <tr>\n",
              "      <th>count</th>\n",
              "      <td>99998.000000</td>\n",
              "      <td>99998.000000</td>\n",
              "      <td>97377.000000</td>\n",
              "      <td>97377.000000</td>\n",
              "      <td>97377.000000</td>\n",
              "      <td>97377.000000</td>\n",
              "      <td>97377.000000</td>\n",
              "      <td>93370.000000</td>\n",
              "      <td>97377.000000</td>\n",
              "      <td>97377.000000</td>\n",
              "      <td>97377.000000</td>\n",
              "      <td>69311.000000</td>\n",
              "      <td>66751.000000</td>\n",
              "      <td>97377.000000</td>\n",
              "      <td>97377.000000</td>\n",
              "      <td>97377.000000</td>\n",
              "      <td>97377.000000</td>\n",
              "      <td>82795.000000</td>\n",
              "      <td>97377.000000</td>\n",
              "      <td>97377.000000</td>\n",
              "      <td>97377.000000</td>\n",
              "      <td>97377.000000</td>\n",
              "    </tr>\n",
              "    <tr>\n",
              "      <th>mean</th>\n",
              "      <td>49998.500000</td>\n",
              "      <td>49999.500000</td>\n",
              "      <td>20542.258418</td>\n",
              "      <td>5.824260</td>\n",
              "      <td>41.174045</td>\n",
              "      <td>28.666318</td>\n",
              "      <td>11.818468</td>\n",
              "      <td>6.585927</td>\n",
              "      <td>82396.797509</td>\n",
              "      <td>141080.069996</td>\n",
              "      <td>218.030171</td>\n",
              "      <td>61237.879947</td>\n",
              "      <td>60503.866699</td>\n",
              "      <td>301.553437</td>\n",
              "      <td>212.474229</td>\n",
              "      <td>114.386128</td>\n",
              "      <td>15.346160</td>\n",
              "      <td>38.358307</td>\n",
              "      <td>30014.197264</td>\n",
              "      <td>60148.031660</td>\n",
              "      <td>206.254085</td>\n",
              "      <td>104914.274202</td>\n",
              "    </tr>\n",
              "    <tr>\n",
              "      <th>std</th>\n",
              "      <td>28867.080446</td>\n",
              "      <td>28867.080446</td>\n",
              "      <td>19461.774039</td>\n",
              "      <td>12.814629</td>\n",
              "      <td>24.179840</td>\n",
              "      <td>17.154586</td>\n",
              "      <td>6.468663</td>\n",
              "      <td>1.236232</td>\n",
              "      <td>44122.700220</td>\n",
              "      <td>66361.097687</td>\n",
              "      <td>119.087319</td>\n",
              "      <td>35649.908361</td>\n",
              "      <td>32662.499621</td>\n",
              "      <td>158.564854</td>\n",
              "      <td>147.943093</td>\n",
              "      <td>64.418373</td>\n",
              "      <td>5.340999</td>\n",
              "      <td>24.857368</td>\n",
              "      <td>92933.776156</td>\n",
              "      <td>34881.623679</td>\n",
              "      <td>105.411538</td>\n",
              "      <td>56397.947078</td>\n",
              "    </tr>\n",
              "    <tr>\n",
              "      <th>min</th>\n",
              "      <td>0.000000</td>\n",
              "      <td>1.000000</td>\n",
              "      <td>1740.000000</td>\n",
              "      <td>0.000000</td>\n",
              "      <td>2.000000</td>\n",
              "      <td>1.000000</td>\n",
              "      <td>1.000000</td>\n",
              "      <td>1.000000</td>\n",
              "      <td>9995.000000</td>\n",
              "      <td>29905.000000</td>\n",
              "      <td>17.000000</td>\n",
              "      <td>2339.000000</td>\n",
              "      <td>6168.000000</td>\n",
              "      <td>40.000000</td>\n",
              "      <td>15.000000</td>\n",
              "      <td>11.000000</td>\n",
              "      <td>6.000000</td>\n",
              "      <td>0.000000</td>\n",
              "      <td>190.000000</td>\n",
              "      <td>2684.000000</td>\n",
              "      <td>15.000000</td>\n",
              "      <td>4721.000000</td>\n",
              "    </tr>\n",
              "    <tr>\n",
              "      <th>25%</th>\n",
              "      <td>24999.250000</td>\n",
              "      <td>25000.250000</td>\n",
              "      <td>8010.000000</td>\n",
              "      <td>1.000000</td>\n",
              "      <td>23.000000</td>\n",
              "      <td>12.000000</td>\n",
              "      <td>7.000000</td>\n",
              "      <td>7.000000</td>\n",
              "      <td>49762.000000</td>\n",
              "      <td>81912.000000</td>\n",
              "      <td>106.000000</td>\n",
              "      <td>26720.000000</td>\n",
              "      <td>28259.000000</td>\n",
              "      <td>182.000000</td>\n",
              "      <td>77.000000</td>\n",
              "      <td>56.000000</td>\n",
              "      <td>11.000000</td>\n",
              "      <td>14.000000</td>\n",
              "      <td>6381.000000</td>\n",
              "      <td>27084.000000</td>\n",
              "      <td>118.000000</td>\n",
              "      <td>52300.000000</td>\n",
              "    </tr>\n",
              "    <tr>\n",
              "      <th>50%</th>\n",
              "      <td>49998.500000</td>\n",
              "      <td>49999.500000</td>\n",
              "      <td>13140.000000</td>\n",
              "      <td>2.000000</td>\n",
              "      <td>38.000000</td>\n",
              "      <td>29.000000</td>\n",
              "      <td>12.000000</td>\n",
              "      <td>7.000000</td>\n",
              "      <td>74009.000000</td>\n",
              "      <td>137515.000000</td>\n",
              "      <td>231.000000</td>\n",
              "      <td>62635.000000</td>\n",
              "      <td>59132.000000</td>\n",
              "      <td>313.000000</td>\n",
              "      <td>176.000000</td>\n",
              "      <td>124.000000</td>\n",
              "      <td>15.000000</td>\n",
              "      <td>41.000000</td>\n",
              "      <td>9760.000000</td>\n",
              "      <td>64104.000000</td>\n",
              "      <td>210.000000</td>\n",
              "      <td>112582.000000</td>\n",
              "    </tr>\n",
              "    <tr>\n",
              "      <th>75%</th>\n",
              "      <td>74997.750000</td>\n",
              "      <td>74998.750000</td>\n",
              "      <td>27170.000000</td>\n",
              "      <td>3.000000</td>\n",
              "      <td>61.000000</td>\n",
              "      <td>42.000000</td>\n",
              "      <td>16.000000</td>\n",
              "      <td>7.000000</td>\n",
              "      <td>119771.000000</td>\n",
              "      <td>192990.000000</td>\n",
              "      <td>318.000000</td>\n",
              "      <td>97698.000000</td>\n",
              "      <td>85887.000000</td>\n",
              "      <td>426.000000</td>\n",
              "      <td>356.000000</td>\n",
              "      <td>172.000000</td>\n",
              "      <td>20.000000</td>\n",
              "      <td>61.000000</td>\n",
              "      <td>18551.000000</td>\n",
              "      <td>82179.000000</td>\n",
              "      <td>291.000000</td>\n",
              "      <td>152033.000000</td>\n",
              "    </tr>\n",
              "    <tr>\n",
              "      <th>max</th>\n",
              "      <td>99997.000000</td>\n",
              "      <td>99998.000000</td>\n",
              "      <td>121820.000000</td>\n",
              "      <td>64.000000</td>\n",
              "      <td>84.000000</td>\n",
              "      <td>58.000000</td>\n",
              "      <td>24.000000</td>\n",
              "      <td>7.000000</td>\n",
              "      <td>164685.000000</td>\n",
              "      <td>256155.000000</td>\n",
              "      <td>408.000000</td>\n",
              "      <td>121471.000000</td>\n",
              "      <td>118658.000000</td>\n",
              "      <td>556.000000</td>\n",
              "      <td>471.000000</td>\n",
              "      <td>212.000000</td>\n",
              "      <td>23.000000</td>\n",
              "      <td>79.000000</td>\n",
              "      <td>787253.000000</td>\n",
              "      <td>121778.000000</td>\n",
              "      <td>381.000000</td>\n",
              "      <td>199018.000000</td>\n",
              "    </tr>\n",
              "  </tbody>\n",
              "</table>\n",
              "</div>"
            ],
            "text/plain": [
              "         Unnamed: 0  ...  Estimated attendees to public events coordinated\n",
              "count  99998.000000  ...                                      97377.000000\n",
              "mean   49998.500000  ...                                     104914.274202\n",
              "std    28867.080446  ...                                      56397.947078\n",
              "min        0.000000  ...                                       4721.000000\n",
              "25%    24999.250000  ...                                      52300.000000\n",
              "50%    49998.500000  ...                                     112582.000000\n",
              "75%    74997.750000  ...                                     152033.000000\n",
              "max    99997.000000  ...                                     199018.000000\n",
              "\n",
              "[8 rows x 22 columns]"
            ]
          },
          "metadata": {
            "tags": []
          },
          "execution_count": 5
        }
      ]
    },
    {
      "cell_type": "code",
      "metadata": {
        "id": "4-J3FuzDaxWj"
      },
      "source": [
        "df.info()"
      ],
      "execution_count": null,
      "outputs": []
    },
    {
      "cell_type": "markdown",
      "metadata": {
        "id": "ac2TJfnCWaun"
      },
      "source": [
        "Columns J, Q and AE did not contain any values after 75, using python to fill in values\r\n"
      ]
    },
    {
      "cell_type": "code",
      "metadata": {
        "colab": {
          "base_uri": "https://localhost:8080/"
        },
        "id": "DtonKbaBi1e4",
        "outputId": "98ff2c01-0572-4606-9f65-0713707577d3"
      },
      "source": [
        "#working on columns Types of duties assigned to sanitation workers, Communication channels used, Duties assigned to public safety personnel\r\n",
        "#df['Types of duties assigned to sanitation workers']\r\n",
        "import random\r\n",
        "for i in range(75, 99998):\r\n",
        "  df['Types of duties assigned to sanitation workers'][i] = df['Types of duties assigned to sanitation workers'][random.randrange(0,74)]"
      ],
      "execution_count": 7,
      "outputs": [
        {
          "output_type": "stream",
          "text": [
            "/usr/local/lib/python3.7/dist-packages/ipykernel_launcher.py:5: SettingWithCopyWarning: \n",
            "A value is trying to be set on a copy of a slice from a DataFrame\n",
            "\n",
            "See the caveats in the documentation: https://pandas.pydata.org/pandas-docs/stable/user_guide/indexing.html#returning-a-view-versus-a-copy\n",
            "  \"\"\"\n"
          ],
          "name": "stderr"
        }
      ]
    },
    {
      "cell_type": "code",
      "metadata": {
        "colab": {
          "base_uri": "https://localhost:8080/",
          "height": 35
        },
        "id": "WWeqCYQXMveT",
        "outputId": "b8f8416f-21ce-4e02-add6-629be2e73170"
      },
      "source": [
        "df['Types of duties assigned to sanitation workers'][90000]"
      ],
      "execution_count": 8,
      "outputs": [
        {
          "output_type": "execute_result",
          "data": {
            "application/vnd.google.colaboratory.intrinsic+json": {
              "type": "string"
            },
            "text/plain": [
              "'Street Sweeping and Bagging; Power Washing; Snow and Ice Removal; Graffiti Removal'"
            ]
          },
          "metadata": {
            "tags": []
          },
          "execution_count": 8
        }
      ]
    },
    {
      "cell_type": "code",
      "metadata": {
        "colab": {
          "base_uri": "https://localhost:8080/"
        },
        "id": "jFgRtKEdR36o",
        "outputId": "6b03b039-3715-435f-c462-4ef734ea7069"
      },
      "source": [
        "for i in range(75, 99998):\r\n",
        "  df['Duties assigned to public safety personnel'][i] = df['Duties assigned to public safety personnel'][random.randrange(0,74)]"
      ],
      "execution_count": 9,
      "outputs": [
        {
          "output_type": "stream",
          "text": [
            "/usr/local/lib/python3.7/dist-packages/ipykernel_launcher.py:2: SettingWithCopyWarning: \n",
            "A value is trying to be set on a copy of a slice from a DataFrame\n",
            "\n",
            "See the caveats in the documentation: https://pandas.pydata.org/pandas-docs/stable/user_guide/indexing.html#returning-a-view-versus-a-copy\n",
            "  \n"
          ],
          "name": "stderr"
        }
      ]
    },
    {
      "cell_type": "code",
      "metadata": {
        "colab": {
          "base_uri": "https://localhost:8080/",
          "height": 35
        },
        "id": "DXIZKjdaUDqO",
        "outputId": "6abd9c31-9168-4576-c26d-752241d1995a"
      },
      "source": [
        "df['Duties assigned to public safety personnel'][3000]"
      ],
      "execution_count": 10,
      "outputs": [
        {
          "output_type": "execute_result",
          "data": {
            "application/vnd.google.colaboratory.intrinsic+json": {
              "type": "string"
            },
            "text/plain": [
              "'Monitoring security cameras; Street patrol; Traffic mitigation; Coordination with NYPD'"
            ]
          },
          "metadata": {
            "tags": []
          },
          "execution_count": 10
        }
      ]
    },
    {
      "cell_type": "code",
      "metadata": {
        "id": "WMdIfzQ1UNKb",
        "colab": {
          "base_uri": "https://localhost:8080/"
        },
        "outputId": "8a3b53f6-da7e-4dc6-8ba9-70bddeca90a0"
      },
      "source": [
        "for i in range(75, 99998):\r\n",
        "  df['Communication channels used'][i] = df['Communication channels used'][random.randrange(0,74)]"
      ],
      "execution_count": 11,
      "outputs": [
        {
          "output_type": "stream",
          "text": [
            "/usr/local/lib/python3.7/dist-packages/ipykernel_launcher.py:2: SettingWithCopyWarning: \n",
            "A value is trying to be set on a copy of a slice from a DataFrame\n",
            "\n",
            "See the caveats in the documentation: https://pandas.pydata.org/pandas-docs/stable/user_guide/indexing.html#returning-a-view-versus-a-copy\n",
            "  \n"
          ],
          "name": "stderr"
        }
      ]
    },
    {
      "cell_type": "code",
      "metadata": {
        "id": "Z4m7AVJkUmHd",
        "colab": {
          "base_uri": "https://localhost:8080/",
          "height": 35
        },
        "outputId": "3c38c9eb-f85a-4ef2-ee00-177d434d60b5"
      },
      "source": [
        "df['Communication channels used'][90000]"
      ],
      "execution_count": 12,
      "outputs": [
        {
          "output_type": "execute_result",
          "data": {
            "application/vnd.google.colaboratory.intrinsic+json": {
              "type": "string"
            },
            "text/plain": [
              "'Print advertising (i.e. local newspaper); Digital advertising (i.e. Google, Facebook, Instagram ads); Flyers; Email bulletins; Social media; LinkNYC advertising (more info)'"
            ]
          },
          "metadata": {
            "tags": []
          },
          "execution_count": 12
        }
      ]
    },
    {
      "cell_type": "code",
      "metadata": {
        "id": "vAS9ygBtcBAO"
      },
      "source": [
        "df.info()"
      ],
      "execution_count": null,
      "outputs": []
    },
    {
      "cell_type": "code",
      "metadata": {
        "id": "LNKdRGWxtcHb"
      },
      "source": [
        "#Dropping unnecessary columns\r\n",
        "df.drop(['Marketing, holiday lighting, and special event expenses','Rent and utilities','Other G&A expenses'], axis=1, inplace=True)"
      ],
      "execution_count": 14,
      "outputs": []
    },
    {
      "cell_type": "code",
      "metadata": {
        "colab": {
          "base_uri": "https://localhost:8080/"
        },
        "id": "QzbuLJ3EukSs",
        "outputId": "33440d72-7615-4598-88c0-82e00f3db764"
      },
      "source": [
        "df.shape"
      ],
      "execution_count": 15,
      "outputs": [
        {
          "output_type": "execute_result",
          "data": {
            "text/plain": [
              "(99998, 45)"
            ]
          },
          "metadata": {
            "tags": []
          },
          "execution_count": 15
        }
      ]
    },
    {
      "cell_type": "markdown",
      "metadata": {
        "id": "SWlKkQJMZh2P"
      },
      "source": [
        "Now we shall replace all \"$\" signs in the columns to a null value"
      ]
    },
    {
      "cell_type": "code",
      "metadata": {
        "id": "mEzW7QaLZNLE"
      },
      "source": [
        "#replace function for replacing all \"$\" sign to \" \" for the following - \r\n",
        "\r\n",
        "#Miscellaneous charges\r\n",
        "#Public safety expenses\r\n",
        "#Streetscape & beautification expenses\r\n",
        "#Salaries\r\n",
        "#Outside contractor expenses\r\n",
        "#Insurance costs\r\n",
        "#Supplies and equipment costs\r\n",
        "#Sanitation expenses\r\n",
        "\r\n",
        "\r\n",
        "df['Special event charges'] = df['Special event charges'].str.replace(\"$\",\"\")\r\n",
        "df['Miscellaneous charges'] = df['Miscellaneous charges'].str.replace(\"$\",\"\")\r\n",
        "df['Sanitation expenses'] = df['Sanitation expenses'].str.replace(\"$\",\"\")\r\n",
        "df['Public safety expenses'] = df['Public safety expenses'].str.replace(\"$\",\"\")\r\n",
        "df['Streetscape & beautification expenses'] = df['Streetscape & beautification expenses'].str.replace(\"$\",\"\")\r\n",
        "df['Salaries'] = df['Salaries'].str.replace(\"$\",\"\")\r\n",
        "df['Outside contractor expenses'] = df['Outside contractor expenses'].str.replace(\"$\",\"\")\r\n",
        "df['Insurance costs'] = df['Insurance costs'].str.replace(\"$\",\"\")\r\n",
        "df['Supplies and equipment costs'] = df['Supplies and equipment costs'].str.replace(\"$\",\"\")\r\n",
        "\r\n",
        "\r\n"
      ],
      "execution_count": 16,
      "outputs": []
    },
    {
      "cell_type": "code",
      "metadata": {
        "colab": {
          "base_uri": "https://localhost:8080/",
          "height": 265
        },
        "id": "BMyfR-Hlk_EC",
        "outputId": "df15b532-1897-4edf-e6c0-d08cf8c91d11"
      },
      "source": [
        "#Dropping unnecessary columns\r\n",
        "df.head(1)"
      ],
      "execution_count": 17,
      "outputs": [
        {
          "output_type": "execute_result",
          "data": {
            "text/html": [
              "<div>\n",
              "<style scoped>\n",
              "    .dataframe tbody tr th:only-of-type {\n",
              "        vertical-align: middle;\n",
              "    }\n",
              "\n",
              "    .dataframe tbody tr th {\n",
              "        vertical-align: top;\n",
              "    }\n",
              "\n",
              "    .dataframe thead th {\n",
              "        text-align: right;\n",
              "    }\n",
              "</style>\n",
              "<table border=\"1\" class=\"dataframe\">\n",
              "  <thead>\n",
              "    <tr style=\"text-align: right;\">\n",
              "      <th></th>\n",
              "      <th>Unnamed: 0</th>\n",
              "      <th>index</th>\n",
              "      <th>company name</th>\n",
              "      <th>Floor Size</th>\n",
              "      <th>Full-time staff</th>\n",
              "      <th>Sanitation staff employed</th>\n",
              "      <th>Safety Inspector</th>\n",
              "      <th>Part-time staff</th>\n",
              "      <th>Current clients</th>\n",
              "      <th>Bid provides supplemental sanitation services</th>\n",
              "      <th>Types of duties assigned to sanitation workers</th>\n",
              "      <th>Days per week of sanitation services</th>\n",
              "      <th>Hours logged by sanitation workers</th>\n",
              "      <th>Incidents of graffiti removed</th>\n",
              "      <th>Trash bags collected</th>\n",
              "      <th>Trash and recycling receptacles serviced</th>\n",
              "      <th>Bid provides supplemental public safety services</th>\n",
              "      <th>Duties assigned to public safety personnel</th>\n",
              "      <th>Hours logged by public safety officers</th>\n",
              "      <th>Interactions with public safety officers</th>\n",
              "      <th>Bid provides supplemental streetscape and beautification services</th>\n",
              "      <th>Planters and hanging baskets maintained</th>\n",
              "      <th>Tree pits maintained</th>\n",
              "      <th>Banners maintained</th>\n",
              "      <th>Public art installations sponsored</th>\n",
              "      <th>Street furniture elements maintained</th>\n",
              "      <th>Wayfinding elements maintained</th>\n",
              "      <th>Lighting elements maintained</th>\n",
              "      <th>Other infrastructure elements maintained</th>\n",
              "      <th>Public spaces maintained</th>\n",
              "      <th>Bid has holiday lighting program</th>\n",
              "      <th>Communication channels used</th>\n",
              "      <th>Social media followers</th>\n",
              "      <th>Marketing materials distributed</th>\n",
              "      <th>Public events coordinated</th>\n",
              "      <th>Estimated attendees to public events coordinated</th>\n",
              "      <th>Special event charges</th>\n",
              "      <th>Miscellaneous charges</th>\n",
              "      <th>Sanitation expenses</th>\n",
              "      <th>Public safety expenses</th>\n",
              "      <th>Streetscape &amp; beautification expenses</th>\n",
              "      <th>Salaries</th>\n",
              "      <th>Outside contractor expenses</th>\n",
              "      <th>Insurance costs</th>\n",
              "      <th>Supplies and equipment costs</th>\n",
              "    </tr>\n",
              "  </thead>\n",
              "  <tbody>\n",
              "    <tr>\n",
              "      <th>0</th>\n",
              "      <td>0</td>\n",
              "      <td>1</td>\n",
              "      <td>Moreno LLC</td>\n",
              "      <td>5220.0</td>\n",
              "      <td>1.0</td>\n",
              "      <td>31.0</td>\n",
              "      <td>9.0</td>\n",
              "      <td>9.0</td>\n",
              "      <td>145</td>\n",
              "      <td>Yes</td>\n",
              "      <td>Street Sweeping and Bagging; Snow and Ice Remo...</td>\n",
              "      <td>7.0</td>\n",
              "      <td>61051.0</td>\n",
              "      <td>19327</td>\n",
              "      <td>70352.0</td>\n",
              "      <td>282.0</td>\n",
              "      <td>No</td>\n",
              "      <td>NaN</td>\n",
              "      <td>24732.0</td>\n",
              "      <td>NaN</td>\n",
              "      <td>Yes</td>\n",
              "      <td>341.0</td>\n",
              "      <td>115.0</td>\n",
              "      <td>105.0</td>\n",
              "      <td>12.0</td>\n",
              "      <td>2304</td>\n",
              "      <td>828</td>\n",
              "      <td>2161</td>\n",
              "      <td>786</td>\n",
              "      <td>19.0</td>\n",
              "      <td>Yes</td>\n",
              "      <td>Direct mailings; Flyers; Email bulletins; Soci...</td>\n",
              "      <td>11716.0</td>\n",
              "      <td>40108.0</td>\n",
              "      <td>15.0</td>\n",
              "      <td>198647.0</td>\n",
              "      <td>360,146</td>\n",
              "      <td>16,591</td>\n",
              "      <td>76,277</td>\n",
              "      <td>40,756</td>\n",
              "      <td>39,202</td>\n",
              "      <td>194,141</td>\n",
              "      <td>101,399</td>\n",
              "      <td>2,035</td>\n",
              "      <td>3,749</td>\n",
              "    </tr>\n",
              "  </tbody>\n",
              "</table>\n",
              "</div>"
            ],
            "text/plain": [
              "   Unnamed: 0  index  ... Insurance costs  Supplies and equipment costs\n",
              "0           0      1  ...          2,035                         3,749 \n",
              "\n",
              "[1 rows x 45 columns]"
            ]
          },
          "metadata": {
            "tags": []
          },
          "execution_count": 17
        }
      ]
    },
    {
      "cell_type": "code",
      "metadata": {
        "colab": {
          "base_uri": "https://localhost:8080/"
        },
        "id": "K15fEcFJlq-w",
        "outputId": "647ebbbe-0f28-4c87-c1ec-2e4bad8ef8fa"
      },
      "source": [
        "df.shape"
      ],
      "execution_count": 18,
      "outputs": [
        {
          "output_type": "execute_result",
          "data": {
            "text/plain": [
              "(99998, 45)"
            ]
          },
          "metadata": {
            "tags": []
          },
          "execution_count": 18
        }
      ]
    },
    {
      "cell_type": "code",
      "metadata": {
        "id": "fNOAH3F8dD_x",
        "colab": {
          "base_uri": "https://localhost:8080/",
          "height": 265
        },
        "outputId": "f159878e-a4f1-427a-d5a5-912c69ee1a8e"
      },
      "source": [
        "df.head(1)"
      ],
      "execution_count": 19,
      "outputs": [
        {
          "output_type": "execute_result",
          "data": {
            "text/html": [
              "<div>\n",
              "<style scoped>\n",
              "    .dataframe tbody tr th:only-of-type {\n",
              "        vertical-align: middle;\n",
              "    }\n",
              "\n",
              "    .dataframe tbody tr th {\n",
              "        vertical-align: top;\n",
              "    }\n",
              "\n",
              "    .dataframe thead th {\n",
              "        text-align: right;\n",
              "    }\n",
              "</style>\n",
              "<table border=\"1\" class=\"dataframe\">\n",
              "  <thead>\n",
              "    <tr style=\"text-align: right;\">\n",
              "      <th></th>\n",
              "      <th>Unnamed: 0</th>\n",
              "      <th>index</th>\n",
              "      <th>company name</th>\n",
              "      <th>Floor Size</th>\n",
              "      <th>Full-time staff</th>\n",
              "      <th>Sanitation staff employed</th>\n",
              "      <th>Safety Inspector</th>\n",
              "      <th>Part-time staff</th>\n",
              "      <th>Current clients</th>\n",
              "      <th>Bid provides supplemental sanitation services</th>\n",
              "      <th>Types of duties assigned to sanitation workers</th>\n",
              "      <th>Days per week of sanitation services</th>\n",
              "      <th>Hours logged by sanitation workers</th>\n",
              "      <th>Incidents of graffiti removed</th>\n",
              "      <th>Trash bags collected</th>\n",
              "      <th>Trash and recycling receptacles serviced</th>\n",
              "      <th>Bid provides supplemental public safety services</th>\n",
              "      <th>Duties assigned to public safety personnel</th>\n",
              "      <th>Hours logged by public safety officers</th>\n",
              "      <th>Interactions with public safety officers</th>\n",
              "      <th>Bid provides supplemental streetscape and beautification services</th>\n",
              "      <th>Planters and hanging baskets maintained</th>\n",
              "      <th>Tree pits maintained</th>\n",
              "      <th>Banners maintained</th>\n",
              "      <th>Public art installations sponsored</th>\n",
              "      <th>Street furniture elements maintained</th>\n",
              "      <th>Wayfinding elements maintained</th>\n",
              "      <th>Lighting elements maintained</th>\n",
              "      <th>Other infrastructure elements maintained</th>\n",
              "      <th>Public spaces maintained</th>\n",
              "      <th>Bid has holiday lighting program</th>\n",
              "      <th>Communication channels used</th>\n",
              "      <th>Social media followers</th>\n",
              "      <th>Marketing materials distributed</th>\n",
              "      <th>Public events coordinated</th>\n",
              "      <th>Estimated attendees to public events coordinated</th>\n",
              "      <th>Special event charges</th>\n",
              "      <th>Miscellaneous charges</th>\n",
              "      <th>Sanitation expenses</th>\n",
              "      <th>Public safety expenses</th>\n",
              "      <th>Streetscape &amp; beautification expenses</th>\n",
              "      <th>Salaries</th>\n",
              "      <th>Outside contractor expenses</th>\n",
              "      <th>Insurance costs</th>\n",
              "      <th>Supplies and equipment costs</th>\n",
              "    </tr>\n",
              "  </thead>\n",
              "  <tbody>\n",
              "    <tr>\n",
              "      <th>0</th>\n",
              "      <td>0</td>\n",
              "      <td>1</td>\n",
              "      <td>Moreno LLC</td>\n",
              "      <td>5220.0</td>\n",
              "      <td>1.0</td>\n",
              "      <td>31.0</td>\n",
              "      <td>9.0</td>\n",
              "      <td>9.0</td>\n",
              "      <td>145</td>\n",
              "      <td>Yes</td>\n",
              "      <td>Street Sweeping and Bagging; Snow and Ice Remo...</td>\n",
              "      <td>7.0</td>\n",
              "      <td>61051.0</td>\n",
              "      <td>19327</td>\n",
              "      <td>70352.0</td>\n",
              "      <td>282.0</td>\n",
              "      <td>No</td>\n",
              "      <td>NaN</td>\n",
              "      <td>24732.0</td>\n",
              "      <td>NaN</td>\n",
              "      <td>Yes</td>\n",
              "      <td>341.0</td>\n",
              "      <td>115.0</td>\n",
              "      <td>105.0</td>\n",
              "      <td>12.0</td>\n",
              "      <td>2304</td>\n",
              "      <td>828</td>\n",
              "      <td>2161</td>\n",
              "      <td>786</td>\n",
              "      <td>19.0</td>\n",
              "      <td>Yes</td>\n",
              "      <td>Direct mailings; Flyers; Email bulletins; Soci...</td>\n",
              "      <td>11716.0</td>\n",
              "      <td>40108.0</td>\n",
              "      <td>15.0</td>\n",
              "      <td>198647.0</td>\n",
              "      <td>360,146</td>\n",
              "      <td>16,591</td>\n",
              "      <td>76,277</td>\n",
              "      <td>40,756</td>\n",
              "      <td>39,202</td>\n",
              "      <td>194,141</td>\n",
              "      <td>101,399</td>\n",
              "      <td>2,035</td>\n",
              "      <td>3,749</td>\n",
              "    </tr>\n",
              "  </tbody>\n",
              "</table>\n",
              "</div>"
            ],
            "text/plain": [
              "   Unnamed: 0  index  ... Insurance costs  Supplies and equipment costs\n",
              "0           0      1  ...          2,035                         3,749 \n",
              "\n",
              "[1 rows x 45 columns]"
            ]
          },
          "metadata": {
            "tags": []
          },
          "execution_count": 19
        }
      ]
    },
    {
      "cell_type": "markdown",
      "metadata": {
        "id": "wkqEgcQuESYs"
      },
      "source": [
        "Replacing all \",\" by \"\" and all NaN values by 0<br>\r\n",
        "Would be required for adding the total sum later"
      ]
    },
    {
      "cell_type": "code",
      "metadata": {
        "id": "giBSi4corojR"
      },
      "source": [
        "\r\n",
        "df['Miscellaneous charges'] = df['Miscellaneous charges'].str.replace(\",\",\"\").fillna(\"0\")\r\n",
        "df['Sanitation expenses'] = df['Sanitation expenses'].str.replace(\",\",\"\").fillna(\"0\")\r\n",
        "df['Public safety expenses'] = df['Public safety expenses'].str.replace(\",\",\"\").fillna(\"0\")\r\n",
        "df['Streetscape & beautification expenses'] = df['Streetscape & beautification expenses'].str.replace(\",\",\"\").fillna(\"0\")\r\n",
        "df['Salaries'] = df['Salaries'].str.replace(\",\",\"\").fillna(\"0\")\r\n",
        "df['Outside contractor expenses'] = df['Outside contractor expenses'].str.replace(\",\",\"\").fillna(\"0\")\r\n",
        "df['Insurance costs'] = df['Insurance costs'].str.replace(\",\",\"\").fillna(\"0\")\r\n",
        "df['Supplies and equipment costs'] = df['Supplies and equipment costs'].str.replace(\",\",\"\").fillna(\"0\")"
      ],
      "execution_count": 20,
      "outputs": []
    },
    {
      "cell_type": "code",
      "metadata": {
        "id": "5tPtvYd9_wVH",
        "colab": {
          "base_uri": "https://localhost:8080/"
        },
        "outputId": "45e5aeb1-9067-4d56-9790-9f571649430f"
      },
      "source": [
        "df['Miscellaneous charges']"
      ],
      "execution_count": 21,
      "outputs": [
        {
          "output_type": "execute_result",
          "data": {
            "text/plain": [
              "0         16591 \n",
              "1         68277 \n",
              "2         71153 \n",
              "3         14927 \n",
              "4         61766 \n",
              "          ...   \n",
              "99993     47806 \n",
              "99994     30981 \n",
              "99995    114141 \n",
              "99996    104185 \n",
              "99997     84325 \n",
              "Name: Miscellaneous charges, Length: 99998, dtype: object"
            ]
          },
          "metadata": {
            "tags": []
          },
          "execution_count": 21
        }
      ]
    },
    {
      "cell_type": "code",
      "metadata": {
        "id": "JnccDymdBJmh"
      },
      "source": [
        "df['Public safety expenses']"
      ],
      "execution_count": null,
      "outputs": []
    },
    {
      "cell_type": "code",
      "metadata": {
        "id": "66pb-CYGWINR"
      },
      "source": [
        "df['Total Quotation'] = df['Miscellaneous charges'].astype(\"int\") + df['Public safety expenses'].astype(\"int\") +  df['Sanitation expenses'].astype(\"int\") + df['Streetscape & beautification expenses'].astype(\"int\") \r\n",
        "+ df['Salaries'].astype(\"int\") + df['Outside contractor expenses'].astype(\"int\") + df['Insurance costs'].astype(\"int\") +  df['Supplies and equipment costs'].astype(\"int\")\r\n",
        "df['Total Quotation']\r\n",
        "#Streetscape & beautification expenses   Outside contractor expenses     \r\n"
      ],
      "execution_count": null,
      "outputs": []
    },
    {
      "cell_type": "code",
      "metadata": {
        "id": "vG7YPR6CEEAU"
      },
      "source": [
        "df.info()"
      ],
      "execution_count": null,
      "outputs": []
    },
    {
      "cell_type": "markdown",
      "metadata": {
        "id": "mL1FT4PkFlm0"
      },
      "source": [
        "Removing unnecessary attributes and merging some attributes"
      ]
    },
    {
      "cell_type": "code",
      "metadata": {
        "id": "C6L9yXWWG4vx"
      },
      "source": [
        "df.drop(['Types of duties assigned to sanitation workers','Duties assigned to public safety personnel'],axis=1,inplace=True)"
      ],
      "execution_count": 25,
      "outputs": []
    },
    {
      "cell_type": "code",
      "metadata": {
        "id": "0Q8X-t8dHFgJ"
      },
      "source": [
        "df['Incidents of graffiti removed'] = df['Incidents of graffiti removed'].str.replace(\",\",\"\")\r\n",
        "df['Incidents of graffiti removed'] = df['Incidents of graffiti removed'].str.replace(\"-\",\"0\")\r\n",
        "df['Incidents of graffiti removed'] = df['Incidents of graffiti removed'].fillna(\"0\")"
      ],
      "execution_count": 26,
      "outputs": []
    },
    {
      "cell_type": "code",
      "metadata": {
        "id": "a07ygxd0HgKS"
      },
      "source": [
        "df['Number_Of_Sanitation_Activities'] = df['Incidents of graffiti removed'].astype(\"float\") + df['Trash bags collected'] + df['Trash and recycling receptacles serviced']"
      ],
      "execution_count": 27,
      "outputs": []
    },
    {
      "cell_type": "code",
      "metadata": {
        "id": "fLJPOnRhHu6i"
      },
      "source": [
        "df.drop(['Incidents of graffiti removed','Trash bags collected','Trash and recycling receptacles serviced'],axis=1,inplace=True)"
      ],
      "execution_count": 28,
      "outputs": []
    },
    {
      "cell_type": "code",
      "metadata": {
        "id": "ELyZZSFrI7pN"
      },
      "source": [
        "df['Street furniture elements maintained'] = df['Street furniture elements maintained'].fillna(\"0\")\r\n",
        "df['Wayfinding elements maintained'] = df['Wayfinding elements maintained'].fillna(\"0\")\r\n",
        "df['Lighting elements maintained'] = df['Lighting elements maintained'].fillna(\"0\")\r\n",
        "df['Other infrastructure elements maintained'] = df['Other infrastructure elements maintained'].fillna(\"0\")\r\n"
      ],
      "execution_count": 29,
      "outputs": []
    },
    {
      "cell_type": "code",
      "metadata": {
        "id": "0XBBQDc9K85c",
        "colab": {
          "base_uri": "https://localhost:8080/"
        },
        "outputId": "b76b372c-5d70-42ac-aea7-3ddb9271c603"
      },
      "source": [
        "df.dtypes"
      ],
      "execution_count": 30,
      "outputs": [
        {
          "output_type": "execute_result",
          "data": {
            "text/plain": [
              "Unnamed: 0                                                             int64\n",
              "index                                                                  int64\n",
              "company name                                                          object\n",
              "Floor Size                                                           float64\n",
              "Full-time staff                                                      float64\n",
              "Sanitation staff employed                                            float64\n",
              "Safety Inspector                                                     float64\n",
              "Part-time staff                                                      float64\n",
              "Current clients                                                       object\n",
              "Bid provides supplemental sanitation services                         object\n",
              "Days per week of sanitation services                                 float64\n",
              "Hours logged by sanitation workers                                   float64\n",
              "Bid provides supplemental public safety services                      object\n",
              "Hours logged by public safety officers                               float64\n",
              "Interactions with public safety officers                             float64\n",
              "Bid provides supplemental streetscape and beautification services     object\n",
              "Planters and hanging baskets maintained                              float64\n",
              "Tree pits maintained                                                 float64\n",
              "Banners maintained                                                   float64\n",
              "Public art installations sponsored                                   float64\n",
              "Street furniture elements maintained                                  object\n",
              "Wayfinding elements maintained                                        object\n",
              "Lighting elements maintained                                          object\n",
              "Other infrastructure elements maintained                              object\n",
              "Public spaces maintained                                             float64\n",
              "Bid has holiday lighting program                                      object\n",
              "Communication channels used                                           object\n",
              "Social media followers                                               float64\n",
              "Marketing materials distributed                                      float64\n",
              "Public events coordinated                                            float64\n",
              "Estimated attendees to public events coordinated                     float64\n",
              "Special event charges                                                 object\n",
              "Miscellaneous charges                                                 object\n",
              "Sanitation expenses                                                   object\n",
              "Public safety expenses                                                object\n",
              "Streetscape & beautification expenses                                 object\n",
              "Salaries                                                              object\n",
              "Outside contractor expenses                                           object\n",
              "Insurance costs                                                       object\n",
              "Supplies and equipment costs                                          object\n",
              "Total Quotation                                                        int64\n",
              "Number_Of_Sanitation_Activities                                      float64\n",
              "dtype: object"
            ]
          },
          "metadata": {
            "tags": []
          },
          "execution_count": 30
        }
      ]
    },
    {
      "cell_type": "code",
      "metadata": {
        "id": "HTJuBK2bH5tr",
        "colab": {
          "base_uri": "https://localhost:8080/"
        },
        "outputId": "51e7253a-fd8c-4fa0-d3dd-d0afeaca1a42"
      },
      "source": [
        "df['Beautification_Activities'] = df['Planters and hanging baskets maintained'] + df['Tree pits maintained'] + df['Banners maintained'] + df['Public art installations sponsored'] \r\n",
        "+ df['Street furniture elements maintained']\r\n",
        "+ df['Wayfinding elements maintained']\r\n",
        "+ df['Lighting elements maintained']\r\n",
        "+ df['Public spaces maintained']\r\n",
        "\r\n",
        "df['Beautification_Activities']"
      ],
      "execution_count": 31,
      "outputs": [
        {
          "output_type": "execute_result",
          "data": {
            "text/plain": [
              "0         573.0\n",
              "1         558.0\n",
              "2         985.0\n",
              "3         617.0\n",
              "4         904.0\n",
              "          ...  \n",
              "99993     754.0\n",
              "99994     399.0\n",
              "99995    1010.0\n",
              "99996     676.0\n",
              "99997     766.0\n",
              "Name: Beautification_Activities, Length: 99998, dtype: float64"
            ]
          },
          "metadata": {
            "tags": []
          },
          "execution_count": 31
        }
      ]
    },
    {
      "cell_type": "code",
      "metadata": {
        "id": "rN4GRWFZLjbP"
      },
      "source": [
        "df.drop(['Planters and hanging baskets maintained','Tree pits maintained','Banners maintained','Public art installations sponsored','Street furniture elements maintained','Wayfinding elements maintained','Lighting elements maintained','Other infrastructure elements maintained','Public spaces maintained'],axis=1,inplace=True)"
      ],
      "execution_count": 32,
      "outputs": []
    },
    {
      "cell_type": "code",
      "metadata": {
        "colab": {
          "base_uri": "https://localhost:8080/"
        },
        "id": "tDTdY40NGQOr",
        "outputId": "d3ae8874-9b40-46ba-8216-28e7b52fb48c"
      },
      "source": [
        "df.shape"
      ],
      "execution_count": 33,
      "outputs": [
        {
          "output_type": "execute_result",
          "data": {
            "text/plain": [
              "(99998, 34)"
            ]
          },
          "metadata": {
            "tags": []
          },
          "execution_count": 33
        }
      ]
    },
    {
      "cell_type": "code",
      "metadata": {
        "colab": {
          "base_uri": "https://localhost:8080/"
        },
        "id": "pJlAXh5GMD6U",
        "outputId": "e2142d8f-868a-46ce-8b77-10abce443890"
      },
      "source": [
        "df['Beautification_Activities'].isnull()"
      ],
      "execution_count": 34,
      "outputs": [
        {
          "output_type": "execute_result",
          "data": {
            "text/plain": [
              "0        False\n",
              "1        False\n",
              "2        False\n",
              "3        False\n",
              "4        False\n",
              "         ...  \n",
              "99993    False\n",
              "99994    False\n",
              "99995    False\n",
              "99996    False\n",
              "99997    False\n",
              "Name: Beautification_Activities, Length: 99998, dtype: bool"
            ]
          },
          "metadata": {
            "tags": []
          },
          "execution_count": 34
        }
      ]
    },
    {
      "cell_type": "code",
      "metadata": {
        "id": "7-x3vX7kMefO"
      },
      "source": [
        "df['Media_Reach'] = df['Social media followers'] + df['Marketing materials distributed'] + (df['Public events coordinated']*df['Estimated attendees to public events coordinated']) "
      ],
      "execution_count": 35,
      "outputs": []
    },
    {
      "cell_type": "code",
      "metadata": {
        "id": "WI6cdORYMq_e"
      },
      "source": [
        "df.drop(['Social media followers','Marketing materials distributed','Public events coordinated','Estimated attendees to public events coordinated'],axis=1,inplace=True)"
      ],
      "execution_count": 36,
      "outputs": []
    },
    {
      "cell_type": "code",
      "metadata": {
        "colab": {
          "base_uri": "https://localhost:8080/",
          "height": 468
        },
        "id": "oqt2KTtzNIXT",
        "outputId": "adf577ac-be99-49ba-e8c3-bce6c90bdd3a"
      },
      "source": [
        "import seaborn as sns\r\n",
        "a = df.corr()\r\n",
        "sns.heatmap(a)"
      ],
      "execution_count": 37,
      "outputs": [
        {
          "output_type": "execute_result",
          "data": {
            "text/plain": [
              "<matplotlib.axes._subplots.AxesSubplot at 0x7f06e940a310>"
            ]
          },
          "metadata": {
            "tags": []
          },
          "execution_count": 37
        },
        {
          "output_type": "display_data",
          "data": {
            "image/png": "[encoded data removed]",
            "text/plain": [
              "<Figure size 432x288 with 2 Axes>"
            ]
          },
          "metadata": {
            "tags": [],
            "needs_background": "light"
          }
        }
      ]
    },
    {
      "cell_type": "markdown",
      "metadata": {
        "id": "hP7Z8ZQLYFj7"
      },
      "source": [
        "**2. EDA - Explolatory Data Analysis**"
      ]
    }
  ]
}