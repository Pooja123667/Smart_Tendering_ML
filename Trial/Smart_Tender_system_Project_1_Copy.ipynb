{
  "nbformat": 4,
  "nbformat_minor": 0,
  "metadata": {
    "colab": {
      "name": "Smart_Tender_system_Project_1 - Copy.ipynb",
      "private_outputs": true,
      "provenance": [],
      "collapsed_sections": []
    },
    "kernelspec": {
      "name": "python3",
      "display_name": "Python 3.9.1 64-bit",
      "metadata": {
        "interpreter": {
          "hash": "63fd5069d213b44bf678585dea6b12cceca9941eaf7f819626cde1f2670de90d"
        }
      }
    }
  },
  "cells": [
    {
      "cell_type": "code",
      "metadata": {
        "id": "HfbD1PCXWvVX"
      },
      "source": [
        "# Importing necessary Libraries <br>\n",
        "# **1. Understanding and Analyzing the Dataset**"
      ],
      "execution_count": null,
      "outputs": []
    },
    {
      "cell_type": "code",
      "metadata": {
        "id": "fNxDLtgXgBTt"
      },
      "source": [
        "import pandas as pd\n",
        "import io \n",
        "print(\"Import success\")"
      ],
      "execution_count": null,
      "outputs": []
    },
    {
      "cell_type": "code",
      "metadata": {
        "id": "66y5WJAQgbD6"
      },
      "source": [
        "df = pd.read_csv(\"https://raw.githubusercontent.com/Pooja123667/Smart_Tendering_ML/main/file_name%20(2).csv\", low_memory=False) \n",
        "#https://raw.githubusercontent.com/Pooja123667/Smart_Tendering_ML/main/FY19_BID_Trends_Report_Data%20(3).csv\n",
        "# https://raw.githubusercontent.com/Pooja123667/Smart_Tendering_ML/main/file_name%20(2).csv\n",
        "# https://raw.githubusercontent.com/Pooja123667/Smart_Tendering_ML/main/updates.csv"
      ],
      "execution_count": null,
      "outputs": []
    },
    {
      "cell_type": "code",
      "metadata": {
        "id": "a9OUg2JGhCKm"
      },
      "source": [
        "df.head(1)"
      ],
      "execution_count": null,
      "outputs": []
    },
    {
      "cell_type": "code",
      "metadata": {
        "id": "azvixykQhJx7"
      },
      "source": [
        "df.shape"
      ],
      "execution_count": null,
      "outputs": []
    },
    {
      "cell_type": "code",
      "metadata": {
        "id": "YzHkUTPFhQVy"
      },
      "source": [
        "df.describe()"
      ],
      "execution_count": null,
      "outputs": []
    },
    {
      "cell_type": "code",
      "metadata": {
        "id": "4-J3FuzDaxWj"
      },
      "source": [
        "df.info()"
      ],
      "execution_count": null,
      "outputs": []
    },
    {
      "cell_type": "code",
      "metadata": {
        "id": "DXIZKjdaUDqO"
      },
      "source": [
        "df['Duties assigned to public safety personnel'][3000]"
      ],
      "execution_count": null,
      "outputs": []
    },
    {
      "cell_type": "code",
      "metadata": {
        "id": "Z4m7AVJkUmHd"
      },
      "source": [
        "df['Communication channels used'][90000]"
      ],
      "execution_count": null,
      "outputs": []
    },
    {
      "cell_type": "code",
      "metadata": {
        "id": "vAS9ygBtcBAO"
      },
      "source": [
        "df.info()"
      ],
      "execution_count": null,
      "outputs": []
    },
    {
      "cell_type": "code",
      "metadata": {
        "id": "LNKdRGWxtcHb"
      },
      "source": [
        "#Dropping unnecessary columns\n",
        "df.drop(['Marketing, holiday lighting, and special event expenses','Rent and utilities','Other G&A expenses','Unnamed: 0'], axis=1, inplace=True)"
      ],
      "execution_count": null,
      "outputs": []
    },
    {
      "cell_type": "code",
      "metadata": {
        "id": "QzbuLJ3EukSs"
      },
      "source": [
        "df.shape"
      ],
      "execution_count": null,
      "outputs": []
    },
    {
      "cell_type": "markdown",
      "metadata": {
        "id": "SWlKkQJMZh2P"
      },
      "source": [
        "Now we shall replace all \"$\" signs in the columns to a null value"
      ]
    },
    {
      "cell_type": "code",
      "metadata": {
        "id": "mEzW7QaLZNLE"
      },
      "source": [
        "#replace function for replacing all \"$\" sign to \" \" for the following - \n",
        "\n",
        "#Miscellaneous charges\n",
        "#Public safety expenses\n",
        "#Streetscape & beautification expenses\n",
        "#Salaries\n",
        "#Outside contractor expenses\n",
        "#Insurance costs\n",
        "#Supplies and equipment costs\n",
        "#Sanitation expenses\n",
        "\n",
        "\n",
        "df['Special event charges'] = df['Special event charges'].str.replace(\"$\",\"\")\n",
        "df['Miscellaneous charges'] = df['Miscellaneous charges'].str.replace(\"$\",\"\")\n",
        "df['Sanitation expenses'] = df['Sanitation expenses'].str.replace(\"$\",\"\")\n",
        "df['Public safety expenses'] = df['Public safety expenses'].str.replace(\"$\",\"\")\n",
        "df['Streetscape & beautification expenses'] = df['Streetscape & beautification expenses'].str.replace(\"$\",\"\")\n",
        "df['Salaries'] = df['Salaries'].str.replace(\"$\",\"\")\n",
        "df['Outside contractor expenses'] = df['Outside contractor expenses'].str.replace(\"$\",\"\")\n",
        "df['Insurance costs'] = df['Insurance costs'].str.replace(\"$\",\"\")\n",
        "df['Supplies and equipment costs'] = df['Supplies and equipment costs'].str.replace(\"$\",\"\")\n",
        "\n",
        "\n"
      ],
      "execution_count": null,
      "outputs": []
    },
    {
      "cell_type": "code",
      "metadata": {
        "id": "BMyfR-Hlk_EC"
      },
      "source": [
        "#Dropping unnecessary columns\n",
        "df.head(1)"
      ],
      "execution_count": null,
      "outputs": []
    },
    {
      "cell_type": "code",
      "metadata": {
        "id": "K15fEcFJlq-w"
      },
      "source": [
        "df.shape"
      ],
      "execution_count": null,
      "outputs": []
    },
    {
      "cell_type": "code",
      "metadata": {
        "id": "fNOAH3F8dD_x"
      },
      "source": [
        "df.head(1)"
      ],
      "execution_count": null,
      "outputs": []
    },
    {
      "cell_type": "markdown",
      "metadata": {
        "id": "wkqEgcQuESYs"
      },
      "source": [
        "Replacing all \",\" by \"\" and all NaN values by 0<br>\r\n",
        "Would be required for adding the total sum later"
      ]
    },
    {
      "cell_type": "code",
      "metadata": {
        "id": "giBSi4corojR"
      },
      "source": [
        "\n",
        "df['Miscellaneous charges'] = df['Miscellaneous charges'].str.replace(\",\",\"\").fillna(\"0\")\n",
        "df['Sanitation expenses'] = df['Sanitation expenses'].str.replace(\",\",\"\").fillna(\"0\")\n",
        "df['Public safety expenses'] = df['Public safety expenses'].str.replace(\",\",\"\").fillna(\"0\")\n",
        "df['Streetscape & beautification expenses'] = df['Streetscape & beautification expenses'].str.replace(\",\",\"\").fillna(\"0\")\n",
        "df['Salaries'] = df['Salaries'].str.replace(\",\",\"\").fillna(\"0\")\n",
        "df['Outside contractor expenses'] = df['Outside contractor expenses'].str.replace(\",\",\"\").fillna(\"0\")\n",
        "df['Insurance costs'] = df['Insurance costs'].str.replace(\",\",\"\").fillna(\"0\")\n",
        "df['Supplies and equipment costs'] = df['Supplies and equipment costs'].str.replace(\",\",\"\").fillna(\"0\")"
      ],
      "execution_count": null,
      "outputs": []
    },
    {
      "cell_type": "code",
      "metadata": {
        "id": "5tPtvYd9_wVH"
      },
      "source": [
        "df['Miscellaneous charges']"
      ],
      "execution_count": null,
      "outputs": []
    },
    {
      "cell_type": "code",
      "metadata": {
        "id": "JnccDymdBJmh"
      },
      "source": [
        "df['Public safety expenses']"
      ],
      "execution_count": null,
      "outputs": []
    },
    {
      "cell_type": "code",
      "metadata": {
        "id": "66pb-CYGWINR"
      },
      "source": [
        "df['Total Quotation'] = df['Miscellaneous charges'].astype(\"int\") + df['Public safety expenses'].astype(\"int\") +  df['Sanitation expenses'].astype(\"int\") + df['Streetscape & beautification expenses'].astype(\"int\") \n",
        "+ df['Salaries'].astype(\"int\") + df['Outside contractor expenses'].astype(\"int\") + df['Insurance costs'].astype(\"int\") +  df['Supplies and equipment costs'].astype(\"int\")\n",
        "df['Total Quotation']\n",
        "#Streetscape & beautification expenses   Outside contractor expenses     \n"
      ],
      "execution_count": null,
      "outputs": []
    },
    {
      "cell_type": "code",
      "metadata": {
        "id": "vG7YPR6CEEAU"
      },
      "source": [
        "df.info()"
      ],
      "execution_count": null,
      "outputs": []
    },
    {
      "cell_type": "markdown",
      "metadata": {
        "id": "mL1FT4PkFlm0"
      },
      "source": [
        "Removing unnecessary attributes and merging some attributes"
      ]
    },
    {
      "cell_type": "code",
      "metadata": {
        "id": "C6L9yXWWG4vx"
      },
      "source": [
        "df.drop(['Types of duties assigned to sanitation workers','Duties assigned to public safety personnel'],axis=1,inplace=True)"
      ],
      "execution_count": null,
      "outputs": []
    },
    {
      "cell_type": "code",
      "metadata": {
        "id": "0Q8X-t8dHFgJ"
      },
      "source": [
        "df['Incidents of graffiti removed'] = df['Incidents of graffiti removed'].str.replace(\",\",\"\")\n",
        "df['Incidents of graffiti removed'] = df['Incidents of graffiti removed'].str.replace(\"-\",\"0\")\n",
        "df['Incidents of graffiti removed'] = df['Incidents of graffiti removed'].fillna(\"0\")"
      ],
      "execution_count": null,
      "outputs": []
    },
    {
      "cell_type": "code",
      "metadata": {
        "id": "a07ygxd0HgKS"
      },
      "source": [
        "df['Number_Of_Sanitation_Activities'] = df['Incidents of graffiti removed'].astype(\"float\") + df['Trash bags collected'] + df['Trash and recycling receptacles serviced']"
      ],
      "execution_count": null,
      "outputs": []
    },
    {
      "cell_type": "code",
      "metadata": {
        "id": "fLJPOnRhHu6i"
      },
      "source": [
        "df.drop(['Incidents of graffiti removed','Trash bags collected','Trash and recycling receptacles serviced'],axis=1,inplace=True)"
      ],
      "execution_count": null,
      "outputs": []
    },
    {
      "cell_type": "code",
      "metadata": {
        "id": "ELyZZSFrI7pN"
      },
      "source": [
        "df['Street furniture elements maintained'] = df['Street furniture elements maintained'].fillna(\"0\")\n",
        "df['Wayfinding elements maintained'] = df['Wayfinding elements maintained'].fillna(\"0\")\n",
        "df['Lighting elements maintained'] = df['Lighting elements maintained'].fillna(\"0\")\n",
        "df['Other infrastructure elements maintained'] = df['Other infrastructure elements maintained'].fillna(\"0\")\n"
      ],
      "execution_count": null,
      "outputs": []
    },
    {
      "cell_type": "code",
      "metadata": {
        "id": "0XBBQDc9K85c"
      },
      "source": [
        "df.dtypes"
      ],
      "execution_count": null,
      "outputs": []
    },
    {
      "cell_type": "code",
      "metadata": {
        "id": "HTJuBK2bH5tr"
      },
      "source": [
        "df['Beautification_Activities'] = df['Planters and hanging baskets maintained'] + df['Tree pits maintained'] + df['Banners maintained'] + df['Public art installations sponsored'] \n",
        "+ df['Street furniture elements maintained']\n",
        "+ df['Wayfinding elements maintained']\n",
        "+ df['Lighting elements maintained']\n",
        "+ df['Public spaces maintained']\n",
        "\n",
        "df['Beautification_Activities']"
      ],
      "execution_count": null,
      "outputs": []
    },
    {
      "cell_type": "code",
      "metadata": {
        "id": "rN4GRWFZLjbP"
      },
      "source": [
        "df.drop(['Planters and hanging baskets maintained','Tree pits maintained','Banners maintained','Public art installations sponsored','Street furniture elements maintained','Wayfinding elements maintained','Lighting elements maintained','Other infrastructure elements maintained','Public spaces maintained'],axis=1,inplace=True)"
      ],
      "execution_count": null,
      "outputs": []
    },
    {
      "cell_type": "code",
      "metadata": {
        "id": "tDTdY40NGQOr"
      },
      "source": [
        "df.shape"
      ],
      "execution_count": null,
      "outputs": []
    },
    {
      "cell_type": "code",
      "metadata": {
        "id": "pJlAXh5GMD6U"
      },
      "source": [
        "df['Beautification_Activities'].isnull()"
      ],
      "execution_count": null,
      "outputs": []
    },
    {
      "cell_type": "code",
      "metadata": {
        "id": "7-x3vX7kMefO"
      },
      "source": [
        "df['Media_Reach'] = df['Social media followers'] + df['Marketing materials distributed'] + (df['Public events coordinated']*df['Estimated attendees to public events coordinated']) "
      ],
      "execution_count": null,
      "outputs": []
    },
    {
      "cell_type": "code",
      "metadata": {
        "id": "WI6cdORYMq_e"
      },
      "source": [
        "df.drop(['Social media followers','Marketing materials distributed','Public events coordinated','Estimated attendees to public events coordinated'],axis=1,inplace=True)"
      ],
      "execution_count": null,
      "outputs": []
    },
    {
      "cell_type": "code",
      "metadata": {
        "id": "8BDqq0jh2uUP"
      },
      "source": [
        "df.drop(['index'],inplace=True, axis=1)"
      ],
      "execution_count": null,
      "outputs": []
    },
    {
      "cell_type": "code",
      "metadata": {
        "id": "equi3REA4KLo"
      },
      "source": [
        "df.dtypes"
      ],
      "execution_count": null,
      "outputs": []
    },
    {
      "cell_type": "code",
      "metadata": {
        "id": "ICyVKwmQ6G6X"
      },
      "source": [
        "df.drop(['Full-time staff'], inplace=True, axis=1)"
      ],
      "execution_count": null,
      "outputs": []
    },
    {
      "cell_type": "code",
      "metadata": {
        "id": "Zx2FsFbs3Hj-"
      },
      "source": [
        "df['Total_Staff'] = df['Sanitation staff employed'] + df['Safety Inspector'] + df['Part-time staff']"
      ],
      "execution_count": null,
      "outputs": []
    },
    {
      "cell_type": "code",
      "metadata": {
        "id": "h8Z9L-wN8SXf"
      },
      "source": [
        "df.drop(['Sanitation staff employed','Safety Inspector','Part-time staff'], axis=1, inplace=True)"
      ],
      "execution_count": null,
      "outputs": []
    },
    {
      "cell_type": "code",
      "metadata": {
        "id": "7J-hBc0X8gu6"
      },
      "source": [
        "df.shape"
      ],
      "execution_count": null,
      "outputs": []
    },
    {
      "cell_type": "code",
      "metadata": {
        "id": "oqt2KTtzNIXT"
      },
      "source": [
        "import seaborn as sns\n",
        "a = df.corr()\n",
        "sns.heatmap(a)"
      ],
      "execution_count": null,
      "outputs": []
    },
    {
      "cell_type": "markdown",
      "metadata": {
        "id": "hP7Z8ZQLYFj7"
      },
      "source": [
        "**2. Modelling**"
      ]
    },
    {
      "cell_type": "code",
      "metadata": {
        "id": "qgHOnB5t_FUo"
      },
      "source": [
        "df.shape"
      ],
      "execution_count": null,
      "outputs": []
    },
    {
      "cell_type": "code",
      "metadata": {
        "id": "da_JhN24BH6z"
      },
      "source": [
        "df.dtypes"
      ],
      "execution_count": null,
      "outputs": []
    },
    {
      "cell_type": "code",
      "metadata": {
        "id": "WZsOpfpQBV_1"
      },
      "source": [
        "df.head(4)"
      ],
      "execution_count": null,
      "outputs": []
    },
    {
      "cell_type": "code",
      "metadata": {
        "id": "1_zijgyNCvFc"
      },
      "source": [
        "pd.to_numeric(df['Hours logged by public safety officers'])"
      ],
      "execution_count": null,
      "outputs": []
    },
    {
      "cell_type": "code",
      "metadata": {
        "id": "KOxggxs6FZSI"
      },
      "source": [
        "# Bid provides supplemental sanitation services --> Sanitation_services_provided\n",
        "#Bid provides supplemental streetscape and beautification services   --->  beautification_services_provided\n",
        "#Bid has holiday lighting program   ---> Holiday_program\n",
        "\n",
        "df['Bid provides supplemental sanitation services'] = df.rename(columns={'Bid provides supplemental sanitation services': 'Sanitation_services_provided'}, inplace=True) \n",
        "df['Bid provides supplemental streetscape and beautification services'] = df.rename(columns={'Bid provides supplemental streetscape and beautification services': 'Beautification_services_provided'}, inplace=True)\n",
        "df['Bid has holiday lighting program'] = df.rename(columns={'Bid has holiday lighting program':'Holiday_program'}, inplace=True)"
      ],
      "execution_count": null,
      "outputs": []
    },
    {
      "cell_type": "code",
      "metadata": {
        "id": "ljjHeGPqSish"
      },
      "source": [
        "df.drop(['Bid provides supplemental sanitation services','Bid provides supplemental streetscape and beautification services','Bid has holiday lighting program'], inplace=True, axis=1)"
      ],
      "execution_count": null,
      "outputs": []
    },
    {
      "cell_type": "code",
      "metadata": {
        "id": "KUEgVw76JkYo"
      },
      "source": [
        "df.head(1)"
      ],
      "execution_count": null,
      "outputs": []
    },
    {
      "cell_type": "code",
      "metadata": {
        "id": "vDI8cWCtSugx"
      },
      "source": [
        "df.shape"
      ],
      "execution_count": null,
      "outputs": []
    },
    {
      "cell_type": "markdown",
      "metadata": {
        "id": "BY9l_qIfR9WX"
      },
      "source": [
        "Converting object to numeric datatype"
      ]
    },
    {
      "cell_type": "code",
      "metadata": {
        "id": "sc24QRI1SVX3"
      },
      "source": [
        "df.info()"
      ],
      "execution_count": null,
      "outputs": []
    },
    {
      "cell_type": "code",
      "metadata": {
        "id": "c_NtV2ba1inF"
      },
      "source": [
        "#Holiday_program, Interactions with public safety officers, Bid provides supplemental public safety services\n",
        "df.drop(['Holiday_program', 'Interactions with public safety officers','Bid provides supplemental public safety services'], axis=1, inplace=True)"
      ],
      "execution_count": null,
      "outputs": []
    },
    {
      "cell_type": "code",
      "metadata": {
        "id": "dx2kEfUk-t9S"
      },
      "source": [
        "df.drop(['Floor Size'], inplace=True, axis = 1) "
      ],
      "execution_count": null,
      "outputs": []
    },
    {
      "cell_type": "code",
      "metadata": {
        "id": "QXGLuUvQCu6e"
      },
      "source": [
        "df['Special event charges'] = df['Special event charges'].replace(\"-\",\"0\")"
      ],
      "execution_count": null,
      "outputs": []
    },
    {
      "cell_type": "code",
      "metadata": {
        "id": "N-N7k5utDgD2"
      },
      "source": [
        "df['Special event charges'] = df['Special event charges'].str.replace(\",\",\"\")"
      ],
      "execution_count": null,
      "outputs": []
    },
    {
      "cell_type": "code",
      "metadata": {
        "id": "M-n8I65EA8AI"
      },
      "source": [
        "df['Special event charges'] = df['Special event charges'].fillna(\"0\").astype(int)"
      ],
      "execution_count": null,
      "outputs": []
    },
    {
      "cell_type": "code",
      "metadata": {
        "id": "wfyRa4_WCgqP"
      },
      "source": [
        "df['Current clients'].isnull().sum()"
      ],
      "execution_count": null,
      "outputs": []
    },
    {
      "cell_type": "code",
      "metadata": {
        "id": "qlVXj9VQ3K81"
      },
      "source": [
        "df.head(5)"
      ],
      "execution_count": null,
      "outputs": []
    },
    {
      "cell_type": "code",
      "metadata": {
        "id": "ZGZ9Kb_UFNEI"
      },
      "source": [
        "df['Miscellaneous charges'] = df['Miscellaneous charges'].astype(int)"
      ],
      "execution_count": null,
      "outputs": []
    },
    {
      "cell_type": "code",
      "metadata": {
        "id": "bPKsn74CGUcY"
      },
      "source": [
        "df['Sanitation expenses'] = df['Sanitation expenses'].astype(int)"
      ],
      "execution_count": null,
      "outputs": []
    },
    {
      "cell_type": "code",
      "metadata": {
        "id": "RVUmUrNuHRH4"
      },
      "source": [
        "df['Public safety expenses'] = df['Public safety expenses'].astype(int)"
      ],
      "execution_count": null,
      "outputs": []
    },
    {
      "cell_type": "code",
      "metadata": {
        "id": "1VDWhH_YHihl"
      },
      "source": [
        "df['Streetscape & beautification expenses'] = df['Streetscape & beautification expenses'].astype(int)"
      ],
      "execution_count": null,
      "outputs": []
    },
    {
      "cell_type": "code",
      "metadata": {
        "id": "z-9i1ZZVH9VU"
      },
      "source": [
        "df['Salaries'] = df['Salaries'].astype(int)"
      ],
      "execution_count": null,
      "outputs": []
    },
    {
      "cell_type": "code",
      "metadata": {
        "id": "ab3vxzfYIKGI"
      },
      "source": [
        "df['Outside contractor expenses'] = df['Outside contractor expenses'].astype(int)"
      ],
      "execution_count": null,
      "outputs": []
    },
    {
      "cell_type": "code",
      "metadata": {
        "id": "Ewc1_uFIJM9b"
      },
      "source": [
        "df['Insurance costs'] = df['Insurance costs'].astype(int)"
      ],
      "execution_count": null,
      "outputs": []
    },
    {
      "cell_type": "code",
      "metadata": {
        "id": "ykMCsPNHJdLH"
      },
      "source": [
        "df['Supplies and equipment costs'] = df['Supplies and equipment costs'].astype(int)"
      ],
      "execution_count": null,
      "outputs": []
    },
    {
      "cell_type": "code",
      "metadata": {
        "id": "OlU1y0-CJ5AP"
      },
      "source": [
        "import numpy as np\n",
        "# df['Current clients'] = (df['Current clients'], errors='coerce').notnull().astype(int)\n",
        "df['Current clients'] = pd.to_numeric(df['Current clients'], errors='coerce')\n",
        "df['Current clients']"
      ],
      "execution_count": null,
      "outputs": []
    },
    {
      "cell_type": "code",
      "metadata": {
        "id": "VBt8KykxR1RT"
      },
      "source": [
        "\n",
        "df['Current clients'] = df['Current clients'].replace(r'^\\s*$', np.nan, regex=True).fillna(method ='pad') \n",
        "df['Days per week of sanitation services'] = df['Days per week of sanitation services'].replace(r'^\\s*$', np.nan, regex=True).fillna(method ='pad') \n",
        "df = df.replace(r'^\\s*$', np.nan, regex=True).fillna(method ='pad') \n",
        "# df[pd.to_numeric(df['Current clients'], errors='coerce').notnull()]"
      ],
      "execution_count": null,
      "outputs": []
    },
    {
      "cell_type": "code",
      "metadata": {
        "id": "XEdfsePuTvks"
      },
      "source": [
        "# for i in range(len(df[\"Current clients\"])):\n",
        "#   if(df[\"Current clients\"][i].isnumeric() == False):\n",
        "\n",
        "#     print(df[\"Current clients\"][i])\n",
        "    "
      ],
      "execution_count": null,
      "outputs": []
    },
    {
      "cell_type": "code",
      "metadata": {
        "id": "IYNTZ0UlW1rJ"
      },
      "source": [
        "df[\"Current clients\"]\n",
        "df['Days per week of sanitation services']"
      ],
      "execution_count": null,
      "outputs": []
    },
    {
      "cell_type": "code",
      "metadata": {
        "id": "6oNP1bTiEc-Y"
      },
      "source": [
        "df.info()"
      ],
      "execution_count": null,
      "outputs": []
    },
    {
      "cell_type": "code",
      "metadata": {
        "id": "zzKtgFAkk9ea"
      },
      "source": [
        "df.head()\n"
      ],
      "execution_count": null,
      "outputs": []
    },
    {
      "cell_type": "code",
      "metadata": {
        "id": "gUoAVIhFqBFY"
      },
      "source": [
        "cat_feats = ['Sanitation_services_provided','Beautification_services_provided']"
      ],
      "execution_count": null,
      "outputs": []
    },
    {
      "cell_type": "code",
      "metadata": {
        "id": "FdUPhxHzq5rl"
      },
      "source": [
        "final_df = pd.get_dummies(df, columns=cat_feats,drop_first=True)"
      ],
      "execution_count": null,
      "outputs": []
    },
    {
      "cell_type": "code",
      "metadata": {
        "id": "P4vtwCpQrSvI"
      },
      "source": [
        "final_df.info()"
      ],
      "execution_count": null,
      "outputs": []
    },
    {
      "cell_type": "code",
      "metadata": {
        "id": "k8cNEzjCxu2T"
      },
      "source": [
        "final_df.drop(['Communication channels used'], inplace = True, axis = 1)"
      ],
      "execution_count": null,
      "outputs": []
    },
    {
      "cell_type": "code",
      "metadata": {
        "id": "lvIskETLEBnY"
      },
      "source": [
        "final_df.info()"
      ],
      "execution_count": null,
      "outputs": []
    },
    {
      "cell_type": "code",
      "metadata": {
        "id": "ZrhqRbnOrvti"
      },
      "source": [
        "final_df.head()"
      ],
      "execution_count": null,
      "outputs": []
    },
    {
      "cell_type": "code",
      "metadata": {
        "id": "_6tOyrOWxBUr"
      },
      "source": [
        "#Reducing other columns and applying one hot encoding"
      ],
      "execution_count": null,
      "outputs": []
    },
    {
      "cell_type": "code",
      "metadata": {
        "id": "O9SyNkxu_Ho9"
      },
      "source": [
        "#Separating the Attribute and target attribute\n",
        "y = final_df.iloc[:,0] #Dependent\n",
        "x = final_df.iloc[:,18:21] #Independent attributes"
      ],
      "execution_count": null,
      "outputs": []
    },
    {
      "cell_type": "code",
      "metadata": {
        "id": "KwhW96Ndqie0"
      },
      "source": [
        "x"
      ],
      "execution_count": null,
      "outputs": []
    },
    {
      "cell_type": "code",
      "metadata": {
        "id": "WJy5PH6ZFVN3"
      },
      "source": [
        "x.shape"
      ],
      "execution_count": null,
      "outputs": []
    },
    {
      "cell_type": "code",
      "metadata": {
        "id": "PFNeWxZZG4la"
      },
      "source": [
        "y"
      ],
      "execution_count": null,
      "outputs": []
    },
    {
      "cell_type": "code",
      "metadata": {
        "id": "Qmr5aDwhdOxb"
      },
      "source": [
        "#x = x.values.reshape(-1, 1)"
      ],
      "execution_count": null,
      "outputs": []
    },
    {
      "cell_type": "code",
      "metadata": {
        "id": "WOuKm1OHdcmF"
      },
      "source": [
        "#y = y.values.reshape(-1, 1)"
      ],
      "execution_count": null,
      "outputs": []
    },
    {
      "cell_type": "code",
      "metadata": {
        "id": "jIJRgM1CZJa7"
      },
      "source": [
        "y.shape"
      ],
      "execution_count": null,
      "outputs": []
    },
    {
      "cell_type": "code",
      "metadata": {
        "id": "mgxR9qV1UWaR"
      },
      "source": [
        "from sklearn.metrics import confusion_matrix \n",
        "from sklearn.model_selection import train_test_split \n",
        "from sklearn.tree import DecisionTreeClassifier \n",
        "from sklearn import metrics #Import scikit-learn metrics module for accuracy calculation"
      ],
      "execution_count": null,
      "outputs": []
    },
    {
      "cell_type": "code",
      "metadata": {
        "id": "BUCaOl9IVQNS"
      },
      "source": [
        "# Split dataset into training set and test set\n",
        "X_train, X_test, y_train, y_test = train_test_split(x, y, test_size=0.3, random_state=0) # 70% training and 30% test"
      ],
      "execution_count": null,
      "outputs": []
    },
    {
      "cell_type": "code",
      "metadata": {
        "id": "LVNbKSF-YbXT"
      },
      "source": [
        "# Create Decision Tree classifer object\n",
        "clf = DecisionTreeClassifier()"
      ],
      "execution_count": null,
      "outputs": []
    },
    {
      "cell_type": "code",
      "metadata": {
        "id": "shRC4tv1blr9"
      },
      "source": [
        "# Train Decision Tree Classifer\n",
        "clf = clf.fit(X_train,y_train)"
      ],
      "execution_count": null,
      "outputs": []
    },
    {
      "cell_type": "code",
      "metadata": {
        "id": "u-87PCjsbzrl"
      },
      "source": [
        "# Predict the response for test dataset\n",
        "y_pred = clf.predict([[100,1,1]])\n",
        "y_pred"
      ],
      "execution_count": null,
      "outputs": []
    },
    {
      "cell_type": "code",
      "metadata": {
        "id": "CX1XDxBlp0VA"
      },
      "source": [
        "|\r\n"
      ],
      "execution_count": null,
      "outputs": []
    },
    {
      "cell_type": "code",
      "metadata": {
        "id": "rUv_ruQqnZ6u"
      },
      "source": [
        "print(metrics.confusion_matrix(y_test,y_pred))"
      ],
      "execution_count": null,
      "outputs": []
    },
    {
      "cell_type": "code",
      "metadata": {
        "id": "v8xOPwemjzyw"
      },
      "source": [
        "# Model Accuracy, how often is the classifier correct?\n",
        "print(\"Accuracy:\",metrics.accuracy_score(y_test, y_pred))"
      ],
      "execution_count": null,
      "outputs": []
    },
    {
      "cell_type": "code",
      "metadata": {
        "id": "oUmvCc9klKt7"
      },
      "source": [
        "# from sklearn.linear_model import LogisticRegression\n",
        "# lr = LogisticRegression()\n",
        "# lr.fit(X_train,y_train)\n",
        "# y_pred1 = lr.predict(X_test)"
      ],
      "execution_count": null,
      "outputs": []
    },
    {
      "cell_type": "code",
      "metadata": {
        "id": "yYu57GDOnCBR"
      },
      "source": [
        "# y_pred1"
      ],
      "execution_count": null,
      "outputs": []
    },
    {
      "cell_type": "code",
      "metadata": {
        "id": "y5_sJRDPnCBR"
      },
      "source": [
        "# print(\"Accuracy:\",metrics.accuracy_score(y_test, y_pred1))\n"
      ],
      "execution_count": null,
      "outputs": []
    },
    {
      "cell_type": "code",
      "metadata": {
        "id": "u95qqOa3nCBS"
      },
      "source": [
        "# from sklearn import svm\n",
        "\n",
        "# #Create a svm Classifier\n",
        "# clf = svm.SVC(kernel='linear') # Linear Kernel\n",
        "\n",
        "# #Train the model using the training sets\n",
        "# clf.fit(X_train, y_train)\n",
        "\n",
        "# #Predict the response for test dataset\n",
        "# y_pred = clf.predict(X_test)\n",
        "# y_pred2"
      ],
      "execution_count": null,
      "outputs": []
    },
    {
      "cell_type": "code",
      "metadata": {
        "id": "TY2tzgDgnCBS"
      },
      "source": [
        "# print(\"Accuracy:\",metrics.accuracy_score(y_test, y_pred2))\n",
        "# "
      ],
      "execution_count": null,
      "outputs": []
    },
    {
      "cell_type": "code",
      "metadata": {
        "id": "i3bBMyiynCBS"
      },
      "source": [
        ""
      ],
      "execution_count": null,
      "outputs": []
    }
  ]
}