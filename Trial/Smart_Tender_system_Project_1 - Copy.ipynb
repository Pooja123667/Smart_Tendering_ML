{
  "nbformat": 4,
  "nbformat_minor": 0,
  "metadata": {
    "colab": {
      "name": "Smart Tender system - Project - 1.ipynb",
      "private_outputs": true,
      "provenance": [],
      "collapsed_sections": []
    },
    "kernelspec": {
      "name": "python3",
      "display_name": "Python 3.9.1 64-bit",
      "metadata": {
        "interpreter": {
          "hash": "63fd5069d213b44bf678585dea6b12cceca9941eaf7f819626cde1f2670de90d"
        }
      }
    }
  },
  "cells": [
    {
      "source": [
        "# Importing necessary Libraries <br>\n",
        "# **1. Understanding and Analyzing the Dataset**"
      ],
      "cell_type": "code",
      "metadata": {
        "id": "HfbD1PCXWvVX"
      },
      "execution_count": 2,
      "outputs": []
    },
    {
      "cell_type": "code",
      "metadata": {
        "id": "fNxDLtgXgBTt"
      },
      "source": [
        "import pandas as pd\n",
        "import io \n",
        "print(\"Import success\")"
      ],
      "execution_count": 3,
      "outputs": [
        {
          "output_type": "stream",
          "name": "stdout",
          "text": [
            "Import success\n"
          ]
        }
      ]
    },
    {
      "cell_type": "code",
      "metadata": {
        "id": "66y5WJAQgbD6"
      },
      "source": [
        "df = pd.read_csv(\"https://raw.githubusercontent.com/Pooja123667/Smart_Tendering_ML/main/file_name%20(2).csv\", low_memory=False) \n",
        "#https://raw.githubusercontent.com/Pooja123667/Smart_Tendering_ML/main/FY19_BID_Trends_Report_Data%20(3).csv\n",
        "#https://raw.githubusercontent.com/Pooja123667/Smart_Tendering_ML/main/file_name%20(2).csv"
      ],
      "execution_count": 4,
      "outputs": []
    },
    {
      "cell_type": "code",
      "metadata": {
        "id": "a9OUg2JGhCKm"
      },
      "source": [
        "df.head(1)"
      ],
      "execution_count": 5,
      "outputs": [
        {
          "output_type": "execute_result",
          "data": {
            "text/plain": [
              "   Unnamed: 0  index company name  Floor Size  Full-time staff  \\\n",
              "0           0      1   Moreno LLC      5220.0              1.0   \n",
              "\n",
              "   Sanitation staff employed  Safety Inspector  Part-time staff  \\\n",
              "0                       31.0               9.0              9.0   \n",
              "\n",
              "  Current clients Bid provides supplemental sanitation services  ...  \\\n",
              "0             145                                           Yes  ...   \n",
              "\n",
              "  Sanitation expenses  Public safety expenses  \\\n",
              "0             76,277                  40,756    \n",
              "\n",
              "   Marketing, holiday lighting, and special event expenses  \\\n",
              "0                                          $177,762          \n",
              "\n",
              "  Streetscape & beautification expenses  Salaries  \\\n",
              "0                               39,202   194,141    \n",
              "\n",
              "   Outside contractor expenses Insurance costs Rent and utilities  \\\n",
              "0                     101,399           2,035            $12,296    \n",
              "\n",
              "   Supplies and equipment costs  Other G&A expenses  \n",
              "0                        3,749             $46,053   \n",
              "\n",
              "[1 rows x 48 columns]"
            ],
            "text/html": "<div>\n<style scoped>\n    .dataframe tbody tr th:only-of-type {\n        vertical-align: middle;\n    }\n\n    .dataframe tbody tr th {\n        vertical-align: top;\n    }\n\n    .dataframe thead th {\n        text-align: right;\n    }\n</style>\n<table border=\"1\" class=\"dataframe\">\n  <thead>\n    <tr style=\"text-align: right;\">\n      <th></th>\n      <th>Unnamed: 0</th>\n      <th>index</th>\n      <th>company name</th>\n      <th>Floor Size</th>\n      <th>Full-time staff</th>\n      <th>Sanitation staff employed</th>\n      <th>Safety Inspector</th>\n      <th>Part-time staff</th>\n      <th>Current clients</th>\n      <th>Bid provides supplemental sanitation services</th>\n      <th>...</th>\n      <th>Sanitation expenses</th>\n      <th>Public safety expenses</th>\n      <th>Marketing, holiday lighting, and special event expenses</th>\n      <th>Streetscape &amp; beautification expenses</th>\n      <th>Salaries</th>\n      <th>Outside contractor expenses</th>\n      <th>Insurance costs</th>\n      <th>Rent and utilities</th>\n      <th>Supplies and equipment costs</th>\n      <th>Other G&amp;A expenses</th>\n    </tr>\n  </thead>\n  <tbody>\n    <tr>\n      <th>0</th>\n      <td>0</td>\n      <td>1</td>\n      <td>Moreno LLC</td>\n      <td>5220.0</td>\n      <td>1.0</td>\n      <td>31.0</td>\n      <td>9.0</td>\n      <td>9.0</td>\n      <td>145</td>\n      <td>Yes</td>\n      <td>...</td>\n      <td>76,277</td>\n      <td>40,756</td>\n      <td>$177,762</td>\n      <td>39,202</td>\n      <td>194,141</td>\n      <td>101,399</td>\n      <td>2,035</td>\n      <td>$12,296</td>\n      <td>3,749</td>\n      <td>$46,053</td>\n    </tr>\n  </tbody>\n</table>\n<p>1 rows × 48 columns</p>\n</div>"
          },
          "metadata": {},
          "execution_count": 5
        }
      ]
    },
    {
      "cell_type": "code",
      "metadata": {
        "id": "azvixykQhJx7"
      },
      "source": [
        "df.shape"
      ],
      "execution_count": 9,
      "outputs": [
        {
          "output_type": "execute_result",
          "data": {
            "text/plain": [
              "(99998, 48)"
            ]
          },
          "metadata": {},
          "execution_count": 9
        }
      ]
    },
    {
      "cell_type": "code",
      "metadata": {
        "id": "YzHkUTPFhQVy"
      },
      "source": [
        "df.describe()"
      ],
      "execution_count": 10,
      "outputs": [
        {
          "output_type": "execute_result",
          "data": {
            "text/plain": [
              "         Unnamed: 0         index     Floor Size  Full-time staff  \\\n",
              "count  99998.000000  99998.000000   97377.000000     97377.000000   \n",
              "mean   49998.500000  49999.500000   20542.258418         5.824260   \n",
              "std    28867.080446  28867.080446   19461.774039        12.814629   \n",
              "min        0.000000      1.000000    1740.000000         0.000000   \n",
              "25%    24999.250000  25000.250000    8010.000000         1.000000   \n",
              "50%    49998.500000  49999.500000   13140.000000         2.000000   \n",
              "75%    74997.750000  74998.750000   27170.000000         3.000000   \n",
              "max    99997.000000  99998.000000  121820.000000        64.000000   \n",
              "\n",
              "       Sanitation staff employed  Safety Inspector  Part-time staff  \\\n",
              "count               97377.000000      97377.000000     97377.000000   \n",
              "mean                   41.174045         28.666318        11.818468   \n",
              "std                    24.179840         17.154586         6.468663   \n",
              "min                     2.000000          1.000000         1.000000   \n",
              "25%                    23.000000         12.000000         7.000000   \n",
              "50%                    38.000000         29.000000        12.000000   \n",
              "75%                    61.000000         42.000000        16.000000   \n",
              "max                    84.000000         58.000000        24.000000   \n",
              "\n",
              "       Days per week of sanitation services  \\\n",
              "count                          93370.000000   \n",
              "mean                               6.585927   \n",
              "std                                1.236232   \n",
              "min                                1.000000   \n",
              "25%                                7.000000   \n",
              "50%                                7.000000   \n",
              "75%                                7.000000   \n",
              "max                                7.000000   \n",
              "\n",
              "       Hours logged by sanitation workers  Trash bags collected  ...  \\\n",
              "count                        97377.000000          97377.000000  ...   \n",
              "mean                         82396.797509         141080.069996  ...   \n",
              "std                          44122.700220          66361.097687  ...   \n",
              "min                           9995.000000          29905.000000  ...   \n",
              "25%                          49762.000000          81912.000000  ...   \n",
              "50%                          74009.000000         137515.000000  ...   \n",
              "75%                         119771.000000         192990.000000  ...   \n",
              "max                         164685.000000         256155.000000  ...   \n",
              "\n",
              "       Interactions with public safety officers  \\\n",
              "count                              66751.000000   \n",
              "mean                               60503.866699   \n",
              "std                                32662.499621   \n",
              "min                                 6168.000000   \n",
              "25%                                28259.000000   \n",
              "50%                                59132.000000   \n",
              "75%                                85887.000000   \n",
              "max                               118658.000000   \n",
              "\n",
              "       Planters and hanging baskets maintained  Tree pits maintained  \\\n",
              "count                             97377.000000          97377.000000   \n",
              "mean                                301.553437            212.474229   \n",
              "std                                 158.564854            147.943093   \n",
              "min                                  40.000000             15.000000   \n",
              "25%                                 182.000000             77.000000   \n",
              "50%                                 313.000000            176.000000   \n",
              "75%                                 426.000000            356.000000   \n",
              "max                                 556.000000            471.000000   \n",
              "\n",
              "       Banners maintained  Public art installations sponsored  \\\n",
              "count        97377.000000                        97377.000000   \n",
              "mean           114.386128                           15.346160   \n",
              "std             64.418373                            5.340999   \n",
              "min             11.000000                            6.000000   \n",
              "25%             56.000000                           11.000000   \n",
              "50%            124.000000                           15.000000   \n",
              "75%            172.000000                           20.000000   \n",
              "max            212.000000                           23.000000   \n",
              "\n",
              "       Public spaces maintained  Social media followers  \\\n",
              "count              82795.000000            97377.000000   \n",
              "mean                  38.358307            30014.197264   \n",
              "std                   24.857368            92933.776156   \n",
              "min                    0.000000              190.000000   \n",
              "25%                   14.000000             6381.000000   \n",
              "50%                   41.000000             9760.000000   \n",
              "75%                   61.000000            18551.000000   \n",
              "max                   79.000000           787253.000000   \n",
              "\n",
              "       Marketing materials distributed  Public events coordinated  \\\n",
              "count                     97377.000000               97377.000000   \n",
              "mean                      60148.031660                 206.254085   \n",
              "std                       34881.623679                 105.411538   \n",
              "min                        2684.000000                  15.000000   \n",
              "25%                       27084.000000                 118.000000   \n",
              "50%                       64104.000000                 210.000000   \n",
              "75%                       82179.000000                 291.000000   \n",
              "max                      121778.000000                 381.000000   \n",
              "\n",
              "       Estimated attendees to public events coordinated  \n",
              "count                                      97377.000000  \n",
              "mean                                      104914.274202  \n",
              "std                                        56397.947078  \n",
              "min                                         4721.000000  \n",
              "25%                                        52300.000000  \n",
              "50%                                       112582.000000  \n",
              "75%                                       152033.000000  \n",
              "max                                       199018.000000  \n",
              "\n",
              "[8 rows x 22 columns]"
            ],
            "text/html": "<div>\n<style scoped>\n    .dataframe tbody tr th:only-of-type {\n        vertical-align: middle;\n    }\n\n    .dataframe tbody tr th {\n        vertical-align: top;\n    }\n\n    .dataframe thead th {\n        text-align: right;\n    }\n</style>\n<table border=\"1\" class=\"dataframe\">\n  <thead>\n    <tr style=\"text-align: right;\">\n      <th></th>\n      <th>Unnamed: 0</th>\n      <th>index</th>\n      <th>Floor Size</th>\n      <th>Full-time staff</th>\n      <th>Sanitation staff employed</th>\n      <th>Safety Inspector</th>\n      <th>Part-time staff</th>\n      <th>Days per week of sanitation services</th>\n      <th>Hours logged by sanitation workers</th>\n      <th>Trash bags collected</th>\n      <th>...</th>\n      <th>Interactions with public safety officers</th>\n      <th>Planters and hanging baskets maintained</th>\n      <th>Tree pits maintained</th>\n      <th>Banners maintained</th>\n      <th>Public art installations sponsored</th>\n      <th>Public spaces maintained</th>\n      <th>Social media followers</th>\n      <th>Marketing materials distributed</th>\n      <th>Public events coordinated</th>\n      <th>Estimated attendees to public events coordinated</th>\n    </tr>\n  </thead>\n  <tbody>\n    <tr>\n      <th>count</th>\n      <td>99998.000000</td>\n      <td>99998.000000</td>\n      <td>97377.000000</td>\n      <td>97377.000000</td>\n      <td>97377.000000</td>\n      <td>97377.000000</td>\n      <td>97377.000000</td>\n      <td>93370.000000</td>\n      <td>97377.000000</td>\n      <td>97377.000000</td>\n      <td>...</td>\n      <td>66751.000000</td>\n      <td>97377.000000</td>\n      <td>97377.000000</td>\n      <td>97377.000000</td>\n      <td>97377.000000</td>\n      <td>82795.000000</td>\n      <td>97377.000000</td>\n      <td>97377.000000</td>\n      <td>97377.000000</td>\n      <td>97377.000000</td>\n    </tr>\n    <tr>\n      <th>mean</th>\n      <td>49998.500000</td>\n      <td>49999.500000</td>\n      <td>20542.258418</td>\n      <td>5.824260</td>\n      <td>41.174045</td>\n      <td>28.666318</td>\n      <td>11.818468</td>\n      <td>6.585927</td>\n      <td>82396.797509</td>\n      <td>141080.069996</td>\n      <td>...</td>\n      <td>60503.866699</td>\n      <td>301.553437</td>\n      <td>212.474229</td>\n      <td>114.386128</td>\n      <td>15.346160</td>\n      <td>38.358307</td>\n      <td>30014.197264</td>\n      <td>60148.031660</td>\n      <td>206.254085</td>\n      <td>104914.274202</td>\n    </tr>\n    <tr>\n      <th>std</th>\n      <td>28867.080446</td>\n      <td>28867.080446</td>\n      <td>19461.774039</td>\n      <td>12.814629</td>\n      <td>24.179840</td>\n      <td>17.154586</td>\n      <td>6.468663</td>\n      <td>1.236232</td>\n      <td>44122.700220</td>\n      <td>66361.097687</td>\n      <td>...</td>\n      <td>32662.499621</td>\n      <td>158.564854</td>\n      <td>147.943093</td>\n      <td>64.418373</td>\n      <td>5.340999</td>\n      <td>24.857368</td>\n      <td>92933.776156</td>\n      <td>34881.623679</td>\n      <td>105.411538</td>\n      <td>56397.947078</td>\n    </tr>\n    <tr>\n      <th>min</th>\n      <td>0.000000</td>\n      <td>1.000000</td>\n      <td>1740.000000</td>\n      <td>0.000000</td>\n      <td>2.000000</td>\n      <td>1.000000</td>\n      <td>1.000000</td>\n      <td>1.000000</td>\n      <td>9995.000000</td>\n      <td>29905.000000</td>\n      <td>...</td>\n      <td>6168.000000</td>\n      <td>40.000000</td>\n      <td>15.000000</td>\n      <td>11.000000</td>\n      <td>6.000000</td>\n      <td>0.000000</td>\n      <td>190.000000</td>\n      <td>2684.000000</td>\n      <td>15.000000</td>\n      <td>4721.000000</td>\n    </tr>\n    <tr>\n      <th>25%</th>\n      <td>24999.250000</td>\n      <td>25000.250000</td>\n      <td>8010.000000</td>\n      <td>1.000000</td>\n      <td>23.000000</td>\n      <td>12.000000</td>\n      <td>7.000000</td>\n      <td>7.000000</td>\n      <td>49762.000000</td>\n      <td>81912.000000</td>\n      <td>...</td>\n      <td>28259.000000</td>\n      <td>182.000000</td>\n      <td>77.000000</td>\n      <td>56.000000</td>\n      <td>11.000000</td>\n      <td>14.000000</td>\n      <td>6381.000000</td>\n      <td>27084.000000</td>\n      <td>118.000000</td>\n      <td>52300.000000</td>\n    </tr>\n    <tr>\n      <th>50%</th>\n      <td>49998.500000</td>\n      <td>49999.500000</td>\n      <td>13140.000000</td>\n      <td>2.000000</td>\n      <td>38.000000</td>\n      <td>29.000000</td>\n      <td>12.000000</td>\n      <td>7.000000</td>\n      <td>74009.000000</td>\n      <td>137515.000000</td>\n      <td>...</td>\n      <td>59132.000000</td>\n      <td>313.000000</td>\n      <td>176.000000</td>\n      <td>124.000000</td>\n      <td>15.000000</td>\n      <td>41.000000</td>\n      <td>9760.000000</td>\n      <td>64104.000000</td>\n      <td>210.000000</td>\n      <td>112582.000000</td>\n    </tr>\n    <tr>\n      <th>75%</th>\n      <td>74997.750000</td>\n      <td>74998.750000</td>\n      <td>27170.000000</td>\n      <td>3.000000</td>\n      <td>61.000000</td>\n      <td>42.000000</td>\n      <td>16.000000</td>\n      <td>7.000000</td>\n      <td>119771.000000</td>\n      <td>192990.000000</td>\n      <td>...</td>\n      <td>85887.000000</td>\n      <td>426.000000</td>\n      <td>356.000000</td>\n      <td>172.000000</td>\n      <td>20.000000</td>\n      <td>61.000000</td>\n      <td>18551.000000</td>\n      <td>82179.000000</td>\n      <td>291.000000</td>\n      <td>152033.000000</td>\n    </tr>\n    <tr>\n      <th>max</th>\n      <td>99997.000000</td>\n      <td>99998.000000</td>\n      <td>121820.000000</td>\n      <td>64.000000</td>\n      <td>84.000000</td>\n      <td>58.000000</td>\n      <td>24.000000</td>\n      <td>7.000000</td>\n      <td>164685.000000</td>\n      <td>256155.000000</td>\n      <td>...</td>\n      <td>118658.000000</td>\n      <td>556.000000</td>\n      <td>471.000000</td>\n      <td>212.000000</td>\n      <td>23.000000</td>\n      <td>79.000000</td>\n      <td>787253.000000</td>\n      <td>121778.000000</td>\n      <td>381.000000</td>\n      <td>199018.000000</td>\n    </tr>\n  </tbody>\n</table>\n<p>8 rows × 22 columns</p>\n</div>"
          },
          "metadata": {},
          "execution_count": 10
        }
      ]
    },
    {
      "cell_type": "code",
      "metadata": {
        "id": "4-J3FuzDaxWj"
      },
      "source": [
        "df.info()"
      ],
      "execution_count": 11,
      "outputs": [
        {
          "output_type": "stream",
          "name": "stdout",
          "text": [
            "<class 'pandas.core.frame.DataFrame'>\nRangeIndex: 99998 entries, 0 to 99997\nData columns (total 48 columns):\n #   Column                                                             Non-Null Count  Dtype  \n---  ------                                                             --------------  -----  \n 0   Unnamed: 0                                                         99998 non-null  int64  \n 1   index                                                              99998 non-null  int64  \n 2   company name                                                       99998 non-null  object \n 3   Floor Size                                                         97377 non-null  float64\n 4   Full-time staff                                                    97377 non-null  float64\n 5   Sanitation staff employed                                          97377 non-null  float64\n 6   Safety Inspector                                                   97377 non-null  float64\n 7   Part-time staff                                                    97377 non-null  float64\n 8   Current clients                                                    96012 non-null  object \n 9   Bid provides supplemental sanitation services                      97377 non-null  object \n 10  Types of duties assigned to sanitation workers                     94680 non-null  object \n 11  Days per week of sanitation services                               93370 non-null  float64\n 12  Hours logged by sanitation workers                                 97377 non-null  float64\n 13  Incidents of graffiti removed                                      97377 non-null  object \n 14  Trash bags collected                                               97377 non-null  float64\n 15  Trash and recycling receptacles serviced                           97377 non-null  float64\n 16  Bid provides supplemental public safety services                   97377 non-null  object \n 17  Duties assigned to public safety personnel                         47919 non-null  object \n 18  Hours logged by public safety officers                             69311 non-null  float64\n 19  Interactions with public safety officers                           66751 non-null  float64\n 20  Bid provides supplemental streetscape and beautification services  97377 non-null  object \n 21  Planters and hanging baskets maintained                            97377 non-null  float64\n 22  Tree pits maintained                                               97377 non-null  float64\n 23  Banners maintained                                                 97377 non-null  float64\n 24  Public art installations sponsored                                 97377 non-null  float64\n 25  Street furniture elements maintained                               82795 non-null  object \n 26  Wayfinding elements maintained                                     82795 non-null  object \n 27  Lighting elements maintained                                       81448 non-null  object \n 28  Other infrastructure elements maintained                           84149 non-null  object \n 29  Public spaces maintained                                           82795 non-null  float64\n 30  Bid has holiday lighting program                                   97377 non-null  object \n 31  Communication channels used                                        72 non-null     object \n 32  Social media followers                                             97377 non-null  float64\n 33  Marketing materials distributed                                    97377 non-null  float64\n 34  Public events coordinated                                          97377 non-null  float64\n 35  Estimated attendees to public events coordinated                   97377 non-null  float64\n 36  Special event charges                                              97377 non-null  object \n 37  Miscellaneous charges                                              97377 non-null  object \n 38  Sanitation expenses                                                94680 non-null  object \n 39  Public safety expenses                                             82754 non-null  object \n 40  Marketing, holiday lighting, and special event expenses            97377 non-null  object \n 41  Streetscape & beautification expenses                              97377 non-null  object \n 42  Salaries                                                           92018 non-null  object \n 43  Outside contractor expenses                                        89355 non-null  object \n 44  Insurance costs                                                    97377 non-null  object \n 45  Rent and utilities                                                 86621 non-null  object \n 46  Supplies and equipment costs                                       97377 non-null  object \n 47  Other G&A expenses                                                 97377 non-null  object \ndtypes: float64(20), int64(2), object(26)\nmemory usage: 36.6+ MB\n"
          ]
        }
      ]
    },
    {
      "cell_type": "code",
      "metadata": {
        "id": "DXIZKjdaUDqO"
      },
      "source": [
        "df['Duties assigned to public safety personnel'][3000]"
      ],
      "execution_count": 12,
      "outputs": [
        {
          "output_type": "execute_result",
          "data": {
            "text/plain": [
              "nan"
            ]
          },
          "metadata": {},
          "execution_count": 12
        }
      ]
    },
    {
      "cell_type": "code",
      "metadata": {
        "id": "Z4m7AVJkUmHd"
      },
      "source": [
        "df['Communication channels used'][90000]"
      ],
      "execution_count": 13,
      "outputs": [
        {
          "output_type": "execute_result",
          "data": {
            "text/plain": [
              "nan"
            ]
          },
          "metadata": {},
          "execution_count": 13
        }
      ]
    },
    {
      "cell_type": "code",
      "metadata": {
        "id": "vAS9ygBtcBAO"
      },
      "source": [
        "df.info()"
      ],
      "execution_count": 14,
      "outputs": [
        {
          "output_type": "stream",
          "name": "stdout",
          "text": [
            "<class 'pandas.core.frame.DataFrame'>\nRangeIndex: 99998 entries, 0 to 99997\nData columns (total 48 columns):\n #   Column                                                             Non-Null Count  Dtype  \n---  ------                                                             --------------  -----  \n 0   Unnamed: 0                                                         99998 non-null  int64  \n 1   index                                                              99998 non-null  int64  \n 2   company name                                                       99998 non-null  object \n 3   Floor Size                                                         97377 non-null  float64\n 4   Full-time staff                                                    97377 non-null  float64\n 5   Sanitation staff employed                                          97377 non-null  float64\n 6   Safety Inspector                                                   97377 non-null  float64\n 7   Part-time staff                                                    97377 non-null  float64\n 8   Current clients                                                    96012 non-null  object \n 9   Bid provides supplemental sanitation services                      97377 non-null  object \n 10  Types of duties assigned to sanitation workers                     94680 non-null  object \n 11  Days per week of sanitation services                               93370 non-null  float64\n 12  Hours logged by sanitation workers                                 97377 non-null  float64\n 13  Incidents of graffiti removed                                      97377 non-null  object \n 14  Trash bags collected                                               97377 non-null  float64\n 15  Trash and recycling receptacles serviced                           97377 non-null  float64\n 16  Bid provides supplemental public safety services                   97377 non-null  object \n 17  Duties assigned to public safety personnel                         47919 non-null  object \n 18  Hours logged by public safety officers                             69311 non-null  float64\n 19  Interactions with public safety officers                           66751 non-null  float64\n 20  Bid provides supplemental streetscape and beautification services  97377 non-null  object \n 21  Planters and hanging baskets maintained                            97377 non-null  float64\n 22  Tree pits maintained                                               97377 non-null  float64\n 23  Banners maintained                                                 97377 non-null  float64\n 24  Public art installations sponsored                                 97377 non-null  float64\n 25  Street furniture elements maintained                               82795 non-null  object \n 26  Wayfinding elements maintained                                     82795 non-null  object \n 27  Lighting elements maintained                                       81448 non-null  object \n 28  Other infrastructure elements maintained                           84149 non-null  object \n 29  Public spaces maintained                                           82795 non-null  float64\n 30  Bid has holiday lighting program                                   97377 non-null  object \n 31  Communication channels used                                        72 non-null     object \n 32  Social media followers                                             97377 non-null  float64\n 33  Marketing materials distributed                                    97377 non-null  float64\n 34  Public events coordinated                                          97377 non-null  float64\n 35  Estimated attendees to public events coordinated                   97377 non-null  float64\n 36  Special event charges                                              97377 non-null  object \n 37  Miscellaneous charges                                              97377 non-null  object \n 38  Sanitation expenses                                                94680 non-null  object \n 39  Public safety expenses                                             82754 non-null  object \n 40  Marketing, holiday lighting, and special event expenses            97377 non-null  object \n 41  Streetscape & beautification expenses                              97377 non-null  object \n 42  Salaries                                                           92018 non-null  object \n 43  Outside contractor expenses                                        89355 non-null  object \n 44  Insurance costs                                                    97377 non-null  object \n 45  Rent and utilities                                                 86621 non-null  object \n 46  Supplies and equipment costs                                       97377 non-null  object \n 47  Other G&A expenses                                                 97377 non-null  object \ndtypes: float64(20), int64(2), object(26)\nmemory usage: 36.6+ MB\n"
          ]
        }
      ]
    },
    {
      "cell_type": "code",
      "metadata": {
        "id": "LNKdRGWxtcHb"
      },
      "source": [
        "#Dropping unnecessary columns\n",
        "df.drop(['Marketing, holiday lighting, and special event expenses','Rent and utilities','Other G&A expenses','Unnamed: 0'], axis=1, inplace=True)"
      ],
      "execution_count": 15,
      "outputs": []
    },
    {
      "cell_type": "code",
      "metadata": {
        "id": "QzbuLJ3EukSs"
      },
      "source": [
        "df.shape"
      ],
      "execution_count": 16,
      "outputs": [
        {
          "output_type": "execute_result",
          "data": {
            "text/plain": [
              "(99998, 44)"
            ]
          },
          "metadata": {},
          "execution_count": 16
        }
      ]
    },
    {
      "cell_type": "markdown",
      "metadata": {
        "id": "SWlKkQJMZh2P"
      },
      "source": [
        "Now we shall replace all \"$\" signs in the columns to a null value"
      ]
    },
    {
      "cell_type": "code",
      "metadata": {
        "id": "mEzW7QaLZNLE"
      },
      "source": [
        "#replace function for replacing all \"$\" sign to \" \" for the following - \n",
        "\n",
        "#Miscellaneous charges\n",
        "#Public safety expenses\n",
        "#Streetscape & beautification expenses\n",
        "#Salaries\n",
        "#Outside contractor expenses\n",
        "#Insurance costs\n",
        "#Supplies and equipment costs\n",
        "#Sanitation expenses\n",
        "\n",
        "\n",
        "df['Special event charges'] = df['Special event charges'].str.replace(\"$\",\"\")\n",
        "df['Miscellaneous charges'] = df['Miscellaneous charges'].str.replace(\"$\",\"\")\n",
        "df['Sanitation expenses'] = df['Sanitation expenses'].str.replace(\"$\",\"\")\n",
        "df['Public safety expenses'] = df['Public safety expenses'].str.replace(\"$\",\"\")\n",
        "df['Streetscape & beautification expenses'] = df['Streetscape & beautification expenses'].str.replace(\"$\",\"\")\n",
        "df['Salaries'] = df['Salaries'].str.replace(\"$\",\"\")\n",
        "df['Outside contractor expenses'] = df['Outside contractor expenses'].str.replace(\"$\",\"\")\n",
        "df['Insurance costs'] = df['Insurance costs'].str.replace(\"$\",\"\")\n",
        "df['Supplies and equipment costs'] = df['Supplies and equipment costs'].str.replace(\"$\",\"\")\n",
        "\n",
        "\n"
      ],
      "execution_count": 17,
      "outputs": []
    },
    {
      "cell_type": "code",
      "metadata": {
        "id": "BMyfR-Hlk_EC"
      },
      "source": [
        "#Dropping unnecessary columns\n",
        "df.head(1)"
      ],
      "execution_count": 18,
      "outputs": [
        {
          "output_type": "execute_result",
          "data": {
            "text/plain": [
              "   index company name  Floor Size  Full-time staff  Sanitation staff employed  \\\n",
              "0      1   Moreno LLC      5220.0              1.0                       31.0   \n",
              "\n",
              "   Safety Inspector  Part-time staff Current clients  \\\n",
              "0               9.0              9.0             145   \n",
              "\n",
              "  Bid provides supplemental sanitation services  \\\n",
              "0                                           Yes   \n",
              "\n",
              "      Types of duties assigned to sanitation workers  ...  \\\n",
              "0  Street Sweeping and Bagging; Snow and Ice Remo...  ...   \n",
              "\n",
              "   Estimated attendees to public events coordinated  Special event charges  \\\n",
              "0                                          198647.0               360,146    \n",
              "\n",
              "  Miscellaneous charges  Sanitation expenses  Public safety expenses  \\\n",
              "0               16,591               76,277                  40,756    \n",
              "\n",
              "  Streetscape & beautification expenses  Salaries  \\\n",
              "0                               39,202   194,141    \n",
              "\n",
              "   Outside contractor expenses  Insurance costs Supplies and equipment costs  \n",
              "0                     101,399            2,035                        3,749   \n",
              "\n",
              "[1 rows x 44 columns]"
            ],
            "text/html": "<div>\n<style scoped>\n    .dataframe tbody tr th:only-of-type {\n        vertical-align: middle;\n    }\n\n    .dataframe tbody tr th {\n        vertical-align: top;\n    }\n\n    .dataframe thead th {\n        text-align: right;\n    }\n</style>\n<table border=\"1\" class=\"dataframe\">\n  <thead>\n    <tr style=\"text-align: right;\">\n      <th></th>\n      <th>index</th>\n      <th>company name</th>\n      <th>Floor Size</th>\n      <th>Full-time staff</th>\n      <th>Sanitation staff employed</th>\n      <th>Safety Inspector</th>\n      <th>Part-time staff</th>\n      <th>Current clients</th>\n      <th>Bid provides supplemental sanitation services</th>\n      <th>Types of duties assigned to sanitation workers</th>\n      <th>...</th>\n      <th>Estimated attendees to public events coordinated</th>\n      <th>Special event charges</th>\n      <th>Miscellaneous charges</th>\n      <th>Sanitation expenses</th>\n      <th>Public safety expenses</th>\n      <th>Streetscape &amp; beautification expenses</th>\n      <th>Salaries</th>\n      <th>Outside contractor expenses</th>\n      <th>Insurance costs</th>\n      <th>Supplies and equipment costs</th>\n    </tr>\n  </thead>\n  <tbody>\n    <tr>\n      <th>0</th>\n      <td>1</td>\n      <td>Moreno LLC</td>\n      <td>5220.0</td>\n      <td>1.0</td>\n      <td>31.0</td>\n      <td>9.0</td>\n      <td>9.0</td>\n      <td>145</td>\n      <td>Yes</td>\n      <td>Street Sweeping and Bagging; Snow and Ice Remo...</td>\n      <td>...</td>\n      <td>198647.0</td>\n      <td>360,146</td>\n      <td>16,591</td>\n      <td>76,277</td>\n      <td>40,756</td>\n      <td>39,202</td>\n      <td>194,141</td>\n      <td>101,399</td>\n      <td>2,035</td>\n      <td>3,749</td>\n    </tr>\n  </tbody>\n</table>\n<p>1 rows × 44 columns</p>\n</div>"
          },
          "metadata": {},
          "execution_count": 18
        }
      ]
    },
    {
      "cell_type": "code",
      "metadata": {
        "id": "K15fEcFJlq-w"
      },
      "source": [
        "df.shape"
      ],
      "execution_count": 19,
      "outputs": [
        {
          "output_type": "execute_result",
          "data": {
            "text/plain": [
              "(99998, 44)"
            ]
          },
          "metadata": {},
          "execution_count": 19
        }
      ]
    },
    {
      "cell_type": "code",
      "metadata": {
        "id": "fNOAH3F8dD_x"
      },
      "source": [
        "df.head(1)"
      ],
      "execution_count": 20,
      "outputs": [
        {
          "output_type": "execute_result",
          "data": {
            "text/plain": [
              "   index company name  Floor Size  Full-time staff  Sanitation staff employed  \\\n",
              "0      1   Moreno LLC      5220.0              1.0                       31.0   \n",
              "\n",
              "   Safety Inspector  Part-time staff Current clients  \\\n",
              "0               9.0              9.0             145   \n",
              "\n",
              "  Bid provides supplemental sanitation services  \\\n",
              "0                                           Yes   \n",
              "\n",
              "      Types of duties assigned to sanitation workers  ...  \\\n",
              "0  Street Sweeping and Bagging; Snow and Ice Remo...  ...   \n",
              "\n",
              "   Estimated attendees to public events coordinated  Special event charges  \\\n",
              "0                                          198647.0               360,146    \n",
              "\n",
              "  Miscellaneous charges  Sanitation expenses  Public safety expenses  \\\n",
              "0               16,591               76,277                  40,756    \n",
              "\n",
              "  Streetscape & beautification expenses  Salaries  \\\n",
              "0                               39,202   194,141    \n",
              "\n",
              "   Outside contractor expenses  Insurance costs Supplies and equipment costs  \n",
              "0                     101,399            2,035                        3,749   \n",
              "\n",
              "[1 rows x 44 columns]"
            ],
            "text/html": "<div>\n<style scoped>\n    .dataframe tbody tr th:only-of-type {\n        vertical-align: middle;\n    }\n\n    .dataframe tbody tr th {\n        vertical-align: top;\n    }\n\n    .dataframe thead th {\n        text-align: right;\n    }\n</style>\n<table border=\"1\" class=\"dataframe\">\n  <thead>\n    <tr style=\"text-align: right;\">\n      <th></th>\n      <th>index</th>\n      <th>company name</th>\n      <th>Floor Size</th>\n      <th>Full-time staff</th>\n      <th>Sanitation staff employed</th>\n      <th>Safety Inspector</th>\n      <th>Part-time staff</th>\n      <th>Current clients</th>\n      <th>Bid provides supplemental sanitation services</th>\n      <th>Types of duties assigned to sanitation workers</th>\n      <th>...</th>\n      <th>Estimated attendees to public events coordinated</th>\n      <th>Special event charges</th>\n      <th>Miscellaneous charges</th>\n      <th>Sanitation expenses</th>\n      <th>Public safety expenses</th>\n      <th>Streetscape &amp; beautification expenses</th>\n      <th>Salaries</th>\n      <th>Outside contractor expenses</th>\n      <th>Insurance costs</th>\n      <th>Supplies and equipment costs</th>\n    </tr>\n  </thead>\n  <tbody>\n    <tr>\n      <th>0</th>\n      <td>1</td>\n      <td>Moreno LLC</td>\n      <td>5220.0</td>\n      <td>1.0</td>\n      <td>31.0</td>\n      <td>9.0</td>\n      <td>9.0</td>\n      <td>145</td>\n      <td>Yes</td>\n      <td>Street Sweeping and Bagging; Snow and Ice Remo...</td>\n      <td>...</td>\n      <td>198647.0</td>\n      <td>360,146</td>\n      <td>16,591</td>\n      <td>76,277</td>\n      <td>40,756</td>\n      <td>39,202</td>\n      <td>194,141</td>\n      <td>101,399</td>\n      <td>2,035</td>\n      <td>3,749</td>\n    </tr>\n  </tbody>\n</table>\n<p>1 rows × 44 columns</p>\n</div>"
          },
          "metadata": {},
          "execution_count": 20
        }
      ]
    },
    {
      "cell_type": "markdown",
      "metadata": {
        "id": "wkqEgcQuESYs"
      },
      "source": [
        "Replacing all \",\" by \"\" and all NaN values by 0<br>\r\n",
        "Would be required for adding the total sum later"
      ]
    },
    {
      "cell_type": "code",
      "metadata": {
        "id": "giBSi4corojR"
      },
      "source": [
        "\n",
        "df['Miscellaneous charges'] = df['Miscellaneous charges'].str.replace(\",\",\"\").fillna(\"0\")\n",
        "df['Sanitation expenses'] = df['Sanitation expenses'].str.replace(\",\",\"\").fillna(\"0\")\n",
        "df['Public safety expenses'] = df['Public safety expenses'].str.replace(\",\",\"\").fillna(\"0\")\n",
        "df['Streetscape & beautification expenses'] = df['Streetscape & beautification expenses'].str.replace(\",\",\"\").fillna(\"0\")\n",
        "df['Salaries'] = df['Salaries'].str.replace(\",\",\"\").fillna(\"0\")\n",
        "df['Outside contractor expenses'] = df['Outside contractor expenses'].str.replace(\",\",\"\").fillna(\"0\")\n",
        "df['Insurance costs'] = df['Insurance costs'].str.replace(\",\",\"\").fillna(\"0\")\n",
        "df['Supplies and equipment costs'] = df['Supplies and equipment costs'].str.replace(\",\",\"\").fillna(\"0\")"
      ],
      "execution_count": 21,
      "outputs": []
    },
    {
      "cell_type": "code",
      "metadata": {
        "id": "5tPtvYd9_wVH"
      },
      "source": [
        "df['Miscellaneous charges']"
      ],
      "execution_count": 22,
      "outputs": [
        {
          "output_type": "execute_result",
          "data": {
            "text/plain": [
              "0         16591 \n",
              "1         68277 \n",
              "2         71153 \n",
              "3         14927 \n",
              "4         61766 \n",
              "          ...   \n",
              "99993     47806 \n",
              "99994     30981 \n",
              "99995    114141 \n",
              "99996    104185 \n",
              "99997     84325 \n",
              "Name: Miscellaneous charges, Length: 99998, dtype: object"
            ]
          },
          "metadata": {},
          "execution_count": 22
        }
      ]
    },
    {
      "cell_type": "code",
      "metadata": {
        "id": "JnccDymdBJmh"
      },
      "source": [
        "df['Public safety expenses']"
      ],
      "execution_count": 23,
      "outputs": [
        {
          "output_type": "execute_result",
          "data": {
            "text/plain": [
              "0         40756 \n",
              "1        169071 \n",
              "2          9179 \n",
              "3        293670 \n",
              "4        320711 \n",
              "          ...   \n",
              "99993     86552 \n",
              "99994    116098 \n",
              "99995     87105 \n",
              "99996    324593 \n",
              "99997    261562 \n",
              "Name: Public safety expenses, Length: 99998, dtype: object"
            ]
          },
          "metadata": {},
          "execution_count": 23
        }
      ]
    },
    {
      "cell_type": "code",
      "metadata": {
        "id": "66pb-CYGWINR"
      },
      "source": [
        "df['Total Quotation'] = df['Miscellaneous charges'].astype(\"int\") + df['Public safety expenses'].astype(\"int\") +  df['Sanitation expenses'].astype(\"int\") + df['Streetscape & beautification expenses'].astype(\"int\") \n",
        "+ df['Salaries'].astype(\"int\") + df['Outside contractor expenses'].astype(\"int\") + df['Insurance costs'].astype(\"int\") +  df['Supplies and equipment costs'].astype(\"int\")\n",
        "df['Total Quotation']\n",
        "#Streetscape & beautification expenses   Outside contractor expenses     \n"
      ],
      "execution_count": 24,
      "outputs": [
        {
          "output_type": "execute_result",
          "data": {
            "text/plain": [
              "0         172826\n",
              "1         499849\n",
              "2         125306\n",
              "3        1070827\n",
              "4         779014\n",
              "          ...   \n",
              "99993     475908\n",
              "99994     360003\n",
              "99995     927318\n",
              "99996     871826\n",
              "99997     500780\n",
              "Name: Total Quotation, Length: 99998, dtype: int32"
            ]
          },
          "metadata": {},
          "execution_count": 24
        }
      ]
    },
    {
      "cell_type": "code",
      "metadata": {
        "id": "vG7YPR6CEEAU"
      },
      "source": [
        "df.info()"
      ],
      "execution_count": 25,
      "outputs": [
        {
          "output_type": "stream",
          "name": "stdout",
          "text": [
            "<class 'pandas.core.frame.DataFrame'>\nRangeIndex: 99998 entries, 0 to 99997\nData columns (total 45 columns):\n #   Column                                                             Non-Null Count  Dtype  \n---  ------                                                             --------------  -----  \n 0   index                                                              99998 non-null  int64  \n 1   company name                                                       99998 non-null  object \n 2   Floor Size                                                         97377 non-null  float64\n 3   Full-time staff                                                    97377 non-null  float64\n 4   Sanitation staff employed                                          97377 non-null  float64\n 5   Safety Inspector                                                   97377 non-null  float64\n 6   Part-time staff                                                    97377 non-null  float64\n 7   Current clients                                                    96012 non-null  object \n 8   Bid provides supplemental sanitation services                      97377 non-null  object \n 9   Types of duties assigned to sanitation workers                     94680 non-null  object \n 10  Days per week of sanitation services                               93370 non-null  float64\n 11  Hours logged by sanitation workers                                 97377 non-null  float64\n 12  Incidents of graffiti removed                                      97377 non-null  object \n 13  Trash bags collected                                               97377 non-null  float64\n 14  Trash and recycling receptacles serviced                           97377 non-null  float64\n 15  Bid provides supplemental public safety services                   97377 non-null  object \n 16  Duties assigned to public safety personnel                         47919 non-null  object \n 17  Hours logged by public safety officers                             69311 non-null  float64\n 18  Interactions with public safety officers                           66751 non-null  float64\n 19  Bid provides supplemental streetscape and beautification services  97377 non-null  object \n 20  Planters and hanging baskets maintained                            97377 non-null  float64\n 21  Tree pits maintained                                               97377 non-null  float64\n 22  Banners maintained                                                 97377 non-null  float64\n 23  Public art installations sponsored                                 97377 non-null  float64\n 24  Street furniture elements maintained                               82795 non-null  object \n 25  Wayfinding elements maintained                                     82795 non-null  object \n 26  Lighting elements maintained                                       81448 non-null  object \n 27  Other infrastructure elements maintained                           84149 non-null  object \n 28  Public spaces maintained                                           82795 non-null  float64\n 29  Bid has holiday lighting program                                   97377 non-null  object \n 30  Communication channels used                                        72 non-null     object \n 31  Social media followers                                             97377 non-null  float64\n 32  Marketing materials distributed                                    97377 non-null  float64\n 33  Public events coordinated                                          97377 non-null  float64\n 34  Estimated attendees to public events coordinated                   97377 non-null  float64\n 35  Special event charges                                              97377 non-null  object \n 36  Miscellaneous charges                                              99998 non-null  object \n 37  Sanitation expenses                                                99998 non-null  object \n 38  Public safety expenses                                             99998 non-null  object \n 39  Streetscape & beautification expenses                              99998 non-null  object \n 40  Salaries                                                           99998 non-null  object \n 41  Outside contractor expenses                                        99998 non-null  object \n 42  Insurance costs                                                    99998 non-null  object \n 43  Supplies and equipment costs                                       99998 non-null  object \n 44  Total Quotation                                                    99998 non-null  int32  \ndtypes: float64(20), int32(1), int64(1), object(23)\nmemory usage: 34.0+ MB\n"
          ]
        }
      ]
    },
    {
      "cell_type": "markdown",
      "metadata": {
        "id": "mL1FT4PkFlm0"
      },
      "source": [
        "Removing unnecessary attributes and merging some attributes"
      ]
    },
    {
      "cell_type": "code",
      "metadata": {
        "id": "C6L9yXWWG4vx"
      },
      "source": [
        "df.drop(['Types of duties assigned to sanitation workers','Duties assigned to public safety personnel'],axis=1,inplace=True)"
      ],
      "execution_count": 26,
      "outputs": []
    },
    {
      "cell_type": "code",
      "metadata": {
        "id": "0Q8X-t8dHFgJ"
      },
      "source": [
        "df['Incidents of graffiti removed'] = df['Incidents of graffiti removed'].str.replace(\",\",\"\")\n",
        "df['Incidents of graffiti removed'] = df['Incidents of graffiti removed'].str.replace(\"-\",\"0\")\n",
        "df['Incidents of graffiti removed'] = df['Incidents of graffiti removed'].fillna(\"0\")"
      ],
      "execution_count": 27,
      "outputs": []
    },
    {
      "cell_type": "code",
      "metadata": {
        "id": "a07ygxd0HgKS"
      },
      "source": [
        "df['Number_Of_Sanitation_Activities'] = df['Incidents of graffiti removed'].astype(\"float\") + df['Trash bags collected'] + df['Trash and recycling receptacles serviced']"
      ],
      "execution_count": 28,
      "outputs": []
    },
    {
      "cell_type": "code",
      "metadata": {
        "id": "fLJPOnRhHu6i"
      },
      "source": [
        "df.drop(['Incidents of graffiti removed','Trash bags collected','Trash and recycling receptacles serviced'],axis=1,inplace=True)"
      ],
      "execution_count": 29,
      "outputs": []
    },
    {
      "cell_type": "code",
      "metadata": {
        "id": "ELyZZSFrI7pN"
      },
      "source": [
        "df['Street furniture elements maintained'] = df['Street furniture elements maintained'].fillna(\"0\")\n",
        "df['Wayfinding elements maintained'] = df['Wayfinding elements maintained'].fillna(\"0\")\n",
        "df['Lighting elements maintained'] = df['Lighting elements maintained'].fillna(\"0\")\n",
        "df['Other infrastructure elements maintained'] = df['Other infrastructure elements maintained'].fillna(\"0\")\n"
      ],
      "execution_count": 30,
      "outputs": []
    },
    {
      "cell_type": "code",
      "metadata": {
        "id": "0XBBQDc9K85c"
      },
      "source": [
        "df.dtypes"
      ],
      "execution_count": 31,
      "outputs": [
        {
          "output_type": "execute_result",
          "data": {
            "text/plain": [
              "index                                                                  int64\n",
              "company name                                                          object\n",
              "Floor Size                                                           float64\n",
              "Full-time staff                                                      float64\n",
              "Sanitation staff employed                                            float64\n",
              "Safety Inspector                                                     float64\n",
              "Part-time staff                                                      float64\n",
              "Current clients                                                       object\n",
              "Bid provides supplemental sanitation services                         object\n",
              "Days per week of sanitation services                                 float64\n",
              "Hours logged by sanitation workers                                   float64\n",
              "Bid provides supplemental public safety services                      object\n",
              "Hours logged by public safety officers                               float64\n",
              "Interactions with public safety officers                             float64\n",
              "Bid provides supplemental streetscape and beautification services     object\n",
              "Planters and hanging baskets maintained                              float64\n",
              "Tree pits maintained                                                 float64\n",
              "Banners maintained                                                   float64\n",
              "Public art installations sponsored                                   float64\n",
              "Street furniture elements maintained                                  object\n",
              "Wayfinding elements maintained                                        object\n",
              "Lighting elements maintained                                          object\n",
              "Other infrastructure elements maintained                              object\n",
              "Public spaces maintained                                             float64\n",
              "Bid has holiday lighting program                                      object\n",
              "Communication channels used                                           object\n",
              "Social media followers                                               float64\n",
              "Marketing materials distributed                                      float64\n",
              "Public events coordinated                                            float64\n",
              "Estimated attendees to public events coordinated                     float64\n",
              "Special event charges                                                 object\n",
              "Miscellaneous charges                                                 object\n",
              "Sanitation expenses                                                   object\n",
              "Public safety expenses                                                object\n",
              "Streetscape & beautification expenses                                 object\n",
              "Salaries                                                              object\n",
              "Outside contractor expenses                                           object\n",
              "Insurance costs                                                       object\n",
              "Supplies and equipment costs                                          object\n",
              "Total Quotation                                                        int32\n",
              "Number_Of_Sanitation_Activities                                      float64\n",
              "dtype: object"
            ]
          },
          "metadata": {},
          "execution_count": 31
        }
      ]
    },
    {
      "cell_type": "code",
      "metadata": {
        "id": "HTJuBK2bH5tr"
      },
      "source": [
        "df['Beautification_Activities'] = df['Planters and hanging baskets maintained'] + df['Tree pits maintained'] + df['Banners maintained'] + df['Public art installations sponsored'] \n",
        "+ df['Street furniture elements maintained']\n",
        "+ df['Wayfinding elements maintained']\n",
        "+ df['Lighting elements maintained']\n",
        "+ df['Public spaces maintained']\n",
        "\n",
        "df['Beautification_Activities']"
      ],
      "execution_count": 32,
      "outputs": [
        {
          "output_type": "execute_result",
          "data": {
            "text/plain": [
              "0         573.0\n",
              "1         558.0\n",
              "2         985.0\n",
              "3         617.0\n",
              "4         904.0\n",
              "          ...  \n",
              "99993     754.0\n",
              "99994     399.0\n",
              "99995    1010.0\n",
              "99996     676.0\n",
              "99997     766.0\n",
              "Name: Beautification_Activities, Length: 99998, dtype: float64"
            ]
          },
          "metadata": {},
          "execution_count": 32
        }
      ]
    },
    {
      "cell_type": "code",
      "metadata": {
        "id": "rN4GRWFZLjbP"
      },
      "source": [
        "df.drop(['Planters and hanging baskets maintained','Tree pits maintained','Banners maintained','Public art installations sponsored','Street furniture elements maintained','Wayfinding elements maintained','Lighting elements maintained','Other infrastructure elements maintained','Public spaces maintained'],axis=1,inplace=True)"
      ],
      "execution_count": 33,
      "outputs": []
    },
    {
      "cell_type": "code",
      "metadata": {
        "id": "tDTdY40NGQOr"
      },
      "source": [
        "df.shape"
      ],
      "execution_count": 34,
      "outputs": [
        {
          "output_type": "execute_result",
          "data": {
            "text/plain": [
              "(99998, 33)"
            ]
          },
          "metadata": {},
          "execution_count": 34
        }
      ]
    },
    {
      "cell_type": "code",
      "metadata": {
        "id": "pJlAXh5GMD6U"
      },
      "source": [
        "df['Beautification_Activities'].isnull()"
      ],
      "execution_count": 35,
      "outputs": [
        {
          "output_type": "execute_result",
          "data": {
            "text/plain": [
              "0        False\n",
              "1        False\n",
              "2        False\n",
              "3        False\n",
              "4        False\n",
              "         ...  \n",
              "99993    False\n",
              "99994    False\n",
              "99995    False\n",
              "99996    False\n",
              "99997    False\n",
              "Name: Beautification_Activities, Length: 99998, dtype: bool"
            ]
          },
          "metadata": {},
          "execution_count": 35
        }
      ]
    },
    {
      "cell_type": "code",
      "metadata": {
        "id": "7-x3vX7kMefO"
      },
      "source": [
        "df['Media_Reach'] = df['Social media followers'] + df['Marketing materials distributed'] + (df['Public events coordinated']*df['Estimated attendees to public events coordinated']) "
      ],
      "execution_count": 36,
      "outputs": []
    },
    {
      "cell_type": "code",
      "metadata": {
        "id": "WI6cdORYMq_e"
      },
      "source": [
        "df.drop(['Social media followers','Marketing materials distributed','Public events coordinated','Estimated attendees to public events coordinated'],axis=1,inplace=True)"
      ],
      "execution_count": 37,
      "outputs": []
    },
    {
      "cell_type": "code",
      "metadata": {
        "id": "8BDqq0jh2uUP"
      },
      "source": [
        "df.drop(['index'],inplace=True, axis=1)"
      ],
      "execution_count": 38,
      "outputs": []
    },
    {
      "cell_type": "code",
      "metadata": {
        "id": "equi3REA4KLo"
      },
      "source": [
        "df.dtypes"
      ],
      "execution_count": 39,
      "outputs": [
        {
          "output_type": "execute_result",
          "data": {
            "text/plain": [
              "company name                                                          object\n",
              "Floor Size                                                           float64\n",
              "Full-time staff                                                      float64\n",
              "Sanitation staff employed                                            float64\n",
              "Safety Inspector                                                     float64\n",
              "Part-time staff                                                      float64\n",
              "Current clients                                                       object\n",
              "Bid provides supplemental sanitation services                         object\n",
              "Days per week of sanitation services                                 float64\n",
              "Hours logged by sanitation workers                                   float64\n",
              "Bid provides supplemental public safety services                      object\n",
              "Hours logged by public safety officers                               float64\n",
              "Interactions with public safety officers                             float64\n",
              "Bid provides supplemental streetscape and beautification services     object\n",
              "Bid has holiday lighting program                                      object\n",
              "Communication channels used                                           object\n",
              "Special event charges                                                 object\n",
              "Miscellaneous charges                                                 object\n",
              "Sanitation expenses                                                   object\n",
              "Public safety expenses                                                object\n",
              "Streetscape & beautification expenses                                 object\n",
              "Salaries                                                              object\n",
              "Outside contractor expenses                                           object\n",
              "Insurance costs                                                       object\n",
              "Supplies and equipment costs                                          object\n",
              "Total Quotation                                                        int32\n",
              "Number_Of_Sanitation_Activities                                      float64\n",
              "Beautification_Activities                                            float64\n",
              "Media_Reach                                                          float64\n",
              "dtype: object"
            ]
          },
          "metadata": {},
          "execution_count": 39
        }
      ]
    },
    {
      "cell_type": "code",
      "metadata": {
        "id": "ICyVKwmQ6G6X"
      },
      "source": [
        "df.drop(['Full-time staff'], inplace=True, axis=1)"
      ],
      "execution_count": 40,
      "outputs": []
    },
    {
      "cell_type": "code",
      "metadata": {
        "id": "Zx2FsFbs3Hj-"
      },
      "source": [
        "df['Total_Staff'] = df['Sanitation staff employed'] + df['Safety Inspector'] + df['Part-time staff']"
      ],
      "execution_count": 41,
      "outputs": []
    },
    {
      "cell_type": "code",
      "metadata": {
        "id": "h8Z9L-wN8SXf"
      },
      "source": [
        "df.drop(['Sanitation staff employed','Safety Inspector','Part-time staff'], axis=1, inplace=True)"
      ],
      "execution_count": 42,
      "outputs": []
    },
    {
      "cell_type": "code",
      "metadata": {
        "id": "7J-hBc0X8gu6"
      },
      "source": [
        "df.shape"
      ],
      "execution_count": 43,
      "outputs": [
        {
          "output_type": "execute_result",
          "data": {
            "text/plain": [
              "(99998, 26)"
            ]
          },
          "metadata": {},
          "execution_count": 43
        }
      ]
    },
    {
      "cell_type": "code",
      "metadata": {
        "id": "oqt2KTtzNIXT"
      },
      "source": [
        "import seaborn as sns\n",
        "a = df.corr()\n",
        "sns.heatmap(a)"
      ],
      "execution_count": 44,
      "outputs": [
        {
          "output_type": "execute_result",
          "data": {
            "text/plain": [
              "<AxesSubplot:>"
            ]
          },
          "metadata": {},
          "execution_count": 44
        },
        {
          "output_type": "display_data",
          "data": {
            "text/plain": "<Figure size 432x288 with 2 Axes>",
            "image/svg+xml": "<?xml version=\"1.0\" encoding=\"utf-8\" standalone=\"no\"?>\r\n<!DOCTYPE svg PUBLIC \"-//W3C//DTD SVG 1.1//EN\"\r\n  \"http://www.w3.org/Graphics/SVG/1.1/DTD/svg11.dtd\">\r\n<!-- Created with matplotlib (https://matplotlib.org/) -->\r\n<svg height=\"433.876719pt\" version=\"1.1\" viewBox=\"0 0 539.372312 433.876719\" width=\"539.372312pt\" xmlns=\"http://www.w3.org/2000/svg\" xmlns:xlink=\"http://www.w3.org/1999/xlink\">\r\n <metadata>\r\n  <rdf:RDF xmlns:cc=\"http://creativecommons.org/ns#\" xmlns:dc=\"http://purl.org/dc/elements/1.1/\" xmlns:rdf=\"http://www.w3.org/1999/02/22-rdf-syntax-ns#\">\r\n   <cc:Work>\r\n    <dc:type rdf:resource=\"http://purl.org/dc/dcmitype/StillImage\"/>\r\n    <dc:date>2021-03-03T00:37:05.214849</dc:date>\r\n    <dc:format>image/svg+xml</dc:format>\r\n    <dc:creator>\r\n     <cc:Agent>\r\n      <dc:title>Matplotlib v3.3.4, https://matplotlib.org/</dc:title>\r\n     </cc:Agent>\r\n    </dc:creator>\r\n   </cc:Work>\r\n  </rdf:RDF>\r\n </metadata>\r\n <defs>\r\n  <style type=\"text/css\">*{stroke-linecap:butt;stroke-linejoin:round;}</style>\r\n </defs>\r\n <g id=\"figure_1\">\r\n  <g id=\"patch_1\">\r\n   <path d=\"M 0 433.876719 \r\nL 539.372312 433.876719 \r\nL 539.372312 0 \r\nL 0 0 \r\nz\r\n\" style=\"fill:none;\"/>\r\n  </g>\r\n  <g id=\"axes_1\">\r\n   <g id=\"patch_2\">\r\n    <path d=\"M 205.4375 228.439219 \r\nL 473.2775 228.439219 \r\nL 473.2775 10.999219 \r\nL 205.4375 10.999219 \r\nz\r\n\" style=\"fill:#ffffff;\"/>\r\n   </g>\r\n   <g id=\"QuadMesh_1\">\r\n    <path clip-path=\"url(#p4a77e2cbea)\" d=\"M 205.4375 10.999219 \r\nL 232.2215 10.999219 \r\nL 232.2215 32.743219 \r\nL 205.4375 32.743219 \r\nL 205.4375 10.999219 \r\n\" style=\"fill:#faebdd;\"/>\r\n    <path clip-path=\"url(#p4a77e2cbea)\" d=\"M 232.2215 10.999219 \r\nL 259.0055 10.999219 \r\nL 259.0055 32.743219 \r\nL 232.2215 32.743219 \r\nL 232.2215 10.999219 \r\n\" style=\"fill:#461c48;\"/>\r\n    <path clip-path=\"url(#p4a77e2cbea)\" d=\"M 259.0055 10.999219 \r\nL 285.7895 10.999219 \r\nL 285.7895 32.743219 \r\nL 259.0055 32.743219 \r\nL 259.0055 10.999219 \r\n\" style=\"fill:#2b1637;\"/>\r\n    <path clip-path=\"url(#p4a77e2cbea)\" d=\"M 285.7895 10.999219 \r\nL 312.5735 10.999219 \r\nL 312.5735 32.743219 \r\nL 285.7895 32.743219 \r\nL 285.7895 10.999219 \r\n\" style=\"fill:#381a40;\"/>\r\n    <path clip-path=\"url(#p4a77e2cbea)\" d=\"M 312.5735 10.999219 \r\nL 339.3575 10.999219 \r\nL 339.3575 32.743219 \r\nL 312.5735 32.743219 \r\nL 312.5735 10.999219 \r\n\" style=\"fill:#611f53;\"/>\r\n    <path clip-path=\"url(#p4a77e2cbea)\" d=\"M 339.3575 10.999219 \r\nL 366.1415 10.999219 \r\nL 366.1415 32.743219 \r\nL 339.3575 32.743219 \r\nL 339.3575 10.999219 \r\n\" style=\"fill:#35193e;\"/>\r\n    <path clip-path=\"url(#p4a77e2cbea)\" d=\"M 366.1415 10.999219 \r\nL 392.9255 10.999219 \r\nL 392.9255 32.743219 \r\nL 366.1415 32.743219 \r\nL 366.1415 10.999219 \r\n\" style=\"fill:#2e1739;\"/>\r\n    <path clip-path=\"url(#p4a77e2cbea)\" d=\"M 392.9255 10.999219 \r\nL 419.7095 10.999219 \r\nL 419.7095 32.743219 \r\nL 392.9255 32.743219 \r\nL 392.9255 10.999219 \r\n\" style=\"fill:#461c48;\"/>\r\n    <path clip-path=\"url(#p4a77e2cbea)\" d=\"M 419.7095 10.999219 \r\nL 446.4935 10.999219 \r\nL 446.4935 32.743219 \r\nL 419.7095 32.743219 \r\nL 419.7095 10.999219 \r\n\" style=\"fill:#451c47;\"/>\r\n    <path clip-path=\"url(#p4a77e2cbea)\" d=\"M 446.4935 10.999219 \r\nL 473.2775 10.999219 \r\nL 473.2775 32.743219 \r\nL 446.4935 32.743219 \r\nL 446.4935 10.999219 \r\n\" style=\"fill:#3f1b43;\"/>\r\n    <path clip-path=\"url(#p4a77e2cbea)\" d=\"M 205.4375 32.743219 \r\nL 232.2215 32.743219 \r\nL 232.2215 54.487219 \r\nL 205.4375 54.487219 \r\nL 205.4375 32.743219 \r\n\" style=\"fill:#461c48;\"/>\r\n    <path clip-path=\"url(#p4a77e2cbea)\" d=\"M 232.2215 32.743219 \r\nL 259.0055 32.743219 \r\nL 259.0055 54.487219 \r\nL 232.2215 54.487219 \r\nL 232.2215 32.743219 \r\n\" style=\"fill:#faebdd;\"/>\r\n    <path clip-path=\"url(#p4a77e2cbea)\" d=\"M 259.0055 32.743219 \r\nL 285.7895 32.743219 \r\nL 285.7895 54.487219 \r\nL 259.0055 54.487219 \r\nL 259.0055 32.743219 \r\n\" style=\"fill:#4b1d4a;\"/>\r\n    <path clip-path=\"url(#p4a77e2cbea)\" d=\"M 285.7895 32.743219 \r\nL 312.5735 32.743219 \r\nL 312.5735 54.487219 \r\nL 285.7895 54.487219 \r\nL 285.7895 32.743219 \r\n\" style=\"fill:#601f52;\"/>\r\n    <path clip-path=\"url(#p4a77e2cbea)\" d=\"M 312.5735 32.743219 \r\nL 339.3575 32.743219 \r\nL 339.3575 54.487219 \r\nL 312.5735 54.487219 \r\nL 312.5735 32.743219 \r\n\" style=\"fill:#681f55;\"/>\r\n    <path clip-path=\"url(#p4a77e2cbea)\" d=\"M 339.3575 32.743219 \r\nL 366.1415 32.743219 \r\nL 366.1415 54.487219 \r\nL 339.3575 54.487219 \r\nL 339.3575 32.743219 \r\n\" style=\"fill:#711f57;\"/>\r\n    <path clip-path=\"url(#p4a77e2cbea)\" d=\"M 366.1415 32.743219 \r\nL 392.9255 32.743219 \r\nL 392.9255 54.487219 \r\nL 366.1415 54.487219 \r\nL 366.1415 32.743219 \r\n\" style=\"fill:#631f53;\"/>\r\n    <path clip-path=\"url(#p4a77e2cbea)\" d=\"M 392.9255 32.743219 \r\nL 419.7095 32.743219 \r\nL 419.7095 54.487219 \r\nL 392.9255 54.487219 \r\nL 392.9255 32.743219 \r\n\" style=\"fill:#3a1a41;\"/>\r\n    <path clip-path=\"url(#p4a77e2cbea)\" d=\"M 419.7095 32.743219 \r\nL 446.4935 32.743219 \r\nL 446.4935 54.487219 \r\nL 419.7095 54.487219 \r\nL 419.7095 32.743219 \r\n\" style=\"fill:#421b45;\"/>\r\n    <path clip-path=\"url(#p4a77e2cbea)\" d=\"M 446.4935 32.743219 \r\nL 473.2775 32.743219 \r\nL 473.2775 54.487219 \r\nL 446.4935 54.487219 \r\nL 446.4935 32.743219 \r\n\" style=\"fill:#6d1f56;\"/>\r\n    <path clip-path=\"url(#p4a77e2cbea)\" d=\"M 205.4375 54.487219 \r\nL 232.2215 54.487219 \r\nL 232.2215 76.231219 \r\nL 205.4375 76.231219 \r\nL 205.4375 54.487219 \r\n\" style=\"fill:#2b1637;\"/>\r\n    <path clip-path=\"url(#p4a77e2cbea)\" d=\"M 232.2215 54.487219 \r\nL 259.0055 54.487219 \r\nL 259.0055 76.231219 \r\nL 232.2215 76.231219 \r\nL 232.2215 54.487219 \r\n\" style=\"fill:#4b1d4a;\"/>\r\n    <path clip-path=\"url(#p4a77e2cbea)\" d=\"M 259.0055 54.487219 \r\nL 285.7895 54.487219 \r\nL 285.7895 76.231219 \r\nL 259.0055 76.231219 \r\nL 259.0055 54.487219 \r\n\" style=\"fill:#faebdd;\"/>\r\n    <path clip-path=\"url(#p4a77e2cbea)\" d=\"M 285.7895 54.487219 \r\nL 312.5735 54.487219 \r\nL 312.5735 76.231219 \r\nL 285.7895 76.231219 \r\nL 285.7895 54.487219 \r\n\" style=\"fill:#711f57;\"/>\r\n    <path clip-path=\"url(#p4a77e2cbea)\" d=\"M 312.5735 54.487219 \r\nL 339.3575 54.487219 \r\nL 339.3575 76.231219 \r\nL 312.5735 76.231219 \r\nL 312.5735 54.487219 \r\n\" style=\"fill:#491d49;\"/>\r\n    <path clip-path=\"url(#p4a77e2cbea)\" d=\"M 339.3575 54.487219 \r\nL 366.1415 54.487219 \r\nL 366.1415 76.231219 \r\nL 339.3575 76.231219 \r\nL 339.3575 54.487219 \r\n\" style=\"fill:#691f55;\"/>\r\n    <path clip-path=\"url(#p4a77e2cbea)\" d=\"M 366.1415 54.487219 \r\nL 392.9255 54.487219 \r\nL 392.9255 76.231219 \r\nL 366.1415 76.231219 \r\nL 366.1415 54.487219 \r\n\" style=\"fill:#3a1a41;\"/>\r\n    <path clip-path=\"url(#p4a77e2cbea)\" d=\"M 392.9255 54.487219 \r\nL 419.7095 54.487219 \r\nL 419.7095 76.231219 \r\nL 392.9255 76.231219 \r\nL 392.9255 54.487219 \r\n\" style=\"fill:#281535;\"/>\r\n    <path clip-path=\"url(#p4a77e2cbea)\" d=\"M 419.7095 54.487219 \r\nL 446.4935 54.487219 \r\nL 446.4935 76.231219 \r\nL 419.7095 76.231219 \r\nL 419.7095 54.487219 \r\n\" style=\"fill:#4c1d4b;\"/>\r\n    <path clip-path=\"url(#p4a77e2cbea)\" d=\"M 446.4935 54.487219 \r\nL 473.2775 54.487219 \r\nL 473.2775 76.231219 \r\nL 446.4935 76.231219 \r\nL 446.4935 54.487219 \r\n\" style=\"fill:#33183c;\"/>\r\n    <path clip-path=\"url(#p4a77e2cbea)\" d=\"M 205.4375 76.231219 \r\nL 232.2215 76.231219 \r\nL 232.2215 97.975219 \r\nL 205.4375 97.975219 \r\nL 205.4375 76.231219 \r\n\" style=\"fill:#381a40;\"/>\r\n    <path clip-path=\"url(#p4a77e2cbea)\" d=\"M 232.2215 76.231219 \r\nL 259.0055 76.231219 \r\nL 259.0055 97.975219 \r\nL 232.2215 97.975219 \r\nL 232.2215 76.231219 \r\n\" style=\"fill:#601f52;\"/>\r\n    <path clip-path=\"url(#p4a77e2cbea)\" d=\"M 259.0055 76.231219 \r\nL 285.7895 76.231219 \r\nL 285.7895 97.975219 \r\nL 259.0055 97.975219 \r\nL 259.0055 76.231219 \r\n\" style=\"fill:#711f57;\"/>\r\n    <path clip-path=\"url(#p4a77e2cbea)\" d=\"M 285.7895 76.231219 \r\nL 312.5735 76.231219 \r\nL 312.5735 97.975219 \r\nL 285.7895 97.975219 \r\nL 285.7895 76.231219 \r\n\" style=\"fill:#faebdd;\"/>\r\n    <path clip-path=\"url(#p4a77e2cbea)\" d=\"M 312.5735 76.231219 \r\nL 339.3575 76.231219 \r\nL 339.3575 97.975219 \r\nL 312.5735 97.975219 \r\nL 312.5735 76.231219 \r\n\" style=\"fill:#211330;\"/>\r\n    <path clip-path=\"url(#p4a77e2cbea)\" d=\"M 339.3575 76.231219 \r\nL 366.1415 76.231219 \r\nL 366.1415 97.975219 \r\nL 339.3575 97.975219 \r\nL 339.3575 76.231219 \r\n\" style=\"fill:#3c1a42;\"/>\r\n    <path clip-path=\"url(#p4a77e2cbea)\" d=\"M 366.1415 76.231219 \r\nL 392.9255 76.231219 \r\nL 392.9255 97.975219 \r\nL 366.1415 97.975219 \r\nL 366.1415 76.231219 \r\n\" style=\"fill:#821e5a;\"/>\r\n    <path clip-path=\"url(#p4a77e2cbea)\" d=\"M 392.9255 76.231219 \r\nL 419.7095 76.231219 \r\nL 419.7095 97.975219 \r\nL 392.9255 97.975219 \r\nL 392.9255 76.231219 \r\n\" style=\"fill:#20122e;\"/>\r\n    <path clip-path=\"url(#p4a77e2cbea)\" d=\"M 419.7095 76.231219 \r\nL 446.4935 76.231219 \r\nL 446.4935 97.975219 \r\nL 419.7095 97.975219 \r\nL 419.7095 76.231219 \r\n\" style=\"fill:#8e1d5b;\"/>\r\n    <path clip-path=\"url(#p4a77e2cbea)\" d=\"M 446.4935 76.231219 \r\nL 473.2775 76.231219 \r\nL 473.2775 97.975219 \r\nL 446.4935 97.975219 \r\nL 446.4935 76.231219 \r\n\" style=\"fill:#4c1d4b;\"/>\r\n    <path clip-path=\"url(#p4a77e2cbea)\" d=\"M 205.4375 97.975219 \r\nL 232.2215 97.975219 \r\nL 232.2215 119.719219 \r\nL 205.4375 119.719219 \r\nL 205.4375 97.975219 \r\n\" style=\"fill:#611f53;\"/>\r\n    <path clip-path=\"url(#p4a77e2cbea)\" d=\"M 232.2215 97.975219 \r\nL 259.0055 97.975219 \r\nL 259.0055 119.719219 \r\nL 232.2215 119.719219 \r\nL 232.2215 97.975219 \r\n\" style=\"fill:#681f55;\"/>\r\n    <path clip-path=\"url(#p4a77e2cbea)\" d=\"M 259.0055 97.975219 \r\nL 285.7895 97.975219 \r\nL 285.7895 119.719219 \r\nL 259.0055 119.719219 \r\nL 259.0055 97.975219 \r\n\" style=\"fill:#491d49;\"/>\r\n    <path clip-path=\"url(#p4a77e2cbea)\" d=\"M 285.7895 97.975219 \r\nL 312.5735 97.975219 \r\nL 312.5735 119.719219 \r\nL 285.7895 119.719219 \r\nL 285.7895 97.975219 \r\n\" style=\"fill:#211330;\"/>\r\n    <path clip-path=\"url(#p4a77e2cbea)\" d=\"M 312.5735 97.975219 \r\nL 339.3575 97.975219 \r\nL 339.3575 119.719219 \r\nL 312.5735 119.719219 \r\nL 312.5735 97.975219 \r\n\" style=\"fill:#faebdd;\"/>\r\n    <path clip-path=\"url(#p4a77e2cbea)\" d=\"M 339.3575 97.975219 \r\nL 366.1415 97.975219 \r\nL 366.1415 119.719219 \r\nL 339.3575 119.719219 \r\nL 339.3575 97.975219 \r\n\" style=\"fill:#751f58;\"/>\r\n    <path clip-path=\"url(#p4a77e2cbea)\" d=\"M 366.1415 97.975219 \r\nL 392.9255 97.975219 \r\nL 392.9255 119.719219 \r\nL 366.1415 119.719219 \r\nL 366.1415 97.975219 \r\n\" style=\"fill:#491d49;\"/>\r\n    <path clip-path=\"url(#p4a77e2cbea)\" d=\"M 392.9255 97.975219 \r\nL 419.7095 97.975219 \r\nL 419.7095 119.719219 \r\nL 392.9255 119.719219 \r\nL 392.9255 97.975219 \r\n\" style=\"fill:#170f28;\"/>\r\n    <path clip-path=\"url(#p4a77e2cbea)\" d=\"M 419.7095 97.975219 \r\nL 446.4935 97.975219 \r\nL 446.4935 119.719219 \r\nL 419.7095 119.719219 \r\nL 419.7095 97.975219 \r\n\" style=\"fill:#241432;\"/>\r\n    <path clip-path=\"url(#p4a77e2cbea)\" d=\"M 446.4935 97.975219 \r\nL 473.2775 97.975219 \r\nL 473.2775 119.719219 \r\nL 446.4935 119.719219 \r\nL 446.4935 97.975219 \r\n\" style=\"fill:#701f57;\"/>\r\n    <path clip-path=\"url(#p4a77e2cbea)\" d=\"M 205.4375 119.719219 \r\nL 232.2215 119.719219 \r\nL 232.2215 141.463219 \r\nL 205.4375 141.463219 \r\nL 205.4375 119.719219 \r\n\" style=\"fill:#35193e;\"/>\r\n    <path clip-path=\"url(#p4a77e2cbea)\" d=\"M 232.2215 119.719219 \r\nL 259.0055 119.719219 \r\nL 259.0055 141.463219 \r\nL 232.2215 141.463219 \r\nL 232.2215 119.719219 \r\n\" style=\"fill:#711f57;\"/>\r\n    <path clip-path=\"url(#p4a77e2cbea)\" d=\"M 259.0055 119.719219 \r\nL 285.7895 119.719219 \r\nL 285.7895 141.463219 \r\nL 259.0055 141.463219 \r\nL 259.0055 119.719219 \r\n\" style=\"fill:#691f55;\"/>\r\n    <path clip-path=\"url(#p4a77e2cbea)\" d=\"M 285.7895 119.719219 \r\nL 312.5735 119.719219 \r\nL 312.5735 141.463219 \r\nL 285.7895 141.463219 \r\nL 285.7895 119.719219 \r\n\" style=\"fill:#3c1a42;\"/>\r\n    <path clip-path=\"url(#p4a77e2cbea)\" d=\"M 312.5735 119.719219 \r\nL 339.3575 119.719219 \r\nL 339.3575 141.463219 \r\nL 312.5735 141.463219 \r\nL 312.5735 119.719219 \r\n\" style=\"fill:#751f58;\"/>\r\n    <path clip-path=\"url(#p4a77e2cbea)\" d=\"M 339.3575 119.719219 \r\nL 366.1415 119.719219 \r\nL 366.1415 141.463219 \r\nL 339.3575 141.463219 \r\nL 339.3575 119.719219 \r\n\" style=\"fill:#faebdd;\"/>\r\n    <path clip-path=\"url(#p4a77e2cbea)\" d=\"M 366.1415 119.719219 \r\nL 392.9255 119.719219 \r\nL 392.9255 141.463219 \r\nL 366.1415 141.463219 \r\nL 366.1415 119.719219 \r\n\" style=\"fill:#841e5a;\"/>\r\n    <path clip-path=\"url(#p4a77e2cbea)\" d=\"M 392.9255 119.719219 \r\nL 419.7095 119.719219 \r\nL 419.7095 141.463219 \r\nL 392.9255 141.463219 \r\nL 392.9255 119.719219 \r\n\" style=\"fill:#631f53;\"/>\r\n    <path clip-path=\"url(#p4a77e2cbea)\" d=\"M 419.7095 119.719219 \r\nL 446.4935 119.719219 \r\nL 446.4935 141.463219 \r\nL 419.7095 141.463219 \r\nL 419.7095 119.719219 \r\n\" style=\"fill:#8c1d5b;\"/>\r\n    <path clip-path=\"url(#p4a77e2cbea)\" d=\"M 446.4935 119.719219 \r\nL 473.2775 119.719219 \r\nL 473.2775 141.463219 \r\nL 446.4935 141.463219 \r\nL 446.4935 119.719219 \r\n\" style=\"fill:#681f55;\"/>\r\n    <path clip-path=\"url(#p4a77e2cbea)\" d=\"M 205.4375 141.463219 \r\nL 232.2215 141.463219 \r\nL 232.2215 163.207219 \r\nL 205.4375 163.207219 \r\nL 205.4375 141.463219 \r\n\" style=\"fill:#2e1739;\"/>\r\n    <path clip-path=\"url(#p4a77e2cbea)\" d=\"M 232.2215 141.463219 \r\nL 259.0055 141.463219 \r\nL 259.0055 163.207219 \r\nL 232.2215 163.207219 \r\nL 232.2215 141.463219 \r\n\" style=\"fill:#631f53;\"/>\r\n    <path clip-path=\"url(#p4a77e2cbea)\" d=\"M 259.0055 141.463219 \r\nL 285.7895 141.463219 \r\nL 285.7895 163.207219 \r\nL 259.0055 163.207219 \r\nL 259.0055 141.463219 \r\n\" style=\"fill:#3a1a41;\"/>\r\n    <path clip-path=\"url(#p4a77e2cbea)\" d=\"M 285.7895 141.463219 \r\nL 312.5735 141.463219 \r\nL 312.5735 163.207219 \r\nL 285.7895 163.207219 \r\nL 285.7895 141.463219 \r\n\" style=\"fill:#821e5a;\"/>\r\n    <path clip-path=\"url(#p4a77e2cbea)\" d=\"M 312.5735 141.463219 \r\nL 339.3575 141.463219 \r\nL 339.3575 163.207219 \r\nL 312.5735 163.207219 \r\nL 312.5735 141.463219 \r\n\" style=\"fill:#491d49;\"/>\r\n    <path clip-path=\"url(#p4a77e2cbea)\" d=\"M 339.3575 141.463219 \r\nL 366.1415 141.463219 \r\nL 366.1415 163.207219 \r\nL 339.3575 163.207219 \r\nL 339.3575 141.463219 \r\n\" style=\"fill:#841e5a;\"/>\r\n    <path clip-path=\"url(#p4a77e2cbea)\" d=\"M 366.1415 141.463219 \r\nL 392.9255 141.463219 \r\nL 392.9255 163.207219 \r\nL 366.1415 163.207219 \r\nL 366.1415 141.463219 \r\n\" style=\"fill:#faebdd;\"/>\r\n    <path clip-path=\"url(#p4a77e2cbea)\" d=\"M 392.9255 141.463219 \r\nL 419.7095 141.463219 \r\nL 419.7095 163.207219 \r\nL 392.9255 163.207219 \r\nL 392.9255 141.463219 \r\n\" style=\"fill:#501d4c;\"/>\r\n    <path clip-path=\"url(#p4a77e2cbea)\" d=\"M 419.7095 141.463219 \r\nL 446.4935 141.463219 \r\nL 446.4935 163.207219 \r\nL 419.7095 163.207219 \r\nL 419.7095 141.463219 \r\n\" style=\"fill:#03051a;\"/>\r\n    <path clip-path=\"url(#p4a77e2cbea)\" d=\"M 446.4935 141.463219 \r\nL 473.2775 141.463219 \r\nL 473.2775 163.207219 \r\nL 446.4935 163.207219 \r\nL 446.4935 141.463219 \r\n\" style=\"fill:#ab185a;\"/>\r\n    <path clip-path=\"url(#p4a77e2cbea)\" d=\"M 205.4375 163.207219 \r\nL 232.2215 163.207219 \r\nL 232.2215 184.951219 \r\nL 205.4375 184.951219 \r\nL 205.4375 163.207219 \r\n\" style=\"fill:#461c48;\"/>\r\n    <path clip-path=\"url(#p4a77e2cbea)\" d=\"M 232.2215 163.207219 \r\nL 259.0055 163.207219 \r\nL 259.0055 184.951219 \r\nL 232.2215 184.951219 \r\nL 232.2215 163.207219 \r\n\" style=\"fill:#3a1a41;\"/>\r\n    <path clip-path=\"url(#p4a77e2cbea)\" d=\"M 259.0055 163.207219 \r\nL 285.7895 163.207219 \r\nL 285.7895 184.951219 \r\nL 259.0055 184.951219 \r\nL 259.0055 163.207219 \r\n\" style=\"fill:#281535;\"/>\r\n    <path clip-path=\"url(#p4a77e2cbea)\" d=\"M 285.7895 163.207219 \r\nL 312.5735 163.207219 \r\nL 312.5735 184.951219 \r\nL 285.7895 184.951219 \r\nL 285.7895 163.207219 \r\n\" style=\"fill:#20122e;\"/>\r\n    <path clip-path=\"url(#p4a77e2cbea)\" d=\"M 312.5735 163.207219 \r\nL 339.3575 163.207219 \r\nL 339.3575 184.951219 \r\nL 312.5735 184.951219 \r\nL 312.5735 163.207219 \r\n\" style=\"fill:#170f28;\"/>\r\n    <path clip-path=\"url(#p4a77e2cbea)\" d=\"M 339.3575 163.207219 \r\nL 366.1415 163.207219 \r\nL 366.1415 184.951219 \r\nL 339.3575 184.951219 \r\nL 339.3575 163.207219 \r\n\" style=\"fill:#631f53;\"/>\r\n    <path clip-path=\"url(#p4a77e2cbea)\" d=\"M 366.1415 163.207219 \r\nL 392.9255 163.207219 \r\nL 392.9255 184.951219 \r\nL 366.1415 184.951219 \r\nL 366.1415 163.207219 \r\n\" style=\"fill:#501d4c;\"/>\r\n    <path clip-path=\"url(#p4a77e2cbea)\" d=\"M 392.9255 163.207219 \r\nL 419.7095 163.207219 \r\nL 419.7095 184.951219 \r\nL 392.9255 184.951219 \r\nL 392.9255 163.207219 \r\n\" style=\"fill:#faebdd;\"/>\r\n    <path clip-path=\"url(#p4a77e2cbea)\" d=\"M 419.7095 163.207219 \r\nL 446.4935 163.207219 \r\nL 446.4935 184.951219 \r\nL 419.7095 184.951219 \r\nL 419.7095 163.207219 \r\n\" style=\"fill:#3a1a41;\"/>\r\n    <path clip-path=\"url(#p4a77e2cbea)\" d=\"M 446.4935 163.207219 \r\nL 473.2775 163.207219 \r\nL 473.2775 184.951219 \r\nL 446.4935 184.951219 \r\nL 446.4935 163.207219 \r\n\" style=\"fill:#601f52;\"/>\r\n    <path clip-path=\"url(#p4a77e2cbea)\" d=\"M 205.4375 184.951219 \r\nL 232.2215 184.951219 \r\nL 232.2215 206.695219 \r\nL 205.4375 206.695219 \r\nL 205.4375 184.951219 \r\n\" style=\"fill:#451c47;\"/>\r\n    <path clip-path=\"url(#p4a77e2cbea)\" d=\"M 232.2215 184.951219 \r\nL 259.0055 184.951219 \r\nL 259.0055 206.695219 \r\nL 232.2215 206.695219 \r\nL 232.2215 184.951219 \r\n\" style=\"fill:#421b45;\"/>\r\n    <path clip-path=\"url(#p4a77e2cbea)\" d=\"M 259.0055 184.951219 \r\nL 285.7895 184.951219 \r\nL 285.7895 206.695219 \r\nL 259.0055 206.695219 \r\nL 259.0055 184.951219 \r\n\" style=\"fill:#4c1d4b;\"/>\r\n    <path clip-path=\"url(#p4a77e2cbea)\" d=\"M 285.7895 184.951219 \r\nL 312.5735 184.951219 \r\nL 312.5735 206.695219 \r\nL 285.7895 206.695219 \r\nL 285.7895 184.951219 \r\n\" style=\"fill:#8e1d5b;\"/>\r\n    <path clip-path=\"url(#p4a77e2cbea)\" d=\"M 312.5735 184.951219 \r\nL 339.3575 184.951219 \r\nL 339.3575 206.695219 \r\nL 312.5735 206.695219 \r\nL 312.5735 184.951219 \r\n\" style=\"fill:#241432;\"/>\r\n    <path clip-path=\"url(#p4a77e2cbea)\" d=\"M 339.3575 184.951219 \r\nL 366.1415 184.951219 \r\nL 366.1415 206.695219 \r\nL 339.3575 206.695219 \r\nL 339.3575 184.951219 \r\n\" style=\"fill:#8c1d5b;\"/>\r\n    <path clip-path=\"url(#p4a77e2cbea)\" d=\"M 366.1415 184.951219 \r\nL 392.9255 184.951219 \r\nL 392.9255 206.695219 \r\nL 366.1415 206.695219 \r\nL 366.1415 184.951219 \r\n\" style=\"fill:#03051a;\"/>\r\n    <path clip-path=\"url(#p4a77e2cbea)\" d=\"M 392.9255 184.951219 \r\nL 419.7095 184.951219 \r\nL 419.7095 206.695219 \r\nL 392.9255 206.695219 \r\nL 392.9255 184.951219 \r\n\" style=\"fill:#3a1a41;\"/>\r\n    <path clip-path=\"url(#p4a77e2cbea)\" d=\"M 419.7095 184.951219 \r\nL 446.4935 184.951219 \r\nL 446.4935 206.695219 \r\nL 419.7095 206.695219 \r\nL 419.7095 184.951219 \r\n\" style=\"fill:#faebdd;\"/>\r\n    <path clip-path=\"url(#p4a77e2cbea)\" d=\"M 446.4935 184.951219 \r\nL 473.2775 184.951219 \r\nL 473.2775 206.695219 \r\nL 446.4935 206.695219 \r\nL 446.4935 184.951219 \r\n\" style=\"fill:#751f58;\"/>\r\n    <path clip-path=\"url(#p4a77e2cbea)\" d=\"M 205.4375 206.695219 \r\nL 232.2215 206.695219 \r\nL 232.2215 228.439219 \r\nL 205.4375 228.439219 \r\nL 205.4375 206.695219 \r\n\" style=\"fill:#3f1b43;\"/>\r\n    <path clip-path=\"url(#p4a77e2cbea)\" d=\"M 232.2215 206.695219 \r\nL 259.0055 206.695219 \r\nL 259.0055 228.439219 \r\nL 232.2215 228.439219 \r\nL 232.2215 206.695219 \r\n\" style=\"fill:#6d1f56;\"/>\r\n    <path clip-path=\"url(#p4a77e2cbea)\" d=\"M 259.0055 206.695219 \r\nL 285.7895 206.695219 \r\nL 285.7895 228.439219 \r\nL 259.0055 228.439219 \r\nL 259.0055 206.695219 \r\n\" style=\"fill:#33183c;\"/>\r\n    <path clip-path=\"url(#p4a77e2cbea)\" d=\"M 285.7895 206.695219 \r\nL 312.5735 206.695219 \r\nL 312.5735 228.439219 \r\nL 285.7895 228.439219 \r\nL 285.7895 206.695219 \r\n\" style=\"fill:#4c1d4b;\"/>\r\n    <path clip-path=\"url(#p4a77e2cbea)\" d=\"M 312.5735 206.695219 \r\nL 339.3575 206.695219 \r\nL 339.3575 228.439219 \r\nL 312.5735 228.439219 \r\nL 312.5735 206.695219 \r\n\" style=\"fill:#701f57;\"/>\r\n    <path clip-path=\"url(#p4a77e2cbea)\" d=\"M 339.3575 206.695219 \r\nL 366.1415 206.695219 \r\nL 366.1415 228.439219 \r\nL 339.3575 228.439219 \r\nL 339.3575 206.695219 \r\n\" style=\"fill:#681f55;\"/>\r\n    <path clip-path=\"url(#p4a77e2cbea)\" d=\"M 366.1415 206.695219 \r\nL 392.9255 206.695219 \r\nL 392.9255 228.439219 \r\nL 366.1415 228.439219 \r\nL 366.1415 206.695219 \r\n\" style=\"fill:#ab185a;\"/>\r\n    <path clip-path=\"url(#p4a77e2cbea)\" d=\"M 392.9255 206.695219 \r\nL 419.7095 206.695219 \r\nL 419.7095 228.439219 \r\nL 392.9255 228.439219 \r\nL 392.9255 206.695219 \r\n\" style=\"fill:#601f52;\"/>\r\n    <path clip-path=\"url(#p4a77e2cbea)\" d=\"M 419.7095 206.695219 \r\nL 446.4935 206.695219 \r\nL 446.4935 228.439219 \r\nL 419.7095 228.439219 \r\nL 419.7095 206.695219 \r\n\" style=\"fill:#751f58;\"/>\r\n    <path clip-path=\"url(#p4a77e2cbea)\" d=\"M 446.4935 206.695219 \r\nL 473.2775 206.695219 \r\nL 473.2775 228.439219 \r\nL 446.4935 228.439219 \r\nL 446.4935 206.695219 \r\n\" style=\"fill:#faebdd;\"/>\r\n   </g>\r\n   <g id=\"matplotlib.axis_1\">\r\n    <g id=\"xtick_1\">\r\n     <g id=\"line2d_1\">\r\n      <defs>\r\n       <path d=\"M 0 0 \r\nL 0 3.5 \r\n\" id=\"md322b37b4a\" style=\"stroke:#000000;stroke-width:0.8;\"/>\r\n      </defs>\r\n      <g>\r\n       <use style=\"stroke:#000000;stroke-width:0.8;\" x=\"218.8295\" xlink:href=\"#md322b37b4a\" y=\"228.439219\"/>\r\n      </g>\r\n     </g>\r\n     <g id=\"text_1\">\r\n      <!-- Floor Size -->\r\n      <g transform=\"translate(221.588875 284.023594)rotate(-90)scale(0.1 -0.1)\">\r\n       <defs>\r\n        <path d=\"M 9.8125 72.90625 \r\nL 51.703125 72.90625 \r\nL 51.703125 64.59375 \r\nL 19.671875 64.59375 \r\nL 19.671875 43.109375 \r\nL 48.578125 43.109375 \r\nL 48.578125 34.8125 \r\nL 19.671875 34.8125 \r\nL 19.671875 0 \r\nL 9.8125 0 \r\nz\r\n\" id=\"DejaVuSans-70\"/>\r\n        <path d=\"M 9.421875 75.984375 \r\nL 18.40625 75.984375 \r\nL 18.40625 0 \r\nL 9.421875 0 \r\nz\r\n\" id=\"DejaVuSans-108\"/>\r\n        <path d=\"M 30.609375 48.390625 \r\nQ 23.390625 48.390625 19.1875 42.75 \r\nQ 14.984375 37.109375 14.984375 27.296875 \r\nQ 14.984375 17.484375 19.15625 11.84375 \r\nQ 23.34375 6.203125 30.609375 6.203125 \r\nQ 37.796875 6.203125 41.984375 11.859375 \r\nQ 46.1875 17.53125 46.1875 27.296875 \r\nQ 46.1875 37.015625 41.984375 42.703125 \r\nQ 37.796875 48.390625 30.609375 48.390625 \r\nz\r\nM 30.609375 56 \r\nQ 42.328125 56 49.015625 48.375 \r\nQ 55.71875 40.765625 55.71875 27.296875 \r\nQ 55.71875 13.875 49.015625 6.21875 \r\nQ 42.328125 -1.421875 30.609375 -1.421875 \r\nQ 18.84375 -1.421875 12.171875 6.21875 \r\nQ 5.515625 13.875 5.515625 27.296875 \r\nQ 5.515625 40.765625 12.171875 48.375 \r\nQ 18.84375 56 30.609375 56 \r\nz\r\n\" id=\"DejaVuSans-111\"/>\r\n        <path d=\"M 41.109375 46.296875 \r\nQ 39.59375 47.171875 37.8125 47.578125 \r\nQ 36.03125 48 33.890625 48 \r\nQ 26.265625 48 22.1875 43.046875 \r\nQ 18.109375 38.09375 18.109375 28.8125 \r\nL 18.109375 0 \r\nL 9.078125 0 \r\nL 9.078125 54.6875 \r\nL 18.109375 54.6875 \r\nL 18.109375 46.1875 \r\nQ 20.953125 51.171875 25.484375 53.578125 \r\nQ 30.03125 56 36.53125 56 \r\nQ 37.453125 56 38.578125 55.875 \r\nQ 39.703125 55.765625 41.0625 55.515625 \r\nz\r\n\" id=\"DejaVuSans-114\"/>\r\n        <path id=\"DejaVuSans-32\"/>\r\n        <path d=\"M 53.515625 70.515625 \r\nL 53.515625 60.890625 \r\nQ 47.90625 63.578125 42.921875 64.890625 \r\nQ 37.9375 66.21875 33.296875 66.21875 \r\nQ 25.25 66.21875 20.875 63.09375 \r\nQ 16.5 59.96875 16.5 54.203125 \r\nQ 16.5 49.359375 19.40625 46.890625 \r\nQ 22.3125 44.4375 30.421875 42.921875 \r\nL 36.375 41.703125 \r\nQ 47.40625 39.59375 52.65625 34.296875 \r\nQ 57.90625 29 57.90625 20.125 \r\nQ 57.90625 9.515625 50.796875 4.046875 \r\nQ 43.703125 -1.421875 29.984375 -1.421875 \r\nQ 24.8125 -1.421875 18.96875 -0.25 \r\nQ 13.140625 0.921875 6.890625 3.21875 \r\nL 6.890625 13.375 \r\nQ 12.890625 10.015625 18.65625 8.296875 \r\nQ 24.421875 6.59375 29.984375 6.59375 \r\nQ 38.421875 6.59375 43.015625 9.90625 \r\nQ 47.609375 13.234375 47.609375 19.390625 \r\nQ 47.609375 24.75 44.3125 27.78125 \r\nQ 41.015625 30.8125 33.5 32.328125 \r\nL 27.484375 33.5 \r\nQ 16.453125 35.6875 11.515625 40.375 \r\nQ 6.59375 45.0625 6.59375 53.421875 \r\nQ 6.59375 63.09375 13.40625 68.65625 \r\nQ 20.21875 74.21875 32.171875 74.21875 \r\nQ 37.3125 74.21875 42.625 73.28125 \r\nQ 47.953125 72.359375 53.515625 70.515625 \r\nz\r\n\" id=\"DejaVuSans-83\"/>\r\n        <path d=\"M 9.421875 54.6875 \r\nL 18.40625 54.6875 \r\nL 18.40625 0 \r\nL 9.421875 0 \r\nz\r\nM 9.421875 75.984375 \r\nL 18.40625 75.984375 \r\nL 18.40625 64.59375 \r\nL 9.421875 64.59375 \r\nz\r\n\" id=\"DejaVuSans-105\"/>\r\n        <path d=\"M 5.515625 54.6875 \r\nL 48.1875 54.6875 \r\nL 48.1875 46.484375 \r\nL 14.40625 7.171875 \r\nL 48.1875 7.171875 \r\nL 48.1875 0 \r\nL 4.296875 0 \r\nL 4.296875 8.203125 \r\nL 38.09375 47.515625 \r\nL 5.515625 47.515625 \r\nz\r\n\" id=\"DejaVuSans-122\"/>\r\n        <path d=\"M 56.203125 29.59375 \r\nL 56.203125 25.203125 \r\nL 14.890625 25.203125 \r\nQ 15.484375 15.921875 20.484375 11.0625 \r\nQ 25.484375 6.203125 34.421875 6.203125 \r\nQ 39.59375 6.203125 44.453125 7.46875 \r\nQ 49.3125 8.734375 54.109375 11.28125 \r\nL 54.109375 2.78125 \r\nQ 49.265625 0.734375 44.1875 -0.34375 \r\nQ 39.109375 -1.421875 33.890625 -1.421875 \r\nQ 20.796875 -1.421875 13.15625 6.1875 \r\nQ 5.515625 13.8125 5.515625 26.8125 \r\nQ 5.515625 40.234375 12.765625 48.109375 \r\nQ 20.015625 56 32.328125 56 \r\nQ 43.359375 56 49.78125 48.890625 \r\nQ 56.203125 41.796875 56.203125 29.59375 \r\nz\r\nM 47.21875 32.234375 \r\nQ 47.125 39.59375 43.09375 43.984375 \r\nQ 39.0625 48.390625 32.421875 48.390625 \r\nQ 24.90625 48.390625 20.390625 44.140625 \r\nQ 15.875 39.890625 15.1875 32.171875 \r\nz\r\n\" id=\"DejaVuSans-101\"/>\r\n       </defs>\r\n       <use xlink:href=\"#DejaVuSans-70\"/>\r\n       <use x=\"57.519531\" xlink:href=\"#DejaVuSans-108\"/>\r\n       <use x=\"85.302734\" xlink:href=\"#DejaVuSans-111\"/>\r\n       <use x=\"146.484375\" xlink:href=\"#DejaVuSans-111\"/>\r\n       <use x=\"207.666016\" xlink:href=\"#DejaVuSans-114\"/>\r\n       <use x=\"248.779297\" xlink:href=\"#DejaVuSans-32\"/>\r\n       <use x=\"280.566406\" xlink:href=\"#DejaVuSans-83\"/>\r\n       <use x=\"344.042969\" xlink:href=\"#DejaVuSans-105\"/>\r\n       <use x=\"371.826172\" xlink:href=\"#DejaVuSans-122\"/>\r\n       <use x=\"424.316406\" xlink:href=\"#DejaVuSans-101\"/>\r\n      </g>\r\n     </g>\r\n    </g>\r\n    <g id=\"xtick_2\">\r\n     <g id=\"line2d_2\">\r\n      <g>\r\n       <use style=\"stroke:#000000;stroke-width:0.8;\" x=\"245.6135\" xlink:href=\"#md322b37b4a\" y=\"228.439219\"/>\r\n      </g>\r\n     </g>\r\n     <g id=\"text_2\">\r\n      <!-- Days per week of sanitation services -->\r\n      <g transform=\"translate(248.372875 419.500156)rotate(-90)scale(0.1 -0.1)\">\r\n       <defs>\r\n        <path d=\"M 19.671875 64.796875 \r\nL 19.671875 8.109375 \r\nL 31.59375 8.109375 \r\nQ 46.6875 8.109375 53.6875 14.9375 \r\nQ 60.6875 21.78125 60.6875 36.53125 \r\nQ 60.6875 51.171875 53.6875 57.984375 \r\nQ 46.6875 64.796875 31.59375 64.796875 \r\nz\r\nM 9.8125 72.90625 \r\nL 30.078125 72.90625 \r\nQ 51.265625 72.90625 61.171875 64.09375 \r\nQ 71.09375 55.28125 71.09375 36.53125 \r\nQ 71.09375 17.671875 61.125 8.828125 \r\nQ 51.171875 0 30.078125 0 \r\nL 9.8125 0 \r\nz\r\n\" id=\"DejaVuSans-68\"/>\r\n        <path d=\"M 34.28125 27.484375 \r\nQ 23.390625 27.484375 19.1875 25 \r\nQ 14.984375 22.515625 14.984375 16.5 \r\nQ 14.984375 11.71875 18.140625 8.90625 \r\nQ 21.296875 6.109375 26.703125 6.109375 \r\nQ 34.1875 6.109375 38.703125 11.40625 \r\nQ 43.21875 16.703125 43.21875 25.484375 \r\nL 43.21875 27.484375 \r\nz\r\nM 52.203125 31.203125 \r\nL 52.203125 0 \r\nL 43.21875 0 \r\nL 43.21875 8.296875 \r\nQ 40.140625 3.328125 35.546875 0.953125 \r\nQ 30.953125 -1.421875 24.3125 -1.421875 \r\nQ 15.921875 -1.421875 10.953125 3.296875 \r\nQ 6 8.015625 6 15.921875 \r\nQ 6 25.140625 12.171875 29.828125 \r\nQ 18.359375 34.515625 30.609375 34.515625 \r\nL 43.21875 34.515625 \r\nL 43.21875 35.40625 \r\nQ 43.21875 41.609375 39.140625 45 \r\nQ 35.0625 48.390625 27.6875 48.390625 \r\nQ 23 48.390625 18.546875 47.265625 \r\nQ 14.109375 46.140625 10.015625 43.890625 \r\nL 10.015625 52.203125 \r\nQ 14.9375 54.109375 19.578125 55.046875 \r\nQ 24.21875 56 28.609375 56 \r\nQ 40.484375 56 46.34375 49.84375 \r\nQ 52.203125 43.703125 52.203125 31.203125 \r\nz\r\n\" id=\"DejaVuSans-97\"/>\r\n        <path d=\"M 32.171875 -5.078125 \r\nQ 28.375 -14.84375 24.75 -17.8125 \r\nQ 21.140625 -20.796875 15.09375 -20.796875 \r\nL 7.90625 -20.796875 \r\nL 7.90625 -13.28125 \r\nL 13.1875 -13.28125 \r\nQ 16.890625 -13.28125 18.9375 -11.515625 \r\nQ 21 -9.765625 23.484375 -3.21875 \r\nL 25.09375 0.875 \r\nL 2.984375 54.6875 \r\nL 12.5 54.6875 \r\nL 29.59375 11.921875 \r\nL 46.6875 54.6875 \r\nL 56.203125 54.6875 \r\nz\r\n\" id=\"DejaVuSans-121\"/>\r\n        <path d=\"M 44.28125 53.078125 \r\nL 44.28125 44.578125 \r\nQ 40.484375 46.53125 36.375 47.5 \r\nQ 32.28125 48.484375 27.875 48.484375 \r\nQ 21.1875 48.484375 17.84375 46.4375 \r\nQ 14.5 44.390625 14.5 40.28125 \r\nQ 14.5 37.15625 16.890625 35.375 \r\nQ 19.28125 33.59375 26.515625 31.984375 \r\nL 29.59375 31.296875 \r\nQ 39.15625 29.25 43.1875 25.515625 \r\nQ 47.21875 21.78125 47.21875 15.09375 \r\nQ 47.21875 7.46875 41.1875 3.015625 \r\nQ 35.15625 -1.421875 24.609375 -1.421875 \r\nQ 20.21875 -1.421875 15.453125 -0.5625 \r\nQ 10.6875 0.296875 5.421875 2 \r\nL 5.421875 11.28125 \r\nQ 10.40625 8.6875 15.234375 7.390625 \r\nQ 20.0625 6.109375 24.8125 6.109375 \r\nQ 31.15625 6.109375 34.5625 8.28125 \r\nQ 37.984375 10.453125 37.984375 14.40625 \r\nQ 37.984375 18.0625 35.515625 20.015625 \r\nQ 33.0625 21.96875 24.703125 23.78125 \r\nL 21.578125 24.515625 \r\nQ 13.234375 26.265625 9.515625 29.90625 \r\nQ 5.8125 33.546875 5.8125 39.890625 \r\nQ 5.8125 47.609375 11.28125 51.796875 \r\nQ 16.75 56 26.8125 56 \r\nQ 31.78125 56 36.171875 55.265625 \r\nQ 40.578125 54.546875 44.28125 53.078125 \r\nz\r\n\" id=\"DejaVuSans-115\"/>\r\n        <path d=\"M 18.109375 8.203125 \r\nL 18.109375 -20.796875 \r\nL 9.078125 -20.796875 \r\nL 9.078125 54.6875 \r\nL 18.109375 54.6875 \r\nL 18.109375 46.390625 \r\nQ 20.953125 51.265625 25.265625 53.625 \r\nQ 29.59375 56 35.59375 56 \r\nQ 45.5625 56 51.78125 48.09375 \r\nQ 58.015625 40.1875 58.015625 27.296875 \r\nQ 58.015625 14.40625 51.78125 6.484375 \r\nQ 45.5625 -1.421875 35.59375 -1.421875 \r\nQ 29.59375 -1.421875 25.265625 0.953125 \r\nQ 20.953125 3.328125 18.109375 8.203125 \r\nz\r\nM 48.6875 27.296875 \r\nQ 48.6875 37.203125 44.609375 42.84375 \r\nQ 40.53125 48.484375 33.40625 48.484375 \r\nQ 26.265625 48.484375 22.1875 42.84375 \r\nQ 18.109375 37.203125 18.109375 27.296875 \r\nQ 18.109375 17.390625 22.1875 11.75 \r\nQ 26.265625 6.109375 33.40625 6.109375 \r\nQ 40.53125 6.109375 44.609375 11.75 \r\nQ 48.6875 17.390625 48.6875 27.296875 \r\nz\r\n\" id=\"DejaVuSans-112\"/>\r\n        <path d=\"M 4.203125 54.6875 \r\nL 13.1875 54.6875 \r\nL 24.421875 12.015625 \r\nL 35.59375 54.6875 \r\nL 46.1875 54.6875 \r\nL 57.421875 12.015625 \r\nL 68.609375 54.6875 \r\nL 77.59375 54.6875 \r\nL 63.28125 0 \r\nL 52.6875 0 \r\nL 40.921875 44.828125 \r\nL 29.109375 0 \r\nL 18.5 0 \r\nz\r\n\" id=\"DejaVuSans-119\"/>\r\n        <path d=\"M 9.078125 75.984375 \r\nL 18.109375 75.984375 \r\nL 18.109375 31.109375 \r\nL 44.921875 54.6875 \r\nL 56.390625 54.6875 \r\nL 27.390625 29.109375 \r\nL 57.625 0 \r\nL 45.90625 0 \r\nL 18.109375 26.703125 \r\nL 18.109375 0 \r\nL 9.078125 0 \r\nz\r\n\" id=\"DejaVuSans-107\"/>\r\n        <path d=\"M 37.109375 75.984375 \r\nL 37.109375 68.5 \r\nL 28.515625 68.5 \r\nQ 23.6875 68.5 21.796875 66.546875 \r\nQ 19.921875 64.59375 19.921875 59.515625 \r\nL 19.921875 54.6875 \r\nL 34.71875 54.6875 \r\nL 34.71875 47.703125 \r\nL 19.921875 47.703125 \r\nL 19.921875 0 \r\nL 10.890625 0 \r\nL 10.890625 47.703125 \r\nL 2.296875 47.703125 \r\nL 2.296875 54.6875 \r\nL 10.890625 54.6875 \r\nL 10.890625 58.5 \r\nQ 10.890625 67.625 15.140625 71.796875 \r\nQ 19.390625 75.984375 28.609375 75.984375 \r\nz\r\n\" id=\"DejaVuSans-102\"/>\r\n        <path d=\"M 54.890625 33.015625 \r\nL 54.890625 0 \r\nL 45.90625 0 \r\nL 45.90625 32.71875 \r\nQ 45.90625 40.484375 42.875 44.328125 \r\nQ 39.84375 48.1875 33.796875 48.1875 \r\nQ 26.515625 48.1875 22.3125 43.546875 \r\nQ 18.109375 38.921875 18.109375 30.90625 \r\nL 18.109375 0 \r\nL 9.078125 0 \r\nL 9.078125 54.6875 \r\nL 18.109375 54.6875 \r\nL 18.109375 46.1875 \r\nQ 21.34375 51.125 25.703125 53.5625 \r\nQ 30.078125 56 35.796875 56 \r\nQ 45.21875 56 50.046875 50.171875 \r\nQ 54.890625 44.34375 54.890625 33.015625 \r\nz\r\n\" id=\"DejaVuSans-110\"/>\r\n        <path d=\"M 18.3125 70.21875 \r\nL 18.3125 54.6875 \r\nL 36.8125 54.6875 \r\nL 36.8125 47.703125 \r\nL 18.3125 47.703125 \r\nL 18.3125 18.015625 \r\nQ 18.3125 11.328125 20.140625 9.421875 \r\nQ 21.96875 7.515625 27.59375 7.515625 \r\nL 36.8125 7.515625 \r\nL 36.8125 0 \r\nL 27.59375 0 \r\nQ 17.1875 0 13.234375 3.875 \r\nQ 9.28125 7.765625 9.28125 18.015625 \r\nL 9.28125 47.703125 \r\nL 2.6875 47.703125 \r\nL 2.6875 54.6875 \r\nL 9.28125 54.6875 \r\nL 9.28125 70.21875 \r\nz\r\n\" id=\"DejaVuSans-116\"/>\r\n        <path d=\"M 2.984375 54.6875 \r\nL 12.5 54.6875 \r\nL 29.59375 8.796875 \r\nL 46.6875 54.6875 \r\nL 56.203125 54.6875 \r\nL 35.6875 0 \r\nL 23.484375 0 \r\nz\r\n\" id=\"DejaVuSans-118\"/>\r\n        <path d=\"M 48.78125 52.59375 \r\nL 48.78125 44.1875 \r\nQ 44.96875 46.296875 41.140625 47.34375 \r\nQ 37.3125 48.390625 33.40625 48.390625 \r\nQ 24.65625 48.390625 19.8125 42.84375 \r\nQ 14.984375 37.3125 14.984375 27.296875 \r\nQ 14.984375 17.28125 19.8125 11.734375 \r\nQ 24.65625 6.203125 33.40625 6.203125 \r\nQ 37.3125 6.203125 41.140625 7.25 \r\nQ 44.96875 8.296875 48.78125 10.40625 \r\nL 48.78125 2.09375 \r\nQ 45.015625 0.34375 40.984375 -0.53125 \r\nQ 36.96875 -1.421875 32.421875 -1.421875 \r\nQ 20.0625 -1.421875 12.78125 6.34375 \r\nQ 5.515625 14.109375 5.515625 27.296875 \r\nQ 5.515625 40.671875 12.859375 48.328125 \r\nQ 20.21875 56 33.015625 56 \r\nQ 37.15625 56 41.109375 55.140625 \r\nQ 45.0625 54.296875 48.78125 52.59375 \r\nz\r\n\" id=\"DejaVuSans-99\"/>\r\n       </defs>\r\n       <use xlink:href=\"#DejaVuSans-68\"/>\r\n       <use x=\"77.001953\" xlink:href=\"#DejaVuSans-97\"/>\r\n       <use x=\"138.28125\" xlink:href=\"#DejaVuSans-121\"/>\r\n       <use x=\"197.460938\" xlink:href=\"#DejaVuSans-115\"/>\r\n       <use x=\"249.560547\" xlink:href=\"#DejaVuSans-32\"/>\r\n       <use x=\"281.347656\" xlink:href=\"#DejaVuSans-112\"/>\r\n       <use x=\"344.824219\" xlink:href=\"#DejaVuSans-101\"/>\r\n       <use x=\"406.347656\" xlink:href=\"#DejaVuSans-114\"/>\r\n       <use x=\"447.460938\" xlink:href=\"#DejaVuSans-32\"/>\r\n       <use x=\"479.248047\" xlink:href=\"#DejaVuSans-119\"/>\r\n       <use x=\"561.035156\" xlink:href=\"#DejaVuSans-101\"/>\r\n       <use x=\"622.558594\" xlink:href=\"#DejaVuSans-101\"/>\r\n       <use x=\"684.082031\" xlink:href=\"#DejaVuSans-107\"/>\r\n       <use x=\"741.992188\" xlink:href=\"#DejaVuSans-32\"/>\r\n       <use x=\"773.779297\" xlink:href=\"#DejaVuSans-111\"/>\r\n       <use x=\"834.960938\" xlink:href=\"#DejaVuSans-102\"/>\r\n       <use x=\"870.166016\" xlink:href=\"#DejaVuSans-32\"/>\r\n       <use x=\"901.953125\" xlink:href=\"#DejaVuSans-115\"/>\r\n       <use x=\"954.052734\" xlink:href=\"#DejaVuSans-97\"/>\r\n       <use x=\"1015.332031\" xlink:href=\"#DejaVuSans-110\"/>\r\n       <use x=\"1078.710938\" xlink:href=\"#DejaVuSans-105\"/>\r\n       <use x=\"1106.494141\" xlink:href=\"#DejaVuSans-116\"/>\r\n       <use x=\"1145.703125\" xlink:href=\"#DejaVuSans-97\"/>\r\n       <use x=\"1206.982422\" xlink:href=\"#DejaVuSans-116\"/>\r\n       <use x=\"1246.191406\" xlink:href=\"#DejaVuSans-105\"/>\r\n       <use x=\"1273.974609\" xlink:href=\"#DejaVuSans-111\"/>\r\n       <use x=\"1335.15625\" xlink:href=\"#DejaVuSans-110\"/>\r\n       <use x=\"1398.535156\" xlink:href=\"#DejaVuSans-32\"/>\r\n       <use x=\"1430.322266\" xlink:href=\"#DejaVuSans-115\"/>\r\n       <use x=\"1482.421875\" xlink:href=\"#DejaVuSans-101\"/>\r\n       <use x=\"1543.945312\" xlink:href=\"#DejaVuSans-114\"/>\r\n       <use x=\"1585.058594\" xlink:href=\"#DejaVuSans-118\"/>\r\n       <use x=\"1644.238281\" xlink:href=\"#DejaVuSans-105\"/>\r\n       <use x=\"1672.021484\" xlink:href=\"#DejaVuSans-99\"/>\r\n       <use x=\"1727.001953\" xlink:href=\"#DejaVuSans-101\"/>\r\n       <use x=\"1788.525391\" xlink:href=\"#DejaVuSans-115\"/>\r\n      </g>\r\n     </g>\r\n    </g>\r\n    <g id=\"xtick_3\">\r\n     <g id=\"line2d_3\">\r\n      <g>\r\n       <use style=\"stroke:#000000;stroke-width:0.8;\" x=\"272.3975\" xlink:href=\"#md322b37b4a\" y=\"228.439219\"/>\r\n      </g>\r\n     </g>\r\n     <g id=\"text_3\">\r\n      <!-- Hours logged by sanitation workers -->\r\n      <g transform=\"translate(275.156875 412.776719)rotate(-90)scale(0.1 -0.1)\">\r\n       <defs>\r\n        <path d=\"M 9.8125 72.90625 \r\nL 19.671875 72.90625 \r\nL 19.671875 43.015625 \r\nL 55.515625 43.015625 \r\nL 55.515625 72.90625 \r\nL 65.375 72.90625 \r\nL 65.375 0 \r\nL 55.515625 0 \r\nL 55.515625 34.71875 \r\nL 19.671875 34.71875 \r\nL 19.671875 0 \r\nL 9.8125 0 \r\nz\r\n\" id=\"DejaVuSans-72\"/>\r\n        <path d=\"M 8.5 21.578125 \r\nL 8.5 54.6875 \r\nL 17.484375 54.6875 \r\nL 17.484375 21.921875 \r\nQ 17.484375 14.15625 20.5 10.265625 \r\nQ 23.53125 6.390625 29.59375 6.390625 \r\nQ 36.859375 6.390625 41.078125 11.03125 \r\nQ 45.3125 15.671875 45.3125 23.6875 \r\nL 45.3125 54.6875 \r\nL 54.296875 54.6875 \r\nL 54.296875 0 \r\nL 45.3125 0 \r\nL 45.3125 8.40625 \r\nQ 42.046875 3.421875 37.71875 1 \r\nQ 33.40625 -1.421875 27.6875 -1.421875 \r\nQ 18.265625 -1.421875 13.375 4.4375 \r\nQ 8.5 10.296875 8.5 21.578125 \r\nz\r\nM 31.109375 56 \r\nz\r\n\" id=\"DejaVuSans-117\"/>\r\n        <path d=\"M 45.40625 27.984375 \r\nQ 45.40625 37.75 41.375 43.109375 \r\nQ 37.359375 48.484375 30.078125 48.484375 \r\nQ 22.859375 48.484375 18.828125 43.109375 \r\nQ 14.796875 37.75 14.796875 27.984375 \r\nQ 14.796875 18.265625 18.828125 12.890625 \r\nQ 22.859375 7.515625 30.078125 7.515625 \r\nQ 37.359375 7.515625 41.375 12.890625 \r\nQ 45.40625 18.265625 45.40625 27.984375 \r\nz\r\nM 54.390625 6.78125 \r\nQ 54.390625 -7.171875 48.1875 -13.984375 \r\nQ 42 -20.796875 29.203125 -20.796875 \r\nQ 24.46875 -20.796875 20.265625 -20.09375 \r\nQ 16.0625 -19.390625 12.109375 -17.921875 \r\nL 12.109375 -9.1875 \r\nQ 16.0625 -11.328125 19.921875 -12.34375 \r\nQ 23.78125 -13.375 27.78125 -13.375 \r\nQ 36.625 -13.375 41.015625 -8.765625 \r\nQ 45.40625 -4.15625 45.40625 5.171875 \r\nL 45.40625 9.625 \r\nQ 42.625 4.78125 38.28125 2.390625 \r\nQ 33.9375 0 27.875 0 \r\nQ 17.828125 0 11.671875 7.65625 \r\nQ 5.515625 15.328125 5.515625 27.984375 \r\nQ 5.515625 40.671875 11.671875 48.328125 \r\nQ 17.828125 56 27.875 56 \r\nQ 33.9375 56 38.28125 53.609375 \r\nQ 42.625 51.21875 45.40625 46.390625 \r\nL 45.40625 54.6875 \r\nL 54.390625 54.6875 \r\nz\r\n\" id=\"DejaVuSans-103\"/>\r\n        <path d=\"M 45.40625 46.390625 \r\nL 45.40625 75.984375 \r\nL 54.390625 75.984375 \r\nL 54.390625 0 \r\nL 45.40625 0 \r\nL 45.40625 8.203125 \r\nQ 42.578125 3.328125 38.25 0.953125 \r\nQ 33.9375 -1.421875 27.875 -1.421875 \r\nQ 17.96875 -1.421875 11.734375 6.484375 \r\nQ 5.515625 14.40625 5.515625 27.296875 \r\nQ 5.515625 40.1875 11.734375 48.09375 \r\nQ 17.96875 56 27.875 56 \r\nQ 33.9375 56 38.25 53.625 \r\nQ 42.578125 51.265625 45.40625 46.390625 \r\nz\r\nM 14.796875 27.296875 \r\nQ 14.796875 17.390625 18.875 11.75 \r\nQ 22.953125 6.109375 30.078125 6.109375 \r\nQ 37.203125 6.109375 41.296875 11.75 \r\nQ 45.40625 17.390625 45.40625 27.296875 \r\nQ 45.40625 37.203125 41.296875 42.84375 \r\nQ 37.203125 48.484375 30.078125 48.484375 \r\nQ 22.953125 48.484375 18.875 42.84375 \r\nQ 14.796875 37.203125 14.796875 27.296875 \r\nz\r\n\" id=\"DejaVuSans-100\"/>\r\n        <path d=\"M 48.6875 27.296875 \r\nQ 48.6875 37.203125 44.609375 42.84375 \r\nQ 40.53125 48.484375 33.40625 48.484375 \r\nQ 26.265625 48.484375 22.1875 42.84375 \r\nQ 18.109375 37.203125 18.109375 27.296875 \r\nQ 18.109375 17.390625 22.1875 11.75 \r\nQ 26.265625 6.109375 33.40625 6.109375 \r\nQ 40.53125 6.109375 44.609375 11.75 \r\nQ 48.6875 17.390625 48.6875 27.296875 \r\nz\r\nM 18.109375 46.390625 \r\nQ 20.953125 51.265625 25.265625 53.625 \r\nQ 29.59375 56 35.59375 56 \r\nQ 45.5625 56 51.78125 48.09375 \r\nQ 58.015625 40.1875 58.015625 27.296875 \r\nQ 58.015625 14.40625 51.78125 6.484375 \r\nQ 45.5625 -1.421875 35.59375 -1.421875 \r\nQ 29.59375 -1.421875 25.265625 0.953125 \r\nQ 20.953125 3.328125 18.109375 8.203125 \r\nL 18.109375 0 \r\nL 9.078125 0 \r\nL 9.078125 75.984375 \r\nL 18.109375 75.984375 \r\nz\r\n\" id=\"DejaVuSans-98\"/>\r\n       </defs>\r\n       <use xlink:href=\"#DejaVuSans-72\"/>\r\n       <use x=\"75.195312\" xlink:href=\"#DejaVuSans-111\"/>\r\n       <use x=\"136.376953\" xlink:href=\"#DejaVuSans-117\"/>\r\n       <use x=\"199.755859\" xlink:href=\"#DejaVuSans-114\"/>\r\n       <use x=\"240.869141\" xlink:href=\"#DejaVuSans-115\"/>\r\n       <use x=\"292.96875\" xlink:href=\"#DejaVuSans-32\"/>\r\n       <use x=\"324.755859\" xlink:href=\"#DejaVuSans-108\"/>\r\n       <use x=\"352.539062\" xlink:href=\"#DejaVuSans-111\"/>\r\n       <use x=\"413.720703\" xlink:href=\"#DejaVuSans-103\"/>\r\n       <use x=\"477.197266\" xlink:href=\"#DejaVuSans-103\"/>\r\n       <use x=\"540.673828\" xlink:href=\"#DejaVuSans-101\"/>\r\n       <use x=\"602.197266\" xlink:href=\"#DejaVuSans-100\"/>\r\n       <use x=\"665.673828\" xlink:href=\"#DejaVuSans-32\"/>\r\n       <use x=\"697.460938\" xlink:href=\"#DejaVuSans-98\"/>\r\n       <use x=\"760.9375\" xlink:href=\"#DejaVuSans-121\"/>\r\n       <use x=\"820.117188\" xlink:href=\"#DejaVuSans-32\"/>\r\n       <use x=\"851.904297\" xlink:href=\"#DejaVuSans-115\"/>\r\n       <use x=\"904.003906\" xlink:href=\"#DejaVuSans-97\"/>\r\n       <use x=\"965.283203\" xlink:href=\"#DejaVuSans-110\"/>\r\n       <use x=\"1028.662109\" xlink:href=\"#DejaVuSans-105\"/>\r\n       <use x=\"1056.445312\" xlink:href=\"#DejaVuSans-116\"/>\r\n       <use x=\"1095.654297\" xlink:href=\"#DejaVuSans-97\"/>\r\n       <use x=\"1156.933594\" xlink:href=\"#DejaVuSans-116\"/>\r\n       <use x=\"1196.142578\" xlink:href=\"#DejaVuSans-105\"/>\r\n       <use x=\"1223.925781\" xlink:href=\"#DejaVuSans-111\"/>\r\n       <use x=\"1285.107422\" xlink:href=\"#DejaVuSans-110\"/>\r\n       <use x=\"1348.486328\" xlink:href=\"#DejaVuSans-32\"/>\r\n       <use x=\"1380.273438\" xlink:href=\"#DejaVuSans-119\"/>\r\n       <use x=\"1462.060547\" xlink:href=\"#DejaVuSans-111\"/>\r\n       <use x=\"1523.242188\" xlink:href=\"#DejaVuSans-114\"/>\r\n       <use x=\"1564.355469\" xlink:href=\"#DejaVuSans-107\"/>\r\n       <use x=\"1618.640625\" xlink:href=\"#DejaVuSans-101\"/>\r\n       <use x=\"1680.164062\" xlink:href=\"#DejaVuSans-114\"/>\r\n       <use x=\"1721.277344\" xlink:href=\"#DejaVuSans-115\"/>\r\n      </g>\r\n     </g>\r\n    </g>\r\n    <g id=\"xtick_4\">\r\n     <g id=\"line2d_4\">\r\n      <g>\r\n       <use style=\"stroke:#000000;stroke-width:0.8;\" x=\"299.1815\" xlink:href=\"#md322b37b4a\" y=\"228.439219\"/>\r\n      </g>\r\n     </g>\r\n     <g id=\"text_4\">\r\n      <!-- Hours logged by public safety officers -->\r\n      <g transform=\"translate(301.940875 424.837656)rotate(-90)scale(0.1 -0.1)\">\r\n       <use xlink:href=\"#DejaVuSans-72\"/>\r\n       <use x=\"75.195312\" xlink:href=\"#DejaVuSans-111\"/>\r\n       <use x=\"136.376953\" xlink:href=\"#DejaVuSans-117\"/>\r\n       <use x=\"199.755859\" xlink:href=\"#DejaVuSans-114\"/>\r\n       <use x=\"240.869141\" xlink:href=\"#DejaVuSans-115\"/>\r\n       <use x=\"292.96875\" xlink:href=\"#DejaVuSans-32\"/>\r\n       <use x=\"324.755859\" xlink:href=\"#DejaVuSans-108\"/>\r\n       <use x=\"352.539062\" xlink:href=\"#DejaVuSans-111\"/>\r\n       <use x=\"413.720703\" xlink:href=\"#DejaVuSans-103\"/>\r\n       <use x=\"477.197266\" xlink:href=\"#DejaVuSans-103\"/>\r\n       <use x=\"540.673828\" xlink:href=\"#DejaVuSans-101\"/>\r\n       <use x=\"602.197266\" xlink:href=\"#DejaVuSans-100\"/>\r\n       <use x=\"665.673828\" xlink:href=\"#DejaVuSans-32\"/>\r\n       <use x=\"697.460938\" xlink:href=\"#DejaVuSans-98\"/>\r\n       <use x=\"760.9375\" xlink:href=\"#DejaVuSans-121\"/>\r\n       <use x=\"820.117188\" xlink:href=\"#DejaVuSans-32\"/>\r\n       <use x=\"851.904297\" xlink:href=\"#DejaVuSans-112\"/>\r\n       <use x=\"915.380859\" xlink:href=\"#DejaVuSans-117\"/>\r\n       <use x=\"978.759766\" xlink:href=\"#DejaVuSans-98\"/>\r\n       <use x=\"1042.236328\" xlink:href=\"#DejaVuSans-108\"/>\r\n       <use x=\"1070.019531\" xlink:href=\"#DejaVuSans-105\"/>\r\n       <use x=\"1097.802734\" xlink:href=\"#DejaVuSans-99\"/>\r\n       <use x=\"1152.783203\" xlink:href=\"#DejaVuSans-32\"/>\r\n       <use x=\"1184.570312\" xlink:href=\"#DejaVuSans-115\"/>\r\n       <use x=\"1236.669922\" xlink:href=\"#DejaVuSans-97\"/>\r\n       <use x=\"1297.949219\" xlink:href=\"#DejaVuSans-102\"/>\r\n       <use x=\"1333.154297\" xlink:href=\"#DejaVuSans-101\"/>\r\n       <use x=\"1394.677734\" xlink:href=\"#DejaVuSans-116\"/>\r\n       <use x=\"1433.886719\" xlink:href=\"#DejaVuSans-121\"/>\r\n       <use x=\"1493.066406\" xlink:href=\"#DejaVuSans-32\"/>\r\n       <use x=\"1524.853516\" xlink:href=\"#DejaVuSans-111\"/>\r\n       <use x=\"1586.035156\" xlink:href=\"#DejaVuSans-102\"/>\r\n       <use x=\"1621.240234\" xlink:href=\"#DejaVuSans-102\"/>\r\n       <use x=\"1656.445312\" xlink:href=\"#DejaVuSans-105\"/>\r\n       <use x=\"1684.228516\" xlink:href=\"#DejaVuSans-99\"/>\r\n       <use x=\"1739.208984\" xlink:href=\"#DejaVuSans-101\"/>\r\n       <use x=\"1800.732422\" xlink:href=\"#DejaVuSans-114\"/>\r\n       <use x=\"1841.845703\" xlink:href=\"#DejaVuSans-115\"/>\r\n      </g>\r\n     </g>\r\n    </g>\r\n    <g id=\"xtick_5\">\r\n     <g id=\"line2d_5\">\r\n      <g>\r\n       <use style=\"stroke:#000000;stroke-width:0.8;\" x=\"325.9655\" xlink:href=\"#md322b37b4a\" y=\"228.439219\"/>\r\n      </g>\r\n     </g>\r\n     <g id=\"text_5\">\r\n      <!-- Interactions with public safety officers -->\r\n      <g transform=\"translate(328.724875 426.676719)rotate(-90)scale(0.1 -0.1)\">\r\n       <defs>\r\n        <path d=\"M 9.8125 72.90625 \r\nL 19.671875 72.90625 \r\nL 19.671875 0 \r\nL 9.8125 0 \r\nz\r\n\" id=\"DejaVuSans-73\"/>\r\n        <path d=\"M 54.890625 33.015625 \r\nL 54.890625 0 \r\nL 45.90625 0 \r\nL 45.90625 32.71875 \r\nQ 45.90625 40.484375 42.875 44.328125 \r\nQ 39.84375 48.1875 33.796875 48.1875 \r\nQ 26.515625 48.1875 22.3125 43.546875 \r\nQ 18.109375 38.921875 18.109375 30.90625 \r\nL 18.109375 0 \r\nL 9.078125 0 \r\nL 9.078125 75.984375 \r\nL 18.109375 75.984375 \r\nL 18.109375 46.1875 \r\nQ 21.34375 51.125 25.703125 53.5625 \r\nQ 30.078125 56 35.796875 56 \r\nQ 45.21875 56 50.046875 50.171875 \r\nQ 54.890625 44.34375 54.890625 33.015625 \r\nz\r\n\" id=\"DejaVuSans-104\"/>\r\n       </defs>\r\n       <use xlink:href=\"#DejaVuSans-73\"/>\r\n       <use x=\"29.492188\" xlink:href=\"#DejaVuSans-110\"/>\r\n       <use x=\"92.871094\" xlink:href=\"#DejaVuSans-116\"/>\r\n       <use x=\"132.080078\" xlink:href=\"#DejaVuSans-101\"/>\r\n       <use x=\"193.603516\" xlink:href=\"#DejaVuSans-114\"/>\r\n       <use x=\"234.716797\" xlink:href=\"#DejaVuSans-97\"/>\r\n       <use x=\"295.996094\" xlink:href=\"#DejaVuSans-99\"/>\r\n       <use x=\"350.976562\" xlink:href=\"#DejaVuSans-116\"/>\r\n       <use x=\"390.185547\" xlink:href=\"#DejaVuSans-105\"/>\r\n       <use x=\"417.96875\" xlink:href=\"#DejaVuSans-111\"/>\r\n       <use x=\"479.150391\" xlink:href=\"#DejaVuSans-110\"/>\r\n       <use x=\"542.529297\" xlink:href=\"#DejaVuSans-115\"/>\r\n       <use x=\"594.628906\" xlink:href=\"#DejaVuSans-32\"/>\r\n       <use x=\"626.416016\" xlink:href=\"#DejaVuSans-119\"/>\r\n       <use x=\"708.203125\" xlink:href=\"#DejaVuSans-105\"/>\r\n       <use x=\"735.986328\" xlink:href=\"#DejaVuSans-116\"/>\r\n       <use x=\"775.195312\" xlink:href=\"#DejaVuSans-104\"/>\r\n       <use x=\"838.574219\" xlink:href=\"#DejaVuSans-32\"/>\r\n       <use x=\"870.361328\" xlink:href=\"#DejaVuSans-112\"/>\r\n       <use x=\"933.837891\" xlink:href=\"#DejaVuSans-117\"/>\r\n       <use x=\"997.216797\" xlink:href=\"#DejaVuSans-98\"/>\r\n       <use x=\"1060.693359\" xlink:href=\"#DejaVuSans-108\"/>\r\n       <use x=\"1088.476562\" xlink:href=\"#DejaVuSans-105\"/>\r\n       <use x=\"1116.259766\" xlink:href=\"#DejaVuSans-99\"/>\r\n       <use x=\"1171.240234\" xlink:href=\"#DejaVuSans-32\"/>\r\n       <use x=\"1203.027344\" xlink:href=\"#DejaVuSans-115\"/>\r\n       <use x=\"1255.126953\" xlink:href=\"#DejaVuSans-97\"/>\r\n       <use x=\"1316.40625\" xlink:href=\"#DejaVuSans-102\"/>\r\n       <use x=\"1351.611328\" xlink:href=\"#DejaVuSans-101\"/>\r\n       <use x=\"1413.134766\" xlink:href=\"#DejaVuSans-116\"/>\r\n       <use x=\"1452.34375\" xlink:href=\"#DejaVuSans-121\"/>\r\n       <use x=\"1511.523438\" xlink:href=\"#DejaVuSans-32\"/>\r\n       <use x=\"1543.310547\" xlink:href=\"#DejaVuSans-111\"/>\r\n       <use x=\"1604.492188\" xlink:href=\"#DejaVuSans-102\"/>\r\n       <use x=\"1639.697266\" xlink:href=\"#DejaVuSans-102\"/>\r\n       <use x=\"1674.902344\" xlink:href=\"#DejaVuSans-105\"/>\r\n       <use x=\"1702.685547\" xlink:href=\"#DejaVuSans-99\"/>\r\n       <use x=\"1757.666016\" xlink:href=\"#DejaVuSans-101\"/>\r\n       <use x=\"1819.189453\" xlink:href=\"#DejaVuSans-114\"/>\r\n       <use x=\"1860.302734\" xlink:href=\"#DejaVuSans-115\"/>\r\n      </g>\r\n     </g>\r\n    </g>\r\n    <g id=\"xtick_6\">\r\n     <g id=\"line2d_6\">\r\n      <g>\r\n       <use style=\"stroke:#000000;stroke-width:0.8;\" x=\"352.7495\" xlink:href=\"#md322b37b4a\" y=\"228.439219\"/>\r\n      </g>\r\n     </g>\r\n     <g id=\"text_6\">\r\n      <!-- Total Quotation -->\r\n      <g transform=\"translate(355.508875 311.501719)rotate(-90)scale(0.1 -0.1)\">\r\n       <defs>\r\n        <path d=\"M -0.296875 72.90625 \r\nL 61.375 72.90625 \r\nL 61.375 64.59375 \r\nL 35.5 64.59375 \r\nL 35.5 0 \r\nL 25.59375 0 \r\nL 25.59375 64.59375 \r\nL -0.296875 64.59375 \r\nz\r\n\" id=\"DejaVuSans-84\"/>\r\n        <path d=\"M 39.40625 66.21875 \r\nQ 28.65625 66.21875 22.328125 58.203125 \r\nQ 16.015625 50.203125 16.015625 36.375 \r\nQ 16.015625 22.609375 22.328125 14.59375 \r\nQ 28.65625 6.59375 39.40625 6.59375 \r\nQ 50.140625 6.59375 56.421875 14.59375 \r\nQ 62.703125 22.609375 62.703125 36.375 \r\nQ 62.703125 50.203125 56.421875 58.203125 \r\nQ 50.140625 66.21875 39.40625 66.21875 \r\nz\r\nM 53.21875 1.3125 \r\nL 66.21875 -12.890625 \r\nL 54.296875 -12.890625 \r\nL 43.5 -1.21875 \r\nQ 41.890625 -1.3125 41.03125 -1.359375 \r\nQ 40.1875 -1.421875 39.40625 -1.421875 \r\nQ 24.03125 -1.421875 14.8125 8.859375 \r\nQ 5.609375 19.140625 5.609375 36.375 \r\nQ 5.609375 53.65625 14.8125 63.9375 \r\nQ 24.03125 74.21875 39.40625 74.21875 \r\nQ 54.734375 74.21875 63.90625 63.9375 \r\nQ 73.09375 53.65625 73.09375 36.375 \r\nQ 73.09375 23.6875 67.984375 14.640625 \r\nQ 62.890625 5.609375 53.21875 1.3125 \r\nz\r\n\" id=\"DejaVuSans-81\"/>\r\n       </defs>\r\n       <use xlink:href=\"#DejaVuSans-84\"/>\r\n       <use x=\"44.083984\" xlink:href=\"#DejaVuSans-111\"/>\r\n       <use x=\"105.265625\" xlink:href=\"#DejaVuSans-116\"/>\r\n       <use x=\"144.474609\" xlink:href=\"#DejaVuSans-97\"/>\r\n       <use x=\"205.753906\" xlink:href=\"#DejaVuSans-108\"/>\r\n       <use x=\"233.537109\" xlink:href=\"#DejaVuSans-32\"/>\r\n       <use x=\"265.324219\" xlink:href=\"#DejaVuSans-81\"/>\r\n       <use x=\"344.035156\" xlink:href=\"#DejaVuSans-117\"/>\r\n       <use x=\"407.414062\" xlink:href=\"#DejaVuSans-111\"/>\r\n       <use x=\"468.595703\" xlink:href=\"#DejaVuSans-116\"/>\r\n       <use x=\"507.804688\" xlink:href=\"#DejaVuSans-97\"/>\r\n       <use x=\"569.083984\" xlink:href=\"#DejaVuSans-116\"/>\r\n       <use x=\"608.292969\" xlink:href=\"#DejaVuSans-105\"/>\r\n       <use x=\"636.076172\" xlink:href=\"#DejaVuSans-111\"/>\r\n       <use x=\"697.257812\" xlink:href=\"#DejaVuSans-110\"/>\r\n      </g>\r\n     </g>\r\n    </g>\r\n    <g id=\"xtick_7\">\r\n     <g id=\"line2d_7\">\r\n      <g>\r\n       <use style=\"stroke:#000000;stroke-width:0.8;\" x=\"379.5335\" xlink:href=\"#md322b37b4a\" y=\"228.439219\"/>\r\n      </g>\r\n     </g>\r\n     <g id=\"text_7\">\r\n      <!-- Number_Of_Sanitation_Activities -->\r\n      <g transform=\"translate(382.153813 398.418906)rotate(-90)scale(0.1 -0.1)\">\r\n       <defs>\r\n        <path d=\"M 9.8125 72.90625 \r\nL 23.09375 72.90625 \r\nL 55.421875 11.921875 \r\nL 55.421875 72.90625 \r\nL 64.984375 72.90625 \r\nL 64.984375 0 \r\nL 51.703125 0 \r\nL 19.390625 60.984375 \r\nL 19.390625 0 \r\nL 9.8125 0 \r\nz\r\n\" id=\"DejaVuSans-78\"/>\r\n        <path d=\"M 52 44.1875 \r\nQ 55.375 50.25 60.0625 53.125 \r\nQ 64.75 56 71.09375 56 \r\nQ 79.640625 56 84.28125 50.015625 \r\nQ 88.921875 44.046875 88.921875 33.015625 \r\nL 88.921875 0 \r\nL 79.890625 0 \r\nL 79.890625 32.71875 \r\nQ 79.890625 40.578125 77.09375 44.375 \r\nQ 74.3125 48.1875 68.609375 48.1875 \r\nQ 61.625 48.1875 57.5625 43.546875 \r\nQ 53.515625 38.921875 53.515625 30.90625 \r\nL 53.515625 0 \r\nL 44.484375 0 \r\nL 44.484375 32.71875 \r\nQ 44.484375 40.625 41.703125 44.40625 \r\nQ 38.921875 48.1875 33.109375 48.1875 \r\nQ 26.21875 48.1875 22.15625 43.53125 \r\nQ 18.109375 38.875 18.109375 30.90625 \r\nL 18.109375 0 \r\nL 9.078125 0 \r\nL 9.078125 54.6875 \r\nL 18.109375 54.6875 \r\nL 18.109375 46.1875 \r\nQ 21.1875 51.21875 25.484375 53.609375 \r\nQ 29.78125 56 35.6875 56 \r\nQ 41.65625 56 45.828125 52.96875 \r\nQ 50 49.953125 52 44.1875 \r\nz\r\n\" id=\"DejaVuSans-109\"/>\r\n        <path d=\"M 50.984375 -16.609375 \r\nL 50.984375 -23.578125 \r\nL -0.984375 -23.578125 \r\nL -0.984375 -16.609375 \r\nz\r\n\" id=\"DejaVuSans-95\"/>\r\n        <path d=\"M 39.40625 66.21875 \r\nQ 28.65625 66.21875 22.328125 58.203125 \r\nQ 16.015625 50.203125 16.015625 36.375 \r\nQ 16.015625 22.609375 22.328125 14.59375 \r\nQ 28.65625 6.59375 39.40625 6.59375 \r\nQ 50.140625 6.59375 56.421875 14.59375 \r\nQ 62.703125 22.609375 62.703125 36.375 \r\nQ 62.703125 50.203125 56.421875 58.203125 \r\nQ 50.140625 66.21875 39.40625 66.21875 \r\nz\r\nM 39.40625 74.21875 \r\nQ 54.734375 74.21875 63.90625 63.9375 \r\nQ 73.09375 53.65625 73.09375 36.375 \r\nQ 73.09375 19.140625 63.90625 8.859375 \r\nQ 54.734375 -1.421875 39.40625 -1.421875 \r\nQ 24.03125 -1.421875 14.8125 8.828125 \r\nQ 5.609375 19.09375 5.609375 36.375 \r\nQ 5.609375 53.65625 14.8125 63.9375 \r\nQ 24.03125 74.21875 39.40625 74.21875 \r\nz\r\n\" id=\"DejaVuSans-79\"/>\r\n        <path d=\"M 34.1875 63.1875 \r\nL 20.796875 26.90625 \r\nL 47.609375 26.90625 \r\nz\r\nM 28.609375 72.90625 \r\nL 39.796875 72.90625 \r\nL 67.578125 0 \r\nL 57.328125 0 \r\nL 50.6875 18.703125 \r\nL 17.828125 18.703125 \r\nL 11.1875 0 \r\nL 0.78125 0 \r\nz\r\n\" id=\"DejaVuSans-65\"/>\r\n       </defs>\r\n       <use xlink:href=\"#DejaVuSans-78\"/>\r\n       <use x=\"74.804688\" xlink:href=\"#DejaVuSans-117\"/>\r\n       <use x=\"138.183594\" xlink:href=\"#DejaVuSans-109\"/>\r\n       <use x=\"235.595703\" xlink:href=\"#DejaVuSans-98\"/>\r\n       <use x=\"299.072266\" xlink:href=\"#DejaVuSans-101\"/>\r\n       <use x=\"360.595703\" xlink:href=\"#DejaVuSans-114\"/>\r\n       <use x=\"401.708984\" xlink:href=\"#DejaVuSans-95\"/>\r\n       <use x=\"451.708984\" xlink:href=\"#DejaVuSans-79\"/>\r\n       <use x=\"530.419922\" xlink:href=\"#DejaVuSans-102\"/>\r\n       <use x=\"565.625\" xlink:href=\"#DejaVuSans-95\"/>\r\n       <use x=\"615.625\" xlink:href=\"#DejaVuSans-83\"/>\r\n       <use x=\"679.101562\" xlink:href=\"#DejaVuSans-97\"/>\r\n       <use x=\"740.380859\" xlink:href=\"#DejaVuSans-110\"/>\r\n       <use x=\"803.759766\" xlink:href=\"#DejaVuSans-105\"/>\r\n       <use x=\"831.542969\" xlink:href=\"#DejaVuSans-116\"/>\r\n       <use x=\"870.751953\" xlink:href=\"#DejaVuSans-97\"/>\r\n       <use x=\"932.03125\" xlink:href=\"#DejaVuSans-116\"/>\r\n       <use x=\"971.240234\" xlink:href=\"#DejaVuSans-105\"/>\r\n       <use x=\"999.023438\" xlink:href=\"#DejaVuSans-111\"/>\r\n       <use x=\"1060.205078\" xlink:href=\"#DejaVuSans-110\"/>\r\n       <use x=\"1123.583984\" xlink:href=\"#DejaVuSans-95\"/>\r\n       <use x=\"1173.583984\" xlink:href=\"#DejaVuSans-65\"/>\r\n       <use x=\"1240.242188\" xlink:href=\"#DejaVuSans-99\"/>\r\n       <use x=\"1295.222656\" xlink:href=\"#DejaVuSans-116\"/>\r\n       <use x=\"1334.431641\" xlink:href=\"#DejaVuSans-105\"/>\r\n       <use x=\"1362.214844\" xlink:href=\"#DejaVuSans-118\"/>\r\n       <use x=\"1421.394531\" xlink:href=\"#DejaVuSans-105\"/>\r\n       <use x=\"1449.177734\" xlink:href=\"#DejaVuSans-116\"/>\r\n       <use x=\"1488.386719\" xlink:href=\"#DejaVuSans-105\"/>\r\n       <use x=\"1516.169922\" xlink:href=\"#DejaVuSans-101\"/>\r\n       <use x=\"1577.693359\" xlink:href=\"#DejaVuSans-115\"/>\r\n      </g>\r\n     </g>\r\n    </g>\r\n    <g id=\"xtick_8\">\r\n     <g id=\"line2d_8\">\r\n      <g>\r\n       <use style=\"stroke:#000000;stroke-width:0.8;\" x=\"406.3175\" xlink:href=\"#md322b37b4a\" y=\"228.439219\"/>\r\n      </g>\r\n     </g>\r\n     <g id=\"text_8\">\r\n      <!-- Beautification_Activities -->\r\n      <g transform=\"translate(408.937813 355.317344)rotate(-90)scale(0.1 -0.1)\">\r\n       <defs>\r\n        <path d=\"M 19.671875 34.8125 \r\nL 19.671875 8.109375 \r\nL 35.5 8.109375 \r\nQ 43.453125 8.109375 47.28125 11.40625 \r\nQ 51.125 14.703125 51.125 21.484375 \r\nQ 51.125 28.328125 47.28125 31.5625 \r\nQ 43.453125 34.8125 35.5 34.8125 \r\nz\r\nM 19.671875 64.796875 \r\nL 19.671875 42.828125 \r\nL 34.28125 42.828125 \r\nQ 41.5 42.828125 45.03125 45.53125 \r\nQ 48.578125 48.25 48.578125 53.8125 \r\nQ 48.578125 59.328125 45.03125 62.0625 \r\nQ 41.5 64.796875 34.28125 64.796875 \r\nz\r\nM 9.8125 72.90625 \r\nL 35.015625 72.90625 \r\nQ 46.296875 72.90625 52.390625 68.21875 \r\nQ 58.5 63.53125 58.5 54.890625 \r\nQ 58.5 48.1875 55.375 44.234375 \r\nQ 52.25 40.28125 46.1875 39.3125 \r\nQ 53.46875 37.75 57.5 32.78125 \r\nQ 61.53125 27.828125 61.53125 20.40625 \r\nQ 61.53125 10.640625 54.890625 5.3125 \r\nQ 48.25 0 35.984375 0 \r\nL 9.8125 0 \r\nz\r\n\" id=\"DejaVuSans-66\"/>\r\n       </defs>\r\n       <use xlink:href=\"#DejaVuSans-66\"/>\r\n       <use x=\"68.603516\" xlink:href=\"#DejaVuSans-101\"/>\r\n       <use x=\"130.126953\" xlink:href=\"#DejaVuSans-97\"/>\r\n       <use x=\"191.40625\" xlink:href=\"#DejaVuSans-117\"/>\r\n       <use x=\"254.785156\" xlink:href=\"#DejaVuSans-116\"/>\r\n       <use x=\"293.994141\" xlink:href=\"#DejaVuSans-105\"/>\r\n       <use x=\"321.777344\" xlink:href=\"#DejaVuSans-102\"/>\r\n       <use x=\"356.982422\" xlink:href=\"#DejaVuSans-105\"/>\r\n       <use x=\"384.765625\" xlink:href=\"#DejaVuSans-99\"/>\r\n       <use x=\"439.746094\" xlink:href=\"#DejaVuSans-97\"/>\r\n       <use x=\"501.025391\" xlink:href=\"#DejaVuSans-116\"/>\r\n       <use x=\"540.234375\" xlink:href=\"#DejaVuSans-105\"/>\r\n       <use x=\"568.017578\" xlink:href=\"#DejaVuSans-111\"/>\r\n       <use x=\"629.199219\" xlink:href=\"#DejaVuSans-110\"/>\r\n       <use x=\"692.578125\" xlink:href=\"#DejaVuSans-95\"/>\r\n       <use x=\"742.578125\" xlink:href=\"#DejaVuSans-65\"/>\r\n       <use x=\"809.236328\" xlink:href=\"#DejaVuSans-99\"/>\r\n       <use x=\"864.216797\" xlink:href=\"#DejaVuSans-116\"/>\r\n       <use x=\"903.425781\" xlink:href=\"#DejaVuSans-105\"/>\r\n       <use x=\"931.208984\" xlink:href=\"#DejaVuSans-118\"/>\r\n       <use x=\"990.388672\" xlink:href=\"#DejaVuSans-105\"/>\r\n       <use x=\"1018.171875\" xlink:href=\"#DejaVuSans-116\"/>\r\n       <use x=\"1057.380859\" xlink:href=\"#DejaVuSans-105\"/>\r\n       <use x=\"1085.164062\" xlink:href=\"#DejaVuSans-101\"/>\r\n       <use x=\"1146.6875\" xlink:href=\"#DejaVuSans-115\"/>\r\n      </g>\r\n     </g>\r\n    </g>\r\n    <g id=\"xtick_9\">\r\n     <g id=\"line2d_9\">\r\n      <g>\r\n       <use style=\"stroke:#000000;stroke-width:0.8;\" x=\"433.1015\" xlink:href=\"#md322b37b4a\" y=\"228.439219\"/>\r\n      </g>\r\n     </g>\r\n     <g id=\"text_9\">\r\n      <!-- Media_Reach -->\r\n      <g transform=\"translate(435.721813 301.090781)rotate(-90)scale(0.1 -0.1)\">\r\n       <defs>\r\n        <path d=\"M 9.8125 72.90625 \r\nL 24.515625 72.90625 \r\nL 43.109375 23.296875 \r\nL 61.8125 72.90625 \r\nL 76.515625 72.90625 \r\nL 76.515625 0 \r\nL 66.890625 0 \r\nL 66.890625 64.015625 \r\nL 48.09375 14.015625 \r\nL 38.1875 14.015625 \r\nL 19.390625 64.015625 \r\nL 19.390625 0 \r\nL 9.8125 0 \r\nz\r\n\" id=\"DejaVuSans-77\"/>\r\n        <path d=\"M 44.390625 34.1875 \r\nQ 47.5625 33.109375 50.5625 29.59375 \r\nQ 53.5625 26.078125 56.59375 19.921875 \r\nL 66.609375 0 \r\nL 56 0 \r\nL 46.6875 18.703125 \r\nQ 43.0625 26.03125 39.671875 28.421875 \r\nQ 36.28125 30.8125 30.421875 30.8125 \r\nL 19.671875 30.8125 \r\nL 19.671875 0 \r\nL 9.8125 0 \r\nL 9.8125 72.90625 \r\nL 32.078125 72.90625 \r\nQ 44.578125 72.90625 50.734375 67.671875 \r\nQ 56.890625 62.453125 56.890625 51.90625 \r\nQ 56.890625 45.015625 53.6875 40.46875 \r\nQ 50.484375 35.9375 44.390625 34.1875 \r\nz\r\nM 19.671875 64.796875 \r\nL 19.671875 38.921875 \r\nL 32.078125 38.921875 \r\nQ 39.203125 38.921875 42.84375 42.21875 \r\nQ 46.484375 45.515625 46.484375 51.90625 \r\nQ 46.484375 58.296875 42.84375 61.546875 \r\nQ 39.203125 64.796875 32.078125 64.796875 \r\nz\r\n\" id=\"DejaVuSans-82\"/>\r\n       </defs>\r\n       <use xlink:href=\"#DejaVuSans-77\"/>\r\n       <use x=\"86.279297\" xlink:href=\"#DejaVuSans-101\"/>\r\n       <use x=\"147.802734\" xlink:href=\"#DejaVuSans-100\"/>\r\n       <use x=\"211.279297\" xlink:href=\"#DejaVuSans-105\"/>\r\n       <use x=\"239.0625\" xlink:href=\"#DejaVuSans-97\"/>\r\n       <use x=\"300.341797\" xlink:href=\"#DejaVuSans-95\"/>\r\n       <use x=\"350.341797\" xlink:href=\"#DejaVuSans-82\"/>\r\n       <use x=\"415.324219\" xlink:href=\"#DejaVuSans-101\"/>\r\n       <use x=\"476.847656\" xlink:href=\"#DejaVuSans-97\"/>\r\n       <use x=\"538.126953\" xlink:href=\"#DejaVuSans-99\"/>\r\n       <use x=\"593.107422\" xlink:href=\"#DejaVuSans-104\"/>\r\n      </g>\r\n     </g>\r\n    </g>\r\n    <g id=\"xtick_10\">\r\n     <g id=\"line2d_10\">\r\n      <g>\r\n       <use style=\"stroke:#000000;stroke-width:0.8;\" x=\"459.8855\" xlink:href=\"#md322b37b4a\" y=\"228.439219\"/>\r\n      </g>\r\n     </g>\r\n     <g id=\"text_10\">\r\n      <!-- Total_Staff -->\r\n      <g transform=\"translate(462.505813 287.229844)rotate(-90)scale(0.1 -0.1)\">\r\n       <use xlink:href=\"#DejaVuSans-84\"/>\r\n       <use x=\"44.083984\" xlink:href=\"#DejaVuSans-111\"/>\r\n       <use x=\"105.265625\" xlink:href=\"#DejaVuSans-116\"/>\r\n       <use x=\"144.474609\" xlink:href=\"#DejaVuSans-97\"/>\r\n       <use x=\"205.753906\" xlink:href=\"#DejaVuSans-108\"/>\r\n       <use x=\"233.537109\" xlink:href=\"#DejaVuSans-95\"/>\r\n       <use x=\"283.537109\" xlink:href=\"#DejaVuSans-83\"/>\r\n       <use x=\"347.013672\" xlink:href=\"#DejaVuSans-116\"/>\r\n       <use x=\"386.222656\" xlink:href=\"#DejaVuSans-97\"/>\r\n       <use x=\"447.501953\" xlink:href=\"#DejaVuSans-102\"/>\r\n       <use x=\"482.707031\" xlink:href=\"#DejaVuSans-102\"/>\r\n      </g>\r\n     </g>\r\n    </g>\r\n   </g>\r\n   <g id=\"matplotlib.axis_2\">\r\n    <g id=\"ytick_1\">\r\n     <g id=\"line2d_11\">\r\n      <defs>\r\n       <path d=\"M 0 0 \r\nL -3.5 0 \r\n\" id=\"m6791a1d7f0\" style=\"stroke:#000000;stroke-width:0.8;\"/>\r\n      </defs>\r\n      <g>\r\n       <use style=\"stroke:#000000;stroke-width:0.8;\" x=\"205.4375\" xlink:href=\"#m6791a1d7f0\" y=\"21.871219\"/>\r\n      </g>\r\n     </g>\r\n     <g id=\"text_11\">\r\n      <!-- Floor Size -->\r\n      <g transform=\"translate(149.853125 25.670438)scale(0.1 -0.1)\">\r\n       <use xlink:href=\"#DejaVuSans-70\"/>\r\n       <use x=\"57.519531\" xlink:href=\"#DejaVuSans-108\"/>\r\n       <use x=\"85.302734\" xlink:href=\"#DejaVuSans-111\"/>\r\n       <use x=\"146.484375\" xlink:href=\"#DejaVuSans-111\"/>\r\n       <use x=\"207.666016\" xlink:href=\"#DejaVuSans-114\"/>\r\n       <use x=\"248.779297\" xlink:href=\"#DejaVuSans-32\"/>\r\n       <use x=\"280.566406\" xlink:href=\"#DejaVuSans-83\"/>\r\n       <use x=\"344.042969\" xlink:href=\"#DejaVuSans-105\"/>\r\n       <use x=\"371.826172\" xlink:href=\"#DejaVuSans-122\"/>\r\n       <use x=\"424.316406\" xlink:href=\"#DejaVuSans-101\"/>\r\n      </g>\r\n     </g>\r\n    </g>\r\n    <g id=\"ytick_2\">\r\n     <g id=\"line2d_12\">\r\n      <g>\r\n       <use style=\"stroke:#000000;stroke-width:0.8;\" x=\"205.4375\" xlink:href=\"#m6791a1d7f0\" y=\"43.615219\"/>\r\n      </g>\r\n     </g>\r\n     <g id=\"text_12\">\r\n      <!-- Days per week of sanitation services -->\r\n      <g transform=\"translate(14.376562 47.414438)scale(0.1 -0.1)\">\r\n       <use xlink:href=\"#DejaVuSans-68\"/>\r\n       <use x=\"77.001953\" xlink:href=\"#DejaVuSans-97\"/>\r\n       <use x=\"138.28125\" xlink:href=\"#DejaVuSans-121\"/>\r\n       <use x=\"197.460938\" xlink:href=\"#DejaVuSans-115\"/>\r\n       <use x=\"249.560547\" xlink:href=\"#DejaVuSans-32\"/>\r\n       <use x=\"281.347656\" xlink:href=\"#DejaVuSans-112\"/>\r\n       <use x=\"344.824219\" xlink:href=\"#DejaVuSans-101\"/>\r\n       <use x=\"406.347656\" xlink:href=\"#DejaVuSans-114\"/>\r\n       <use x=\"447.460938\" xlink:href=\"#DejaVuSans-32\"/>\r\n       <use x=\"479.248047\" xlink:href=\"#DejaVuSans-119\"/>\r\n       <use x=\"561.035156\" xlink:href=\"#DejaVuSans-101\"/>\r\n       <use x=\"622.558594\" xlink:href=\"#DejaVuSans-101\"/>\r\n       <use x=\"684.082031\" xlink:href=\"#DejaVuSans-107\"/>\r\n       <use x=\"741.992188\" xlink:href=\"#DejaVuSans-32\"/>\r\n       <use x=\"773.779297\" xlink:href=\"#DejaVuSans-111\"/>\r\n       <use x=\"834.960938\" xlink:href=\"#DejaVuSans-102\"/>\r\n       <use x=\"870.166016\" xlink:href=\"#DejaVuSans-32\"/>\r\n       <use x=\"901.953125\" xlink:href=\"#DejaVuSans-115\"/>\r\n       <use x=\"954.052734\" xlink:href=\"#DejaVuSans-97\"/>\r\n       <use x=\"1015.332031\" xlink:href=\"#DejaVuSans-110\"/>\r\n       <use x=\"1078.710938\" xlink:href=\"#DejaVuSans-105\"/>\r\n       <use x=\"1106.494141\" xlink:href=\"#DejaVuSans-116\"/>\r\n       <use x=\"1145.703125\" xlink:href=\"#DejaVuSans-97\"/>\r\n       <use x=\"1206.982422\" xlink:href=\"#DejaVuSans-116\"/>\r\n       <use x=\"1246.191406\" xlink:href=\"#DejaVuSans-105\"/>\r\n       <use x=\"1273.974609\" xlink:href=\"#DejaVuSans-111\"/>\r\n       <use x=\"1335.15625\" xlink:href=\"#DejaVuSans-110\"/>\r\n       <use x=\"1398.535156\" xlink:href=\"#DejaVuSans-32\"/>\r\n       <use x=\"1430.322266\" xlink:href=\"#DejaVuSans-115\"/>\r\n       <use x=\"1482.421875\" xlink:href=\"#DejaVuSans-101\"/>\r\n       <use x=\"1543.945312\" xlink:href=\"#DejaVuSans-114\"/>\r\n       <use x=\"1585.058594\" xlink:href=\"#DejaVuSans-118\"/>\r\n       <use x=\"1644.238281\" xlink:href=\"#DejaVuSans-105\"/>\r\n       <use x=\"1672.021484\" xlink:href=\"#DejaVuSans-99\"/>\r\n       <use x=\"1727.001953\" xlink:href=\"#DejaVuSans-101\"/>\r\n       <use x=\"1788.525391\" xlink:href=\"#DejaVuSans-115\"/>\r\n      </g>\r\n     </g>\r\n    </g>\r\n    <g id=\"ytick_3\">\r\n     <g id=\"line2d_13\">\r\n      <g>\r\n       <use style=\"stroke:#000000;stroke-width:0.8;\" x=\"205.4375\" xlink:href=\"#m6791a1d7f0\" y=\"65.359219\"/>\r\n      </g>\r\n     </g>\r\n     <g id=\"text_13\">\r\n      <!-- Hours logged by sanitation workers -->\r\n      <g transform=\"translate(21.1 69.158438)scale(0.1 -0.1)\">\r\n       <use xlink:href=\"#DejaVuSans-72\"/>\r\n       <use x=\"75.195312\" xlink:href=\"#DejaVuSans-111\"/>\r\n       <use x=\"136.376953\" xlink:href=\"#DejaVuSans-117\"/>\r\n       <use x=\"199.755859\" xlink:href=\"#DejaVuSans-114\"/>\r\n       <use x=\"240.869141\" xlink:href=\"#DejaVuSans-115\"/>\r\n       <use x=\"292.96875\" xlink:href=\"#DejaVuSans-32\"/>\r\n       <use x=\"324.755859\" xlink:href=\"#DejaVuSans-108\"/>\r\n       <use x=\"352.539062\" xlink:href=\"#DejaVuSans-111\"/>\r\n       <use x=\"413.720703\" xlink:href=\"#DejaVuSans-103\"/>\r\n       <use x=\"477.197266\" xlink:href=\"#DejaVuSans-103\"/>\r\n       <use x=\"540.673828\" xlink:href=\"#DejaVuSans-101\"/>\r\n       <use x=\"602.197266\" xlink:href=\"#DejaVuSans-100\"/>\r\n       <use x=\"665.673828\" xlink:href=\"#DejaVuSans-32\"/>\r\n       <use x=\"697.460938\" xlink:href=\"#DejaVuSans-98\"/>\r\n       <use x=\"760.9375\" xlink:href=\"#DejaVuSans-121\"/>\r\n       <use x=\"820.117188\" xlink:href=\"#DejaVuSans-32\"/>\r\n       <use x=\"851.904297\" xlink:href=\"#DejaVuSans-115\"/>\r\n       <use x=\"904.003906\" xlink:href=\"#DejaVuSans-97\"/>\r\n       <use x=\"965.283203\" xlink:href=\"#DejaVuSans-110\"/>\r\n       <use x=\"1028.662109\" xlink:href=\"#DejaVuSans-105\"/>\r\n       <use x=\"1056.445312\" xlink:href=\"#DejaVuSans-116\"/>\r\n       <use x=\"1095.654297\" xlink:href=\"#DejaVuSans-97\"/>\r\n       <use x=\"1156.933594\" xlink:href=\"#DejaVuSans-116\"/>\r\n       <use x=\"1196.142578\" xlink:href=\"#DejaVuSans-105\"/>\r\n       <use x=\"1223.925781\" xlink:href=\"#DejaVuSans-111\"/>\r\n       <use x=\"1285.107422\" xlink:href=\"#DejaVuSans-110\"/>\r\n       <use x=\"1348.486328\" xlink:href=\"#DejaVuSans-32\"/>\r\n       <use x=\"1380.273438\" xlink:href=\"#DejaVuSans-119\"/>\r\n       <use x=\"1462.060547\" xlink:href=\"#DejaVuSans-111\"/>\r\n       <use x=\"1523.242188\" xlink:href=\"#DejaVuSans-114\"/>\r\n       <use x=\"1564.355469\" xlink:href=\"#DejaVuSans-107\"/>\r\n       <use x=\"1618.640625\" xlink:href=\"#DejaVuSans-101\"/>\r\n       <use x=\"1680.164062\" xlink:href=\"#DejaVuSans-114\"/>\r\n       <use x=\"1721.277344\" xlink:href=\"#DejaVuSans-115\"/>\r\n      </g>\r\n     </g>\r\n    </g>\r\n    <g id=\"ytick_4\">\r\n     <g id=\"line2d_14\">\r\n      <g>\r\n       <use style=\"stroke:#000000;stroke-width:0.8;\" x=\"205.4375\" xlink:href=\"#m6791a1d7f0\" y=\"87.103219\"/>\r\n      </g>\r\n     </g>\r\n     <g id=\"text_14\">\r\n      <!-- Hours logged by public safety officers -->\r\n      <g transform=\"translate(9.039062 90.902438)scale(0.1 -0.1)\">\r\n       <use xlink:href=\"#DejaVuSans-72\"/>\r\n       <use x=\"75.195312\" xlink:href=\"#DejaVuSans-111\"/>\r\n       <use x=\"136.376953\" xlink:href=\"#DejaVuSans-117\"/>\r\n       <use x=\"199.755859\" xlink:href=\"#DejaVuSans-114\"/>\r\n       <use x=\"240.869141\" xlink:href=\"#DejaVuSans-115\"/>\r\n       <use x=\"292.96875\" xlink:href=\"#DejaVuSans-32\"/>\r\n       <use x=\"324.755859\" xlink:href=\"#DejaVuSans-108\"/>\r\n       <use x=\"352.539062\" xlink:href=\"#DejaVuSans-111\"/>\r\n       <use x=\"413.720703\" xlink:href=\"#DejaVuSans-103\"/>\r\n       <use x=\"477.197266\" xlink:href=\"#DejaVuSans-103\"/>\r\n       <use x=\"540.673828\" xlink:href=\"#DejaVuSans-101\"/>\r\n       <use x=\"602.197266\" xlink:href=\"#DejaVuSans-100\"/>\r\n       <use x=\"665.673828\" xlink:href=\"#DejaVuSans-32\"/>\r\n       <use x=\"697.460938\" xlink:href=\"#DejaVuSans-98\"/>\r\n       <use x=\"760.9375\" xlink:href=\"#DejaVuSans-121\"/>\r\n       <use x=\"820.117188\" xlink:href=\"#DejaVuSans-32\"/>\r\n       <use x=\"851.904297\" xlink:href=\"#DejaVuSans-112\"/>\r\n       <use x=\"915.380859\" xlink:href=\"#DejaVuSans-117\"/>\r\n       <use x=\"978.759766\" xlink:href=\"#DejaVuSans-98\"/>\r\n       <use x=\"1042.236328\" xlink:href=\"#DejaVuSans-108\"/>\r\n       <use x=\"1070.019531\" xlink:href=\"#DejaVuSans-105\"/>\r\n       <use x=\"1097.802734\" xlink:href=\"#DejaVuSans-99\"/>\r\n       <use x=\"1152.783203\" xlink:href=\"#DejaVuSans-32\"/>\r\n       <use x=\"1184.570312\" xlink:href=\"#DejaVuSans-115\"/>\r\n       <use x=\"1236.669922\" xlink:href=\"#DejaVuSans-97\"/>\r\n       <use x=\"1297.949219\" xlink:href=\"#DejaVuSans-102\"/>\r\n       <use x=\"1333.154297\" xlink:href=\"#DejaVuSans-101\"/>\r\n       <use x=\"1394.677734\" xlink:href=\"#DejaVuSans-116\"/>\r\n       <use x=\"1433.886719\" xlink:href=\"#DejaVuSans-121\"/>\r\n       <use x=\"1493.066406\" xlink:href=\"#DejaVuSans-32\"/>\r\n       <use x=\"1524.853516\" xlink:href=\"#DejaVuSans-111\"/>\r\n       <use x=\"1586.035156\" xlink:href=\"#DejaVuSans-102\"/>\r\n       <use x=\"1621.240234\" xlink:href=\"#DejaVuSans-102\"/>\r\n       <use x=\"1656.445312\" xlink:href=\"#DejaVuSans-105\"/>\r\n       <use x=\"1684.228516\" xlink:href=\"#DejaVuSans-99\"/>\r\n       <use x=\"1739.208984\" xlink:href=\"#DejaVuSans-101\"/>\r\n       <use x=\"1800.732422\" xlink:href=\"#DejaVuSans-114\"/>\r\n       <use x=\"1841.845703\" xlink:href=\"#DejaVuSans-115\"/>\r\n      </g>\r\n     </g>\r\n    </g>\r\n    <g id=\"ytick_5\">\r\n     <g id=\"line2d_15\">\r\n      <g>\r\n       <use style=\"stroke:#000000;stroke-width:0.8;\" x=\"205.4375\" xlink:href=\"#m6791a1d7f0\" y=\"108.847219\"/>\r\n      </g>\r\n     </g>\r\n     <g id=\"text_15\">\r\n      <!-- Interactions with public safety officers -->\r\n      <g transform=\"translate(7.2 112.646438)scale(0.1 -0.1)\">\r\n       <use xlink:href=\"#DejaVuSans-73\"/>\r\n       <use x=\"29.492188\" xlink:href=\"#DejaVuSans-110\"/>\r\n       <use x=\"92.871094\" xlink:href=\"#DejaVuSans-116\"/>\r\n       <use x=\"132.080078\" xlink:href=\"#DejaVuSans-101\"/>\r\n       <use x=\"193.603516\" xlink:href=\"#DejaVuSans-114\"/>\r\n       <use x=\"234.716797\" xlink:href=\"#DejaVuSans-97\"/>\r\n       <use x=\"295.996094\" xlink:href=\"#DejaVuSans-99\"/>\r\n       <use x=\"350.976562\" xlink:href=\"#DejaVuSans-116\"/>\r\n       <use x=\"390.185547\" xlink:href=\"#DejaVuSans-105\"/>\r\n       <use x=\"417.96875\" xlink:href=\"#DejaVuSans-111\"/>\r\n       <use x=\"479.150391\" xlink:href=\"#DejaVuSans-110\"/>\r\n       <use x=\"542.529297\" xlink:href=\"#DejaVuSans-115\"/>\r\n       <use x=\"594.628906\" xlink:href=\"#DejaVuSans-32\"/>\r\n       <use x=\"626.416016\" xlink:href=\"#DejaVuSans-119\"/>\r\n       <use x=\"708.203125\" xlink:href=\"#DejaVuSans-105\"/>\r\n       <use x=\"735.986328\" xlink:href=\"#DejaVuSans-116\"/>\r\n       <use x=\"775.195312\" xlink:href=\"#DejaVuSans-104\"/>\r\n       <use x=\"838.574219\" xlink:href=\"#DejaVuSans-32\"/>\r\n       <use x=\"870.361328\" xlink:href=\"#DejaVuSans-112\"/>\r\n       <use x=\"933.837891\" xlink:href=\"#DejaVuSans-117\"/>\r\n       <use x=\"997.216797\" xlink:href=\"#DejaVuSans-98\"/>\r\n       <use x=\"1060.693359\" xlink:href=\"#DejaVuSans-108\"/>\r\n       <use x=\"1088.476562\" xlink:href=\"#DejaVuSans-105\"/>\r\n       <use x=\"1116.259766\" xlink:href=\"#DejaVuSans-99\"/>\r\n       <use x=\"1171.240234\" xlink:href=\"#DejaVuSans-32\"/>\r\n       <use x=\"1203.027344\" xlink:href=\"#DejaVuSans-115\"/>\r\n       <use x=\"1255.126953\" xlink:href=\"#DejaVuSans-97\"/>\r\n       <use x=\"1316.40625\" xlink:href=\"#DejaVuSans-102\"/>\r\n       <use x=\"1351.611328\" xlink:href=\"#DejaVuSans-101\"/>\r\n       <use x=\"1413.134766\" xlink:href=\"#DejaVuSans-116\"/>\r\n       <use x=\"1452.34375\" xlink:href=\"#DejaVuSans-121\"/>\r\n       <use x=\"1511.523438\" xlink:href=\"#DejaVuSans-32\"/>\r\n       <use x=\"1543.310547\" xlink:href=\"#DejaVuSans-111\"/>\r\n       <use x=\"1604.492188\" xlink:href=\"#DejaVuSans-102\"/>\r\n       <use x=\"1639.697266\" xlink:href=\"#DejaVuSans-102\"/>\r\n       <use x=\"1674.902344\" xlink:href=\"#DejaVuSans-105\"/>\r\n       <use x=\"1702.685547\" xlink:href=\"#DejaVuSans-99\"/>\r\n       <use x=\"1757.666016\" xlink:href=\"#DejaVuSans-101\"/>\r\n       <use x=\"1819.189453\" xlink:href=\"#DejaVuSans-114\"/>\r\n       <use x=\"1860.302734\" xlink:href=\"#DejaVuSans-115\"/>\r\n      </g>\r\n     </g>\r\n    </g>\r\n    <g id=\"ytick_6\">\r\n     <g id=\"line2d_16\">\r\n      <g>\r\n       <use style=\"stroke:#000000;stroke-width:0.8;\" x=\"205.4375\" xlink:href=\"#m6791a1d7f0\" y=\"130.591219\"/>\r\n      </g>\r\n     </g>\r\n     <g id=\"text_16\">\r\n      <!-- Total Quotation -->\r\n      <g transform=\"translate(122.375 134.390438)scale(0.1 -0.1)\">\r\n       <use xlink:href=\"#DejaVuSans-84\"/>\r\n       <use x=\"44.083984\" xlink:href=\"#DejaVuSans-111\"/>\r\n       <use x=\"105.265625\" xlink:href=\"#DejaVuSans-116\"/>\r\n       <use x=\"144.474609\" xlink:href=\"#DejaVuSans-97\"/>\r\n       <use x=\"205.753906\" xlink:href=\"#DejaVuSans-108\"/>\r\n       <use x=\"233.537109\" xlink:href=\"#DejaVuSans-32\"/>\r\n       <use x=\"265.324219\" xlink:href=\"#DejaVuSans-81\"/>\r\n       <use x=\"344.035156\" xlink:href=\"#DejaVuSans-117\"/>\r\n       <use x=\"407.414062\" xlink:href=\"#DejaVuSans-111\"/>\r\n       <use x=\"468.595703\" xlink:href=\"#DejaVuSans-116\"/>\r\n       <use x=\"507.804688\" xlink:href=\"#DejaVuSans-97\"/>\r\n       <use x=\"569.083984\" xlink:href=\"#DejaVuSans-116\"/>\r\n       <use x=\"608.292969\" xlink:href=\"#DejaVuSans-105\"/>\r\n       <use x=\"636.076172\" xlink:href=\"#DejaVuSans-111\"/>\r\n       <use x=\"697.257812\" xlink:href=\"#DejaVuSans-110\"/>\r\n      </g>\r\n     </g>\r\n    </g>\r\n    <g id=\"ytick_7\">\r\n     <g id=\"line2d_17\">\r\n      <g>\r\n       <use style=\"stroke:#000000;stroke-width:0.8;\" x=\"205.4375\" xlink:href=\"#m6791a1d7f0\" y=\"152.335219\"/>\r\n      </g>\r\n     </g>\r\n     <g id=\"text_17\">\r\n      <!-- Number_Of_Sanitation_Activities -->\r\n      <g transform=\"translate(35.457812 156.134438)scale(0.1 -0.1)\">\r\n       <use xlink:href=\"#DejaVuSans-78\"/>\r\n       <use x=\"74.804688\" xlink:href=\"#DejaVuSans-117\"/>\r\n       <use x=\"138.183594\" xlink:href=\"#DejaVuSans-109\"/>\r\n       <use x=\"235.595703\" xlink:href=\"#DejaVuSans-98\"/>\r\n       <use x=\"299.072266\" xlink:href=\"#DejaVuSans-101\"/>\r\n       <use x=\"360.595703\" xlink:href=\"#DejaVuSans-114\"/>\r\n       <use x=\"401.708984\" xlink:href=\"#DejaVuSans-95\"/>\r\n       <use x=\"451.708984\" xlink:href=\"#DejaVuSans-79\"/>\r\n       <use x=\"530.419922\" xlink:href=\"#DejaVuSans-102\"/>\r\n       <use x=\"565.625\" xlink:href=\"#DejaVuSans-95\"/>\r\n       <use x=\"615.625\" xlink:href=\"#DejaVuSans-83\"/>\r\n       <use x=\"679.101562\" xlink:href=\"#DejaVuSans-97\"/>\r\n       <use x=\"740.380859\" xlink:href=\"#DejaVuSans-110\"/>\r\n       <use x=\"803.759766\" xlink:href=\"#DejaVuSans-105\"/>\r\n       <use x=\"831.542969\" xlink:href=\"#DejaVuSans-116\"/>\r\n       <use x=\"870.751953\" xlink:href=\"#DejaVuSans-97\"/>\r\n       <use x=\"932.03125\" xlink:href=\"#DejaVuSans-116\"/>\r\n       <use x=\"971.240234\" xlink:href=\"#DejaVuSans-105\"/>\r\n       <use x=\"999.023438\" xlink:href=\"#DejaVuSans-111\"/>\r\n       <use x=\"1060.205078\" xlink:href=\"#DejaVuSans-110\"/>\r\n       <use x=\"1123.583984\" xlink:href=\"#DejaVuSans-95\"/>\r\n       <use x=\"1173.583984\" xlink:href=\"#DejaVuSans-65\"/>\r\n       <use x=\"1240.242188\" xlink:href=\"#DejaVuSans-99\"/>\r\n       <use x=\"1295.222656\" xlink:href=\"#DejaVuSans-116\"/>\r\n       <use x=\"1334.431641\" xlink:href=\"#DejaVuSans-105\"/>\r\n       <use x=\"1362.214844\" xlink:href=\"#DejaVuSans-118\"/>\r\n       <use x=\"1421.394531\" xlink:href=\"#DejaVuSans-105\"/>\r\n       <use x=\"1449.177734\" xlink:href=\"#DejaVuSans-116\"/>\r\n       <use x=\"1488.386719\" xlink:href=\"#DejaVuSans-105\"/>\r\n       <use x=\"1516.169922\" xlink:href=\"#DejaVuSans-101\"/>\r\n       <use x=\"1577.693359\" xlink:href=\"#DejaVuSans-115\"/>\r\n      </g>\r\n     </g>\r\n    </g>\r\n    <g id=\"ytick_8\">\r\n     <g id=\"line2d_18\">\r\n      <g>\r\n       <use style=\"stroke:#000000;stroke-width:0.8;\" x=\"205.4375\" xlink:href=\"#m6791a1d7f0\" y=\"174.079219\"/>\r\n      </g>\r\n     </g>\r\n     <g id=\"text_18\">\r\n      <!-- Beautification_Activities -->\r\n      <g transform=\"translate(78.559375 177.878437)scale(0.1 -0.1)\">\r\n       <use xlink:href=\"#DejaVuSans-66\"/>\r\n       <use x=\"68.603516\" xlink:href=\"#DejaVuSans-101\"/>\r\n       <use x=\"130.126953\" xlink:href=\"#DejaVuSans-97\"/>\r\n       <use x=\"191.40625\" xlink:href=\"#DejaVuSans-117\"/>\r\n       <use x=\"254.785156\" xlink:href=\"#DejaVuSans-116\"/>\r\n       <use x=\"293.994141\" xlink:href=\"#DejaVuSans-105\"/>\r\n       <use x=\"321.777344\" xlink:href=\"#DejaVuSans-102\"/>\r\n       <use x=\"356.982422\" xlink:href=\"#DejaVuSans-105\"/>\r\n       <use x=\"384.765625\" xlink:href=\"#DejaVuSans-99\"/>\r\n       <use x=\"439.746094\" xlink:href=\"#DejaVuSans-97\"/>\r\n       <use x=\"501.025391\" xlink:href=\"#DejaVuSans-116\"/>\r\n       <use x=\"540.234375\" xlink:href=\"#DejaVuSans-105\"/>\r\n       <use x=\"568.017578\" xlink:href=\"#DejaVuSans-111\"/>\r\n       <use x=\"629.199219\" xlink:href=\"#DejaVuSans-110\"/>\r\n       <use x=\"692.578125\" xlink:href=\"#DejaVuSans-95\"/>\r\n       <use x=\"742.578125\" xlink:href=\"#DejaVuSans-65\"/>\r\n       <use x=\"809.236328\" xlink:href=\"#DejaVuSans-99\"/>\r\n       <use x=\"864.216797\" xlink:href=\"#DejaVuSans-116\"/>\r\n       <use x=\"903.425781\" xlink:href=\"#DejaVuSans-105\"/>\r\n       <use x=\"931.208984\" xlink:href=\"#DejaVuSans-118\"/>\r\n       <use x=\"990.388672\" xlink:href=\"#DejaVuSans-105\"/>\r\n       <use x=\"1018.171875\" xlink:href=\"#DejaVuSans-116\"/>\r\n       <use x=\"1057.380859\" xlink:href=\"#DejaVuSans-105\"/>\r\n       <use x=\"1085.164062\" xlink:href=\"#DejaVuSans-101\"/>\r\n       <use x=\"1146.6875\" xlink:href=\"#DejaVuSans-115\"/>\r\n      </g>\r\n     </g>\r\n    </g>\r\n    <g id=\"ytick_9\">\r\n     <g id=\"line2d_19\">\r\n      <g>\r\n       <use style=\"stroke:#000000;stroke-width:0.8;\" x=\"205.4375\" xlink:href=\"#m6791a1d7f0\" y=\"195.823219\"/>\r\n      </g>\r\n     </g>\r\n     <g id=\"text_19\">\r\n      <!-- Media_Reach -->\r\n      <g transform=\"translate(132.785937 199.622438)scale(0.1 -0.1)\">\r\n       <use xlink:href=\"#DejaVuSans-77\"/>\r\n       <use x=\"86.279297\" xlink:href=\"#DejaVuSans-101\"/>\r\n       <use x=\"147.802734\" xlink:href=\"#DejaVuSans-100\"/>\r\n       <use x=\"211.279297\" xlink:href=\"#DejaVuSans-105\"/>\r\n       <use x=\"239.0625\" xlink:href=\"#DejaVuSans-97\"/>\r\n       <use x=\"300.341797\" xlink:href=\"#DejaVuSans-95\"/>\r\n       <use x=\"350.341797\" xlink:href=\"#DejaVuSans-82\"/>\r\n       <use x=\"415.324219\" xlink:href=\"#DejaVuSans-101\"/>\r\n       <use x=\"476.847656\" xlink:href=\"#DejaVuSans-97\"/>\r\n       <use x=\"538.126953\" xlink:href=\"#DejaVuSans-99\"/>\r\n       <use x=\"593.107422\" xlink:href=\"#DejaVuSans-104\"/>\r\n      </g>\r\n     </g>\r\n    </g>\r\n    <g id=\"ytick_10\">\r\n     <g id=\"line2d_20\">\r\n      <g>\r\n       <use style=\"stroke:#000000;stroke-width:0.8;\" x=\"205.4375\" xlink:href=\"#m6791a1d7f0\" y=\"217.567219\"/>\r\n      </g>\r\n     </g>\r\n     <g id=\"text_20\">\r\n      <!-- Total_Staff -->\r\n      <g transform=\"translate(146.646875 221.366437)scale(0.1 -0.1)\">\r\n       <use xlink:href=\"#DejaVuSans-84\"/>\r\n       <use x=\"44.083984\" xlink:href=\"#DejaVuSans-111\"/>\r\n       <use x=\"105.265625\" xlink:href=\"#DejaVuSans-116\"/>\r\n       <use x=\"144.474609\" xlink:href=\"#DejaVuSans-97\"/>\r\n       <use x=\"205.753906\" xlink:href=\"#DejaVuSans-108\"/>\r\n       <use x=\"233.537109\" xlink:href=\"#DejaVuSans-95\"/>\r\n       <use x=\"283.537109\" xlink:href=\"#DejaVuSans-83\"/>\r\n       <use x=\"347.013672\" xlink:href=\"#DejaVuSans-116\"/>\r\n       <use x=\"386.222656\" xlink:href=\"#DejaVuSans-97\"/>\r\n       <use x=\"447.501953\" xlink:href=\"#DejaVuSans-102\"/>\r\n       <use x=\"482.707031\" xlink:href=\"#DejaVuSans-102\"/>\r\n      </g>\r\n     </g>\r\n    </g>\r\n   </g>\r\n  </g>\r\n  <g id=\"axes_2\">\r\n   <g id=\"patch_3\">\r\n    <path clip-path=\"url(#p837adc9b8c)\" d=\"M 490.0175 228.439219 \r\nL 490.0175 227.589844 \r\nL 490.0175 11.848594 \r\nL 490.0175 10.999219 \r\nL 500.8895 10.999219 \r\nL 500.8895 11.848594 \r\nL 500.8895 227.589844 \r\nL 500.8895 228.439219 \r\nz\r\n\" style=\"fill:#ffffff;stroke:#ffffff;stroke-linejoin:miter;stroke-width:0.01;\"/>\r\n   </g>\r\n   <image height=\"218\" id=\"image1e9759250f\" transform=\"scale(1 -1)translate(0 -218)\" width=\"11\" x=\"490\" xlink:href=\"data:image/png;base64,\r\niVBORw0KGgoAAAANSUhEUgAAAAsAAADaCAYAAABwzrisAAABXElEQVR4nN3aUQ7CMAwD0KYNl+D+5wSu0PdhKWzfluXYbgbb6rze33V5dd0i11q9974H17rn7ioAbwGTDGI+JW7kBiTmWChBN3JFsm4cAY+o6JTyk4wZcVv514jy24DXUI17SoJm3f0VLT/ISPoMMqj8xBzcGyKjcytXZAwp0vnDAS3uWJFwmQNzTkZf/5dwGQTOhQLgI27ggAKOhdICrse7ESz/PbUNGFyMX9A8xI0SZis/aQ4yCxhS6SPMBbugt4CtSMQs4AO1S7ohCdqA55OSMcQ6OIS9h7hh1oGMDfc2C4V8RjeAeVGRYPWjDHNjBHPB0lUZKeYlzDigMNuAMRnyyEJ+nvSSd0BTrJPndeRGxdwwzcTc8CIjJ2OKdeYGVXTEsSI3KtiNGJhCOfd3+jGaczLIjVzcQ4r0dDfqvELMY9yQ9RWLu+RTgaAbtutGbP7KFYnK/48Dpk7KDz/QKyetnDC4AAAAAElFTkSuQmCC\" y=\"-10\"/>\r\n   <g id=\"matplotlib.axis_3\"/>\r\n   <g id=\"matplotlib.axis_4\">\r\n    <g id=\"ytick_11\">\r\n     <g id=\"line2d_21\">\r\n      <defs>\r\n       <path d=\"M 0 0 \r\nL 3.5 0 \r\n\" id=\"m421a1b8b74\" style=\"stroke:#000000;stroke-width:0.8;\"/>\r\n      </defs>\r\n      <g>\r\n       <use style=\"stroke:#000000;stroke-width:0.8;\" x=\"500.8895\" xlink:href=\"#m421a1b8b74\" y=\"211.400237\"/>\r\n      </g>\r\n     </g>\r\n     <g id=\"text_21\">\r\n      <!-- −0.2 -->\r\n      <g transform=\"translate(507.8895 215.199455)scale(0.1 -0.1)\">\r\n       <defs>\r\n        <path d=\"M 10.59375 35.5 \r\nL 73.1875 35.5 \r\nL 73.1875 27.203125 \r\nL 10.59375 27.203125 \r\nz\r\n\" id=\"DejaVuSans-8722\"/>\r\n        <path d=\"M 31.78125 66.40625 \r\nQ 24.171875 66.40625 20.328125 58.90625 \r\nQ 16.5 51.421875 16.5 36.375 \r\nQ 16.5 21.390625 20.328125 13.890625 \r\nQ 24.171875 6.390625 31.78125 6.390625 \r\nQ 39.453125 6.390625 43.28125 13.890625 \r\nQ 47.125 21.390625 47.125 36.375 \r\nQ 47.125 51.421875 43.28125 58.90625 \r\nQ 39.453125 66.40625 31.78125 66.40625 \r\nz\r\nM 31.78125 74.21875 \r\nQ 44.046875 74.21875 50.515625 64.515625 \r\nQ 56.984375 54.828125 56.984375 36.375 \r\nQ 56.984375 17.96875 50.515625 8.265625 \r\nQ 44.046875 -1.421875 31.78125 -1.421875 \r\nQ 19.53125 -1.421875 13.0625 8.265625 \r\nQ 6.59375 17.96875 6.59375 36.375 \r\nQ 6.59375 54.828125 13.0625 64.515625 \r\nQ 19.53125 74.21875 31.78125 74.21875 \r\nz\r\n\" id=\"DejaVuSans-48\"/>\r\n        <path d=\"M 10.6875 12.40625 \r\nL 21 12.40625 \r\nL 21 0 \r\nL 10.6875 0 \r\nz\r\n\" id=\"DejaVuSans-46\"/>\r\n        <path d=\"M 19.1875 8.296875 \r\nL 53.609375 8.296875 \r\nL 53.609375 0 \r\nL 7.328125 0 \r\nL 7.328125 8.296875 \r\nQ 12.9375 14.109375 22.625 23.890625 \r\nQ 32.328125 33.6875 34.8125 36.53125 \r\nQ 39.546875 41.84375 41.421875 45.53125 \r\nQ 43.3125 49.21875 43.3125 52.78125 \r\nQ 43.3125 58.59375 39.234375 62.25 \r\nQ 35.15625 65.921875 28.609375 65.921875 \r\nQ 23.96875 65.921875 18.8125 64.3125 \r\nQ 13.671875 62.703125 7.8125 59.421875 \r\nL 7.8125 69.390625 \r\nQ 13.765625 71.78125 18.9375 73 \r\nQ 24.125 74.21875 28.421875 74.21875 \r\nQ 39.75 74.21875 46.484375 68.546875 \r\nQ 53.21875 62.890625 53.21875 53.421875 \r\nQ 53.21875 48.921875 51.53125 44.890625 \r\nQ 49.859375 40.875 45.40625 35.40625 \r\nQ 44.1875 33.984375 37.640625 27.21875 \r\nQ 31.109375 20.453125 19.1875 8.296875 \r\nz\r\n\" id=\"DejaVuSans-50\"/>\r\n       </defs>\r\n       <use xlink:href=\"#DejaVuSans-8722\"/>\r\n       <use x=\"83.789062\" xlink:href=\"#DejaVuSans-48\"/>\r\n       <use x=\"147.412109\" xlink:href=\"#DejaVuSans-46\"/>\r\n       <use x=\"179.199219\" xlink:href=\"#DejaVuSans-50\"/>\r\n      </g>\r\n     </g>\r\n    </g>\r\n    <g id=\"ytick_12\">\r\n     <g id=\"line2d_22\">\r\n      <g>\r\n       <use style=\"stroke:#000000;stroke-width:0.8;\" x=\"500.8895\" xlink:href=\"#m421a1b8b74\" y=\"178.000067\"/>\r\n      </g>\r\n     </g>\r\n     <g id=\"text_22\">\r\n      <!-- 0.0 -->\r\n      <g transform=\"translate(507.8895 181.799286)scale(0.1 -0.1)\">\r\n       <use xlink:href=\"#DejaVuSans-48\"/>\r\n       <use x=\"63.623047\" xlink:href=\"#DejaVuSans-46\"/>\r\n       <use x=\"95.410156\" xlink:href=\"#DejaVuSans-48\"/>\r\n      </g>\r\n     </g>\r\n    </g>\r\n    <g id=\"ytick_13\">\r\n     <g id=\"line2d_23\">\r\n      <g>\r\n       <use style=\"stroke:#000000;stroke-width:0.8;\" x=\"500.8895\" xlink:href=\"#m421a1b8b74\" y=\"144.599897\"/>\r\n      </g>\r\n     </g>\r\n     <g id=\"text_23\">\r\n      <!-- 0.2 -->\r\n      <g transform=\"translate(507.8895 148.399116)scale(0.1 -0.1)\">\r\n       <use xlink:href=\"#DejaVuSans-48\"/>\r\n       <use x=\"63.623047\" xlink:href=\"#DejaVuSans-46\"/>\r\n       <use x=\"95.410156\" xlink:href=\"#DejaVuSans-50\"/>\r\n      </g>\r\n     </g>\r\n    </g>\r\n    <g id=\"ytick_14\">\r\n     <g id=\"line2d_24\">\r\n      <g>\r\n       <use style=\"stroke:#000000;stroke-width:0.8;\" x=\"500.8895\" xlink:href=\"#m421a1b8b74\" y=\"111.199728\"/>\r\n      </g>\r\n     </g>\r\n     <g id=\"text_24\">\r\n      <!-- 0.4 -->\r\n      <g transform=\"translate(507.8895 114.998946)scale(0.1 -0.1)\">\r\n       <defs>\r\n        <path d=\"M 37.796875 64.3125 \r\nL 12.890625 25.390625 \r\nL 37.796875 25.390625 \r\nz\r\nM 35.203125 72.90625 \r\nL 47.609375 72.90625 \r\nL 47.609375 25.390625 \r\nL 58.015625 25.390625 \r\nL 58.015625 17.1875 \r\nL 47.609375 17.1875 \r\nL 47.609375 0 \r\nL 37.796875 0 \r\nL 37.796875 17.1875 \r\nL 4.890625 17.1875 \r\nL 4.890625 26.703125 \r\nz\r\n\" id=\"DejaVuSans-52\"/>\r\n       </defs>\r\n       <use xlink:href=\"#DejaVuSans-48\"/>\r\n       <use x=\"63.623047\" xlink:href=\"#DejaVuSans-46\"/>\r\n       <use x=\"95.410156\" xlink:href=\"#DejaVuSans-52\"/>\r\n      </g>\r\n     </g>\r\n    </g>\r\n    <g id=\"ytick_15\">\r\n     <g id=\"line2d_25\">\r\n      <g>\r\n       <use style=\"stroke:#000000;stroke-width:0.8;\" x=\"500.8895\" xlink:href=\"#m421a1b8b74\" y=\"77.799558\"/>\r\n      </g>\r\n     </g>\r\n     <g id=\"text_25\">\r\n      <!-- 0.6 -->\r\n      <g transform=\"translate(507.8895 81.598777)scale(0.1 -0.1)\">\r\n       <defs>\r\n        <path d=\"M 33.015625 40.375 \r\nQ 26.375 40.375 22.484375 35.828125 \r\nQ 18.609375 31.296875 18.609375 23.390625 \r\nQ 18.609375 15.53125 22.484375 10.953125 \r\nQ 26.375 6.390625 33.015625 6.390625 \r\nQ 39.65625 6.390625 43.53125 10.953125 \r\nQ 47.40625 15.53125 47.40625 23.390625 \r\nQ 47.40625 31.296875 43.53125 35.828125 \r\nQ 39.65625 40.375 33.015625 40.375 \r\nz\r\nM 52.59375 71.296875 \r\nL 52.59375 62.3125 \r\nQ 48.875 64.0625 45.09375 64.984375 \r\nQ 41.3125 65.921875 37.59375 65.921875 \r\nQ 27.828125 65.921875 22.671875 59.328125 \r\nQ 17.53125 52.734375 16.796875 39.40625 \r\nQ 19.671875 43.65625 24.015625 45.921875 \r\nQ 28.375 48.1875 33.59375 48.1875 \r\nQ 44.578125 48.1875 50.953125 41.515625 \r\nQ 57.328125 34.859375 57.328125 23.390625 \r\nQ 57.328125 12.15625 50.6875 5.359375 \r\nQ 44.046875 -1.421875 33.015625 -1.421875 \r\nQ 20.359375 -1.421875 13.671875 8.265625 \r\nQ 6.984375 17.96875 6.984375 36.375 \r\nQ 6.984375 53.65625 15.1875 63.9375 \r\nQ 23.390625 74.21875 37.203125 74.21875 \r\nQ 40.921875 74.21875 44.703125 73.484375 \r\nQ 48.484375 72.75 52.59375 71.296875 \r\nz\r\n\" id=\"DejaVuSans-54\"/>\r\n       </defs>\r\n       <use xlink:href=\"#DejaVuSans-48\"/>\r\n       <use x=\"63.623047\" xlink:href=\"#DejaVuSans-46\"/>\r\n       <use x=\"95.410156\" xlink:href=\"#DejaVuSans-54\"/>\r\n      </g>\r\n     </g>\r\n    </g>\r\n    <g id=\"ytick_16\">\r\n     <g id=\"line2d_26\">\r\n      <g>\r\n       <use style=\"stroke:#000000;stroke-width:0.8;\" x=\"500.8895\" xlink:href=\"#m421a1b8b74\" y=\"44.399388\"/>\r\n      </g>\r\n     </g>\r\n     <g id=\"text_26\">\r\n      <!-- 0.8 -->\r\n      <g transform=\"translate(507.8895 48.198607)scale(0.1 -0.1)\">\r\n       <defs>\r\n        <path d=\"M 31.78125 34.625 \r\nQ 24.75 34.625 20.71875 30.859375 \r\nQ 16.703125 27.09375 16.703125 20.515625 \r\nQ 16.703125 13.921875 20.71875 10.15625 \r\nQ 24.75 6.390625 31.78125 6.390625 \r\nQ 38.8125 6.390625 42.859375 10.171875 \r\nQ 46.921875 13.96875 46.921875 20.515625 \r\nQ 46.921875 27.09375 42.890625 30.859375 \r\nQ 38.875 34.625 31.78125 34.625 \r\nz\r\nM 21.921875 38.8125 \r\nQ 15.578125 40.375 12.03125 44.71875 \r\nQ 8.5 49.078125 8.5 55.328125 \r\nQ 8.5 64.0625 14.71875 69.140625 \r\nQ 20.953125 74.21875 31.78125 74.21875 \r\nQ 42.671875 74.21875 48.875 69.140625 \r\nQ 55.078125 64.0625 55.078125 55.328125 \r\nQ 55.078125 49.078125 51.53125 44.71875 \r\nQ 48 40.375 41.703125 38.8125 \r\nQ 48.828125 37.15625 52.796875 32.3125 \r\nQ 56.78125 27.484375 56.78125 20.515625 \r\nQ 56.78125 9.90625 50.3125 4.234375 \r\nQ 43.84375 -1.421875 31.78125 -1.421875 \r\nQ 19.734375 -1.421875 13.25 4.234375 \r\nQ 6.78125 9.90625 6.78125 20.515625 \r\nQ 6.78125 27.484375 10.78125 32.3125 \r\nQ 14.796875 37.15625 21.921875 38.8125 \r\nz\r\nM 18.3125 54.390625 \r\nQ 18.3125 48.734375 21.84375 45.5625 \r\nQ 25.390625 42.390625 31.78125 42.390625 \r\nQ 38.140625 42.390625 41.71875 45.5625 \r\nQ 45.3125 48.734375 45.3125 54.390625 \r\nQ 45.3125 60.0625 41.71875 63.234375 \r\nQ 38.140625 66.40625 31.78125 66.40625 \r\nQ 25.390625 66.40625 21.84375 63.234375 \r\nQ 18.3125 60.0625 18.3125 54.390625 \r\nz\r\n\" id=\"DejaVuSans-56\"/>\r\n       </defs>\r\n       <use xlink:href=\"#DejaVuSans-48\"/>\r\n       <use x=\"63.623047\" xlink:href=\"#DejaVuSans-46\"/>\r\n       <use x=\"95.410156\" xlink:href=\"#DejaVuSans-56\"/>\r\n      </g>\r\n     </g>\r\n    </g>\r\n    <g id=\"ytick_17\">\r\n     <g id=\"line2d_27\">\r\n      <g>\r\n       <use style=\"stroke:#000000;stroke-width:0.8;\" x=\"500.8895\" xlink:href=\"#m421a1b8b74\" y=\"10.999219\"/>\r\n      </g>\r\n     </g>\r\n     <g id=\"text_27\">\r\n      <!-- 1.0 -->\r\n      <g transform=\"translate(507.8895 14.798438)scale(0.1 -0.1)\">\r\n       <defs>\r\n        <path d=\"M 12.40625 8.296875 \r\nL 28.515625 8.296875 \r\nL 28.515625 63.921875 \r\nL 10.984375 60.40625 \r\nL 10.984375 69.390625 \r\nL 28.421875 72.90625 \r\nL 38.28125 72.90625 \r\nL 38.28125 8.296875 \r\nL 54.390625 8.296875 \r\nL 54.390625 0 \r\nL 12.40625 0 \r\nz\r\n\" id=\"DejaVuSans-49\"/>\r\n       </defs>\r\n       <use xlink:href=\"#DejaVuSans-49\"/>\r\n       <use x=\"63.623047\" xlink:href=\"#DejaVuSans-46\"/>\r\n       <use x=\"95.410156\" xlink:href=\"#DejaVuSans-48\"/>\r\n      </g>\r\n     </g>\r\n    </g>\r\n   </g>\r\n   <g id=\"patch_4\">\r\n    <path d=\"M 490.0175 228.439219 \r\nL 490.0175 227.589844 \r\nL 490.0175 11.848594 \r\nL 490.0175 10.999219 \r\nL 500.8895 10.999219 \r\nL 500.8895 11.848594 \r\nL 500.8895 227.589844 \r\nL 500.8895 228.439219 \r\nz\r\n\" style=\"fill:none;\"/>\r\n   </g>\r\n  </g>\r\n </g>\r\n <defs>\r\n  <clipPath id=\"p4a77e2cbea\">\r\n   <rect height=\"217.44\" width=\"267.84\" x=\"205.4375\" y=\"10.999219\"/>\r\n  </clipPath>\r\n  <clipPath id=\"p837adc9b8c\">\r\n   <rect height=\"217.44\" width=\"10.872\" x=\"490.0175\" y=\"10.999219\"/>\r\n  </clipPath>\r\n </defs>\r\n</svg>\r\n",
            "image/png": "[encoded data removed]"
          },
          "metadata": {
            "needs_background": "light"
          }
        }
      ]
    },
    {
      "cell_type": "markdown",
      "metadata": {
        "id": "hP7Z8ZQLYFj7"
      },
      "source": [
        "**2. Modelling**"
      ]
    },
    {
      "cell_type": "code",
      "metadata": {
        "id": "qgHOnB5t_FUo"
      },
      "source": [
        "df.shape"
      ],
      "execution_count": 45,
      "outputs": [
        {
          "output_type": "execute_result",
          "data": {
            "text/plain": [
              "(99998, 26)"
            ]
          },
          "metadata": {},
          "execution_count": 45
        }
      ]
    },
    {
      "cell_type": "code",
      "metadata": {
        "id": "da_JhN24BH6z"
      },
      "source": [
        "df.dtypes"
      ],
      "execution_count": 46,
      "outputs": [
        {
          "output_type": "execute_result",
          "data": {
            "text/plain": [
              "company name                                                          object\n",
              "Floor Size                                                           float64\n",
              "Current clients                                                       object\n",
              "Bid provides supplemental sanitation services                         object\n",
              "Days per week of sanitation services                                 float64\n",
              "Hours logged by sanitation workers                                   float64\n",
              "Bid provides supplemental public safety services                      object\n",
              "Hours logged by public safety officers                               float64\n",
              "Interactions with public safety officers                             float64\n",
              "Bid provides supplemental streetscape and beautification services     object\n",
              "Bid has holiday lighting program                                      object\n",
              "Communication channels used                                           object\n",
              "Special event charges                                                 object\n",
              "Miscellaneous charges                                                 object\n",
              "Sanitation expenses                                                   object\n",
              "Public safety expenses                                                object\n",
              "Streetscape & beautification expenses                                 object\n",
              "Salaries                                                              object\n",
              "Outside contractor expenses                                           object\n",
              "Insurance costs                                                       object\n",
              "Supplies and equipment costs                                          object\n",
              "Total Quotation                                                        int32\n",
              "Number_Of_Sanitation_Activities                                      float64\n",
              "Beautification_Activities                                            float64\n",
              "Media_Reach                                                          float64\n",
              "Total_Staff                                                          float64\n",
              "dtype: object"
            ]
          },
          "metadata": {},
          "execution_count": 46
        }
      ]
    },
    {
      "cell_type": "code",
      "metadata": {
        "id": "WZsOpfpQBV_1"
      },
      "source": [
        "df.head(4)"
      ],
      "execution_count": 47,
      "outputs": [
        {
          "output_type": "execute_result",
          "data": {
            "text/plain": [
              "       company name  Floor Size Current clients  \\\n",
              "0        Moreno LLC      5220.0             145   \n",
              "1        Murphy LLC      1740.0             168   \n",
              "2  Espinoza-Esparza      8150.0              42   \n",
              "3        Bailey LLC     41110.0    I don't know   \n",
              "\n",
              "  Bid provides supplemental sanitation services  \\\n",
              "0                                           Yes   \n",
              "1                                           Yes   \n",
              "2                                            No   \n",
              "3                                           Yes   \n",
              "\n",
              "   Days per week of sanitation services  Hours logged by sanitation workers  \\\n",
              "0                                   7.0                             61051.0   \n",
              "1                                   7.0                             22166.0   \n",
              "2                                   NaN                            139371.0   \n",
              "3                                   7.0                             24475.0   \n",
              "\n",
              "  Bid provides supplemental public safety services  \\\n",
              "0                                               No   \n",
              "1                                              Yes   \n",
              "2                                              Yes   \n",
              "3                                              Yes   \n",
              "\n",
              "   Hours logged by public safety officers  \\\n",
              "0                                 24732.0   \n",
              "1                                 68063.0   \n",
              "2                                 86605.0   \n",
              "3                                 31890.0   \n",
              "\n",
              "   Interactions with public safety officers  \\\n",
              "0                                       NaN   \n",
              "1                                   99101.0   \n",
              "2                                   37825.0   \n",
              "3                                  118658.0   \n",
              "\n",
              "  Bid provides supplemental streetscape and beautification services  ...  \\\n",
              "0                                                Yes                 ...   \n",
              "1                                                Yes                 ...   \n",
              "2                                                 No                 ...   \n",
              "3                                                Yes                 ...   \n",
              "\n",
              "  Streetscape & beautification expenses  Salaries Outside contractor expenses  \\\n",
              "0                                39202    194141                      101399    \n",
              "1                               180065    425466                       72166    \n",
              "2                                44974    745962                      141833    \n",
              "3                               187628   1189014                       72668    \n",
              "\n",
              "  Insurance costs Supplies and equipment costs Total Quotation  \\\n",
              "0           2035                         3749           172826   \n",
              "1          70631                        14730           499849   \n",
              "2          68790                        19293           125306   \n",
              "3          75686                        13038          1070827   \n",
              "\n",
              "  Number_Of_Sanitation_Activities Beautification_Activities Media_Reach  \\\n",
              "0                         89961.0                     573.0   3031529.0   \n",
              "1                        194267.0                     558.0  20052785.0   \n",
              "2                         61961.0                     985.0  35932251.0   \n",
              "3                        146747.0                     617.0  48275471.0   \n",
              "\n",
              "  Total_Staff  \n",
              "0        49.0  \n",
              "1       127.0  \n",
              "2        22.0  \n",
              "3        36.0  \n",
              "\n",
              "[4 rows x 26 columns]"
            ],
            "text/html": "<div>\n<style scoped>\n    .dataframe tbody tr th:only-of-type {\n        vertical-align: middle;\n    }\n\n    .dataframe tbody tr th {\n        vertical-align: top;\n    }\n\n    .dataframe thead th {\n        text-align: right;\n    }\n</style>\n<table border=\"1\" class=\"dataframe\">\n  <thead>\n    <tr style=\"text-align: right;\">\n      <th></th>\n      <th>company name</th>\n      <th>Floor Size</th>\n      <th>Current clients</th>\n      <th>Bid provides supplemental sanitation services</th>\n      <th>Days per week of sanitation services</th>\n      <th>Hours logged by sanitation workers</th>\n      <th>Bid provides supplemental public safety services</th>\n      <th>Hours logged by public safety officers</th>\n      <th>Interactions with public safety officers</th>\n      <th>Bid provides supplemental streetscape and beautification services</th>\n      <th>...</th>\n      <th>Streetscape &amp; beautification expenses</th>\n      <th>Salaries</th>\n      <th>Outside contractor expenses</th>\n      <th>Insurance costs</th>\n      <th>Supplies and equipment costs</th>\n      <th>Total Quotation</th>\n      <th>Number_Of_Sanitation_Activities</th>\n      <th>Beautification_Activities</th>\n      <th>Media_Reach</th>\n      <th>Total_Staff</th>\n    </tr>\n  </thead>\n  <tbody>\n    <tr>\n      <th>0</th>\n      <td>Moreno LLC</td>\n      <td>5220.0</td>\n      <td>145</td>\n      <td>Yes</td>\n      <td>7.0</td>\n      <td>61051.0</td>\n      <td>No</td>\n      <td>24732.0</td>\n      <td>NaN</td>\n      <td>Yes</td>\n      <td>...</td>\n      <td>39202</td>\n      <td>194141</td>\n      <td>101399</td>\n      <td>2035</td>\n      <td>3749</td>\n      <td>172826</td>\n      <td>89961.0</td>\n      <td>573.0</td>\n      <td>3031529.0</td>\n      <td>49.0</td>\n    </tr>\n    <tr>\n      <th>1</th>\n      <td>Murphy LLC</td>\n      <td>1740.0</td>\n      <td>168</td>\n      <td>Yes</td>\n      <td>7.0</td>\n      <td>22166.0</td>\n      <td>Yes</td>\n      <td>68063.0</td>\n      <td>99101.0</td>\n      <td>Yes</td>\n      <td>...</td>\n      <td>180065</td>\n      <td>425466</td>\n      <td>72166</td>\n      <td>70631</td>\n      <td>14730</td>\n      <td>499849</td>\n      <td>194267.0</td>\n      <td>558.0</td>\n      <td>20052785.0</td>\n      <td>127.0</td>\n    </tr>\n    <tr>\n      <th>2</th>\n      <td>Espinoza-Esparza</td>\n      <td>8150.0</td>\n      <td>42</td>\n      <td>No</td>\n      <td>NaN</td>\n      <td>139371.0</td>\n      <td>Yes</td>\n      <td>86605.0</td>\n      <td>37825.0</td>\n      <td>No</td>\n      <td>...</td>\n      <td>44974</td>\n      <td>745962</td>\n      <td>141833</td>\n      <td>68790</td>\n      <td>19293</td>\n      <td>125306</td>\n      <td>61961.0</td>\n      <td>985.0</td>\n      <td>35932251.0</td>\n      <td>22.0</td>\n    </tr>\n    <tr>\n      <th>3</th>\n      <td>Bailey LLC</td>\n      <td>41110.0</td>\n      <td>I don't know</td>\n      <td>Yes</td>\n      <td>7.0</td>\n      <td>24475.0</td>\n      <td>Yes</td>\n      <td>31890.0</td>\n      <td>118658.0</td>\n      <td>Yes</td>\n      <td>...</td>\n      <td>187628</td>\n      <td>1189014</td>\n      <td>72668</td>\n      <td>75686</td>\n      <td>13038</td>\n      <td>1070827</td>\n      <td>146747.0</td>\n      <td>617.0</td>\n      <td>48275471.0</td>\n      <td>36.0</td>\n    </tr>\n  </tbody>\n</table>\n<p>4 rows × 26 columns</p>\n</div>"
          },
          "metadata": {},
          "execution_count": 47
        }
      ]
    },
    {
      "cell_type": "code",
      "metadata": {
        "id": "1_zijgyNCvFc"
      },
      "source": [
        "pd.to_numeric(df['Hours logged by public safety officers'])"
      ],
      "execution_count": 48,
      "outputs": [
        {
          "output_type": "execute_result",
          "data": {
            "text/plain": [
              "0         24732.0\n",
              "1         68063.0\n",
              "2         86605.0\n",
              "3         31890.0\n",
              "4         73549.0\n",
              "           ...   \n",
              "99993     61787.0\n",
              "99994     65554.0\n",
              "99995         NaN\n",
              "99996         NaN\n",
              "99997    102256.0\n",
              "Name: Hours logged by public safety officers, Length: 99998, dtype: float64"
            ]
          },
          "metadata": {},
          "execution_count": 48
        }
      ]
    },
    {
      "cell_type": "code",
      "metadata": {
        "id": "KOxggxs6FZSI"
      },
      "source": [
        "# Bid provides supplemental sanitation services --> Sanitation_services_provided\n",
        "#Bid provides supplemental streetscape and beautification services   --->  beautification_services_provided\n",
        "#Bid has holiday lighting program   ---> Holiday_program\n",
        "\n",
        "df['Bid provides supplemental sanitation services'] = df.rename(columns={'Bid provides supplemental sanitation services': 'Sanitation_services_provided'}, inplace=True) \n",
        "df['Bid provides supplemental streetscape and beautification services'] = df.rename(columns={'Bid provides supplemental streetscape and beautification services': 'Beautification_services_provided'}, inplace=True)\n",
        "df['Bid has holiday lighting program'] = df.rename(columns={'Bid has holiday lighting program':'Holiday_program'}, inplace=True)"
      ],
      "execution_count": 49,
      "outputs": []
    },
    {
      "cell_type": "code",
      "metadata": {
        "id": "ljjHeGPqSish"
      },
      "source": [
        "df.drop(['Bid provides supplemental sanitation services','Bid provides supplemental streetscape and beautification services','Bid has holiday lighting program'], inplace=True, axis=1)"
      ],
      "execution_count": 50,
      "outputs": []
    },
    {
      "cell_type": "code",
      "metadata": {
        "id": "KUEgVw76JkYo"
      },
      "source": [
        "df.head(1)"
      ],
      "execution_count": 51,
      "outputs": [
        {
          "output_type": "execute_result",
          "data": {
            "text/plain": [
              "  company name  Floor Size Current clients Sanitation_services_provided  \\\n",
              "0   Moreno LLC      5220.0             145                          Yes   \n",
              "\n",
              "   Days per week of sanitation services  Hours logged by sanitation workers  \\\n",
              "0                                   7.0                             61051.0   \n",
              "\n",
              "  Bid provides supplemental public safety services  \\\n",
              "0                                               No   \n",
              "\n",
              "   Hours logged by public safety officers  \\\n",
              "0                                 24732.0   \n",
              "\n",
              "   Interactions with public safety officers Beautification_services_provided  \\\n",
              "0                                       NaN                              Yes   \n",
              "\n",
              "   ... Streetscape & beautification expenses Salaries  \\\n",
              "0  ...                                39202   194141    \n",
              "\n",
              "  Outside contractor expenses Insurance costs Supplies and equipment costs  \\\n",
              "0                     101399            2035                         3749    \n",
              "\n",
              "  Total Quotation Number_Of_Sanitation_Activities Beautification_Activities  \\\n",
              "0          172826                         89961.0                     573.0   \n",
              "\n",
              "  Media_Reach Total_Staff  \n",
              "0   3031529.0        49.0  \n",
              "\n",
              "[1 rows x 26 columns]"
            ],
            "text/html": "<div>\n<style scoped>\n    .dataframe tbody tr th:only-of-type {\n        vertical-align: middle;\n    }\n\n    .dataframe tbody tr th {\n        vertical-align: top;\n    }\n\n    .dataframe thead th {\n        text-align: right;\n    }\n</style>\n<table border=\"1\" class=\"dataframe\">\n  <thead>\n    <tr style=\"text-align: right;\">\n      <th></th>\n      <th>company name</th>\n      <th>Floor Size</th>\n      <th>Current clients</th>\n      <th>Sanitation_services_provided</th>\n      <th>Days per week of sanitation services</th>\n      <th>Hours logged by sanitation workers</th>\n      <th>Bid provides supplemental public safety services</th>\n      <th>Hours logged by public safety officers</th>\n      <th>Interactions with public safety officers</th>\n      <th>Beautification_services_provided</th>\n      <th>...</th>\n      <th>Streetscape &amp; beautification expenses</th>\n      <th>Salaries</th>\n      <th>Outside contractor expenses</th>\n      <th>Insurance costs</th>\n      <th>Supplies and equipment costs</th>\n      <th>Total Quotation</th>\n      <th>Number_Of_Sanitation_Activities</th>\n      <th>Beautification_Activities</th>\n      <th>Media_Reach</th>\n      <th>Total_Staff</th>\n    </tr>\n  </thead>\n  <tbody>\n    <tr>\n      <th>0</th>\n      <td>Moreno LLC</td>\n      <td>5220.0</td>\n      <td>145</td>\n      <td>Yes</td>\n      <td>7.0</td>\n      <td>61051.0</td>\n      <td>No</td>\n      <td>24732.0</td>\n      <td>NaN</td>\n      <td>Yes</td>\n      <td>...</td>\n      <td>39202</td>\n      <td>194141</td>\n      <td>101399</td>\n      <td>2035</td>\n      <td>3749</td>\n      <td>172826</td>\n      <td>89961.0</td>\n      <td>573.0</td>\n      <td>3031529.0</td>\n      <td>49.0</td>\n    </tr>\n  </tbody>\n</table>\n<p>1 rows × 26 columns</p>\n</div>"
          },
          "metadata": {},
          "execution_count": 51
        }
      ]
    },
    {
      "cell_type": "code",
      "metadata": {
        "id": "vDI8cWCtSugx"
      },
      "source": [
        "df.shape"
      ],
      "execution_count": 52,
      "outputs": [
        {
          "output_type": "execute_result",
          "data": {
            "text/plain": [
              "(99998, 26)"
            ]
          },
          "metadata": {},
          "execution_count": 52
        }
      ]
    },
    {
      "cell_type": "markdown",
      "metadata": {
        "id": "BY9l_qIfR9WX"
      },
      "source": [
        "Converting object to numeric datatype"
      ]
    },
    {
      "cell_type": "code",
      "metadata": {
        "id": "sc24QRI1SVX3"
      },
      "source": [
        "df.info()"
      ],
      "execution_count": 53,
      "outputs": [
        {
          "output_type": "stream",
          "name": "stdout",
          "text": [
            "<class 'pandas.core.frame.DataFrame'>\nRangeIndex: 99998 entries, 0 to 99997\nData columns (total 26 columns):\n #   Column                                            Non-Null Count  Dtype  \n---  ------                                            --------------  -----  \n 0   company name                                      99998 non-null  object \n 1   Floor Size                                        97377 non-null  float64\n 2   Current clients                                   96012 non-null  object \n 3   Sanitation_services_provided                      97377 non-null  object \n 4   Days per week of sanitation services              93370 non-null  float64\n 5   Hours logged by sanitation workers                97377 non-null  float64\n 6   Bid provides supplemental public safety services  97377 non-null  object \n 7   Hours logged by public safety officers            69311 non-null  float64\n 8   Interactions with public safety officers          66751 non-null  float64\n 9   Beautification_services_provided                  97377 non-null  object \n 10  Holiday_program                                   97377 non-null  object \n 11  Communication channels used                       72 non-null     object \n 12  Special event charges                             97377 non-null  object \n 13  Miscellaneous charges                             99998 non-null  object \n 14  Sanitation expenses                               99998 non-null  object \n 15  Public safety expenses                            99998 non-null  object \n 16  Streetscape & beautification expenses             99998 non-null  object \n 17  Salaries                                          99998 non-null  object \n 18  Outside contractor expenses                       99998 non-null  object \n 19  Insurance costs                                   99998 non-null  object \n 20  Supplies and equipment costs                      99998 non-null  object \n 21  Total Quotation                                   99998 non-null  int32  \n 22  Number_Of_Sanitation_Activities                   97377 non-null  float64\n 23  Beautification_Activities                         97377 non-null  float64\n 24  Media_Reach                                       97377 non-null  float64\n 25  Total_Staff                                       97377 non-null  float64\ndtypes: float64(9), int32(1), object(16)\nmemory usage: 19.5+ MB\n"
          ]
        }
      ]
    },
    {
      "cell_type": "code",
      "metadata": {
        "id": "c_NtV2ba1inF"
      },
      "source": [
        "#Holiday_program, Interactions with public safety officers, Bid provides supplemental public safety services\n",
        "df.drop(['Holiday_program', 'Interactions with public safety officers','Bid provides supplemental public safety services'], axis=1, inplace=True)"
      ],
      "execution_count": 54,
      "outputs": []
    },
    {
      "cell_type": "code",
      "metadata": {
        "id": "dx2kEfUk-t9S"
      },
      "source": [
        "df.drop(['Floor Size'], inplace=True, axis = 1) "
      ],
      "execution_count": 55,
      "outputs": []
    },
    {
      "cell_type": "code",
      "metadata": {
        "id": "QXGLuUvQCu6e"
      },
      "source": [
        "df['Special event charges'] = df['Special event charges'].replace(\"-\",\"0\")"
      ],
      "execution_count": 56,
      "outputs": []
    },
    {
      "cell_type": "code",
      "metadata": {
        "id": "N-N7k5utDgD2"
      },
      "source": [
        "df['Special event charges'] = df['Special event charges'].str.replace(\",\",\"\")"
      ],
      "execution_count": 57,
      "outputs": []
    },
    {
      "cell_type": "code",
      "metadata": {
        "id": "M-n8I65EA8AI"
      },
      "source": [
        "df['Special event charges'] = df['Special event charges'].fillna(\"0\").astype(int)"
      ],
      "execution_count": 58,
      "outputs": []
    },
    {
      "cell_type": "code",
      "metadata": {
        "id": "wfyRa4_WCgqP"
      },
      "source": [
        "df['Current clients'].isnull().sum()"
      ],
      "execution_count": 59,
      "outputs": [
        {
          "output_type": "execute_result",
          "data": {
            "text/plain": [
              "3986"
            ]
          },
          "metadata": {},
          "execution_count": 59
        }
      ]
    },
    {
      "cell_type": "code",
      "metadata": {
        "id": "qlVXj9VQ3K81"
      },
      "source": [
        "df.head(5)"
      ],
      "execution_count": 60,
      "outputs": [
        {
          "output_type": "execute_result",
          "data": {
            "text/plain": [
              "       company name Current clients Sanitation_services_provided  \\\n",
              "0        Moreno LLC             145                          Yes   \n",
              "1        Murphy LLC             168                          Yes   \n",
              "2  Espinoza-Esparza              42                           No   \n",
              "3        Bailey LLC    I don't know                          Yes   \n",
              "4        Brown-Sims             181                          Yes   \n",
              "\n",
              "   Days per week of sanitation services  Hours logged by sanitation workers  \\\n",
              "0                                   7.0                             61051.0   \n",
              "1                                   7.0                             22166.0   \n",
              "2                                   NaN                            139371.0   \n",
              "3                                   7.0                             24475.0   \n",
              "4                                   7.0                             84739.0   \n",
              "\n",
              "   Hours logged by public safety officers Beautification_services_provided  \\\n",
              "0                                 24732.0                              Yes   \n",
              "1                                 68063.0                              Yes   \n",
              "2                                 86605.0                               No   \n",
              "3                                 31890.0                              Yes   \n",
              "4                                 73549.0                              Yes   \n",
              "\n",
              "                         Communication channels used  Special event charges  \\\n",
              "0  Direct mailings; Flyers; Email bulletins; Soci...                 360146   \n",
              "1  Print advertising (i.e. local newspaper); Dire...                      0   \n",
              "2  Direct mailings; Door-to-door visits; Flyers; ...                      0   \n",
              "3  Digital advertising (i.e. Google, Facebook, In...                      0   \n",
              "4  Print advertising (i.e. local newspaper); Digi...                 206317   \n",
              "\n",
              "  Miscellaneous charges  ... Streetscape & beautification expenses  Salaries  \\\n",
              "0                16591   ...                                39202    194141    \n",
              "1                68277   ...                               180065    425466    \n",
              "2                71153   ...                                44974    745962    \n",
              "3                14927   ...                               187628   1189014    \n",
              "4                61766   ...                                56512    984545    \n",
              "\n",
              "  Outside contractor expenses Insurance costs Supplies and equipment costs  \\\n",
              "0                     101399            2035                         3749    \n",
              "1                      72166           70631                        14730    \n",
              "2                     141833           68790                        19293    \n",
              "3                      72668           75686                        13038    \n",
              "4                      98032           63834                         4368    \n",
              "\n",
              "  Total Quotation Number_Of_Sanitation_Activities  Beautification_Activities  \\\n",
              "0          172826                         89961.0                      573.0   \n",
              "1          499849                        194267.0                      558.0   \n",
              "2          125306                         61961.0                      985.0   \n",
              "3         1070827                        146747.0                      617.0   \n",
              "4          779014                        153014.0                      904.0   \n",
              "\n",
              "   Media_Reach  Total_Staff  \n",
              "0    3031529.0         49.0  \n",
              "1   20052785.0        127.0  \n",
              "2   35932251.0         22.0  \n",
              "3   48275471.0         36.0  \n",
              "4   13698862.0         44.0  \n",
              "\n",
              "[5 rows x 22 columns]"
            ],
            "text/html": "<div>\n<style scoped>\n    .dataframe tbody tr th:only-of-type {\n        vertical-align: middle;\n    }\n\n    .dataframe tbody tr th {\n        vertical-align: top;\n    }\n\n    .dataframe thead th {\n        text-align: right;\n    }\n</style>\n<table border=\"1\" class=\"dataframe\">\n  <thead>\n    <tr style=\"text-align: right;\">\n      <th></th>\n      <th>company name</th>\n      <th>Current clients</th>\n      <th>Sanitation_services_provided</th>\n      <th>Days per week of sanitation services</th>\n      <th>Hours logged by sanitation workers</th>\n      <th>Hours logged by public safety officers</th>\n      <th>Beautification_services_provided</th>\n      <th>Communication channels used</th>\n      <th>Special event charges</th>\n      <th>Miscellaneous charges</th>\n      <th>...</th>\n      <th>Streetscape &amp; beautification expenses</th>\n      <th>Salaries</th>\n      <th>Outside contractor expenses</th>\n      <th>Insurance costs</th>\n      <th>Supplies and equipment costs</th>\n      <th>Total Quotation</th>\n      <th>Number_Of_Sanitation_Activities</th>\n      <th>Beautification_Activities</th>\n      <th>Media_Reach</th>\n      <th>Total_Staff</th>\n    </tr>\n  </thead>\n  <tbody>\n    <tr>\n      <th>0</th>\n      <td>Moreno LLC</td>\n      <td>145</td>\n      <td>Yes</td>\n      <td>7.0</td>\n      <td>61051.0</td>\n      <td>24732.0</td>\n      <td>Yes</td>\n      <td>Direct mailings; Flyers; Email bulletins; Soci...</td>\n      <td>360146</td>\n      <td>16591</td>\n      <td>...</td>\n      <td>39202</td>\n      <td>194141</td>\n      <td>101399</td>\n      <td>2035</td>\n      <td>3749</td>\n      <td>172826</td>\n      <td>89961.0</td>\n      <td>573.0</td>\n      <td>3031529.0</td>\n      <td>49.0</td>\n    </tr>\n    <tr>\n      <th>1</th>\n      <td>Murphy LLC</td>\n      <td>168</td>\n      <td>Yes</td>\n      <td>7.0</td>\n      <td>22166.0</td>\n      <td>68063.0</td>\n      <td>Yes</td>\n      <td>Print advertising (i.e. local newspaper); Dire...</td>\n      <td>0</td>\n      <td>68277</td>\n      <td>...</td>\n      <td>180065</td>\n      <td>425466</td>\n      <td>72166</td>\n      <td>70631</td>\n      <td>14730</td>\n      <td>499849</td>\n      <td>194267.0</td>\n      <td>558.0</td>\n      <td>20052785.0</td>\n      <td>127.0</td>\n    </tr>\n    <tr>\n      <th>2</th>\n      <td>Espinoza-Esparza</td>\n      <td>42</td>\n      <td>No</td>\n      <td>NaN</td>\n      <td>139371.0</td>\n      <td>86605.0</td>\n      <td>No</td>\n      <td>Direct mailings; Door-to-door visits; Flyers; ...</td>\n      <td>0</td>\n      <td>71153</td>\n      <td>...</td>\n      <td>44974</td>\n      <td>745962</td>\n      <td>141833</td>\n      <td>68790</td>\n      <td>19293</td>\n      <td>125306</td>\n      <td>61961.0</td>\n      <td>985.0</td>\n      <td>35932251.0</td>\n      <td>22.0</td>\n    </tr>\n    <tr>\n      <th>3</th>\n      <td>Bailey LLC</td>\n      <td>I don't know</td>\n      <td>Yes</td>\n      <td>7.0</td>\n      <td>24475.0</td>\n      <td>31890.0</td>\n      <td>Yes</td>\n      <td>Digital advertising (i.e. Google, Facebook, In...</td>\n      <td>0</td>\n      <td>14927</td>\n      <td>...</td>\n      <td>187628</td>\n      <td>1189014</td>\n      <td>72668</td>\n      <td>75686</td>\n      <td>13038</td>\n      <td>1070827</td>\n      <td>146747.0</td>\n      <td>617.0</td>\n      <td>48275471.0</td>\n      <td>36.0</td>\n    </tr>\n    <tr>\n      <th>4</th>\n      <td>Brown-Sims</td>\n      <td>181</td>\n      <td>Yes</td>\n      <td>7.0</td>\n      <td>84739.0</td>\n      <td>73549.0</td>\n      <td>Yes</td>\n      <td>Print advertising (i.e. local newspaper); Digi...</td>\n      <td>206317</td>\n      <td>61766</td>\n      <td>...</td>\n      <td>56512</td>\n      <td>984545</td>\n      <td>98032</td>\n      <td>63834</td>\n      <td>4368</td>\n      <td>779014</td>\n      <td>153014.0</td>\n      <td>904.0</td>\n      <td>13698862.0</td>\n      <td>44.0</td>\n    </tr>\n  </tbody>\n</table>\n<p>5 rows × 22 columns</p>\n</div>"
          },
          "metadata": {},
          "execution_count": 60
        }
      ]
    },
    {
      "cell_type": "code",
      "metadata": {
        "id": "ZGZ9Kb_UFNEI"
      },
      "source": [
        "df['Miscellaneous charges'] = df['Miscellaneous charges'].astype(int)"
      ],
      "execution_count": 61,
      "outputs": []
    },
    {
      "cell_type": "code",
      "metadata": {
        "id": "bPKsn74CGUcY"
      },
      "source": [
        "df['Sanitation expenses'] = df['Sanitation expenses'].astype(int)"
      ],
      "execution_count": 62,
      "outputs": []
    },
    {
      "cell_type": "code",
      "metadata": {
        "id": "RVUmUrNuHRH4"
      },
      "source": [
        "df['Public safety expenses'] = df['Public safety expenses'].astype(int)"
      ],
      "execution_count": 63,
      "outputs": []
    },
    {
      "cell_type": "code",
      "metadata": {
        "id": "1VDWhH_YHihl"
      },
      "source": [
        "df['Streetscape & beautification expenses'] = df['Streetscape & beautification expenses'].astype(int)"
      ],
      "execution_count": 64,
      "outputs": []
    },
    {
      "cell_type": "code",
      "metadata": {
        "id": "z-9i1ZZVH9VU"
      },
      "source": [
        "df['Salaries'] = df['Salaries'].astype(int)"
      ],
      "execution_count": 65,
      "outputs": []
    },
    {
      "cell_type": "code",
      "metadata": {
        "id": "ab3vxzfYIKGI"
      },
      "source": [
        "df['Outside contractor expenses'] = df['Outside contractor expenses'].astype(int)"
      ],
      "execution_count": 66,
      "outputs": []
    },
    {
      "cell_type": "code",
      "metadata": {
        "id": "Ewc1_uFIJM9b"
      },
      "source": [
        "df['Insurance costs'] = df['Insurance costs'].astype(int)"
      ],
      "execution_count": 67,
      "outputs": []
    },
    {
      "cell_type": "code",
      "metadata": {
        "id": "ykMCsPNHJdLH"
      },
      "source": [
        "df['Supplies and equipment costs'] = df['Supplies and equipment costs'].astype(int)"
      ],
      "execution_count": 68,
      "outputs": []
    },
    {
      "cell_type": "code",
      "metadata": {
        "id": "OlU1y0-CJ5AP"
      },
      "source": [
        "import numpy as np\n",
        "# df['Current clients'] = (df['Current clients'], errors='coerce').notnull().astype(int)\n",
        "df['Current clients'] = pd.to_numeric(df['Current clients'], errors='coerce')\n",
        "df['Current clients']"
      ],
      "execution_count": 69,
      "outputs": [
        {
          "output_type": "execute_result",
          "data": {
            "text/plain": [
              "0         145.0\n",
              "1         168.0\n",
              "2          42.0\n",
              "3           NaN\n",
              "4         181.0\n",
              "          ...  \n",
              "99993     345.0\n",
              "99994    1300.0\n",
              "99995     346.0\n",
              "99996       NaN\n",
              "99997     224.0\n",
              "Name: Current clients, Length: 99998, dtype: float64"
            ]
          },
          "metadata": {},
          "execution_count": 69
        }
      ]
    },
    {
      "cell_type": "code",
      "metadata": {
        "id": "VBt8KykxR1RT"
      },
      "source": [
        "\n",
        "df['Current clients'] = df['Current clients'].replace(r'^\\s*$', np.nan, regex=True).fillna(method ='pad') \n",
        "df['Days per week of sanitation services'] = df['Days per week of sanitation services'].replace(r'^\\s*$', np.nan, regex=True).fillna(method ='pad') \n",
        "df = df.replace(r'^\\s*$', np.nan, regex=True).fillna(method ='pad') \n",
        "# df[pd.to_numeric(df['Current clients'], errors='coerce').notnull()]"
      ],
      "execution_count": 70,
      "outputs": []
    },
    {
      "cell_type": "code",
      "metadata": {
        "id": "XEdfsePuTvks"
      },
      "source": [
        "# for i in range(len(df[\"Current clients\"])):\n",
        "#   if(df[\"Current clients\"][i].isnumeric() == False):\n",
        "\n",
        "#     print(df[\"Current clients\"][i])\n",
        "    "
      ],
      "execution_count": 71,
      "outputs": []
    },
    {
      "cell_type": "code",
      "metadata": {
        "id": "IYNTZ0UlW1rJ"
      },
      "source": [
        "df[\"Current clients\"]\n",
        "df['Days per week of sanitation services']"
      ],
      "execution_count": 72,
      "outputs": [
        {
          "output_type": "execute_result",
          "data": {
            "text/plain": [
              "0        7.0\n",
              "1        7.0\n",
              "2        7.0\n",
              "3        7.0\n",
              "4        7.0\n",
              "        ... \n",
              "99993    7.0\n",
              "99994    7.0\n",
              "99995    7.0\n",
              "99996    7.0\n",
              "99997    7.0\n",
              "Name: Days per week of sanitation services, Length: 99998, dtype: float64"
            ]
          },
          "metadata": {},
          "execution_count": 72
        }
      ]
    },
    {
      "cell_type": "code",
      "metadata": {
        "id": "6oNP1bTiEc-Y"
      },
      "source": [
        "df.info()"
      ],
      "execution_count": 73,
      "outputs": [
        {
          "output_type": "stream",
          "name": "stdout",
          "text": [
            "<class 'pandas.core.frame.DataFrame'>\nRangeIndex: 99998 entries, 0 to 99997\nData columns (total 22 columns):\n #   Column                                  Non-Null Count  Dtype  \n---  ------                                  --------------  -----  \n 0   company name                            99998 non-null  object \n 1   Current clients                         99998 non-null  float64\n 2   Sanitation_services_provided            99998 non-null  object \n 3   Days per week of sanitation services    99998 non-null  float64\n 4   Hours logged by sanitation workers      99998 non-null  float64\n 5   Hours logged by public safety officers  99998 non-null  float64\n 6   Beautification_services_provided        99998 non-null  object \n 7   Communication channels used             99998 non-null  object \n 8   Special event charges                   99998 non-null  int32  \n 9   Miscellaneous charges                   99998 non-null  int32  \n 10  Sanitation expenses                     99998 non-null  int32  \n 11  Public safety expenses                  99998 non-null  int32  \n 12  Streetscape & beautification expenses   99998 non-null  int32  \n 13  Salaries                                99998 non-null  int32  \n 14  Outside contractor expenses             99998 non-null  int32  \n 15  Insurance costs                         99998 non-null  int32  \n 16  Supplies and equipment costs            99998 non-null  int32  \n 17  Total Quotation                         99998 non-null  int32  \n 18  Number_Of_Sanitation_Activities         99998 non-null  float64\n 19  Beautification_Activities               99998 non-null  float64\n 20  Media_Reach                             99998 non-null  float64\n 21  Total_Staff                             99998 non-null  float64\ndtypes: float64(8), int32(10), object(4)\nmemory usage: 13.0+ MB\n"
          ]
        }
      ]
    },
    {
      "cell_type": "code",
      "metadata": {
        "id": "zzKtgFAkk9ea"
      },
      "source": [
        "df.head()\n"
      ],
      "execution_count": 74,
      "outputs": [
        {
          "output_type": "execute_result",
          "data": {
            "text/plain": [
              "       company name  Current clients Sanitation_services_provided  \\\n",
              "0        Moreno LLC            145.0                          Yes   \n",
              "1        Murphy LLC            168.0                          Yes   \n",
              "2  Espinoza-Esparza             42.0                           No   \n",
              "3        Bailey LLC             42.0                          Yes   \n",
              "4        Brown-Sims            181.0                          Yes   \n",
              "\n",
              "   Days per week of sanitation services  Hours logged by sanitation workers  \\\n",
              "0                                   7.0                             61051.0   \n",
              "1                                   7.0                             22166.0   \n",
              "2                                   7.0                            139371.0   \n",
              "3                                   7.0                             24475.0   \n",
              "4                                   7.0                             84739.0   \n",
              "\n",
              "   Hours logged by public safety officers Beautification_services_provided  \\\n",
              "0                                 24732.0                              Yes   \n",
              "1                                 68063.0                              Yes   \n",
              "2                                 86605.0                               No   \n",
              "3                                 31890.0                              Yes   \n",
              "4                                 73549.0                              Yes   \n",
              "\n",
              "                         Communication channels used  Special event charges  \\\n",
              "0  Direct mailings; Flyers; Email bulletins; Soci...                 360146   \n",
              "1  Print advertising (i.e. local newspaper); Dire...                      0   \n",
              "2  Direct mailings; Door-to-door visits; Flyers; ...                      0   \n",
              "3  Digital advertising (i.e. Google, Facebook, In...                      0   \n",
              "4  Print advertising (i.e. local newspaper); Digi...                 206317   \n",
              "\n",
              "   Miscellaneous charges  ...  Streetscape & beautification expenses  \\\n",
              "0                  16591  ...                                  39202   \n",
              "1                  68277  ...                                 180065   \n",
              "2                  71153  ...                                  44974   \n",
              "3                  14927  ...                                 187628   \n",
              "4                  61766  ...                                  56512   \n",
              "\n",
              "   Salaries  Outside contractor expenses  Insurance costs  \\\n",
              "0    194141                       101399             2035   \n",
              "1    425466                        72166            70631   \n",
              "2    745962                       141833            68790   \n",
              "3   1189014                        72668            75686   \n",
              "4    984545                        98032            63834   \n",
              "\n",
              "   Supplies and equipment costs  Total Quotation  \\\n",
              "0                          3749           172826   \n",
              "1                         14730           499849   \n",
              "2                         19293           125306   \n",
              "3                         13038          1070827   \n",
              "4                          4368           779014   \n",
              "\n",
              "   Number_Of_Sanitation_Activities  Beautification_Activities  Media_Reach  \\\n",
              "0                          89961.0                      573.0    3031529.0   \n",
              "1                         194267.0                      558.0   20052785.0   \n",
              "2                          61961.0                      985.0   35932251.0   \n",
              "3                         146747.0                      617.0   48275471.0   \n",
              "4                         153014.0                      904.0   13698862.0   \n",
              "\n",
              "   Total_Staff  \n",
              "0         49.0  \n",
              "1        127.0  \n",
              "2         22.0  \n",
              "3         36.0  \n",
              "4         44.0  \n",
              "\n",
              "[5 rows x 22 columns]"
            ],
            "text/html": "<div>\n<style scoped>\n    .dataframe tbody tr th:only-of-type {\n        vertical-align: middle;\n    }\n\n    .dataframe tbody tr th {\n        vertical-align: top;\n    }\n\n    .dataframe thead th {\n        text-align: right;\n    }\n</style>\n<table border=\"1\" class=\"dataframe\">\n  <thead>\n    <tr style=\"text-align: right;\">\n      <th></th>\n      <th>company name</th>\n      <th>Current clients</th>\n      <th>Sanitation_services_provided</th>\n      <th>Days per week of sanitation services</th>\n      <th>Hours logged by sanitation workers</th>\n      <th>Hours logged by public safety officers</th>\n      <th>Beautification_services_provided</th>\n      <th>Communication channels used</th>\n      <th>Special event charges</th>\n      <th>Miscellaneous charges</th>\n      <th>...</th>\n      <th>Streetscape &amp; beautification expenses</th>\n      <th>Salaries</th>\n      <th>Outside contractor expenses</th>\n      <th>Insurance costs</th>\n      <th>Supplies and equipment costs</th>\n      <th>Total Quotation</th>\n      <th>Number_Of_Sanitation_Activities</th>\n      <th>Beautification_Activities</th>\n      <th>Media_Reach</th>\n      <th>Total_Staff</th>\n    </tr>\n  </thead>\n  <tbody>\n    <tr>\n      <th>0</th>\n      <td>Moreno LLC</td>\n      <td>145.0</td>\n      <td>Yes</td>\n      <td>7.0</td>\n      <td>61051.0</td>\n      <td>24732.0</td>\n      <td>Yes</td>\n      <td>Direct mailings; Flyers; Email bulletins; Soci...</td>\n      <td>360146</td>\n      <td>16591</td>\n      <td>...</td>\n      <td>39202</td>\n      <td>194141</td>\n      <td>101399</td>\n      <td>2035</td>\n      <td>3749</td>\n      <td>172826</td>\n      <td>89961.0</td>\n      <td>573.0</td>\n      <td>3031529.0</td>\n      <td>49.0</td>\n    </tr>\n    <tr>\n      <th>1</th>\n      <td>Murphy LLC</td>\n      <td>168.0</td>\n      <td>Yes</td>\n      <td>7.0</td>\n      <td>22166.0</td>\n      <td>68063.0</td>\n      <td>Yes</td>\n      <td>Print advertising (i.e. local newspaper); Dire...</td>\n      <td>0</td>\n      <td>68277</td>\n      <td>...</td>\n      <td>180065</td>\n      <td>425466</td>\n      <td>72166</td>\n      <td>70631</td>\n      <td>14730</td>\n      <td>499849</td>\n      <td>194267.0</td>\n      <td>558.0</td>\n      <td>20052785.0</td>\n      <td>127.0</td>\n    </tr>\n    <tr>\n      <th>2</th>\n      <td>Espinoza-Esparza</td>\n      <td>42.0</td>\n      <td>No</td>\n      <td>7.0</td>\n      <td>139371.0</td>\n      <td>86605.0</td>\n      <td>No</td>\n      <td>Direct mailings; Door-to-door visits; Flyers; ...</td>\n      <td>0</td>\n      <td>71153</td>\n      <td>...</td>\n      <td>44974</td>\n      <td>745962</td>\n      <td>141833</td>\n      <td>68790</td>\n      <td>19293</td>\n      <td>125306</td>\n      <td>61961.0</td>\n      <td>985.0</td>\n      <td>35932251.0</td>\n      <td>22.0</td>\n    </tr>\n    <tr>\n      <th>3</th>\n      <td>Bailey LLC</td>\n      <td>42.0</td>\n      <td>Yes</td>\n      <td>7.0</td>\n      <td>24475.0</td>\n      <td>31890.0</td>\n      <td>Yes</td>\n      <td>Digital advertising (i.e. Google, Facebook, In...</td>\n      <td>0</td>\n      <td>14927</td>\n      <td>...</td>\n      <td>187628</td>\n      <td>1189014</td>\n      <td>72668</td>\n      <td>75686</td>\n      <td>13038</td>\n      <td>1070827</td>\n      <td>146747.0</td>\n      <td>617.0</td>\n      <td>48275471.0</td>\n      <td>36.0</td>\n    </tr>\n    <tr>\n      <th>4</th>\n      <td>Brown-Sims</td>\n      <td>181.0</td>\n      <td>Yes</td>\n      <td>7.0</td>\n      <td>84739.0</td>\n      <td>73549.0</td>\n      <td>Yes</td>\n      <td>Print advertising (i.e. local newspaper); Digi...</td>\n      <td>206317</td>\n      <td>61766</td>\n      <td>...</td>\n      <td>56512</td>\n      <td>984545</td>\n      <td>98032</td>\n      <td>63834</td>\n      <td>4368</td>\n      <td>779014</td>\n      <td>153014.0</td>\n      <td>904.0</td>\n      <td>13698862.0</td>\n      <td>44.0</td>\n    </tr>\n  </tbody>\n</table>\n<p>5 rows × 22 columns</p>\n</div>"
          },
          "metadata": {},
          "execution_count": 74
        }
      ]
    },
    {
      "cell_type": "code",
      "metadata": {
        "id": "gUoAVIhFqBFY"
      },
      "source": [
        "cat_feats = ['Sanitation_services_provided','Beautification_services_provided']"
      ],
      "execution_count": 75,
      "outputs": []
    },
    {
      "cell_type": "code",
      "metadata": {
        "id": "FdUPhxHzq5rl"
      },
      "source": [
        "final_df = pd.get_dummies(df, columns=cat_feats,drop_first=True)"
      ],
      "execution_count": 76,
      "outputs": []
    },
    {
      "cell_type": "code",
      "metadata": {
        "id": "P4vtwCpQrSvI"
      },
      "source": [
        "final_df.info()"
      ],
      "execution_count": 77,
      "outputs": [
        {
          "output_type": "stream",
          "name": "stdout",
          "text": [
            "<class 'pandas.core.frame.DataFrame'>\nRangeIndex: 99998 entries, 0 to 99997\nData columns (total 22 columns):\n #   Column                                  Non-Null Count  Dtype  \n---  ------                                  --------------  -----  \n 0   company name                            99998 non-null  object \n 1   Current clients                         99998 non-null  float64\n 2   Days per week of sanitation services    99998 non-null  float64\n 3   Hours logged by sanitation workers      99998 non-null  float64\n 4   Hours logged by public safety officers  99998 non-null  float64\n 5   Communication channels used             99998 non-null  object \n 6   Special event charges                   99998 non-null  int32  \n 7   Miscellaneous charges                   99998 non-null  int32  \n 8   Sanitation expenses                     99998 non-null  int32  \n 9   Public safety expenses                  99998 non-null  int32  \n 10  Streetscape & beautification expenses   99998 non-null  int32  \n 11  Salaries                                99998 non-null  int32  \n 12  Outside contractor expenses             99998 non-null  int32  \n 13  Insurance costs                         99998 non-null  int32  \n 14  Supplies and equipment costs            99998 non-null  int32  \n 15  Total Quotation                         99998 non-null  int32  \n 16  Number_Of_Sanitation_Activities         99998 non-null  float64\n 17  Beautification_Activities               99998 non-null  float64\n 18  Media_Reach                             99998 non-null  float64\n 19  Total_Staff                             99998 non-null  float64\n 20  Sanitation_services_provided_Yes        99998 non-null  uint8  \n 21  Beautification_services_provided_Yes    99998 non-null  uint8  \ndtypes: float64(8), int32(10), object(2), uint8(2)\nmemory usage: 11.6+ MB\n"
          ]
        }
      ]
    },
    {
      "cell_type": "code",
      "metadata": {
        "id": "k8cNEzjCxu2T"
      },
      "source": [
        "final_df.drop(['Communication channels used'], inplace = True, axis = 1)"
      ],
      "execution_count": 78,
      "outputs": []
    },
    {
      "cell_type": "code",
      "metadata": {
        "id": "lvIskETLEBnY"
      },
      "source": [
        "final_df.info()"
      ],
      "execution_count": 79,
      "outputs": [
        {
          "output_type": "stream",
          "name": "stdout",
          "text": [
            "<class 'pandas.core.frame.DataFrame'>\nRangeIndex: 99998 entries, 0 to 99997\nData columns (total 21 columns):\n #   Column                                  Non-Null Count  Dtype  \n---  ------                                  --------------  -----  \n 0   company name                            99998 non-null  object \n 1   Current clients                         99998 non-null  float64\n 2   Days per week of sanitation services    99998 non-null  float64\n 3   Hours logged by sanitation workers      99998 non-null  float64\n 4   Hours logged by public safety officers  99998 non-null  float64\n 5   Special event charges                   99998 non-null  int32  \n 6   Miscellaneous charges                   99998 non-null  int32  \n 7   Sanitation expenses                     99998 non-null  int32  \n 8   Public safety expenses                  99998 non-null  int32  \n 9   Streetscape & beautification expenses   99998 non-null  int32  \n 10  Salaries                                99998 non-null  int32  \n 11  Outside contractor expenses             99998 non-null  int32  \n 12  Insurance costs                         99998 non-null  int32  \n 13  Supplies and equipment costs            99998 non-null  int32  \n 14  Total Quotation                         99998 non-null  int32  \n 15  Number_Of_Sanitation_Activities         99998 non-null  float64\n 16  Beautification_Activities               99998 non-null  float64\n 17  Media_Reach                             99998 non-null  float64\n 18  Total_Staff                             99998 non-null  float64\n 19  Sanitation_services_provided_Yes        99998 non-null  uint8  \n 20  Beautification_services_provided_Yes    99998 non-null  uint8  \ndtypes: float64(8), int32(10), object(1), uint8(2)\nmemory usage: 10.9+ MB\n"
          ]
        }
      ]
    },
    {
      "cell_type": "code",
      "metadata": {
        "id": "ZrhqRbnOrvti"
      },
      "source": [
        "final_df.head()"
      ],
      "execution_count": 80,
      "outputs": [
        {
          "output_type": "execute_result",
          "data": {
            "text/plain": [
              "       company name  Current clients  Days per week of sanitation services  \\\n",
              "0        Moreno LLC            145.0                                   7.0   \n",
              "1        Murphy LLC            168.0                                   7.0   \n",
              "2  Espinoza-Esparza             42.0                                   7.0   \n",
              "3        Bailey LLC             42.0                                   7.0   \n",
              "4        Brown-Sims            181.0                                   7.0   \n",
              "\n",
              "   Hours logged by sanitation workers  Hours logged by public safety officers  \\\n",
              "0                             61051.0                                 24732.0   \n",
              "1                             22166.0                                 68063.0   \n",
              "2                            139371.0                                 86605.0   \n",
              "3                             24475.0                                 31890.0   \n",
              "4                             84739.0                                 73549.0   \n",
              "\n",
              "   Special event charges  Miscellaneous charges  Sanitation expenses  \\\n",
              "0                 360146                  16591                76277   \n",
              "1                      0                  68277                82436   \n",
              "2                      0                  71153                    0   \n",
              "3                      0                  14927               574602   \n",
              "4                 206317                  61766               340025   \n",
              "\n",
              "   Public safety expenses  Streetscape & beautification expenses  ...  \\\n",
              "0                   40756                                  39202  ...   \n",
              "1                  169071                                 180065  ...   \n",
              "2                    9179                                  44974  ...   \n",
              "3                  293670                                 187628  ...   \n",
              "4                  320711                                  56512  ...   \n",
              "\n",
              "   Outside contractor expenses  Insurance costs  Supplies and equipment costs  \\\n",
              "0                       101399             2035                          3749   \n",
              "1                        72166            70631                         14730   \n",
              "2                       141833            68790                         19293   \n",
              "3                        72668            75686                         13038   \n",
              "4                        98032            63834                          4368   \n",
              "\n",
              "   Total Quotation  Number_Of_Sanitation_Activities  \\\n",
              "0           172826                          89961.0   \n",
              "1           499849                         194267.0   \n",
              "2           125306                          61961.0   \n",
              "3          1070827                         146747.0   \n",
              "4           779014                         153014.0   \n",
              "\n",
              "   Beautification_Activities  Media_Reach  Total_Staff  \\\n",
              "0                      573.0    3031529.0         49.0   \n",
              "1                      558.0   20052785.0        127.0   \n",
              "2                      985.0   35932251.0         22.0   \n",
              "3                      617.0   48275471.0         36.0   \n",
              "4                      904.0   13698862.0         44.0   \n",
              "\n",
              "   Sanitation_services_provided_Yes  Beautification_services_provided_Yes  \n",
              "0                                 1                                     1  \n",
              "1                                 1                                     1  \n",
              "2                                 0                                     0  \n",
              "3                                 1                                     1  \n",
              "4                                 1                                     1  \n",
              "\n",
              "[5 rows x 21 columns]"
            ],
            "text/html": "<div>\n<style scoped>\n    .dataframe tbody tr th:only-of-type {\n        vertical-align: middle;\n    }\n\n    .dataframe tbody tr th {\n        vertical-align: top;\n    }\n\n    .dataframe thead th {\n        text-align: right;\n    }\n</style>\n<table border=\"1\" class=\"dataframe\">\n  <thead>\n    <tr style=\"text-align: right;\">\n      <th></th>\n      <th>company name</th>\n      <th>Current clients</th>\n      <th>Days per week of sanitation services</th>\n      <th>Hours logged by sanitation workers</th>\n      <th>Hours logged by public safety officers</th>\n      <th>Special event charges</th>\n      <th>Miscellaneous charges</th>\n      <th>Sanitation expenses</th>\n      <th>Public safety expenses</th>\n      <th>Streetscape &amp; beautification expenses</th>\n      <th>...</th>\n      <th>Outside contractor expenses</th>\n      <th>Insurance costs</th>\n      <th>Supplies and equipment costs</th>\n      <th>Total Quotation</th>\n      <th>Number_Of_Sanitation_Activities</th>\n      <th>Beautification_Activities</th>\n      <th>Media_Reach</th>\n      <th>Total_Staff</th>\n      <th>Sanitation_services_provided_Yes</th>\n      <th>Beautification_services_provided_Yes</th>\n    </tr>\n  </thead>\n  <tbody>\n    <tr>\n      <th>0</th>\n      <td>Moreno LLC</td>\n      <td>145.0</td>\n      <td>7.0</td>\n      <td>61051.0</td>\n      <td>24732.0</td>\n      <td>360146</td>\n      <td>16591</td>\n      <td>76277</td>\n      <td>40756</td>\n      <td>39202</td>\n      <td>...</td>\n      <td>101399</td>\n      <td>2035</td>\n      <td>3749</td>\n      <td>172826</td>\n      <td>89961.0</td>\n      <td>573.0</td>\n      <td>3031529.0</td>\n      <td>49.0</td>\n      <td>1</td>\n      <td>1</td>\n    </tr>\n    <tr>\n      <th>1</th>\n      <td>Murphy LLC</td>\n      <td>168.0</td>\n      <td>7.0</td>\n      <td>22166.0</td>\n      <td>68063.0</td>\n      <td>0</td>\n      <td>68277</td>\n      <td>82436</td>\n      <td>169071</td>\n      <td>180065</td>\n      <td>...</td>\n      <td>72166</td>\n      <td>70631</td>\n      <td>14730</td>\n      <td>499849</td>\n      <td>194267.0</td>\n      <td>558.0</td>\n      <td>20052785.0</td>\n      <td>127.0</td>\n      <td>1</td>\n      <td>1</td>\n    </tr>\n    <tr>\n      <th>2</th>\n      <td>Espinoza-Esparza</td>\n      <td>42.0</td>\n      <td>7.0</td>\n      <td>139371.0</td>\n      <td>86605.0</td>\n      <td>0</td>\n      <td>71153</td>\n      <td>0</td>\n      <td>9179</td>\n      <td>44974</td>\n      <td>...</td>\n      <td>141833</td>\n      <td>68790</td>\n      <td>19293</td>\n      <td>125306</td>\n      <td>61961.0</td>\n      <td>985.0</td>\n      <td>35932251.0</td>\n      <td>22.0</td>\n      <td>0</td>\n      <td>0</td>\n    </tr>\n    <tr>\n      <th>3</th>\n      <td>Bailey LLC</td>\n      <td>42.0</td>\n      <td>7.0</td>\n      <td>24475.0</td>\n      <td>31890.0</td>\n      <td>0</td>\n      <td>14927</td>\n      <td>574602</td>\n      <td>293670</td>\n      <td>187628</td>\n      <td>...</td>\n      <td>72668</td>\n      <td>75686</td>\n      <td>13038</td>\n      <td>1070827</td>\n      <td>146747.0</td>\n      <td>617.0</td>\n      <td>48275471.0</td>\n      <td>36.0</td>\n      <td>1</td>\n      <td>1</td>\n    </tr>\n    <tr>\n      <th>4</th>\n      <td>Brown-Sims</td>\n      <td>181.0</td>\n      <td>7.0</td>\n      <td>84739.0</td>\n      <td>73549.0</td>\n      <td>206317</td>\n      <td>61766</td>\n      <td>340025</td>\n      <td>320711</td>\n      <td>56512</td>\n      <td>...</td>\n      <td>98032</td>\n      <td>63834</td>\n      <td>4368</td>\n      <td>779014</td>\n      <td>153014.0</td>\n      <td>904.0</td>\n      <td>13698862.0</td>\n      <td>44.0</td>\n      <td>1</td>\n      <td>1</td>\n    </tr>\n  </tbody>\n</table>\n<p>5 rows × 21 columns</p>\n</div>"
          },
          "metadata": {},
          "execution_count": 80
        }
      ]
    },
    {
      "cell_type": "code",
      "metadata": {
        "id": "_6tOyrOWxBUr"
      },
      "source": [
        "#Reducing other columns and applying one hot encoding"
      ],
      "execution_count": 81,
      "outputs": []
    },
    {
      "cell_type": "code",
      "metadata": {
        "id": "O9SyNkxu_Ho9"
      },
      "source": [
        "#Separating the Attribute and target attribute\n",
        "y = final_df.iloc[0:20000,0] #Dependent\n",
        "x = final_df.iloc[0:20000,1:21] #Independent attributes"
      ],
      "execution_count": 82,
      "outputs": []
    },
    {
      "cell_type": "code",
      "metadata": {
        "id": "KwhW96Ndqie0"
      },
      "source": [
        "x"
      ],
      "execution_count": 83,
      "outputs": [
        {
          "output_type": "execute_result",
          "data": {
            "text/plain": [
              "       Current clients  Days per week of sanitation services  \\\n",
              "0                145.0                                   7.0   \n",
              "1                168.0                                   7.0   \n",
              "2                 42.0                                   7.0   \n",
              "3                 42.0                                   7.0   \n",
              "4                181.0                                   7.0   \n",
              "...                ...                                   ...   \n",
              "19995            215.0                                   7.0   \n",
              "19996           1925.0                                   7.0   \n",
              "19997            225.0                                   6.0   \n",
              "19998            241.0                                   7.0   \n",
              "19999             60.0                                   1.0   \n",
              "\n",
              "       Hours logged by sanitation workers  \\\n",
              "0                                 61051.0   \n",
              "1                                 22166.0   \n",
              "2                                139371.0   \n",
              "3                                 24475.0   \n",
              "4                                 84739.0   \n",
              "...                                   ...   \n",
              "19995                            164685.0   \n",
              "19996                            130504.0   \n",
              "19997                             66331.0   \n",
              "19998                             39365.0   \n",
              "19999                            118909.0   \n",
              "\n",
              "       Hours logged by public safety officers  Special event charges  \\\n",
              "0                                     24732.0                 360146   \n",
              "1                                     68063.0                      0   \n",
              "2                                     86605.0                      0   \n",
              "3                                     31890.0                      0   \n",
              "4                                     73549.0                 206317   \n",
              "...                                       ...                    ...   \n",
              "19995                                  8131.0                      0   \n",
              "19996                                 63230.0                 423722   \n",
              "19997                                 63230.0                      0   \n",
              "19998                                 21276.0                      0   \n",
              "19999                                 21276.0                 211646   \n",
              "\n",
              "       Miscellaneous charges  Sanitation expenses  Public safety expenses  \\\n",
              "0                      16591                76277                   40756   \n",
              "1                      68277                82436                  169071   \n",
              "2                      71153                    0                    9179   \n",
              "3                      14927               574602                  293670   \n",
              "4                      61766               340025                  320711   \n",
              "...                      ...                  ...                     ...   \n",
              "19995                  19560               457881                   69701   \n",
              "19996                  19276               467964                  340762   \n",
              "19997                 111933                76557                  214212   \n",
              "19998                  77273               244329                   84925   \n",
              "19999                  98729               151747                       0   \n",
              "\n",
              "       Streetscape & beautification expenses  Salaries  \\\n",
              "0                                      39202    194141   \n",
              "1                                     180065    425466   \n",
              "2                                      44974    745962   \n",
              "3                                     187628   1189014   \n",
              "4                                      56512    984545   \n",
              "...                                      ...       ...   \n",
              "19995                                  61900   1107420   \n",
              "19996                                  38984   1155434   \n",
              "19997                                 220741    805324   \n",
              "19998                                  31541    606748   \n",
              "19999                                 219702   1106740   \n",
              "\n",
              "       Outside contractor expenses  Insurance costs  \\\n",
              "0                           101399             2035   \n",
              "1                            72166            70631   \n",
              "2                           141833            68790   \n",
              "3                            72668            75686   \n",
              "4                            98032            63834   \n",
              "...                            ...              ...   \n",
              "19995                        94825            43765   \n",
              "19996                        21486            86426   \n",
              "19997                        42542            77436   \n",
              "19998                       744923            39344   \n",
              "19999                        15198            57436   \n",
              "\n",
              "       Supplies and equipment costs  Total Quotation  \\\n",
              "0                              3749           172826   \n",
              "1                             14730           499849   \n",
              "2                             19293           125306   \n",
              "3                             13038          1070827   \n",
              "4                              4368           779014   \n",
              "...                             ...              ...   \n",
              "19995                         11293           609042   \n",
              "19996                         20799           866986   \n",
              "19997                         11634           623443   \n",
              "19998                          4590           438068   \n",
              "19999                         18512           470178   \n",
              "\n",
              "       Number_Of_Sanitation_Activities  Beautification_Activities  \\\n",
              "0                              89961.0                      573.0   \n",
              "1                             194267.0                      558.0   \n",
              "2                              61961.0                      985.0   \n",
              "3                             146747.0                      617.0   \n",
              "4                             153014.0                      904.0   \n",
              "...                                ...                        ...   \n",
              "19995                         173528.0                     1141.0   \n",
              "19996                         137375.0                      107.0   \n",
              "19997                         231716.0                      957.0   \n",
              "19998                          63793.0                      652.0   \n",
              "19999                          68539.0                     1069.0   \n",
              "\n",
              "       Media_Reach  Total_Staff  Sanitation_services_provided_Yes  \\\n",
              "0        3031529.0         49.0                                 1   \n",
              "1       20052785.0        127.0                                 1   \n",
              "2       35932251.0         22.0                                 0   \n",
              "3       48275471.0         36.0                                 1   \n",
              "4       13698862.0         44.0                                 1   \n",
              "...            ...          ...                               ...   \n",
              "19995   13580720.0        109.0                                 1   \n",
              "19996   17735028.0         69.0                                 1   \n",
              "19997    2995109.0         86.0                                 1   \n",
              "19998   23048236.0         82.0                                 1   \n",
              "19999    8647162.0         56.0                                 1   \n",
              "\n",
              "       Beautification_services_provided_Yes  \n",
              "0                                         1  \n",
              "1                                         1  \n",
              "2                                         0  \n",
              "3                                         1  \n",
              "4                                         1  \n",
              "...                                     ...  \n",
              "19995                                     1  \n",
              "19996                                     1  \n",
              "19997                                     0  \n",
              "19998                                     1  \n",
              "19999                                     1  \n",
              "\n",
              "[20000 rows x 20 columns]"
            ],
            "text/html": "<div>\n<style scoped>\n    .dataframe tbody tr th:only-of-type {\n        vertical-align: middle;\n    }\n\n    .dataframe tbody tr th {\n        vertical-align: top;\n    }\n\n    .dataframe thead th {\n        text-align: right;\n    }\n</style>\n<table border=\"1\" class=\"dataframe\">\n  <thead>\n    <tr style=\"text-align: right;\">\n      <th></th>\n      <th>Current clients</th>\n      <th>Days per week of sanitation services</th>\n      <th>Hours logged by sanitation workers</th>\n      <th>Hours logged by public safety officers</th>\n      <th>Special event charges</th>\n      <th>Miscellaneous charges</th>\n      <th>Sanitation expenses</th>\n      <th>Public safety expenses</th>\n      <th>Streetscape &amp; beautification expenses</th>\n      <th>Salaries</th>\n      <th>Outside contractor expenses</th>\n      <th>Insurance costs</th>\n      <th>Supplies and equipment costs</th>\n      <th>Total Quotation</th>\n      <th>Number_Of_Sanitation_Activities</th>\n      <th>Beautification_Activities</th>\n      <th>Media_Reach</th>\n      <th>Total_Staff</th>\n      <th>Sanitation_services_provided_Yes</th>\n      <th>Beautification_services_provided_Yes</th>\n    </tr>\n  </thead>\n  <tbody>\n    <tr>\n      <th>0</th>\n      <td>145.0</td>\n      <td>7.0</td>\n      <td>61051.0</td>\n      <td>24732.0</td>\n      <td>360146</td>\n      <td>16591</td>\n      <td>76277</td>\n      <td>40756</td>\n      <td>39202</td>\n      <td>194141</td>\n      <td>101399</td>\n      <td>2035</td>\n      <td>3749</td>\n      <td>172826</td>\n      <td>89961.0</td>\n      <td>573.0</td>\n      <td>3031529.0</td>\n      <td>49.0</td>\n      <td>1</td>\n      <td>1</td>\n    </tr>\n    <tr>\n      <th>1</th>\n      <td>168.0</td>\n      <td>7.0</td>\n      <td>22166.0</td>\n      <td>68063.0</td>\n      <td>0</td>\n      <td>68277</td>\n      <td>82436</td>\n      <td>169071</td>\n      <td>180065</td>\n      <td>425466</td>\n      <td>72166</td>\n      <td>70631</td>\n      <td>14730</td>\n      <td>499849</td>\n      <td>194267.0</td>\n      <td>558.0</td>\n      <td>20052785.0</td>\n      <td>127.0</td>\n      <td>1</td>\n      <td>1</td>\n    </tr>\n    <tr>\n      <th>2</th>\n      <td>42.0</td>\n      <td>7.0</td>\n      <td>139371.0</td>\n      <td>86605.0</td>\n      <td>0</td>\n      <td>71153</td>\n      <td>0</td>\n      <td>9179</td>\n      <td>44974</td>\n      <td>745962</td>\n      <td>141833</td>\n      <td>68790</td>\n      <td>19293</td>\n      <td>125306</td>\n      <td>61961.0</td>\n      <td>985.0</td>\n      <td>35932251.0</td>\n      <td>22.0</td>\n      <td>0</td>\n      <td>0</td>\n    </tr>\n    <tr>\n      <th>3</th>\n      <td>42.0</td>\n      <td>7.0</td>\n      <td>24475.0</td>\n      <td>31890.0</td>\n      <td>0</td>\n      <td>14927</td>\n      <td>574602</td>\n      <td>293670</td>\n      <td>187628</td>\n      <td>1189014</td>\n      <td>72668</td>\n      <td>75686</td>\n      <td>13038</td>\n      <td>1070827</td>\n      <td>146747.0</td>\n      <td>617.0</td>\n      <td>48275471.0</td>\n      <td>36.0</td>\n      <td>1</td>\n      <td>1</td>\n    </tr>\n    <tr>\n      <th>4</th>\n      <td>181.0</td>\n      <td>7.0</td>\n      <td>84739.0</td>\n      <td>73549.0</td>\n      <td>206317</td>\n      <td>61766</td>\n      <td>340025</td>\n      <td>320711</td>\n      <td>56512</td>\n      <td>984545</td>\n      <td>98032</td>\n      <td>63834</td>\n      <td>4368</td>\n      <td>779014</td>\n      <td>153014.0</td>\n      <td>904.0</td>\n      <td>13698862.0</td>\n      <td>44.0</td>\n      <td>1</td>\n      <td>1</td>\n    </tr>\n    <tr>\n      <th>...</th>\n      <td>...</td>\n      <td>...</td>\n      <td>...</td>\n      <td>...</td>\n      <td>...</td>\n      <td>...</td>\n      <td>...</td>\n      <td>...</td>\n      <td>...</td>\n      <td>...</td>\n      <td>...</td>\n      <td>...</td>\n      <td>...</td>\n      <td>...</td>\n      <td>...</td>\n      <td>...</td>\n      <td>...</td>\n      <td>...</td>\n      <td>...</td>\n      <td>...</td>\n    </tr>\n    <tr>\n      <th>19995</th>\n      <td>215.0</td>\n      <td>7.0</td>\n      <td>164685.0</td>\n      <td>8131.0</td>\n      <td>0</td>\n      <td>19560</td>\n      <td>457881</td>\n      <td>69701</td>\n      <td>61900</td>\n      <td>1107420</td>\n      <td>94825</td>\n      <td>43765</td>\n      <td>11293</td>\n      <td>609042</td>\n      <td>173528.0</td>\n      <td>1141.0</td>\n      <td>13580720.0</td>\n      <td>109.0</td>\n      <td>1</td>\n      <td>1</td>\n    </tr>\n    <tr>\n      <th>19996</th>\n      <td>1925.0</td>\n      <td>7.0</td>\n      <td>130504.0</td>\n      <td>63230.0</td>\n      <td>423722</td>\n      <td>19276</td>\n      <td>467964</td>\n      <td>340762</td>\n      <td>38984</td>\n      <td>1155434</td>\n      <td>21486</td>\n      <td>86426</td>\n      <td>20799</td>\n      <td>866986</td>\n      <td>137375.0</td>\n      <td>107.0</td>\n      <td>17735028.0</td>\n      <td>69.0</td>\n      <td>1</td>\n      <td>1</td>\n    </tr>\n    <tr>\n      <th>19997</th>\n      <td>225.0</td>\n      <td>6.0</td>\n      <td>66331.0</td>\n      <td>63230.0</td>\n      <td>0</td>\n      <td>111933</td>\n      <td>76557</td>\n      <td>214212</td>\n      <td>220741</td>\n      <td>805324</td>\n      <td>42542</td>\n      <td>77436</td>\n      <td>11634</td>\n      <td>623443</td>\n      <td>231716.0</td>\n      <td>957.0</td>\n      <td>2995109.0</td>\n      <td>86.0</td>\n      <td>1</td>\n      <td>0</td>\n    </tr>\n    <tr>\n      <th>19998</th>\n      <td>241.0</td>\n      <td>7.0</td>\n      <td>39365.0</td>\n      <td>21276.0</td>\n      <td>0</td>\n      <td>77273</td>\n      <td>244329</td>\n      <td>84925</td>\n      <td>31541</td>\n      <td>606748</td>\n      <td>744923</td>\n      <td>39344</td>\n      <td>4590</td>\n      <td>438068</td>\n      <td>63793.0</td>\n      <td>652.0</td>\n      <td>23048236.0</td>\n      <td>82.0</td>\n      <td>1</td>\n      <td>1</td>\n    </tr>\n    <tr>\n      <th>19999</th>\n      <td>60.0</td>\n      <td>1.0</td>\n      <td>118909.0</td>\n      <td>21276.0</td>\n      <td>211646</td>\n      <td>98729</td>\n      <td>151747</td>\n      <td>0</td>\n      <td>219702</td>\n      <td>1106740</td>\n      <td>15198</td>\n      <td>57436</td>\n      <td>18512</td>\n      <td>470178</td>\n      <td>68539.0</td>\n      <td>1069.0</td>\n      <td>8647162.0</td>\n      <td>56.0</td>\n      <td>1</td>\n      <td>1</td>\n    </tr>\n  </tbody>\n</table>\n<p>20000 rows × 20 columns</p>\n</div>"
          },
          "metadata": {},
          "execution_count": 83
        }
      ]
    },
    {
      "cell_type": "code",
      "metadata": {
        "id": "WJy5PH6ZFVN3"
      },
      "source": [
        "x.shape"
      ],
      "execution_count": 84,
      "outputs": [
        {
          "output_type": "execute_result",
          "data": {
            "text/plain": [
              "(20000, 20)"
            ]
          },
          "metadata": {},
          "execution_count": 84
        }
      ]
    },
    {
      "cell_type": "code",
      "metadata": {
        "id": "PFNeWxZZG4la"
      },
      "source": [
        "y"
      ],
      "execution_count": 85,
      "outputs": [
        {
          "output_type": "execute_result",
          "data": {
            "text/plain": [
              "0                       Moreno LLC\n",
              "1                       Murphy LLC\n",
              "2                 Espinoza-Esparza\n",
              "3                       Bailey LLC\n",
              "4                       Brown-Sims\n",
              "                   ...            \n",
              "19995    Garza, Perkins and Obrien\n",
              "19996                      Day Ltd\n",
              "19997               Ramirez-Morrow\n",
              "19998              Watts-Contreras\n",
              "19999                      Kim PLC\n",
              "Name: company name, Length: 20000, dtype: object"
            ]
          },
          "metadata": {},
          "execution_count": 85
        }
      ]
    },
    {
      "cell_type": "code",
      "metadata": {
        "id": "Qmr5aDwhdOxb"
      },
      "source": [
        "#x = x.values.reshape(-1, 1)"
      ],
      "execution_count": 86,
      "outputs": []
    },
    {
      "cell_type": "code",
      "metadata": {
        "id": "WOuKm1OHdcmF"
      },
      "source": [
        "#y = y.values.reshape(-1, 1)"
      ],
      "execution_count": 87,
      "outputs": []
    },
    {
      "cell_type": "code",
      "metadata": {
        "id": "jIJRgM1CZJa7"
      },
      "source": [
        "y.shape"
      ],
      "execution_count": 88,
      "outputs": [
        {
          "output_type": "execute_result",
          "data": {
            "text/plain": [
              "(20000,)"
            ]
          },
          "metadata": {},
          "execution_count": 88
        }
      ]
    },
    {
      "cell_type": "code",
      "metadata": {
        "id": "mgxR9qV1UWaR"
      },
      "source": [
        "from sklearn.metrics import confusion_matrix \n",
        "from sklearn.model_selection import train_test_split \n",
        "from sklearn.tree import DecisionTreeClassifier \n",
        "from sklearn import metrics #Import scikit-learn metrics module for accuracy calculation"
      ],
      "execution_count": 89,
      "outputs": []
    },
    {
      "cell_type": "code",
      "metadata": {
        "id": "BUCaOl9IVQNS"
      },
      "source": [
        "# Split dataset into training set and test set\n",
        "X_train, X_test, y_train, y_test = train_test_split(x, y, test_size=0.1, random_state=1) # 70% training and 30% test"
      ],
      "execution_count": 90,
      "outputs": []
    },
    {
      "cell_type": "code",
      "metadata": {
        "id": "LVNbKSF-YbXT"
      },
      "source": [
        "# Create Decision Tree classifer object\n",
        "clf = DecisionTreeClassifier(max_depth=10)"
      ],
      "execution_count": 91,
      "outputs": []
    },
    {
      "cell_type": "code",
      "metadata": {
        "id": "shRC4tv1blr9"
      },
      "source": [
        "# Train Decision Tree Classifer\n",
        "# clf = clf.fit(X_train,y_train)"
      ],
      "execution_count": 92,
      "outputs": []
    },
    {
      "cell_type": "code",
      "metadata": {
        "id": "u-87PCjsbzrl"
      },
      "source": [
        "# Predict the response for test dataset\n",
        "# y_pred = clf.predict(X_test)"
      ],
      "execution_count": 93,
      "outputs": []
    },
    {
      "cell_type": "code",
      "metadata": {
        "id": "CX1XDxBlp0VA"
      },
      "source": [
        "# y_pred"
      ],
      "execution_count": 94,
      "outputs": []
    },
    {
      "cell_type": "code",
      "metadata": {
        "id": "v8xOPwemjzyw"
      },
      "source": [
        "# Model Accuracy, how often is the classifier correct?\n",
        "# print(\"Accuracy:\",metrics.accuracy_score(y_test, y_pred))"
      ],
      "execution_count": 95,
      "outputs": []
    },
    {
      "cell_type": "code",
      "metadata": {
        "id": "oUmvCc9klKt7"
      },
      "source": [
        "from sklearn.linear_model import LogisticRegression\n",
        "lr = LogisticRegression()\n",
        "lr.fit(X_train,y_train)\n",
        "y_pred1 = lr.predict(X_test)"
      ],
      "execution_count": 96,
      "outputs": []
    },
    {
      "cell_type": "code",
      "execution_count": 97,
      "metadata": {},
      "outputs": [
        {
          "output_type": "execute_result",
          "data": {
            "text/plain": [
              "array(['Smith Group', 'Brown Inc', 'Rodriguez PLC', ..., 'Johnson Group',\n",
              "       'Johnson Ltd', 'Garcia Group'], dtype=object)"
            ]
          },
          "metadata": {},
          "execution_count": 97
        }
      ],
      "source": [
        "y_pred1"
      ]
    },
    {
      "cell_type": "code",
      "execution_count": 99,
      "metadata": {},
      "outputs": [
        {
          "output_type": "stream",
          "name": "stdout",
          "text": [
            "Accuracy: 0.001\n"
          ]
        }
      ],
      "source": [
        "print(\"Accuracy:\",metrics.accuracy_score(y_test, y_pred1))\n"
      ]
    },
    {
      "cell_type": "code",
      "execution_count": null,
      "metadata": {},
      "outputs": [],
      "source": [
        "from sklearn import svm\n",
        "\n",
        "#Create a svm Classifier\n",
        "clf = svm.SVC(kernel='linear') # Linear Kernel\n",
        "\n",
        "#Train the model using the training sets\n",
        "clf.fit(X_train, y_train)\n",
        "\n",
        "#Predict the response for test dataset\n",
        "y_pred = clf.predict(X_test)\n",
        "y_pred2"
      ]
    },
    {
      "cell_type": "code",
      "execution_count": null,
      "metadata": {},
      "outputs": [],
      "source": [
        "print(\"Accuracy:\",metrics.accuracy_score(y_test, y_pred2))\n"
      ]
    },
    {
      "cell_type": "code",
      "execution_count": null,
      "metadata": {},
      "outputs": [],
      "source": []
    }
  ]
}